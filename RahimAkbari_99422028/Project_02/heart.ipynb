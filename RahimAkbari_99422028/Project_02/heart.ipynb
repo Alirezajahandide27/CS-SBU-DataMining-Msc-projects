{
 "cells": [
  {
   "cell_type": "markdown",
   "id": "electoral-flashing",
   "metadata": {},
   "source": [
    "اضافه کردن کتابخانه ها"
   ]
  },
  {
   "cell_type": "code",
   "execution_count": 1,
   "id": "facial-nicaragua",
   "metadata": {},
   "outputs": [],
   "source": [
    "import numpy as np\n",
    "import pandas as pd\n",
    "import matplotlib.pyplot as plt"
   ]
  },
  {
   "cell_type": "markdown",
   "id": "sapphire-forward",
   "metadata": {},
   "source": [
    "خواندن مجموعه داده"
   ]
  },
  {
   "cell_type": "code",
   "execution_count": 2,
   "id": "national-blood",
   "metadata": {},
   "outputs": [
    {
     "data": {
      "text/html": [
       "<div>\n",
       "<style scoped>\n",
       "    .dataframe tbody tr th:only-of-type {\n",
       "        vertical-align: middle;\n",
       "    }\n",
       "\n",
       "    .dataframe tbody tr th {\n",
       "        vertical-align: top;\n",
       "    }\n",
       "\n",
       "    .dataframe thead th {\n",
       "        text-align: right;\n",
       "    }\n",
       "</style>\n",
       "<table border=\"1\" class=\"dataframe\">\n",
       "  <thead>\n",
       "    <tr style=\"text-align: right;\">\n",
       "      <th></th>\n",
       "      <th>age</th>\n",
       "      <th>sex</th>\n",
       "      <th>cp</th>\n",
       "      <th>trestbps</th>\n",
       "      <th>chol</th>\n",
       "      <th>fbs</th>\n",
       "      <th>restecg</th>\n",
       "      <th>thalach</th>\n",
       "      <th>exang</th>\n",
       "      <th>oldpeak</th>\n",
       "      <th>slope</th>\n",
       "      <th>ca</th>\n",
       "      <th>thal</th>\n",
       "      <th>target</th>\n",
       "    </tr>\n",
       "  </thead>\n",
       "  <tbody>\n",
       "    <tr>\n",
       "      <th>0</th>\n",
       "      <td>63</td>\n",
       "      <td>1</td>\n",
       "      <td>3</td>\n",
       "      <td>145</td>\n",
       "      <td>233</td>\n",
       "      <td>1</td>\n",
       "      <td>0</td>\n",
       "      <td>150</td>\n",
       "      <td>0</td>\n",
       "      <td>2.3</td>\n",
       "      <td>0</td>\n",
       "      <td>0</td>\n",
       "      <td>1</td>\n",
       "      <td>1</td>\n",
       "    </tr>\n",
       "    <tr>\n",
       "      <th>1</th>\n",
       "      <td>37</td>\n",
       "      <td>1</td>\n",
       "      <td>2</td>\n",
       "      <td>130</td>\n",
       "      <td>250</td>\n",
       "      <td>0</td>\n",
       "      <td>1</td>\n",
       "      <td>187</td>\n",
       "      <td>0</td>\n",
       "      <td>3.5</td>\n",
       "      <td>0</td>\n",
       "      <td>0</td>\n",
       "      <td>2</td>\n",
       "      <td>1</td>\n",
       "    </tr>\n",
       "    <tr>\n",
       "      <th>2</th>\n",
       "      <td>41</td>\n",
       "      <td>0</td>\n",
       "      <td>1</td>\n",
       "      <td>130</td>\n",
       "      <td>204</td>\n",
       "      <td>0</td>\n",
       "      <td>0</td>\n",
       "      <td>172</td>\n",
       "      <td>0</td>\n",
       "      <td>1.4</td>\n",
       "      <td>2</td>\n",
       "      <td>0</td>\n",
       "      <td>2</td>\n",
       "      <td>1</td>\n",
       "    </tr>\n",
       "    <tr>\n",
       "      <th>3</th>\n",
       "      <td>56</td>\n",
       "      <td>1</td>\n",
       "      <td>1</td>\n",
       "      <td>120</td>\n",
       "      <td>236</td>\n",
       "      <td>0</td>\n",
       "      <td>1</td>\n",
       "      <td>178</td>\n",
       "      <td>0</td>\n",
       "      <td>0.8</td>\n",
       "      <td>2</td>\n",
       "      <td>0</td>\n",
       "      <td>2</td>\n",
       "      <td>1</td>\n",
       "    </tr>\n",
       "    <tr>\n",
       "      <th>4</th>\n",
       "      <td>57</td>\n",
       "      <td>0</td>\n",
       "      <td>0</td>\n",
       "      <td>120</td>\n",
       "      <td>354</td>\n",
       "      <td>0</td>\n",
       "      <td>1</td>\n",
       "      <td>163</td>\n",
       "      <td>1</td>\n",
       "      <td>0.6</td>\n",
       "      <td>2</td>\n",
       "      <td>0</td>\n",
       "      <td>2</td>\n",
       "      <td>1</td>\n",
       "    </tr>\n",
       "  </tbody>\n",
       "</table>\n",
       "</div>"
      ],
      "text/plain": [
       "   age  sex  cp  trestbps  chol  fbs  restecg  thalach  exang  oldpeak  slope  \\\n",
       "0   63    1   3       145   233    1        0      150      0      2.3      0   \n",
       "1   37    1   2       130   250    0        1      187      0      3.5      0   \n",
       "2   41    0   1       130   204    0        0      172      0      1.4      2   \n",
       "3   56    1   1       120   236    0        1      178      0      0.8      2   \n",
       "4   57    0   0       120   354    0        1      163      1      0.6      2   \n",
       "\n",
       "   ca  thal  target  \n",
       "0   0     1       1  \n",
       "1   0     2       1  \n",
       "2   0     2       1  \n",
       "3   0     2       1  \n",
       "4   0     2       1  "
      ]
     },
     "execution_count": 2,
     "metadata": {},
     "output_type": "execute_result"
    }
   ],
   "source": [
    "df = pd.read_csv('heart.csv')\n",
    "df.head()"
   ]
  },
  {
   "cell_type": "code",
   "execution_count": 3,
   "id": "tired-riding",
   "metadata": {},
   "outputs": [
    {
     "data": {
      "text/plain": [
       "<bound method DataFrame.info of      age  sex  cp  trestbps  chol  fbs  restecg  thalach  exang  oldpeak  \\\n",
       "0     63    1   3       145   233    1        0      150      0      2.3   \n",
       "1     37    1   2       130   250    0        1      187      0      3.5   \n",
       "2     41    0   1       130   204    0        0      172      0      1.4   \n",
       "3     56    1   1       120   236    0        1      178      0      0.8   \n",
       "4     57    0   0       120   354    0        1      163      1      0.6   \n",
       "..   ...  ...  ..       ...   ...  ...      ...      ...    ...      ...   \n",
       "298   57    0   0       140   241    0        1      123      1      0.2   \n",
       "299   45    1   3       110   264    0        1      132      0      1.2   \n",
       "300   68    1   0       144   193    1        1      141      0      3.4   \n",
       "301   57    1   0       130   131    0        1      115      1      1.2   \n",
       "302   57    0   1       130   236    0        0      174      0      0.0   \n",
       "\n",
       "     slope  ca  thal  target  \n",
       "0        0   0     1       1  \n",
       "1        0   0     2       1  \n",
       "2        2   0     2       1  \n",
       "3        2   0     2       1  \n",
       "4        2   0     2       1  \n",
       "..     ...  ..   ...     ...  \n",
       "298      1   0     3       0  \n",
       "299      1   0     3       0  \n",
       "300      1   2     3       0  \n",
       "301      1   1     3       0  \n",
       "302      1   1     2       0  \n",
       "\n",
       "[303 rows x 14 columns]>"
      ]
     },
     "execution_count": 3,
     "metadata": {},
     "output_type": "execute_result"
    }
   ],
   "source": [
    "df.info"
   ]
  },
  {
   "cell_type": "markdown",
   "id": "minute-translator",
   "metadata": {},
   "source": [
    "شناسایی داده های پرت در ستون age"
   ]
  },
  {
   "cell_type": "code",
   "execution_count": 4,
   "id": "mediterranean-calvin",
   "metadata": {},
   "outputs": [
    {
     "data": {
      "text/plain": [
       "<matplotlib.collections.PathCollection at 0x263e1925088>"
      ]
     },
     "execution_count": 4,
     "metadata": {},
     "output_type": "execute_result"
    },
    {
     "data": {
      "image/png": "[encoded data removed]",
      "text/plain": [
       "<Figure size 432x288 with 1 Axes>"
      ]
     },
     "metadata": {
      "needs_background": "light"
     },
     "output_type": "display_data"
    }
   ],
   "source": [
    "plt.scatter(df['chol'], df['target'])"
   ]
  },
  {
   "cell_type": "markdown",
   "id": "fiscal-carroll",
   "metadata": {},
   "source": [
    "حذف داده های پرت در ستون age"
   ]
  },
  {
   "cell_type": "code",
   "execution_count": 5,
   "id": "promising-blink",
   "metadata": {},
   "outputs": [],
   "source": [
    "q_low = df[\"chol\"].quantile(0.01)\n",
    "q_hi  = df[\"chol\"].quantile(0.97)\n",
    "df = df[(df[\"chol\"] < q_hi) & (df[\"chol\"] > q_low)]"
   ]
  },
  {
   "cell_type": "code",
   "execution_count": 6,
   "id": "boolean-african",
   "metadata": {},
   "outputs": [
    {
     "data": {
      "text/plain": [
       "<matplotlib.collections.PathCollection at 0x263e20e1a08>"
      ]
     },
     "execution_count": 6,
     "metadata": {},
     "output_type": "execute_result"
    },
    {
     "data": {
      "image/png": "[encoded data removed]",
      "text/plain": [
       "<Figure size 432x288 with 1 Axes>"
      ]
     },
     "metadata": {
      "needs_background": "light"
     },
     "output_type": "display_data"
    }
   ],
   "source": [
    "plt.scatter(df['chol'], df['target'])"
   ]
  },
  {
   "cell_type": "markdown",
   "id": "economic-doctor",
   "metadata": {},
   "source": [
    "شناسایی داده های پرت در ستون trestbps"
   ]
  },
  {
   "cell_type": "code",
   "execution_count": 7,
   "id": "sweet-holmes",
   "metadata": {},
   "outputs": [
    {
     "data": {
      "text/plain": [
       "<matplotlib.collections.PathCollection at 0x263e2159808>"
      ]
     },
     "execution_count": 7,
     "metadata": {},
     "output_type": "execute_result"
    },
    {
     "data": {
      "image/png": "[encoded data removed]",
      "text/plain": [
       "<Figure size 432x288 with 1 Axes>"
      ]
     },
     "metadata": {
      "needs_background": "light"
     },
     "output_type": "display_data"
    }
   ],
   "source": [
    "plt.scatter(df['trestbps'], df['target'])"
   ]
  },
  {
   "cell_type": "markdown",
   "id": "suitable-alarm",
   "metadata": {},
   "source": [
    "حذف داده های پرت در ستون trestbps"
   ]
  },
  {
   "cell_type": "code",
   "execution_count": 8,
   "id": "promotional-trainer",
   "metadata": {},
   "outputs": [],
   "source": [
    "q_low = df[\"trestbps\"].quantile(0.02)\n",
    "q_hi  = df[\"trestbps\"].quantile(0.97)\n",
    "df = df[(df[\"trestbps\"] < q_hi) & (df[\"trestbps\"] > q_low)]"
   ]
  },
  {
   "cell_type": "code",
   "execution_count": 9,
   "id": "blessed-genre",
   "metadata": {},
   "outputs": [
    {
     "data": {
      "text/plain": [
       "<matplotlib.collections.PathCollection at 0x263e21acd88>"
      ]
     },
     "execution_count": 9,
     "metadata": {},
     "output_type": "execute_result"
    },
    {
     "data": {
      "image/png": "[encoded data removed]",
      "text/plain": [
       "<Figure size 432x288 with 1 Axes>"
      ]
     },
     "metadata": {
      "needs_background": "light"
     },
     "output_type": "display_data"
    }
   ],
   "source": [
    "plt.scatter(df['trestbps'], df['target'])"
   ]
  },
  {
   "cell_type": "markdown",
   "id": "wrong-jewelry",
   "metadata": {},
   "source": [
    "شناسایی داده های پرت در ستون thalach"
   ]
  },
  {
   "cell_type": "code",
   "execution_count": 10,
   "id": "answering-garlic",
   "metadata": {},
   "outputs": [
    {
     "data": {
      "text/plain": [
       "<matplotlib.collections.PathCollection at 0x263e2233a88>"
      ]
     },
     "execution_count": 10,
     "metadata": {},
     "output_type": "execute_result"
    },
    {
     "data": {
      "image/png": "[encoded data removed]",
      "text/plain": [
       "<Figure size 432x288 with 1 Axes>"
      ]
     },
     "metadata": {
      "needs_background": "light"
     },
     "output_type": "display_data"
    }
   ],
   "source": [
    "plt.scatter(df['thalach'], df['target'])"
   ]
  },
  {
   "cell_type": "markdown",
   "id": "international-fluid",
   "metadata": {},
   "source": [
    "حذف داده های پرت در ستون thalach"
   ]
  },
  {
   "cell_type": "code",
   "execution_count": 11,
   "id": "northern-knife",
   "metadata": {},
   "outputs": [],
   "source": [
    "q_low = df[\"thalach\"].quantile(0.03)\n",
    "q_hi  = df[\"thalach\"].quantile(0.99)\n",
    "df = df[(df[\"thalach\"] < q_hi) & (df[\"thalach\"] > q_low)]"
   ]
  },
  {
   "cell_type": "code",
   "execution_count": 12,
   "id": "naked-future",
   "metadata": {},
   "outputs": [
    {
     "data": {
      "text/plain": [
       "<matplotlib.collections.PathCollection at 0x263e22a3748>"
      ]
     },
     "execution_count": 12,
     "metadata": {},
     "output_type": "execute_result"
    },
    {
     "data": {
      "image/png": "[encoded data removed]",
      "text/plain": [
       "<Figure size 432x288 with 1 Axes>"
      ]
     },
     "metadata": {
      "needs_background": "light"
     },
     "output_type": "display_data"
    }
   ],
   "source": [
    "plt.scatter(df['thalach'], df['target'])"
   ]
  },
  {
   "cell_type": "markdown",
   "id": "present-pressure",
   "metadata": {},
   "source": [
    "بررسی متعادل بودن کلاس تارگت"
   ]
  },
  {
   "cell_type": "code",
   "execution_count": 13,
   "id": "ultimate-sensitivity",
   "metadata": {},
   "outputs": [
    {
     "data": {
      "text/plain": [
       "1    145\n",
       "0    115\n",
       "Name: target, dtype: int64"
      ]
     },
     "execution_count": 13,
     "metadata": {},
     "output_type": "execute_result"
    }
   ],
   "source": [
    "df['target'].value_counts()"
   ]
  },
  {
   "cell_type": "markdown",
   "id": "supported-tobago",
   "metadata": {},
   "source": [
    "جدا کردن داده های ورودی و خروجی مدل"
   ]
  },
  {
   "cell_type": "code",
   "execution_count": 14,
   "id": "separated-representative",
   "metadata": {},
   "outputs": [],
   "source": [
    "X = df.drop('target', axis=1)\n",
    "y = df['target']"
   ]
  },
  {
   "cell_type": "markdown",
   "id": "economic-blink",
   "metadata": {},
   "source": [
    "تقسیم داده ها به داده های آموزش و تست"
   ]
  },
  {
   "cell_type": "code",
   "execution_count": 15,
   "id": "geographic-broadcasting",
   "metadata": {},
   "outputs": [],
   "source": [
    "from sklearn.model_selection import train_test_split\n",
    "X_train, X_test, y_train, y_test = train_test_split(X, y, test_size=0.2, random_state=0)"
   ]
  },
  {
   "cell_type": "code",
   "execution_count": 16,
   "id": "indirect-stake",
   "metadata": {},
   "outputs": [],
   "source": [
    "from scipy.stats import multivariate_normal as mvn\n",
    "class GNB(object):\n",
    "    \n",
    "    def fit(self, X, Y):\n",
    "        self.gaussians=dict()\n",
    "        self.priors=dict()\n",
    "        labels=set(Y)\n",
    "        for c in labels:\n",
    "            current_x=X[Y==c]\n",
    "            self.gaussians[c]={\n",
    "                'mean':current_x.mean(axis=0),\n",
    "                'var': current_x.var(axis=0)\n",
    "            }\n",
    "            self.priors[c]=float(len(Y[Y==c]))/len(Y)\n",
    "        return self.gaussians\n",
    "\n",
    "        \n",
    "    def predict(self, X, gaussians):\n",
    "        N, D = X.shape\n",
    "        K=len(self.gaussians)\n",
    "        P=np.zeros((N,K))\n",
    "        for c, g in gaussians.items():\n",
    "            mean, var = g['mean'], g['var']\n",
    "            P[:,c]=mvn.logpdf(X, mean=mean, cov=var) + np.log(self.priors[c])\n",
    "        return np.argmax(P, axis=1)\n",
    "        "
   ]
  },
  {
   "cell_type": "code",
   "execution_count": 17,
   "id": "blessed-bottle",
   "metadata": {},
   "outputs": [],
   "source": [
    "gnb_clf = GNB()\n",
    "g = gnb_clf.fit(X_train[['chol','thalach', 'trestbps']], y_train)"
   ]
  },
  {
   "cell_type": "code",
   "execution_count": 18,
   "id": "proof-surface",
   "metadata": {},
   "outputs": [],
   "source": [
    "prediction = gnb_clf.predict(X_test[['chol','thalach', 'trestbps']], g)"
   ]
  },
  {
   "cell_type": "code",
   "execution_count": 19,
   "id": "artistic-motorcycle",
   "metadata": {},
   "outputs": [
    {
     "name": "stdout",
     "output_type": "stream",
     "text": [
      "f1_score:gnb:  0.7719298245614035\n",
      "precision:gnb:  0.7333333333333333\n",
      "recall:gnb:  0.8148148148148148\n"
     ]
    }
   ],
   "source": [
    "from sklearn.metrics import f1_score, recall_score, precision_score\n",
    "print('f1_score:gnb: ', f1_score(y_test, prediction))\n",
    "print('precision:gnb: ', precision_score(y_test, prediction))\n",
    "print('recall:gnb: ', recall_score(y_test, prediction))"
   ]
  },
  {
   "cell_type": "code",
   "execution_count": 20,
   "id": "authorized-miracle",
   "metadata": {},
   "outputs": [
    {
     "data": {
      "text/plain": [
       "GaussianNB()"
      ]
     },
     "execution_count": 20,
     "metadata": {},
     "output_type": "execute_result"
    }
   ],
   "source": [
    "from sklearn.naive_bayes import GaussianNB\n",
    "gnb1_clf = GaussianNB()\n",
    "gnb1_clf.fit(X_train[['chol','thalach', 'trestbps']], y_train)"
   ]
  },
  {
   "cell_type": "code",
   "execution_count": 21,
   "id": "relevant-clerk",
   "metadata": {},
   "outputs": [],
   "source": [
    "prediction = gnb1_clf.predict(X_test[['chol','thalach', 'trestbps']])"
   ]
  },
  {
   "cell_type": "code",
   "execution_count": 22,
   "id": "american-storage",
   "metadata": {},
   "outputs": [
    {
     "name": "stdout",
     "output_type": "stream",
     "text": [
      "f1_score:gnb:  0.7719298245614035\n",
      "precision:gnb:  0.7333333333333333\n",
      "recall:gnb:  0.8148148148148148\n"
     ]
    }
   ],
   "source": [
    "print('f1_score:gnb: ', f1_score(y_test, prediction))\n",
    "print('precision:gnb: ', precision_score(y_test, prediction))\n",
    "print('recall:gnb: ', recall_score(y_test, prediction))"
   ]
  },
  {
   "cell_type": "code",
   "execution_count": 23,
   "id": "interstate-adventure",
   "metadata": {},
   "outputs": [
    {
     "data": {
      "text/plain": [
       "SVC()"
      ]
     },
     "execution_count": 23,
     "metadata": {},
     "output_type": "execute_result"
    }
   ],
   "source": [
    "from sklearn.svm import SVC\n",
    "svm_clf = SVC()\n",
    "svm_clf.fit(X_train[['chol','thalach', 'trestbps']], y_train)"
   ]
  },
  {
   "cell_type": "code",
   "execution_count": 24,
   "id": "modern-laundry",
   "metadata": {},
   "outputs": [],
   "source": [
    "prediction = svm_clf.predict(X_test[['chol','thalach', 'trestbps']])"
   ]
  },
  {
   "cell_type": "code",
   "execution_count": 25,
   "id": "damaged-shock",
   "metadata": {},
   "outputs": [
    {
     "name": "stdout",
     "output_type": "stream",
     "text": [
      "f1_score:svm:  0.7868852459016393\n",
      "precision:svm:  0.7058823529411765\n",
      "recall:svm:  0.8888888888888888\n"
     ]
    }
   ],
   "source": [
    "print('f1_score:svm: ', f1_score(y_test, prediction))\n",
    "print('precision:svm: ', precision_score(y_test, prediction))\n",
    "print('recall:svm: ', recall_score(y_test, prediction))"
   ]
  },
  {
   "cell_type": "code",
   "execution_count": 26,
   "id": "vanilla-lyric",
   "metadata": {},
   "outputs": [
    {
     "data": {
      "text/plain": [
       "SVC()"
      ]
     },
     "execution_count": 26,
     "metadata": {},
     "output_type": "execute_result"
    }
   ],
   "source": [
    "svm_clf = SVC(kernel='rbf')\n",
    "svm_clf.fit(X_train[['chol','thalach', 'trestbps']], y_train)"
   ]
  },
  {
   "cell_type": "code",
   "execution_count": 27,
   "id": "postal-salem",
   "metadata": {},
   "outputs": [],
   "source": [
    "prediction = svm_clf.predict(X_test[['chol','thalach', 'trestbps']])"
   ]
  },
  {
   "cell_type": "code",
   "execution_count": 28,
   "id": "fifty-thousand",
   "metadata": {},
   "outputs": [
    {
     "name": "stdout",
     "output_type": "stream",
     "text": [
      "f1_score:svm:  0.7868852459016393\n",
      "precision:svm:  0.7058823529411765\n",
      "recall:svm:  0.8888888888888888\n"
     ]
    }
   ],
   "source": [
    "print('f1_score:svm: ', f1_score(y_test, prediction))\n",
    "print('precision:svm: ', precision_score(y_test, prediction))\n",
    "print('recall:svm: ', recall_score(y_test, prediction))"
   ]
  },
  {
   "cell_type": "code",
   "execution_count": 29,
   "id": "demonstrated-legislation",
   "metadata": {},
   "outputs": [
    {
     "data": {
      "text/plain": [
       "SVC(kernel='sigmoid')"
      ]
     },
     "execution_count": 29,
     "metadata": {},
     "output_type": "execute_result"
    }
   ],
   "source": [
    "svm_clf = SVC(kernel='sigmoid')\n",
    "svm_clf.fit(X_train[['chol','thalach', 'trestbps']], y_train)"
   ]
  },
  {
   "cell_type": "code",
   "execution_count": 30,
   "id": "aquatic-qualification",
   "metadata": {},
   "outputs": [],
   "source": [
    "prediction = svm_clf.predict(X_test[['chol','thalach', 'trestbps']])"
   ]
  },
  {
   "cell_type": "code",
   "execution_count": 31,
   "id": "integrated-wildlife",
   "metadata": {},
   "outputs": [
    {
     "name": "stdout",
     "output_type": "stream",
     "text": [
      "f1_score:svm:  0.6835443037974684\n",
      "precision:svm:  0.5192307692307693\n",
      "recall:svm:  1.0\n"
     ]
    }
   ],
   "source": [
    "print('f1_score:svm: ', f1_score(y_test, prediction))\n",
    "print('precision:svm: ', precision_score(y_test, prediction))\n",
    "print('recall:svm: ', recall_score(y_test, prediction))"
   ]
  },
  {
   "cell_type": "code",
   "execution_count": 32,
   "id": "afraid-investment",
   "metadata": {},
   "outputs": [
    {
     "data": {
      "text/plain": [
       "SVC(kernel='poly')"
      ]
     },
     "execution_count": 32,
     "metadata": {},
     "output_type": "execute_result"
    }
   ],
   "source": [
    "svm_clf = SVC(kernel='poly')\n",
    "svm_clf.fit(X_train[['chol','thalach', 'trestbps']], y_train)"
   ]
  },
  {
   "cell_type": "code",
   "execution_count": 33,
   "id": "olive-bench",
   "metadata": {},
   "outputs": [],
   "source": [
    "prediction = svm_clf.predict(X_test[['chol','thalach', 'trestbps']])"
   ]
  },
  {
   "cell_type": "code",
   "execution_count": 34,
   "id": "white-ensemble",
   "metadata": {},
   "outputs": [
    {
     "name": "stdout",
     "output_type": "stream",
     "text": [
      "f1_score:svm:  0.7272727272727273\n",
      "precision:svm:  0.7142857142857143\n",
      "recall:svm:  0.7407407407407407\n"
     ]
    }
   ],
   "source": [
    "print('f1_score:svm: ', f1_score(y_test, prediction))\n",
    "print('precision:svm: ', precision_score(y_test, prediction))\n",
    "print('recall:svm: ', recall_score(y_test, prediction))"
   ]
  },
  {
   "cell_type": "code",
   "execution_count": 35,
   "id": "retired-philip",
   "metadata": {},
   "outputs": [
    {
     "data": {
      "text/plain": [
       "SVC()"
      ]
     },
     "execution_count": 35,
     "metadata": {},
     "output_type": "execute_result"
    }
   ],
   "source": [
    "svm_clf = SVC()\n",
    "svm_clf.fit(X_train, y_train)"
   ]
  },
  {
   "cell_type": "code",
   "execution_count": 36,
   "id": "electoral-photography",
   "metadata": {},
   "outputs": [],
   "source": [
    "prediction = svm_clf.predict(X_test)"
   ]
  },
  {
   "cell_type": "code",
   "execution_count": 37,
   "id": "adapted-enforcement",
   "metadata": {},
   "outputs": [
    {
     "name": "stdout",
     "output_type": "stream",
     "text": [
      "f1_score:svm:  0.7164179104477612\n",
      "precision:svm:  0.6\n",
      "recall:svm:  0.8888888888888888\n"
     ]
    }
   ],
   "source": [
    "print('f1_score:svm: ', f1_score(y_test, prediction))\n",
    "print('precision:svm: ', precision_score(y_test, prediction))\n",
    "print('recall:svm: ', recall_score(y_test, prediction))"
   ]
  },
  {
   "cell_type": "code",
   "execution_count": 38,
   "id": "blond-discipline",
   "metadata": {},
   "outputs": [
    {
     "data": {
      "text/plain": [
       "5"
      ]
     },
     "execution_count": 38,
     "metadata": {},
     "output_type": "execute_result"
    }
   ],
   "source": [
    "from sklearn.model_selection import KFold\n",
    "kf = KFold(n_splits=5, random_state=42, shuffle=True)\n",
    "kf.get_n_splits(X)"
   ]
  },
  {
   "cell_type": "code",
   "execution_count": 39,
   "id": "stunning-humidity",
   "metadata": {},
   "outputs": [],
   "source": [
    "for train_index, test_index in kf.split(X, y):    \n",
    "    X_train, X_test = X.iloc[train_index,:], X.iloc[test_index,:]\n",
    "    y_train, y_test = y.iloc[train_index], y.iloc[test_index]"
   ]
  },
  {
   "cell_type": "code",
   "execution_count": 40,
   "id": "failing-monster",
   "metadata": {},
   "outputs": [
    {
     "data": {
      "text/plain": [
       "SVC()"
      ]
     },
     "execution_count": 40,
     "metadata": {},
     "output_type": "execute_result"
    }
   ],
   "source": [
    "svm_clf = SVC()\n",
    "svm_clf.fit(X_train, y_train)"
   ]
  },
  {
   "cell_type": "code",
   "execution_count": 41,
   "id": "stunning-import",
   "metadata": {},
   "outputs": [],
   "source": [
    "prediction = svm_clf.predict(X_test)"
   ]
  },
  {
   "cell_type": "code",
   "execution_count": 42,
   "id": "reported-implement",
   "metadata": {},
   "outputs": [
    {
     "name": "stdout",
     "output_type": "stream",
     "text": [
      "f1_score:svm:  0.7142857142857143\n",
      "precision:svm:  0.5681818181818182\n",
      "recall:svm:  0.9615384615384616\n"
     ]
    }
   ],
   "source": [
    "print('f1_score:svm: ', f1_score(y_test, prediction))\n",
    "print('precision:svm: ', precision_score(y_test, prediction))\n",
    "print('recall:svm: ', recall_score(y_test, prediction))"
   ]
  },
  {
   "cell_type": "code",
   "execution_count": 43,
   "id": "activated-alabama",
   "metadata": {},
   "outputs": [
    {
     "data": {
      "text/plain": [
       "KNeighborsClassifier(n_neighbors=3)"
      ]
     },
     "execution_count": 43,
     "metadata": {},
     "output_type": "execute_result"
    }
   ],
   "source": [
    "from sklearn.neighbors import KNeighborsClassifier\n",
    "knn_clf = KNeighborsClassifier(n_neighbors=3)\n",
    "knn_clf.fit(X_train, y_train)"
   ]
  },
  {
   "cell_type": "code",
   "execution_count": 44,
   "id": "vocational-denial",
   "metadata": {},
   "outputs": [],
   "source": [
    "prediction = knn_clf.predict(X_test)"
   ]
  },
  {
   "cell_type": "code",
   "execution_count": 45,
   "id": "naked-alabama",
   "metadata": {},
   "outputs": [
    {
     "name": "stdout",
     "output_type": "stream",
     "text": [
      "f1_score:knn:  0.6440677966101696\n",
      "precision:knn:  0.5757575757575758\n",
      "recall:knn:  0.7307692307692307\n"
     ]
    }
   ],
   "source": [
    "print('f1_score:knn: ', f1_score(y_test, prediction))\n",
    "print('precision:knn: ', precision_score(y_test, prediction))\n",
    "print('recall:knn: ', recall_score(y_test, prediction))"
   ]
  },
  {
   "cell_type": "code",
   "execution_count": 46,
   "id": "registered-summary",
   "metadata": {},
   "outputs": [],
   "source": [
    "knn_clf = KNeighborsClassifier(n_neighbors=5)\n",
    "knn_clf.fit(X_train, y_train)\n",
    "prediction = knn_clf.predict(X_test)"
   ]
  },
  {
   "cell_type": "code",
   "execution_count": 47,
   "id": "straight-discipline",
   "metadata": {},
   "outputs": [
    {
     "name": "stdout",
     "output_type": "stream",
     "text": [
      "f1_score:knn:  0.6557377049180327\n",
      "precision:knn:  0.5714285714285714\n",
      "recall:knn:  0.7692307692307693\n"
     ]
    }
   ],
   "source": [
    "print('f1_score:knn: ', f1_score(y_test, prediction))\n",
    "print('precision:knn: ', precision_score(y_test, prediction))\n",
    "print('recall:knn: ', recall_score(y_test, prediction))"
   ]
  },
  {
   "cell_type": "code",
   "execution_count": 48,
   "id": "aerial-demand",
   "metadata": {},
   "outputs": [],
   "source": [
    "knn_clf = KNeighborsClassifier(n_neighbors=7)\n",
    "knn_clf.fit(X_train, y_train)\n",
    "prediction = knn_clf.predict(X_test)"
   ]
  },
  {
   "cell_type": "code",
   "execution_count": 49,
   "id": "registered-tribe",
   "metadata": {},
   "outputs": [
    {
     "name": "stdout",
     "output_type": "stream",
     "text": [
      "f1_score:knn:  0.7419354838709676\n",
      "precision:knn:  0.6388888888888888\n",
      "recall:knn:  0.8846153846153846\n"
     ]
    }
   ],
   "source": [
    "print('f1_score:knn: ', f1_score(y_test, prediction))\n",
    "print('precision:knn: ', precision_score(y_test, prediction))\n",
    "print('recall:knn: ', recall_score(y_test, prediction))"
   ]
  },
  {
   "cell_type": "code",
   "execution_count": 50,
   "id": "expired-cuisine",
   "metadata": {},
   "outputs": [],
   "source": [
    "knn_clf = KNeighborsClassifier(n_neighbors=3)\n",
    "knn_clf.fit(X_train[['chol', 'trestbps', 'thalach']], y_train)\n",
    "prediction = knn_clf.predict(X_test[['chol', 'trestbps', 'thalach']])"
   ]
  },
  {
   "cell_type": "code",
   "execution_count": 51,
   "id": "fuzzy-printer",
   "metadata": {},
   "outputs": [
    {
     "name": "stdout",
     "output_type": "stream",
     "text": [
      "f1_score:knn:  0.6666666666666667\n",
      "precision:knn:  0.6129032258064516\n",
      "recall:knn:  0.7307692307692307\n"
     ]
    }
   ],
   "source": [
    "print('f1_score:knn: ', f1_score(y_test, prediction))\n",
    "print('precision:knn: ', precision_score(y_test, prediction))\n",
    "print('recall:knn: ', recall_score(y_test, prediction))"
   ]
  },
  {
   "cell_type": "code",
   "execution_count": 52,
   "id": "theoretical-bones",
   "metadata": {},
   "outputs": [],
   "source": [
    "knn_clf = KNeighborsClassifier(n_neighbors=10)\n",
    "knn_clf.fit(X_train[['chol', 'trestbps', 'thalach']], y_train)\n",
    "prediction = knn_clf.predict(X_test[['chol', 'trestbps', 'thalach']])"
   ]
  },
  {
   "cell_type": "code",
   "execution_count": 53,
   "id": "interim-singing",
   "metadata": {},
   "outputs": [
    {
     "name": "stdout",
     "output_type": "stream",
     "text": [
      "f1_score:knn:  0.6779661016949152\n",
      "precision:knn:  0.6060606060606061\n",
      "recall:knn:  0.7692307692307693\n"
     ]
    }
   ],
   "source": [
    "print('f1_score:knn: ', f1_score(y_test, prediction))\n",
    "print('precision:knn: ', precision_score(y_test, prediction))\n",
    "print('recall:knn: ', recall_score(y_test, prediction))"
   ]
  },
  {
   "cell_type": "code",
   "execution_count": null,
   "id": "northern-antibody",
   "metadata": {},
   "outputs": [],
   "source": []
  },
  {
   "cell_type": "code",
   "execution_count": null,
   "id": "outer-drove",
   "metadata": {},
   "outputs": [],
   "source": []
  },
  {
   "cell_type": "code",
   "execution_count": null,
   "id": "subtle-newton",
   "metadata": {},
   "outputs": [],
   "source": []
  },
  {
   "cell_type": "code",
   "execution_count": null,
   "id": "victorian-andrews",
   "metadata": {},
   "outputs": [],
   "source": []
  },
  {
   "cell_type": "code",
   "execution_count": null,
   "id": "standard-parallel",
   "metadata": {},
   "outputs": [],
   "source": []
  },
  {
   "cell_type": "code",
   "execution_count": null,
   "id": "liked-visibility",
   "metadata": {},
   "outputs": [],
   "source": []
  }
 ],
 "metadata": {
  "kernelspec": {
   "display_name": "Python 3",
   "language": "python",
   "name": "python3"
  },
  "language_info": {
   "codemirror_mode": {
    "name": "ipython",
    "version": 3
   },
   "file_extension": ".py",
   "mimetype": "text/x-python",
   "name": "python",
   "nbconvert_exporter": "python",
   "pygments_lexer": "ipython3",
   "version": "3.7.7"
  }
 },
 "nbformat": 4,
 "nbformat_minor": 5
}
