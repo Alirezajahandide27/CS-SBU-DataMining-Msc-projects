{
 "cells": [
  {
   "cell_type": "markdown",
   "id": "plastic-cruise",
   "metadata": {
    "execution": {
     "iopub.execute_input": "2021-04-06T12:05:20.034738Z",
     "iopub.status.busy": "2021-04-06T12:05:20.034367Z",
     "iopub.status.idle": "2021-04-06T12:05:20.040994Z",
     "shell.execute_reply": "2021-04-06T12:05:20.040003Z",
     "shell.execute_reply.started": "2021-04-06T12:05:20.034704Z"
    }
   },
   "source": [
    "<center>\n",
    "    <img src=\"https://sbu.ac.ir/documents/46019/275501/logo-dark.png\" alt=\"sbu\" class=\"center\">\n",
    "</center>\n",
    "\n",
    "\n",
    "# <center>Data Mining Course - Project #2</center>\n",
    "<center>\n",
    "    <b>Professors:</b>\n",
    "    <br>\n",
    "Dr. Farahani, Dr. Kheradpishe\n",
    "    <br><br><br>\n",
    "Ali Nikkhah - 99422197\n",
    "    <br><br>\n",
    "April 2021\n",
    "    <br><br>\n",
    "</center>\n"
   ]
  },
  {
   "cell_type": "markdown",
   "id": "concrete-postcard",
   "metadata": {
    "execution": {
     "iopub.execute_input": "2021-04-06T12:06:07.349868Z",
     "iopub.status.busy": "2021-04-06T12:06:07.348938Z",
     "iopub.status.idle": "2021-04-06T12:06:07.359757Z",
     "shell.execute_reply": "2021-04-06T12:06:07.358048Z",
     "shell.execute_reply.started": "2021-04-06T12:06:07.349796Z"
    }
   },
   "source": [
    "# 1."
   ]
  },
  {
   "cell_type": "code",
   "execution_count": 1,
   "id": "disturbed-niagara",
   "metadata": {
    "execution": {
     "iopub.execute_input": "2021-04-09T19:22:45.950493Z",
     "iopub.status.busy": "2021-04-09T19:22:45.950297Z",
     "iopub.status.idle": "2021-04-09T19:22:46.533990Z",
     "shell.execute_reply": "2021-04-09T19:22:46.533342Z",
     "shell.execute_reply.started": "2021-04-09T19:22:45.950475Z"
    },
    "tags": []
   },
   "outputs": [],
   "source": [
    "import numpy as np\n",
    "import pandas as pd\n",
    "import matplotlib.pyplot as plt\n",
    "import seaborn as sns\n",
    "from scipy import stats"
   ]
  },
  {
   "cell_type": "code",
   "execution_count": 2,
   "id": "primary-display",
   "metadata": {
    "execution": {
     "iopub.execute_input": "2021-04-09T19:22:46.535209Z",
     "iopub.status.busy": "2021-04-09T19:22:46.534864Z",
     "iopub.status.idle": "2021-04-09T19:22:46.560133Z",
     "shell.execute_reply": "2021-04-09T19:22:46.559581Z",
     "shell.execute_reply.started": "2021-04-09T19:22:46.535184Z"
    },
    "tags": []
   },
   "outputs": [
    {
     "data": {
      "text/plain": [
       "(303, 14)"
      ]
     },
     "metadata": {},
     "output_type": "display_data"
    },
    {
     "data": {
      "text/html": [
       "<div>\n",
       "<style scoped>\n",
       "    .dataframe tbody tr th:only-of-type {\n",
       "        vertical-align: middle;\n",
       "    }\n",
       "\n",
       "    .dataframe tbody tr th {\n",
       "        vertical-align: top;\n",
       "    }\n",
       "\n",
       "    .dataframe thead th {\n",
       "        text-align: right;\n",
       "    }\n",
       "</style>\n",
       "<table border=\"1\" class=\"dataframe\">\n",
       "  <thead>\n",
       "    <tr style=\"text-align: right;\">\n",
       "      <th></th>\n",
       "      <th>age</th>\n",
       "      <th>sex</th>\n",
       "      <th>cp</th>\n",
       "      <th>trestbps</th>\n",
       "      <th>chol</th>\n",
       "      <th>fbs</th>\n",
       "      <th>restecg</th>\n",
       "      <th>thalach</th>\n",
       "      <th>exang</th>\n",
       "      <th>oldpeak</th>\n",
       "      <th>slope</th>\n",
       "      <th>ca</th>\n",
       "      <th>thal</th>\n",
       "      <th>target</th>\n",
       "    </tr>\n",
       "  </thead>\n",
       "  <tbody>\n",
       "    <tr>\n",
       "      <th>0</th>\n",
       "      <td>63</td>\n",
       "      <td>1</td>\n",
       "      <td>3</td>\n",
       "      <td>145</td>\n",
       "      <td>233</td>\n",
       "      <td>1</td>\n",
       "      <td>0</td>\n",
       "      <td>150</td>\n",
       "      <td>0</td>\n",
       "      <td>2.3</td>\n",
       "      <td>0</td>\n",
       "      <td>0</td>\n",
       "      <td>1</td>\n",
       "      <td>1</td>\n",
       "    </tr>\n",
       "    <tr>\n",
       "      <th>1</th>\n",
       "      <td>37</td>\n",
       "      <td>1</td>\n",
       "      <td>2</td>\n",
       "      <td>130</td>\n",
       "      <td>250</td>\n",
       "      <td>0</td>\n",
       "      <td>1</td>\n",
       "      <td>187</td>\n",
       "      <td>0</td>\n",
       "      <td>3.5</td>\n",
       "      <td>0</td>\n",
       "      <td>0</td>\n",
       "      <td>2</td>\n",
       "      <td>1</td>\n",
       "    </tr>\n",
       "    <tr>\n",
       "      <th>2</th>\n",
       "      <td>41</td>\n",
       "      <td>0</td>\n",
       "      <td>1</td>\n",
       "      <td>130</td>\n",
       "      <td>204</td>\n",
       "      <td>0</td>\n",
       "      <td>0</td>\n",
       "      <td>172</td>\n",
       "      <td>0</td>\n",
       "      <td>1.4</td>\n",
       "      <td>2</td>\n",
       "      <td>0</td>\n",
       "      <td>2</td>\n",
       "      <td>1</td>\n",
       "    </tr>\n",
       "    <tr>\n",
       "      <th>3</th>\n",
       "      <td>56</td>\n",
       "      <td>1</td>\n",
       "      <td>1</td>\n",
       "      <td>120</td>\n",
       "      <td>236</td>\n",
       "      <td>0</td>\n",
       "      <td>1</td>\n",
       "      <td>178</td>\n",
       "      <td>0</td>\n",
       "      <td>0.8</td>\n",
       "      <td>2</td>\n",
       "      <td>0</td>\n",
       "      <td>2</td>\n",
       "      <td>1</td>\n",
       "    </tr>\n",
       "    <tr>\n",
       "      <th>4</th>\n",
       "      <td>57</td>\n",
       "      <td>0</td>\n",
       "      <td>0</td>\n",
       "      <td>120</td>\n",
       "      <td>354</td>\n",
       "      <td>0</td>\n",
       "      <td>1</td>\n",
       "      <td>163</td>\n",
       "      <td>1</td>\n",
       "      <td>0.6</td>\n",
       "      <td>2</td>\n",
       "      <td>0</td>\n",
       "      <td>2</td>\n",
       "      <td>1</td>\n",
       "    </tr>\n",
       "    <tr>\n",
       "      <th>5</th>\n",
       "      <td>57</td>\n",
       "      <td>1</td>\n",
       "      <td>0</td>\n",
       "      <td>140</td>\n",
       "      <td>192</td>\n",
       "      <td>0</td>\n",
       "      <td>1</td>\n",
       "      <td>148</td>\n",
       "      <td>0</td>\n",
       "      <td>0.4</td>\n",
       "      <td>1</td>\n",
       "      <td>0</td>\n",
       "      <td>1</td>\n",
       "      <td>1</td>\n",
       "    </tr>\n",
       "    <tr>\n",
       "      <th>6</th>\n",
       "      <td>56</td>\n",
       "      <td>0</td>\n",
       "      <td>1</td>\n",
       "      <td>140</td>\n",
       "      <td>294</td>\n",
       "      <td>0</td>\n",
       "      <td>0</td>\n",
       "      <td>153</td>\n",
       "      <td>0</td>\n",
       "      <td>1.3</td>\n",
       "      <td>1</td>\n",
       "      <td>0</td>\n",
       "      <td>2</td>\n",
       "      <td>1</td>\n",
       "    </tr>\n",
       "    <tr>\n",
       "      <th>7</th>\n",
       "      <td>44</td>\n",
       "      <td>1</td>\n",
       "      <td>1</td>\n",
       "      <td>120</td>\n",
       "      <td>263</td>\n",
       "      <td>0</td>\n",
       "      <td>1</td>\n",
       "      <td>173</td>\n",
       "      <td>0</td>\n",
       "      <td>0.0</td>\n",
       "      <td>2</td>\n",
       "      <td>0</td>\n",
       "      <td>3</td>\n",
       "      <td>1</td>\n",
       "    </tr>\n",
       "    <tr>\n",
       "      <th>8</th>\n",
       "      <td>52</td>\n",
       "      <td>1</td>\n",
       "      <td>2</td>\n",
       "      <td>172</td>\n",
       "      <td>199</td>\n",
       "      <td>1</td>\n",
       "      <td>1</td>\n",
       "      <td>162</td>\n",
       "      <td>0</td>\n",
       "      <td>0.5</td>\n",
       "      <td>2</td>\n",
       "      <td>0</td>\n",
       "      <td>3</td>\n",
       "      <td>1</td>\n",
       "    </tr>\n",
       "    <tr>\n",
       "      <th>9</th>\n",
       "      <td>57</td>\n",
       "      <td>1</td>\n",
       "      <td>2</td>\n",
       "      <td>150</td>\n",
       "      <td>168</td>\n",
       "      <td>0</td>\n",
       "      <td>1</td>\n",
       "      <td>174</td>\n",
       "      <td>0</td>\n",
       "      <td>1.6</td>\n",
       "      <td>2</td>\n",
       "      <td>0</td>\n",
       "      <td>2</td>\n",
       "      <td>1</td>\n",
       "    </tr>\n",
       "  </tbody>\n",
       "</table>\n",
       "</div>"
      ],
      "text/plain": [
       "   age  sex  cp  trestbps  chol  fbs  restecg  thalach  exang  oldpeak  slope  \\\n",
       "0   63    1   3       145   233    1        0      150      0      2.3      0   \n",
       "1   37    1   2       130   250    0        1      187      0      3.5      0   \n",
       "2   41    0   1       130   204    0        0      172      0      1.4      2   \n",
       "3   56    1   1       120   236    0        1      178      0      0.8      2   \n",
       "4   57    0   0       120   354    0        1      163      1      0.6      2   \n",
       "5   57    1   0       140   192    0        1      148      0      0.4      1   \n",
       "6   56    0   1       140   294    0        0      153      0      1.3      1   \n",
       "7   44    1   1       120   263    0        1      173      0      0.0      2   \n",
       "8   52    1   2       172   199    1        1      162      0      0.5      2   \n",
       "9   57    1   2       150   168    0        1      174      0      1.6      2   \n",
       "\n",
       "   ca  thal  target  \n",
       "0   0     1       1  \n",
       "1   0     2       1  \n",
       "2   0     2       1  \n",
       "3   0     2       1  \n",
       "4   0     2       1  \n",
       "5   0     1       1  \n",
       "6   0     2       1  \n",
       "7   0     3       1  \n",
       "8   0     3       1  \n",
       "9   0     2       1  "
      ]
     },
     "execution_count": 2,
     "metadata": {},
     "output_type": "execute_result"
    }
   ],
   "source": [
    "hearts = pd.read_csv(\"heart.csv\")\n",
    "\n",
    "display(hearts.shape)\n",
    "hearts.head(10)"
   ]
  },
  {
   "cell_type": "code",
   "execution_count": 3,
   "id": "contrary-joyce",
   "metadata": {
    "execution": {
     "iopub.execute_input": "2021-04-09T19:22:46.561140Z",
     "iopub.status.busy": "2021-04-09T19:22:46.560902Z",
     "iopub.status.idle": "2021-04-09T19:22:46.571056Z",
     "shell.execute_reply": "2021-04-09T19:22:46.570357Z",
     "shell.execute_reply.started": "2021-04-09T19:22:46.561118Z"
    },
    "tags": []
   },
   "outputs": [
    {
     "name": "stdout",
     "output_type": "stream",
     "text": [
      "<class 'pandas.core.frame.DataFrame'>\n",
      "RangeIndex: 303 entries, 0 to 302\n",
      "Data columns (total 14 columns):\n",
      " #   Column    Non-Null Count  Dtype  \n",
      "---  ------    --------------  -----  \n",
      " 0   age       303 non-null    int64  \n",
      " 1   sex       303 non-null    int64  \n",
      " 2   cp        303 non-null    int64  \n",
      " 3   trestbps  303 non-null    int64  \n",
      " 4   chol      303 non-null    int64  \n",
      " 5   fbs       303 non-null    int64  \n",
      " 6   restecg   303 non-null    int64  \n",
      " 7   thalach   303 non-null    int64  \n",
      " 8   exang     303 non-null    int64  \n",
      " 9   oldpeak   303 non-null    float64\n",
      " 10  slope     303 non-null    int64  \n",
      " 11  ca        303 non-null    int64  \n",
      " 12  thal      303 non-null    int64  \n",
      " 13  target    303 non-null    int64  \n",
      "dtypes: float64(1), int64(13)\n",
      "memory usage: 33.3 KB\n"
     ]
    }
   ],
   "source": [
    "hearts.info()"
   ]
  },
  {
   "cell_type": "code",
   "execution_count": 4,
   "id": "organizational-vegetarian",
   "metadata": {
    "execution": {
     "iopub.execute_input": "2021-04-09T19:22:46.572484Z",
     "iopub.status.busy": "2021-04-09T19:22:46.572158Z",
     "iopub.status.idle": "2021-04-09T19:22:46.899797Z",
     "shell.execute_reply": "2021-04-09T19:22:46.899219Z",
     "shell.execute_reply.started": "2021-04-09T19:22:46.572456Z"
    },
    "tags": []
   },
   "outputs": [
    {
     "data": {
      "text/plain": [
       "<matplotlib.axes._subplots.AxesSubplot at 0x7f7d40333438>"
      ]
     },
     "execution_count": 4,
     "metadata": {},
     "output_type": "execute_result"
    },
    {
     "data": {
      "image/png": "[encoded data removed]",
      "text/plain": [
       "<Figure size 864x432 with 1 Axes>"
      ]
     },
     "metadata": {
      "needs_background": "light"
     },
     "output_type": "display_data"
    }
   ],
   "source": [
    "fig = plt.figure(figsize=(12,6))\n",
    "sns.boxplot(data=hearts)"
   ]
  },
  {
   "cell_type": "markdown",
   "id": "stuffed-gates",
   "metadata": {},
   "source": [
    "Data Normalization:\n",
    "\n",
    "$$X_{norm} = \\frac{X-X_{min}}{X_{max}-X_{min}}$$\n",
    "\n",
    "lets normalize data based on \"target\" column.\n",
    "<br>"
   ]
  },
  {
   "cell_type": "code",
   "execution_count": 5,
   "id": "associate-alaska",
   "metadata": {
    "execution": {
     "iopub.execute_input": "2021-04-09T19:22:46.901064Z",
     "iopub.status.busy": "2021-04-09T19:22:46.900753Z",
     "iopub.status.idle": "2021-04-09T19:22:47.082557Z",
     "shell.execute_reply": "2021-04-09T19:22:47.082059Z",
     "shell.execute_reply.started": "2021-04-09T19:22:46.901037Z"
    },
    "tags": []
   },
   "outputs": [],
   "source": [
    "from sklearn import preprocessing\n"
   ]
  },
  {
   "cell_type": "code",
   "execution_count": 6,
   "id": "static-approach",
   "metadata": {
    "execution": {
     "iopub.execute_input": "2021-04-09T19:22:47.083611Z",
     "iopub.status.busy": "2021-04-09T19:22:47.083352Z",
     "iopub.status.idle": "2021-04-09T19:22:47.134122Z",
     "shell.execute_reply": "2021-04-09T19:22:47.133656Z",
     "shell.execute_reply.started": "2021-04-09T19:22:47.083587Z"
    },
    "tags": []
   },
   "outputs": [
    {
     "data": {
      "text/html": [
       "<div>\n",
       "<style scoped>\n",
       "    .dataframe tbody tr th:only-of-type {\n",
       "        vertical-align: middle;\n",
       "    }\n",
       "\n",
       "    .dataframe tbody tr th {\n",
       "        vertical-align: top;\n",
       "    }\n",
       "\n",
       "    .dataframe thead th {\n",
       "        text-align: right;\n",
       "    }\n",
       "</style>\n",
       "<table border=\"1\" class=\"dataframe\">\n",
       "  <thead>\n",
       "    <tr style=\"text-align: right;\">\n",
       "      <th></th>\n",
       "      <th>age</th>\n",
       "      <th>sex</th>\n",
       "      <th>cp</th>\n",
       "      <th>trestbps</th>\n",
       "      <th>chol</th>\n",
       "      <th>fbs</th>\n",
       "      <th>restecg</th>\n",
       "      <th>thalach</th>\n",
       "      <th>exang</th>\n",
       "      <th>oldpeak</th>\n",
       "      <th>slope</th>\n",
       "      <th>ca</th>\n",
       "      <th>thal</th>\n",
       "    </tr>\n",
       "  </thead>\n",
       "  <tbody>\n",
       "    <tr>\n",
       "      <th>0</th>\n",
       "      <td>0.708333</td>\n",
       "      <td>1.0</td>\n",
       "      <td>1.000000</td>\n",
       "      <td>0.481132</td>\n",
       "      <td>0.244292</td>\n",
       "      <td>1.0</td>\n",
       "      <td>0.0</td>\n",
       "      <td>0.603053</td>\n",
       "      <td>0.0</td>\n",
       "      <td>0.370968</td>\n",
       "      <td>0.0</td>\n",
       "      <td>0.00</td>\n",
       "      <td>0.333333</td>\n",
       "    </tr>\n",
       "    <tr>\n",
       "      <th>1</th>\n",
       "      <td>0.166667</td>\n",
       "      <td>1.0</td>\n",
       "      <td>0.666667</td>\n",
       "      <td>0.339623</td>\n",
       "      <td>0.283105</td>\n",
       "      <td>0.0</td>\n",
       "      <td>0.5</td>\n",
       "      <td>0.885496</td>\n",
       "      <td>0.0</td>\n",
       "      <td>0.564516</td>\n",
       "      <td>0.0</td>\n",
       "      <td>0.00</td>\n",
       "      <td>0.666667</td>\n",
       "    </tr>\n",
       "    <tr>\n",
       "      <th>2</th>\n",
       "      <td>0.250000</td>\n",
       "      <td>0.0</td>\n",
       "      <td>0.333333</td>\n",
       "      <td>0.339623</td>\n",
       "      <td>0.178082</td>\n",
       "      <td>0.0</td>\n",
       "      <td>0.0</td>\n",
       "      <td>0.770992</td>\n",
       "      <td>0.0</td>\n",
       "      <td>0.225806</td>\n",
       "      <td>1.0</td>\n",
       "      <td>0.00</td>\n",
       "      <td>0.666667</td>\n",
       "    </tr>\n",
       "    <tr>\n",
       "      <th>3</th>\n",
       "      <td>0.562500</td>\n",
       "      <td>1.0</td>\n",
       "      <td>0.333333</td>\n",
       "      <td>0.245283</td>\n",
       "      <td>0.251142</td>\n",
       "      <td>0.0</td>\n",
       "      <td>0.5</td>\n",
       "      <td>0.816794</td>\n",
       "      <td>0.0</td>\n",
       "      <td>0.129032</td>\n",
       "      <td>1.0</td>\n",
       "      <td>0.00</td>\n",
       "      <td>0.666667</td>\n",
       "    </tr>\n",
       "    <tr>\n",
       "      <th>4</th>\n",
       "      <td>0.583333</td>\n",
       "      <td>0.0</td>\n",
       "      <td>0.000000</td>\n",
       "      <td>0.245283</td>\n",
       "      <td>0.520548</td>\n",
       "      <td>0.0</td>\n",
       "      <td>0.5</td>\n",
       "      <td>0.702290</td>\n",
       "      <td>1.0</td>\n",
       "      <td>0.096774</td>\n",
       "      <td>1.0</td>\n",
       "      <td>0.00</td>\n",
       "      <td>0.666667</td>\n",
       "    </tr>\n",
       "    <tr>\n",
       "      <th>...</th>\n",
       "      <td>...</td>\n",
       "      <td>...</td>\n",
       "      <td>...</td>\n",
       "      <td>...</td>\n",
       "      <td>...</td>\n",
       "      <td>...</td>\n",
       "      <td>...</td>\n",
       "      <td>...</td>\n",
       "      <td>...</td>\n",
       "      <td>...</td>\n",
       "      <td>...</td>\n",
       "      <td>...</td>\n",
       "      <td>...</td>\n",
       "    </tr>\n",
       "    <tr>\n",
       "      <th>298</th>\n",
       "      <td>0.583333</td>\n",
       "      <td>0.0</td>\n",
       "      <td>0.000000</td>\n",
       "      <td>0.433962</td>\n",
       "      <td>0.262557</td>\n",
       "      <td>0.0</td>\n",
       "      <td>0.5</td>\n",
       "      <td>0.396947</td>\n",
       "      <td>1.0</td>\n",
       "      <td>0.032258</td>\n",
       "      <td>0.5</td>\n",
       "      <td>0.00</td>\n",
       "      <td>1.000000</td>\n",
       "    </tr>\n",
       "    <tr>\n",
       "      <th>299</th>\n",
       "      <td>0.333333</td>\n",
       "      <td>1.0</td>\n",
       "      <td>1.000000</td>\n",
       "      <td>0.150943</td>\n",
       "      <td>0.315068</td>\n",
       "      <td>0.0</td>\n",
       "      <td>0.5</td>\n",
       "      <td>0.465649</td>\n",
       "      <td>0.0</td>\n",
       "      <td>0.193548</td>\n",
       "      <td>0.5</td>\n",
       "      <td>0.00</td>\n",
       "      <td>1.000000</td>\n",
       "    </tr>\n",
       "    <tr>\n",
       "      <th>300</th>\n",
       "      <td>0.812500</td>\n",
       "      <td>1.0</td>\n",
       "      <td>0.000000</td>\n",
       "      <td>0.471698</td>\n",
       "      <td>0.152968</td>\n",
       "      <td>1.0</td>\n",
       "      <td>0.5</td>\n",
       "      <td>0.534351</td>\n",
       "      <td>0.0</td>\n",
       "      <td>0.548387</td>\n",
       "      <td>0.5</td>\n",
       "      <td>0.50</td>\n",
       "      <td>1.000000</td>\n",
       "    </tr>\n",
       "    <tr>\n",
       "      <th>301</th>\n",
       "      <td>0.583333</td>\n",
       "      <td>1.0</td>\n",
       "      <td>0.000000</td>\n",
       "      <td>0.339623</td>\n",
       "      <td>0.011416</td>\n",
       "      <td>0.0</td>\n",
       "      <td>0.5</td>\n",
       "      <td>0.335878</td>\n",
       "      <td>1.0</td>\n",
       "      <td>0.193548</td>\n",
       "      <td>0.5</td>\n",
       "      <td>0.25</td>\n",
       "      <td>1.000000</td>\n",
       "    </tr>\n",
       "    <tr>\n",
       "      <th>302</th>\n",
       "      <td>0.583333</td>\n",
       "      <td>0.0</td>\n",
       "      <td>0.333333</td>\n",
       "      <td>0.339623</td>\n",
       "      <td>0.251142</td>\n",
       "      <td>0.0</td>\n",
       "      <td>0.0</td>\n",
       "      <td>0.786260</td>\n",
       "      <td>0.0</td>\n",
       "      <td>0.000000</td>\n",
       "      <td>0.5</td>\n",
       "      <td>0.25</td>\n",
       "      <td>0.666667</td>\n",
       "    </tr>\n",
       "  </tbody>\n",
       "</table>\n",
       "<p>303 rows × 13 columns</p>\n",
       "</div>"
      ],
      "text/plain": [
       "          age  sex        cp  trestbps      chol  fbs  restecg   thalach  \\\n",
       "0    0.708333  1.0  1.000000  0.481132  0.244292  1.0      0.0  0.603053   \n",
       "1    0.166667  1.0  0.666667  0.339623  0.283105  0.0      0.5  0.885496   \n",
       "2    0.250000  0.0  0.333333  0.339623  0.178082  0.0      0.0  0.770992   \n",
       "3    0.562500  1.0  0.333333  0.245283  0.251142  0.0      0.5  0.816794   \n",
       "4    0.583333  0.0  0.000000  0.245283  0.520548  0.0      0.5  0.702290   \n",
       "..        ...  ...       ...       ...       ...  ...      ...       ...   \n",
       "298  0.583333  0.0  0.000000  0.433962  0.262557  0.0      0.5  0.396947   \n",
       "299  0.333333  1.0  1.000000  0.150943  0.315068  0.0      0.5  0.465649   \n",
       "300  0.812500  1.0  0.000000  0.471698  0.152968  1.0      0.5  0.534351   \n",
       "301  0.583333  1.0  0.000000  0.339623  0.011416  0.0      0.5  0.335878   \n",
       "302  0.583333  0.0  0.333333  0.339623  0.251142  0.0      0.0  0.786260   \n",
       "\n",
       "     exang   oldpeak  slope    ca      thal  \n",
       "0      0.0  0.370968    0.0  0.00  0.333333  \n",
       "1      0.0  0.564516    0.0  0.00  0.666667  \n",
       "2      0.0  0.225806    1.0  0.00  0.666667  \n",
       "3      0.0  0.129032    1.0  0.00  0.666667  \n",
       "4      1.0  0.096774    1.0  0.00  0.666667  \n",
       "..     ...       ...    ...   ...       ...  \n",
       "298    1.0  0.032258    0.5  0.00  1.000000  \n",
       "299    0.0  0.193548    0.5  0.00  1.000000  \n",
       "300    0.0  0.548387    0.5  0.50  1.000000  \n",
       "301    1.0  0.193548    0.5  0.25  1.000000  \n",
       "302    0.0  0.000000    0.5  0.25  0.666667  \n",
       "\n",
       "[303 rows x 13 columns]"
      ]
     },
     "execution_count": 6,
     "metadata": {},
     "output_type": "execute_result"
    }
   ],
   "source": [
    "y = hearts.target.values\n",
    "x_data = hearts.drop(['target'], axis = 1)\n",
    "\n",
    "norm_data = (x_data - np.min(x_data)) / (np.max(x_data) - np.min(x_data)).values\n",
    "norm_data"
   ]
  },
  {
   "cell_type": "code",
   "execution_count": 7,
   "id": "miniature-relationship",
   "metadata": {
    "execution": {
     "iopub.execute_input": "2021-04-09T19:22:47.135816Z",
     "iopub.status.busy": "2021-04-09T19:22:47.135595Z",
     "iopub.status.idle": "2021-04-09T19:22:47.443475Z",
     "shell.execute_reply": "2021-04-09T19:22:47.442884Z",
     "shell.execute_reply.started": "2021-04-09T19:22:47.135799Z"
    },
    "tags": []
   },
   "outputs": [
    {
     "data": {
      "text/plain": [
       "<matplotlib.axes._subplots.AxesSubplot at 0x7f7cffcecc88>"
      ]
     },
     "execution_count": 7,
     "metadata": {},
     "output_type": "execute_result"
    },
    {
     "data": {
      "image/png": "[encoded data removed]",
      "text/plain": [
       "<Figure size 864x432 with 1 Axes>"
      ]
     },
     "metadata": {
      "needs_background": "light"
     },
     "output_type": "display_data"
    }
   ],
   "source": [
    "fig = plt.figure(figsize=(12,6))\n",
    "sns.boxplot(data=norm_data)"
   ]
  },
  {
   "cell_type": "markdown",
   "id": "exposed-strength",
   "metadata": {},
   "source": [
    "outlier data in trestbps, chol, fbs, oldpeak\n",
    "\n",
    "now, lets remove them with z_score scale!"
   ]
  },
  {
   "cell_type": "code",
   "execution_count": 8,
   "id": "adjustable-taiwan",
   "metadata": {
    "execution": {
     "iopub.execute_input": "2021-04-09T19:22:47.444739Z",
     "iopub.status.busy": "2021-04-09T19:22:47.444483Z",
     "iopub.status.idle": "2021-04-09T19:22:47.451547Z",
     "shell.execute_reply": "2021-04-09T19:22:47.450979Z",
     "shell.execute_reply.started": "2021-04-09T19:22:47.444713Z"
    },
    "tags": []
   },
   "outputs": [],
   "source": [
    "z_scores = stats.zscore(hearts)\n",
    "z_scores\n",
    "abs_z_scores = np.abs(z_scores)\n",
    "filtered_entries = (abs_z_scores < 3).all(axis=1)\n",
    "clean_data = hearts[filtered_entries]"
   ]
  },
  {
   "cell_type": "markdown",
   "id": "boolean-harmony",
   "metadata": {
    "execution": {
     "iopub.execute_input": "2021-04-07T15:39:05.804451Z",
     "iopub.status.busy": "2021-04-07T15:39:05.803994Z",
     "iopub.status.idle": "2021-04-07T15:39:05.809702Z",
     "shell.execute_reply": "2021-04-07T15:39:05.808680Z",
     "shell.execute_reply.started": "2021-04-07T15:39:05.804412Z"
    }
   },
   "source": [
    "16 rows removed."
   ]
  },
  {
   "cell_type": "code",
   "execution_count": 9,
   "id": "lightweight-edwards",
   "metadata": {
    "execution": {
     "iopub.execute_input": "2021-04-09T19:22:47.452613Z",
     "iopub.status.busy": "2021-04-09T19:22:47.452383Z",
     "iopub.status.idle": "2021-04-09T19:22:47.821288Z",
     "shell.execute_reply": "2021-04-09T19:22:47.820673Z",
     "shell.execute_reply.started": "2021-04-09T19:22:47.452591Z"
    },
    "tags": []
   },
   "outputs": [
    {
     "data": {
      "text/plain": [
       "<matplotlib.axes._subplots.AxesSubplot at 0x7f7cfc1bcfd0>"
      ]
     },
     "execution_count": 9,
     "metadata": {},
     "output_type": "execute_result"
    },
    {
     "data": {
      "image/png": "[encoded data removed]",
      "text/plain": [
       "<Figure size 864x432 with 1 Axes>"
      ]
     },
     "metadata": {
      "needs_background": "light"
     },
     "output_type": "display_data"
    }
   ],
   "source": [
    "fig = plt.figure(figsize=(12,6))\n",
    "y = clean_data.target.values\n",
    "x_data = clean_data.drop(['target'], axis = 1)\n",
    "\n",
    "norm_data = (x_data - np.min(x_data)) / (np.max(x_data) - np.min(x_data)).values\n",
    "sns.boxplot(data=norm_data)"
   ]
  },
  {
   "cell_type": "code",
   "execution_count": 10,
   "id": "direct-delta",
   "metadata": {
    "execution": {
     "iopub.execute_input": "2021-04-09T19:22:47.822492Z",
     "iopub.status.busy": "2021-04-09T19:22:47.822214Z",
     "iopub.status.idle": "2021-04-09T19:22:47.959228Z",
     "shell.execute_reply": "2021-04-09T19:22:47.958120Z",
     "shell.execute_reply.started": "2021-04-09T19:22:47.822465Z"
    },
    "tags": []
   },
   "outputs": [
    {
     "data": {
      "image/png": "[encoded data removed]",
      "text/plain": [
       "<Figure size 432x288 with 1 Axes>"
      ]
     },
     "metadata": {
      "needs_background": "light"
     },
     "output_type": "display_data"
    }
   ],
   "source": [
    "sns.countplot(x=\"target\", data=hearts)\n",
    "plt.show()"
   ]
  },
  {
   "cell_type": "code",
   "execution_count": 11,
   "id": "confused-plaza",
   "metadata": {
    "execution": {
     "iopub.execute_input": "2021-04-09T19:22:47.960365Z",
     "iopub.status.busy": "2021-04-09T19:22:47.960151Z",
     "iopub.status.idle": "2021-04-09T19:22:47.966175Z",
     "shell.execute_reply": "2021-04-09T19:22:47.965397Z",
     "shell.execute_reply.started": "2021-04-09T19:22:47.960345Z"
    },
    "tags": []
   },
   "outputs": [
    {
     "name": "stdout",
     "output_type": "stream",
     "text": [
      "Percentage of Patients Haven't Heart Disease: 45.54%\n",
      "Percentage of Patients Have Heart Disease: 54.46%\n"
     ]
    }
   ],
   "source": [
    "countNoDisease = len(hearts[hearts.target == 0])\n",
    "countHaveDisease = len(hearts[hearts.target == 1])\n",
    "print(\"Percentage of Patients Haven't Heart Disease: {:.2f}%\".format((countNoDisease / (len(hearts.target))*100)))\n",
    "print(\"Percentage of Patients Have Heart Disease: {:.2f}%\".format((countHaveDisease / (len(hearts.target))*100)))"
   ]
  },
  {
   "cell_type": "markdown",
   "id": "imported-minneapolis",
   "metadata": {},
   "source": [
    "<br>\n",
    "So, data are almost balanced!\n",
    "\n",
    "If we have imbalanced data it can make problems on our calculations and accuracy but we can balancing by exploiting one of the following techniques:\n",
    "-    oversampling\n",
    "-    undersampling\n",
    "-    class weight\n",
    "-    threshold"
   ]
  },
  {
   "cell_type": "markdown",
   "id": "pressing-commodity",
   "metadata": {},
   "source": [
    "# 2."
   ]
  },
  {
   "cell_type": "markdown",
   "id": "clinical-arkansas",
   "metadata": {},
   "source": [
    "Spliting Data:\n",
    "> 80% train<br>\n",
    "> 20% test"
   ]
  },
  {
   "cell_type": "code",
   "execution_count": 12,
   "id": "wireless-festival",
   "metadata": {
    "execution": {
     "iopub.execute_input": "2021-04-09T19:22:47.967174Z",
     "iopub.status.busy": "2021-04-09T19:22:47.966962Z",
     "iopub.status.idle": "2021-04-09T19:22:47.985133Z",
     "shell.execute_reply": "2021-04-09T19:22:47.984539Z",
     "shell.execute_reply.started": "2021-04-09T19:22:47.967151Z"
    },
    "tags": []
   },
   "outputs": [],
   "source": [
    "from sklearn.model_selection import train_test_split\n",
    "\n",
    "y = clean_data.target.values\n",
    "x_train, x_test, y_train, y_test = train_test_split(clean_data,y,test_size = 0.2,random_state=42)\n"
   ]
  },
  {
   "cell_type": "markdown",
   "id": "maritime-england",
   "metadata": {
    "execution": {
     "iopub.execute_input": "2021-04-06T16:47:40.467871Z",
     "iopub.status.busy": "2021-04-06T16:47:40.467424Z",
     "iopub.status.idle": "2021-04-06T16:47:40.471061Z",
     "shell.execute_reply": "2021-04-06T16:47:40.470387Z",
     "shell.execute_reply.started": "2021-04-06T16:47:40.467830Z"
    }
   },
   "source": [
    "# 3."
   ]
  },
  {
   "cell_type": "markdown",
   "id": "institutional-record",
   "metadata": {},
   "source": [
    "Bayes' theorem is stated mathematically as the following equation:\n",
    "\n",
    "$$P(A\\mid B)=\\frac{P(B\\mid A)P(A)}{P(B)}$$\n",
    "\n",
    "where  ${\\displaystyle A}$ and ${\\displaystyle B}$ are events and ${\\displaystyle P(B)\\neq 0}$.\n",
    "- $P(A\\mid B)$ is a conditional probability: the probability of event ${\\displaystyle A}$ occurring given that ${\\displaystyle B}$ is true. It is also called the posterior probability of ${\\displaystyle A}$ given ${\\displaystyle B}$.\n",
    "-  ${\\displaystyle P(B\\mid A)}$ is also a conditional probability: the probability of event ${\\displaystyle B}$ occurring given that ${\\displaystyle A}$ is true. It can also be interpreted as the likelihood of ${\\displaystyle A}$ given a fixed ${\\displaystyle B}$ because ${\\displaystyle P(B\\mid A)=L(A\\mid B)}$.\n",
    "- ${\\displaystyle P(A)}$ and ${\\displaystyle P(B)}$ are the probabilities of observing ${\\displaystyle A}$ and ${\\displaystyle B}$ respectively without any given conditions; they are known as the marginal probability or prior probability.\n",
    "- ${\\displaystyle A}$ and ${\\displaystyle B}$ must be different events."
   ]
  },
  {
   "cell_type": "markdown",
   "id": "fossil-classification",
   "metadata": {},
   "source": [
    "__Bernoulli Naive Bayes__ : It assumes that all our features are binary such that they take only two values. like \"target\" which means 0 = “have not disease” and 1 = \"have disease\".\n",
    "\n",
    "__Multinomial Naive Bayes__ : Its is used when we have discrete data (e.g. movie ratings ranging 1 and 5 as each rating will have certain frequency to represent).\n",
    "\n",
    "__Gaussian Naive Bayes__ : Because of the assumption of the normal distribution, Gaussian Naive Bayes is used in cases when all our features are continuous."
   ]
  },
  {
   "cell_type": "markdown",
   "id": "alternative-israel",
   "metadata": {},
   "source": [
    "# 4.\n",
    "\n",
    "__Gaussian Naive Bayes Implementation__"
   ]
  },
  {
   "cell_type": "markdown",
   "id": "informal-channels",
   "metadata": {},
   "source": [
    "Gaussian Naive Bayes is an algorithm having a Probabilistic Approach. It involves prior and posterior probability calculation of the classes in the dataset and the test data given a class respectively.\n",
    "\n",
    "$$Prior Probability(c) = \\frac{\\text{No.  of instances of class } c}{\\text{Total No. of instances in the dataset}}$$\n",
    "\n",
    "The conditional probabilities of the test data features given a class the conditional probabilities of the test data features given a class is given by the probability obtained from Gaussian (Normal) Distribution.\n",
    "\n",
    "$$P(x_i\\mid c)=\\frac{1}{\\sqrt{2\\pi\\sigma^2}}e(-\\frac{(x_i-mean_{x_i,c})^2}{2\\sigma^2})$$\n",
    "\n",
    "Finally, the conditional probability of each class given an instance (test instance) is calculated using Bayes Theorem.\n",
    "\n",
    "$$P(c_i\\mid x)=\\frac{P(x\\mid c_i)P(c_i)}{\\sum_{j} P(x\\mid c_j)P(c_j)}$$\n",
    "\n"
   ]
  },
  {
   "cell_type": "markdown",
   "id": "brown-warehouse",
   "metadata": {},
   "source": [
    "# 5."
   ]
  },
  {
   "cell_type": "code",
   "execution_count": 13,
   "id": "ahead-scholarship",
   "metadata": {
    "execution": {
     "iopub.execute_input": "2021-04-09T19:22:47.986218Z",
     "iopub.status.busy": "2021-04-09T19:22:47.985966Z",
     "iopub.status.idle": "2021-04-09T19:22:48.002224Z",
     "shell.execute_reply": "2021-04-09T19:22:48.001703Z",
     "shell.execute_reply.started": "2021-04-09T19:22:47.986193Z"
    },
    "tags": []
   },
   "outputs": [],
   "source": [
    "import math\n",
    "\n",
    "ATTR_NAMES = [\"thalach\", \"trestbps\", \"chol\"]\n",
    "FIELD_NAMES = [\"Num\"] + ATTR_NAMES + [\"target\"]\n",
    "\n",
    "class GNB_classifier(object):\n",
    "\n",
    "    def __init__(self, training_set, test_set):\n",
    "        self.__training_set = training_set\n",
    "        self.__test_set = test_set\n",
    "        self.__n = len(self.__training_set)\n",
    "        self.__prior()\n",
    "        self.__calculate_mean_variance()\n",
    "\n",
    "    def __prior(self):\n",
    "        counts = self.__training_set[\"target\"].value_counts().to_dict()\n",
    "        self.__priors = {(k, v / self.__n) for k, v in counts.items()}\n",
    "\n",
    "    def __calculate_mean_variance(self):\n",
    "        self.__mean_variance = {}\n",
    "        for c in self.__training_set[\"target\"].unique():\n",
    "            filtered_set = self.__training_set[\n",
    "                (self.__training_set['target'] == c)]\n",
    "            m_v = {}\n",
    "            for attr_name in ATTR_NAMES:\n",
    "                m_v[attr_name] = []\n",
    "                m_v[attr_name].append(filtered_set[attr_name].mean())\n",
    "                m_v[attr_name].append(\n",
    "                    math.pow(filtered_set[attr_name].std(), 2))\n",
    "            self.__mean_variance[c] = m_v\n",
    "\n",
    "    @staticmethod\n",
    "    def __calculate_probability(x, mean, variance):\n",
    "        exponent = math.exp(-(math.pow(x - mean, 2) / (2 * variance)))\n",
    "        return (1 / (math.sqrt(2 * math.pi * variance))) * exponent\n",
    "\n",
    "    def predict(self):\n",
    "        predictions = {}\n",
    "        for _, row in self.__test_set.iterrows():\n",
    "            results = {}\n",
    "            for k, v in self.__priors:\n",
    "                p = 0\n",
    "                for attr_name in ATTR_NAMES:\n",
    "                    prob = self.__calculate_probability(row[attr_name], self.__mean_variance[\n",
    "                        k][attr_name][0], self.__mean_variance[k][attr_name][1])\n",
    "                    if prob > 0:\n",
    "                        p += math.log(prob)\n",
    "                results[k] = math.log(v) + p\n",
    "            predictions[int(row._name)] = max([key for key in results.keys() if results[\n",
    "                key] == results[max(results, key=results.get)]])\n",
    "        return predictions\n",
    "\n",
    "    def print_info(self):\n",
    "        print(\"Priors for each class: \", self.__priors)\n",
    "        print(\"Means and variance for each class: \", self.__mean_variance)\n",
    "\n",
    "        \n",
    "def calculate_accuracy(test_set, predictions):\n",
    "    correct = 0\n",
    "    for _, t in test_set.iterrows():\n",
    "        if t[\"target\"] == predictions[t._name]:\n",
    "            correct += 1\n",
    "    return (correct / len(test_set)) * 100.0"
   ]
  },
  {
   "cell_type": "code",
   "execution_count": 14,
   "id": "corrected-hungarian",
   "metadata": {
    "execution": {
     "iopub.execute_input": "2021-04-09T19:22:48.003287Z",
     "iopub.status.busy": "2021-04-09T19:22:48.002930Z",
     "iopub.status.idle": "2021-04-09T19:22:48.016838Z",
     "shell.execute_reply": "2021-04-09T19:22:48.016062Z",
     "shell.execute_reply.started": "2021-04-09T19:22:48.003259Z"
    },
    "tags": []
   },
   "outputs": [
    {
     "name": "stdout",
     "output_type": "stream",
     "text": [
      "Priors for each class:  {(1, 0.537117903930131), (0, 0.462882096069869)}\n",
      "Means and variance for each class:  {1: {'thalach': [158.609756097561, 386.3054778088764], 'trestbps': [129.08130081300814, 251.4851392776223], 'chol': [244.7560975609756, 2221.3170731707323]}, 0: {'thalach': [139.78301886792454, 479.37151841868825], 'trestbps': [134.06603773584905, 324.5384546271339], 'chol': [247.10377358490567, 2161.6557951482478]}}\n"
     ]
    }
   ],
   "source": [
    "classifier = GNB_classifier(x_train, x_test)\n",
    "classifier.print_info()\n"
   ]
  },
  {
   "cell_type": "code",
   "execution_count": 15,
   "id": "experienced-anthony",
   "metadata": {
    "execution": {
     "iopub.execute_input": "2021-04-09T19:22:48.017806Z",
     "iopub.status.busy": "2021-04-09T19:22:48.017613Z",
     "iopub.status.idle": "2021-04-09T19:22:48.034381Z",
     "shell.execute_reply": "2021-04-09T19:22:48.033842Z",
     "shell.execute_reply.started": "2021-04-09T19:22:48.017788Z"
    },
    "tags": []
   },
   "outputs": [
    {
     "name": "stdout",
     "output_type": "stream",
     "text": [
      "Predictions in the form (number, predicted class):  {9: 1, 269: 0, 148: 1, 224: 0, 241: 0, 205: 1, 101: 0, 75: 1, 113: 1, 34: 0, 143: 1, 216: 0, 147: 1, 282: 0, 5: 1, 234: 0, 249: 1, 268: 0, 46: 1, 285: 0, 250: 0, 58: 1, 159: 1, 160: 1, 117: 1, 112: 0, 156: 1, 150: 0, 115: 1, 43: 1, 116: 1, 151: 0, 180: 0, 222: 1, 47: 1, 84: 0, 65: 1, 122: 1, 77: 1, 172: 1, 152: 0, 31: 1, 22: 1, 24: 1, 191: 0, 267: 0, 87: 1, 183: 1, 284: 0, 97: 1, 214: 1, 179: 0, 185: 1, 171: 1, 6: 1, 79: 1, 201: 1, 62: 1}\n"
     ]
    }
   ],
   "source": [
    "predictions = classifier.predict()\n",
    "print(\"Predictions in the form (number, predicted class): \", predictions)"
   ]
  },
  {
   "cell_type": "code",
   "execution_count": 16,
   "id": "premium-intersection",
   "metadata": {
    "execution": {
     "iopub.execute_input": "2021-04-09T19:22:48.035256Z",
     "iopub.status.busy": "2021-04-09T19:22:48.035052Z",
     "iopub.status.idle": "2021-04-09T19:22:48.051908Z",
     "shell.execute_reply": "2021-04-09T19:22:48.051210Z",
     "shell.execute_reply.started": "2021-04-09T19:22:48.035239Z"
    },
    "tags": []
   },
   "outputs": [
    {
     "name": "stdout",
     "output_type": "stream",
     "text": [
      "Accuracy :  72.41379310344827\n"
     ]
    }
   ],
   "source": [
    "accuracy = calculate_accuracy(x_test, predictions)\n",
    "print(\"Accuracy : \", accuracy)"
   ]
  },
  {
   "cell_type": "markdown",
   "id": "perfect-bowling",
   "metadata": {},
   "source": [
    "# 5."
   ]
  },
  {
   "cell_type": "code",
   "execution_count": 17,
   "id": "minor-recorder",
   "metadata": {
    "execution": {
     "iopub.execute_input": "2021-04-09T19:22:48.052854Z",
     "iopub.status.busy": "2021-04-09T19:22:48.052672Z",
     "iopub.status.idle": "2021-04-09T19:22:48.068630Z",
     "shell.execute_reply": "2021-04-09T19:22:48.068103Z",
     "shell.execute_reply.started": "2021-04-09T19:22:48.052836Z"
    },
    "tags": []
   },
   "outputs": [
    {
     "name": "stdout",
     "output_type": "stream",
     "text": [
      "Precision:\n"
     ]
    },
    {
     "data": {
      "text/plain": [
       "75.67567567567568"
      ]
     },
     "execution_count": 17,
     "metadata": {},
     "output_type": "execute_result"
    }
   ],
   "source": [
    "from sklearn.metrics import precision_score, recall_score, f1_score\n",
    "\n",
    "y_pred = [ value for key,value in predictions.items()]\n",
    "\n",
    "print(\"Precision:\")\n",
    "my_p_score = precision_score(y_test, y_pred)  \n",
    "my_p_score * 100"
   ]
  },
  {
   "cell_type": "code",
   "execution_count": 18,
   "id": "noted-blackberry",
   "metadata": {
    "execution": {
     "iopub.execute_input": "2021-04-09T19:22:48.069648Z",
     "iopub.status.busy": "2021-04-09T19:22:48.069426Z",
     "iopub.status.idle": "2021-04-09T19:22:48.079021Z",
     "shell.execute_reply": "2021-04-09T19:22:48.078227Z",
     "shell.execute_reply.started": "2021-04-09T19:22:48.069619Z"
    },
    "tags": []
   },
   "outputs": [
    {
     "name": "stdout",
     "output_type": "stream",
     "text": [
      "Recall:\n"
     ]
    },
    {
     "data": {
      "text/plain": [
       "80.0"
      ]
     },
     "execution_count": 18,
     "metadata": {},
     "output_type": "execute_result"
    }
   ],
   "source": [
    "print(\"Recall:\")\n",
    "my_recall_score = recall_score(y_test, y_pred)\n",
    "my_recall_score * 100"
   ]
  },
  {
   "cell_type": "code",
   "execution_count": 19,
   "id": "least-fairy",
   "metadata": {
    "execution": {
     "iopub.execute_input": "2021-04-09T19:22:48.080519Z",
     "iopub.status.busy": "2021-04-09T19:22:48.080171Z",
     "iopub.status.idle": "2021-04-09T19:22:48.088562Z",
     "shell.execute_reply": "2021-04-09T19:22:48.088080Z",
     "shell.execute_reply.started": "2021-04-09T19:22:48.080485Z"
    },
    "tags": []
   },
   "outputs": [
    {
     "name": "stdout",
     "output_type": "stream",
     "text": [
      "F1 Score:\n"
     ]
    },
    {
     "data": {
      "text/plain": [
       "77.77777777777779"
      ]
     },
     "execution_count": 19,
     "metadata": {},
     "output_type": "execute_result"
    }
   ],
   "source": [
    "print(\"F1 Score:\")\n",
    "my_f1_score = f1_score(y_test, y_pred)\n",
    "my_f1_score * 100"
   ]
  },
  {
   "cell_type": "markdown",
   "id": "incoming-sacramento",
   "metadata": {},
   "source": [
    "# 6."
   ]
  },
  {
   "cell_type": "code",
   "execution_count": 20,
   "id": "passing-hindu",
   "metadata": {
    "execution": {
     "iopub.execute_input": "2021-04-09T19:22:48.089585Z",
     "iopub.status.busy": "2021-04-09T19:22:48.089390Z",
     "iopub.status.idle": "2021-04-09T19:22:48.103221Z",
     "shell.execute_reply": "2021-04-09T19:22:48.102713Z",
     "shell.execute_reply.started": "2021-04-09T19:22:48.089567Z"
    },
    "tags": []
   },
   "outputs": [],
   "source": [
    "from sklearn.naive_bayes import GaussianNB\n",
    "from sklearn.metrics import accuracy_score\n",
    "\n",
    "x = clean_data[[\"thalach\", \"trestbps\", \"chol\"]]\n",
    "y = clean_data.target.values\n",
    "x_train, x_test, y_train, y_test = train_test_split(x, y, test_size = 0.2,random_state=0)\n",
    "\n",
    "model = GaussianNB()\n",
    "model.fit(x_train, y_train)\n",
    "sk_y_pred = model.predict(x_test)"
   ]
  },
  {
   "cell_type": "code",
   "execution_count": 21,
   "id": "presidential-newfoundland",
   "metadata": {
    "execution": {
     "iopub.execute_input": "2021-04-09T19:22:48.104310Z",
     "iopub.status.busy": "2021-04-09T19:22:48.104010Z",
     "iopub.status.idle": "2021-04-09T19:22:48.111896Z",
     "shell.execute_reply": "2021-04-09T19:22:48.111317Z",
     "shell.execute_reply.started": "2021-04-09T19:22:48.104282Z"
    },
    "tags": []
   },
   "outputs": [
    {
     "name": "stdout",
     "output_type": "stream",
     "text": [
      "Accuracy :  72.41379310344827\n"
     ]
    }
   ],
   "source": [
    "accuracy = accuracy_score(y_test, sk_y_pred)\n",
    "print(\"Accuracy : \", accuracy * 100)"
   ]
  },
  {
   "cell_type": "markdown",
   "id": "consolidated-truck",
   "metadata": {},
   "source": [
    "# 7."
   ]
  },
  {
   "cell_type": "code",
   "execution_count": 22,
   "id": "neural-triumph",
   "metadata": {
    "execution": {
     "iopub.execute_input": "2021-04-09T19:22:48.113019Z",
     "iopub.status.busy": "2021-04-09T19:22:48.112750Z",
     "iopub.status.idle": "2021-04-09T19:22:48.122711Z",
     "shell.execute_reply": "2021-04-09T19:22:48.122215Z",
     "shell.execute_reply.started": "2021-04-09T19:22:48.112994Z"
    },
    "tags": []
   },
   "outputs": [
    {
     "name": "stdout",
     "output_type": "stream",
     "text": [
      "Precision:\n",
      "67.56756756756756\n",
      "\n",
      "My Precision:\n",
      "75.67567567567568\n"
     ]
    }
   ],
   "source": [
    "print(\"Precision:\")\n",
    "p_score = precision_score(y_test, sk_y_pred)  \n",
    "print(p_score * 100)\n",
    "\n",
    "print(\"\\nMy Precision:\")\n",
    "print(my_p_score * 100)"
   ]
  },
  {
   "cell_type": "code",
   "execution_count": 23,
   "id": "satellite-willow",
   "metadata": {
    "execution": {
     "iopub.execute_input": "2021-04-09T19:22:48.123596Z",
     "iopub.status.busy": "2021-04-09T19:22:48.123422Z",
     "iopub.status.idle": "2021-04-09T19:22:48.132746Z",
     "shell.execute_reply": "2021-04-09T19:22:48.132269Z",
     "shell.execute_reply.started": "2021-04-09T19:22:48.123580Z"
    },
    "tags": []
   },
   "outputs": [
    {
     "name": "stdout",
     "output_type": "stream",
     "text": [
      "Recall:\n",
      "86.20689655172413\n",
      "\n",
      "My Recall:\n",
      "80.0\n"
     ]
    }
   ],
   "source": [
    "print(\"Recall:\")\n",
    "recall_score = recall_score(y_test, sk_y_pred)\n",
    "print(recall_score * 100)\n",
    "\n",
    "print(\"\\nMy Recall:\")\n",
    "print(my_recall_score * 100)\n"
   ]
  },
  {
   "cell_type": "code",
   "execution_count": 24,
   "id": "personalized-austria",
   "metadata": {
    "execution": {
     "iopub.execute_input": "2021-04-09T19:22:48.133711Z",
     "iopub.status.busy": "2021-04-09T19:22:48.133540Z",
     "iopub.status.idle": "2021-04-09T19:22:48.144012Z",
     "shell.execute_reply": "2021-04-09T19:22:48.143256Z",
     "shell.execute_reply.started": "2021-04-09T19:22:48.133695Z"
    },
    "tags": []
   },
   "outputs": [
    {
     "name": "stdout",
     "output_type": "stream",
     "text": [
      "F1 Score:\n",
      "75.75757575757575\n",
      "\n",
      "My F1 Score:\n",
      "77.77777777777779\n"
     ]
    }
   ],
   "source": [
    "print(\"F1 Score:\")\n",
    "f1_score = f1_score(y_test, sk_y_pred)\n",
    "print(f1_score * 100)\n",
    "\n",
    "print(\"\\nMy F1 Score:\")\n",
    "print(my_f1_score * 100)"
   ]
  },
  {
   "cell_type": "markdown",
   "id": "standing-river",
   "metadata": {},
   "source": [
    "# 8."
   ]
  },
  {
   "cell_type": "code",
   "execution_count": 25,
   "id": "determined-tribute",
   "metadata": {
    "execution": {
     "iopub.execute_input": "2021-04-09T19:22:48.147091Z",
     "iopub.status.busy": "2021-04-09T19:22:48.146868Z",
     "iopub.status.idle": "2021-04-09T19:22:48.181606Z",
     "shell.execute_reply": "2021-04-09T19:22:48.180883Z",
     "shell.execute_reply.started": "2021-04-09T19:22:48.147072Z"
    },
    "tags": []
   },
   "outputs": [
    {
     "name": "stdout",
     "output_type": "stream",
     "text": [
      "Accuracy :  72.41379310344827\n",
      "              precision    recall  f1-score   support\n",
      "\n",
      "           0       0.88      0.52      0.65        29\n",
      "           1       0.66      0.93      0.77        29\n",
      "\n",
      "    accuracy                           0.72        58\n",
      "   macro avg       0.77      0.72      0.71        58\n",
      "weighted avg       0.77      0.72      0.71        58\n",
      "\n"
     ]
    }
   ],
   "source": [
    "from sklearn.svm import SVC\n",
    "from sklearn.metrics import classification_report\n",
    "\n",
    "svc =  SVC()\n",
    "svc.fit(x_train, y_train)\n",
    "svc_pred = svc.predict(x_test)\n",
    "svc_acc_score = accuracy_score(y_test, svc_pred)\n",
    "\n",
    "accuracy = accuracy_score(y_test, svc_pred)\n",
    "print(\"Accuracy : \", accuracy * 100)\n",
    "\n",
    "print(classification_report(y_test,svc_pred))"
   ]
  },
  {
   "cell_type": "markdown",
   "id": "changed-devon",
   "metadata": {
    "execution": {
     "iopub.execute_input": "2021-04-09T18:33:11.092579Z",
     "iopub.status.busy": "2021-04-09T18:33:11.092375Z",
     "iopub.status.idle": "2021-04-09T18:33:11.095592Z",
     "shell.execute_reply": "2021-04-09T18:33:11.094889Z",
     "shell.execute_reply.started": "2021-04-09T18:33:11.092562Z"
    }
   },
   "source": [
    "# 9."
   ]
  },
  {
   "cell_type": "code",
   "execution_count": 26,
   "id": "herbal-emergency",
   "metadata": {
    "execution": {
     "iopub.execute_input": "2021-04-09T19:22:48.182976Z",
     "iopub.status.busy": "2021-04-09T19:22:48.182748Z",
     "iopub.status.idle": "2021-04-09T19:22:48.373847Z",
     "shell.execute_reply": "2021-04-09T19:22:48.373343Z",
     "shell.execute_reply.started": "2021-04-09T19:22:48.182957Z"
    },
    "tags": []
   },
   "outputs": [
    {
     "name": "stdout",
     "output_type": "stream",
     "text": [
      "Accuracy :  77.58620689655173\n",
      "              precision    recall  f1-score   support\n",
      "\n",
      "           0       0.86      0.66      0.75        29\n",
      "           1       0.72      0.90      0.80        29\n",
      "\n",
      "    accuracy                           0.78        58\n",
      "   macro avg       0.79      0.78      0.77        58\n",
      "weighted avg       0.79      0.78      0.77        58\n",
      "\n"
     ]
    }
   ],
   "source": [
    "svc =  SVC(kernel=\"linear\")\n",
    "svc.fit(x_train, y_train)\n",
    "svc_pred = svc.predict(x_test)\n",
    "svc_acc_score = accuracy_score(y_test, svc_pred)\n",
    "\n",
    "accuracy = accuracy_score(y_test, svc_pred)\n",
    "print(\"Accuracy : \", accuracy * 100)\n",
    "\n",
    "print(classification_report(y_test,svc_pred))"
   ]
  },
  {
   "cell_type": "code",
   "execution_count": 27,
   "id": "convertible-asian",
   "metadata": {
    "execution": {
     "iopub.execute_input": "2021-04-09T19:22:48.374887Z",
     "iopub.status.busy": "2021-04-09T19:22:48.374625Z",
     "iopub.status.idle": "2021-04-09T19:22:48.395507Z",
     "shell.execute_reply": "2021-04-09T19:22:48.395022Z",
     "shell.execute_reply.started": "2021-04-09T19:22:48.374868Z"
    },
    "tags": []
   },
   "outputs": [
    {
     "name": "stdout",
     "output_type": "stream",
     "text": [
      "Accuracy :  70.6896551724138\n",
      "              precision    recall  f1-score   support\n",
      "\n",
      "           0       0.77      0.59      0.67        29\n",
      "           1       0.67      0.83      0.74        29\n",
      "\n",
      "    accuracy                           0.71        58\n",
      "   macro avg       0.72      0.71      0.70        58\n",
      "weighted avg       0.72      0.71      0.70        58\n",
      "\n"
     ]
    }
   ],
   "source": [
    "svc =  SVC(kernel=\"poly\")\n",
    "svc.fit(x_train, y_train)\n",
    "svc_pred = svc.predict(x_test)\n",
    "svc_acc_score = accuracy_score(y_test, svc_pred)\n",
    "\n",
    "accuracy = accuracy_score(y_test, svc_pred)\n",
    "print(\"Accuracy : \", accuracy * 100)\n",
    "\n",
    "print(classification_report(y_test,svc_pred))"
   ]
  },
  {
   "cell_type": "markdown",
   "id": "dietary-dining",
   "metadata": {
    "tags": []
   },
   "source": [
    "The SVM algorithm is implemented in practice using a kernel. A kernel transforms an input data space into the required form. SVM uses a technique called the kernel trick. Here, the kernel takes a low-dimensional input space and transforms it into a higher dimensional space. In other words, you can say that it converts nonseparable problem to separable problems by adding more dimension to it. It is most useful in non-linear separation problem. Kernel trick helps you to build a more accurate classifier.\n",
    "\n",
    "__Radial Basis Function Kernel__ The Radial basis function kernel is a popular kernel function commonly used in support vector machine classification. RBF can map an input space in infinite dimensional space.\n",
    "\n",
    "__Linear Kernel__ A linear kernel can be used as normal dot product any two given observations. The product between two vectors is the sum of the multiplication of each pair of input values.\n",
    "\n",
    "__Polynomial Kernel__ A polynomial kernel is a more generalized form of the linear kernel. The polynomial kernel can distinguish curved or nonlinear input space."
   ]
  },
  {
   "cell_type": "markdown",
   "id": "mental-nudist",
   "metadata": {},
   "source": [
    "# 10."
   ]
  },
  {
   "cell_type": "code",
   "execution_count": 28,
   "id": "spread-peoples",
   "metadata": {
    "execution": {
     "iopub.execute_input": "2021-04-09T19:22:48.396377Z",
     "iopub.status.busy": "2021-04-09T19:22:48.396196Z",
     "iopub.status.idle": "2021-04-09T19:22:48.693040Z",
     "shell.execute_reply": "2021-04-09T19:22:48.692346Z",
     "shell.execute_reply.started": "2021-04-09T19:22:48.396360Z"
    }
   },
   "outputs": [
    {
     "name": "stdout",
     "output_type": "stream",
     "text": [
      "Accuracy :  91.37931034482759\n",
      "              precision    recall  f1-score   support\n",
      "\n",
      "           0       0.93      0.90      0.91        29\n",
      "           1       0.90      0.93      0.92        29\n",
      "\n",
      "    accuracy                           0.91        58\n",
      "   macro avg       0.91      0.91      0.91        58\n",
      "weighted avg       0.91      0.91      0.91        58\n",
      "\n"
     ]
    }
   ],
   "source": [
    "y = clean_data.target.values\n",
    "x_train, x_test, y_train, y_test = train_test_split(clean_data.drop('target',axis=1),y,test_size = 0.2,random_state=0)\n",
    "\n",
    "svc =  SVC(kernel=\"linear\")\n",
    "svc.fit(x_train, y_train)\n",
    "svc_pred = svc.predict(x_test)\n",
    "svc_acc_score = accuracy_score(y_test, svc_pred)\n",
    "\n",
    "accuracy = accuracy_score(y_test, svc_pred)\n",
    "print(\"Accuracy : \", accuracy * 100)\n",
    "\n",
    "print(classification_report(y_test,svc_pred))"
   ]
  },
  {
   "cell_type": "markdown",
   "id": "excess-decimal",
   "metadata": {},
   "source": [
    "# 11."
   ]
  },
  {
   "cell_type": "code",
   "execution_count": 29,
   "id": "accepted-adult",
   "metadata": {
    "execution": {
     "iopub.execute_input": "2021-04-09T19:22:48.694380Z",
     "iopub.status.busy": "2021-04-09T19:22:48.694038Z",
     "iopub.status.idle": "2021-04-09T19:22:49.477391Z",
     "shell.execute_reply": "2021-04-09T19:22:49.476611Z",
     "shell.execute_reply.started": "2021-04-09T19:22:48.694350Z"
    },
    "tags": []
   },
   "outputs": [
    {
     "name": "stdout",
     "output_type": "stream",
     "text": [
      "[0.86956522 0.82608696 0.7826087  0.82608696 0.82222222]\n",
      "Accuracy:  83.0\n"
     ]
    }
   ],
   "source": [
    "from sklearn.model_selection import cross_val_score\n",
    "\n",
    "svc =  SVC(kernel=\"linear\")\n",
    "\n",
    "cv5 = cross_val_score(svc, x_train, y_train, cv=5)\n",
    "\n",
    "print(cv5)\n",
    "print(\"Accuracy: \", round(cv5.mean(), 2) * 100)"
   ]
  },
  {
   "cell_type": "markdown",
   "id": "electric-confirmation",
   "metadata": {},
   "source": [
    "# 12."
   ]
  },
  {
   "cell_type": "code",
   "execution_count": 30,
   "id": "mathematical-caribbean",
   "metadata": {
    "execution": {
     "iopub.execute_input": "2021-04-09T19:22:49.478713Z",
     "iopub.status.busy": "2021-04-09T19:22:49.478442Z",
     "iopub.status.idle": "2021-04-09T19:22:49.514662Z",
     "shell.execute_reply": "2021-04-09T19:22:49.514010Z",
     "shell.execute_reply.started": "2021-04-09T19:22:49.478688Z"
    },
    "tags": []
   },
   "outputs": [
    {
     "name": "stdout",
     "output_type": "stream",
     "text": [
      "Accuracy: 77.58620689655173\n",
      "\n",
      "\n",
      "              precision    recall  f1-score   support\n",
      "\n",
      "           0       0.83      0.69      0.75        29\n",
      "           1       0.74      0.86      0.79        29\n",
      "\n",
      "    accuracy                           0.78        58\n",
      "   macro avg       0.78      0.78      0.77        58\n",
      "weighted avg       0.78      0.78      0.77        58\n",
      "\n"
     ]
    }
   ],
   "source": [
    "from sklearn.neighbors import KNeighborsClassifier\n",
    "\n",
    "knn = KNeighborsClassifier(n_neighbors=13)\n",
    "knn.fit(x_train, y_train)\n",
    "knn_pred = knn.predict(x_test)\n",
    "knn_acc_score = accuracy_score(y_test, knn_pred)\n",
    "print(\"Accuracy:\",knn_acc_score*100)\n",
    "print(\"\\n\")\n",
    "print(classification_report(y_test,knn_pred))\n"
   ]
  },
  {
   "cell_type": "markdown",
   "id": "featured-topic",
   "metadata": {},
   "source": [
    "# 13."
   ]
  },
  {
   "cell_type": "markdown",
   "id": "equipped-reserve",
   "metadata": {},
   "source": [
    "In KNN, finding the value of k is not easy. A small value of k means that noise will have a higher influence on the result and a large value make it computationally expensive. Data scientists usually choose as an odd number if the number of classes is 2 and another simple approach to select k is set k=sqrt(n)."
   ]
  },
  {
   "cell_type": "code",
   "execution_count": 31,
   "id": "preliminary-vocabulary",
   "metadata": {
    "execution": {
     "iopub.execute_input": "2021-04-09T19:22:49.516110Z",
     "iopub.status.busy": "2021-04-09T19:22:49.515778Z",
     "iopub.status.idle": "2021-04-09T19:22:49.776479Z",
     "shell.execute_reply": "2021-04-09T19:22:49.775774Z",
     "shell.execute_reply.started": "2021-04-09T19:22:49.516078Z"
    },
    "tags": []
   },
   "outputs": [
    {
     "data": {
      "image/png": "[encoded data removed]",
      "text/plain": [
       "<Figure size 432x288 with 1 Axes>"
      ]
     },
     "metadata": {
      "needs_background": "light"
     },
     "output_type": "display_data"
    },
    {
     "name": "stdout",
     "output_type": "stream",
     "text": [
      "Maximum KNN Score is 77.59%\n"
     ]
    }
   ],
   "source": [
    "scoreList = []\n",
    "for i in range(1,20):\n",
    "    knn2 = KNeighborsClassifier(n_neighbors = i)\n",
    "    knn2.fit(x_train, y_train)\n",
    "    scoreList.append(knn2.score(x_test, y_test))\n",
    "    \n",
    "plt.plot(range(1,20), scoreList)\n",
    "plt.xticks(np.arange(1,20,1))\n",
    "plt.xlabel(\"K value\")\n",
    "plt.ylabel(\"Score\")\n",
    "plt.show()\n",
    "\n",
    "acc = max(scoreList)*100\n",
    "\n",
    "print(\"Maximum KNN Score is {:.2f}%\".format(acc))"
   ]
  },
  {
   "cell_type": "markdown",
   "id": "potential-banking",
   "metadata": {},
   "source": [
    "# 14."
   ]
  },
  {
   "cell_type": "code",
   "execution_count": 32,
   "id": "institutional-creation",
   "metadata": {
    "execution": {
     "iopub.execute_input": "2021-04-09T19:22:49.777699Z",
     "iopub.status.busy": "2021-04-09T19:22:49.777343Z",
     "iopub.status.idle": "2021-04-09T19:22:49.794434Z",
     "shell.execute_reply": "2021-04-09T19:22:49.793688Z",
     "shell.execute_reply.started": "2021-04-09T19:22:49.777680Z"
    },
    "tags": []
   },
   "outputs": [
    {
     "name": "stdout",
     "output_type": "stream",
     "text": [
      "Accuracy: 72.41379310344827\n",
      "\n",
      "\n",
      "              precision    recall  f1-score   support\n",
      "\n",
      "           0       0.78      0.62      0.69        29\n",
      "           1       0.69      0.83      0.75        29\n",
      "\n",
      "    accuracy                           0.72        58\n",
      "   macro avg       0.73      0.72      0.72        58\n",
      "weighted avg       0.73      0.72      0.72        58\n",
      "\n"
     ]
    }
   ],
   "source": [
    "x = clean_data[[\"thalach\", \"trestbps\", \"chol\"]]\n",
    "y = clean_data.target.values\n",
    "x_train, x_test, y_train, y_test = train_test_split(x, y, test_size = 0.2,random_state=0)\n",
    "\n",
    "\n",
    "knn = KNeighborsClassifier(n_neighbors=13)\n",
    "knn.fit(x_train, y_train)\n",
    "knn_pred = knn.predict(x_test)\n",
    "knn_acc_score = accuracy_score(y_test, knn_pred)\n",
    "print(\"Accuracy:\",knn_acc_score*100)\n",
    "print(\"\\n\")\n",
    "print(classification_report(y_test,knn_pred))\n"
   ]
  },
  {
   "cell_type": "markdown",
   "id": "backed-elephant",
   "metadata": {},
   "source": [
    "# 15."
   ]
  },
  {
   "cell_type": "markdown",
   "id": "loaded-athens",
   "metadata": {},
   "source": [
    "__Parametric Methods__\n",
    "\n",
    "A learning model that summarizes data with a set of parameters of fixed size (independent of the number of training examples) is called a parametric model. No matter how much data you throw at a parametric model, it won’t change its mind about how many parameters it needs.\n",
    "\n",
    "Some examples of parametric algorithms include:\n",
    "\n",
    "-    Logistic Regression\n",
    "-    Linear Discriminant Analysis\n",
    "-    Perceptron\n",
    "-    Naive Bayes\n",
    "-    Simple Neural Networks\n",
    "\n",
    "Benefits of Parametric Algorithms:\n",
    "\n",
    "-    Simpler: These methods are easier to understand and interpret results.\n",
    "-    Speed: Parametric models are very fast to learn from data.\n",
    "-    Less Data: They do not require as much training data and can work well even if the fit to the data is not perfect.\n",
    "\n",
    "Limitations of Parametric Algorithms:\n",
    "\n",
    "-    Constrained: By choosing a functional form these methods are highly constrained to the specified form.\n",
    "-    Limited Complexity: The methods are more suited to simpler problems.\n",
    "-    Poor Fit: In practice the methods are unlikely to match the underlying mapping function.\n",
    "    \n",
    "__Nonparametric methods__ \n",
    "\n",
    "Nonparametric methods are good when you have a lot of data and no prior knowledge, and when you don’t want to worry too much about choosing just the right features.\n",
    "\n",
    "An easy to understand nonparametric model is the k-nearest neighbors algorithm that makes predictions based on the k most similar training patterns for a new data instance. The method does not assume anything about the form of the mapping function other than patterns that are close are likely to have a similar output variable.\n",
    "\n",
    "Some more examples of popular nonparametric algorithms are:\n",
    "\n",
    "-    k-Nearest Neighbors\n",
    "-    Decision Trees like CART and C4.5\n",
    "-    Support Vector Machines\n",
    "\n",
    "Benefits of Nonparametric Algorithms:\n",
    "\n",
    "-    Flexibility: Capable of fitting a large number of functional forms.\n",
    "-    Power: No assumptions (or weak assumptions) about the underlying function.\n",
    "-    Performance: Can result in higher performance models for prediction.\n",
    "\n",
    "Limitations of Nonparametric Algorithms:\n",
    "\n",
    "-    More data: Require a lot more training data to estimate the mapping function.\n",
    "-    Slower: A lot slower to train as they often have far more parameters to train.\n",
    "-    Overfitting: More of a risk to overfit the training data and it is harder to explain why specific predictions are made.\n"
   ]
  },
  {
   "cell_type": "markdown",
   "id": "marine-scott",
   "metadata": {},
   "source": [
    "# 16."
   ]
  },
  {
   "cell_type": "markdown",
   "id": "tired-luther",
   "metadata": {},
   "source": [
    "MCC is a correlation coefficient between target and predictions. It generally varies between -1 and +1. -1 when there is perfect disagreement between actuals and prediction, 1 when there is a perfect agreement between actuals and predictions. 0 when the prediction may as well be random with respect to the actuals. As it involves values of all the four quardants of a confusion matrix, it is considered as a balanced measure.\n",
    "\n",
    "Let's consider a case where the number of cases for either positive or negative is too low and the classifier returns either of the TP or TN as 0, then averaging TPR and TNR will return a score without any direction.We cannot judge a model based on this score. MCC involves values of all the four quardants of a confusion matrix and being a balanced measure will return a value with a direction (+ve and -ve)\n",
    "\n",
    "There is a great explanation on MCC and accuracy measures here:\n",
    "\n",
    "https://lettier.github.io/posts/2016-08-05-matthews-correlation-coefficient.html\n"
   ]
  }
 ],
 "metadata": {
  "kernelspec": {
   "display_name": "Python 3",
   "language": "python",
   "name": "python3"
  },
  "language_info": {
   "codemirror_mode": {
    "name": "ipython",
    "version": 3
   },
   "file_extension": ".py",
   "mimetype": "text/x-python",
   "name": "python",
   "nbconvert_exporter": "python",
   "pygments_lexer": "ipython3",
   "version": "3.6.9"
  }
 },
 "nbformat": 4,
 "nbformat_minor": 5
}
