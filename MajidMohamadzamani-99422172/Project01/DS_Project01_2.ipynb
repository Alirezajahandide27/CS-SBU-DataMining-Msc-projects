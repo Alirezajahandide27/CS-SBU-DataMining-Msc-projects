{
  "nbformat": 4,
  "nbformat_minor": 0,
  "metadata": {
    "colab": {
      "name": "DS-Project01-2.ipynb",
      "provenance": [],
      "collapsed_sections": [],
      "authorship_tag": "ABX9TyOr14ZQpFnNks4AI7hvVkzu",
      "include_colab_link": true
    },
    "kernelspec": {
      "name": "python3",
      "display_name": "Python 3"
    },
    "language_info": {
      "name": "python"
    }
  },
  "cells": [
    {
      "cell_type": "markdown",
      "metadata": {
        "id": "view-in-github",
        "colab_type": "text"
      },
      "source": [
        "<a href=\"https://colab.research.google.com/github/majid-zamani/CS-SBU-DataMining-Msc-projects/blob/main/MajidMohamadzamani-99422172/Project01/DS_Project01_2.ipynb\" target=\"_parent\"><img src=\"https://colab.research.google.com/assets/colab-badge.svg\" alt=\"Open In Colab\"/></a>"
      ]
    },
    {
      "cell_type": "code",
      "metadata": {
        "id": "v2hf78_QSTG3"
      },
      "source": [
        "import numpy as np\n",
        "import pandas as pd\n",
        "import matplotlib.pyplot as plt \n",
        "import seaborn as sns \n",
        "from scipy import stats \n",
        "import urllib "
      ],
      "execution_count": 3,
      "outputs": []
    },
    {
      "cell_type": "code",
      "metadata": {
        "colab": {
          "base_uri": "https://localhost:8080/"
        },
        "id": "BOzg0z6lSqs3",
        "outputId": "df2cc055-a797-4427-e1f6-23da56efbc05"
      },
      "source": [
        "DataFile = pd.read_csv('./Files/results.csv')\n",
        "print(DataFile.head())"
      ],
      "execution_count": 4,
      "outputs": [
        {
          "output_type": "stream",
          "text": [
            "         date home_team away_team  ...     city   country neutral\n",
            "0  1872-11-30  Scotland   England  ...  Glasgow  Scotland   False\n",
            "1  1873-03-08   England  Scotland  ...   London   England   False\n",
            "2  1874-03-07  Scotland   England  ...  Glasgow  Scotland   False\n",
            "3  1875-03-06   England  Scotland  ...   London   England   False\n",
            "4  1876-03-04  Scotland   England  ...  Glasgow  Scotland   False\n",
            "\n",
            "[5 rows x 9 columns]\n"
          ],
          "name": "stdout"
        }
      ]
    },
    {
      "cell_type": "code",
      "metadata": {
        "colab": {
          "base_uri": "https://localhost:8080/"
        },
        "id": "ul0Eq1CxSqq6",
        "outputId": "6801ca62-c2e0-4b05-e375-29c6f5f31aef"
      },
      "source": [
        "DataFile.info()"
      ],
      "execution_count": 5,
      "outputs": [
        {
          "output_type": "stream",
          "text": [
            "<class 'pandas.core.frame.DataFrame'>\n",
            "RangeIndex: 42084 entries, 0 to 42083\n",
            "Data columns (total 9 columns):\n",
            " #   Column      Non-Null Count  Dtype \n",
            "---  ------      --------------  ----- \n",
            " 0   date        42084 non-null  object\n",
            " 1   home_team   42084 non-null  object\n",
            " 2   away_team   42084 non-null  object\n",
            " 3   home_score  42084 non-null  int64 \n",
            " 4   away_score  42084 non-null  int64 \n",
            " 5   tournament  42084 non-null  object\n",
            " 6   city        42084 non-null  object\n",
            " 7   country     42084 non-null  object\n",
            " 8   neutral     42084 non-null  bool  \n",
            "dtypes: bool(1), int64(2), object(6)\n",
            "memory usage: 2.6+ MB\n"
          ],
          "name": "stdout"
        }
      ]
    },
    {
      "cell_type": "code",
      "metadata": {
        "colab": {
          "base_uri": "https://localhost:8080/"
        },
        "id": "ME83MKb1SqpL",
        "outputId": "cb5b4bd0-e5a2-4d51-c40e-3713133459ab"
      },
      "source": [
        "print('Rows     :',DataFile.shape[0])\n",
        "print('Columns  :',DataFile.shape[1])\n",
        "print('\\nFeatures :\\n     :',DataFile.columns.tolist())\n",
        "print('\\nMissing values    :',DataFile.isnull().values.sum())\n",
        "print('\\nUnique values :  \\n',DataFile.nunique())"
      ],
      "execution_count": 6,
      "outputs": [
        {
          "output_type": "stream",
          "text": [
            "Rows     : 42084\n",
            "Columns  : 9\n",
            "\n",
            "Features :\n",
            "     : ['date', 'home_team', 'away_team', 'home_score', 'away_score', 'tournament', 'city', 'country', 'neutral']\n",
            "\n",
            "Missing values    : 0\n",
            "\n",
            "Unique values :  \n",
            " date          15262\n",
            "home_team       308\n",
            "away_team       305\n",
            "home_score       26\n",
            "away_score       22\n",
            "tournament      112\n",
            "city           2038\n",
            "country         266\n",
            "neutral           2\n",
            "dtype: int64\n"
          ],
          "name": "stdout"
        }
      ]
    },
    {
      "cell_type": "code",
      "metadata": {
        "colab": {
          "base_uri": "https://localhost:8080/",
          "height": 309
        },
        "id": "JZOCKqJeLQ3a",
        "outputId": "cff3ee3d-5470-40ae-a75f-9b8d9c0ccaa6"
      },
      "source": [
        "DataFile[\"Year\"]=pd.to_datetime(DataFile['date']).dt.year\n",
        "DataFile[\"Month\"]=pd.to_datetime(DataFile['date']).dt.month\n",
        "DataFile['total_score']=DataFile['home_score']+DataFile['away_score']\n",
        "con=[(DataFile['home_score']==DataFile['away_score']),\n",
        "     (DataFile['home_score']>DataFile['away_score']),\n",
        "     (DataFile['home_score']<DataFile['away_score'])]\n",
        "val=[0,1,2]\n",
        "val2=['no_win',DataFile['home_team'],DataFile['away_team']]\n",
        "DataFile['result']=np.select(con,val)\n",
        "DataFile['who_win']=np.select(con,val2)\n",
        "DataFile.head()"
      ],
      "execution_count": 8,
      "outputs": [
        {
          "output_type": "execute_result",
          "data": {
            "text/html": [
              "<div>\n",
              "<style scoped>\n",
              "    .dataframe tbody tr th:only-of-type {\n",
              "        vertical-align: middle;\n",
              "    }\n",
              "\n",
              "    .dataframe tbody tr th {\n",
              "        vertical-align: top;\n",
              "    }\n",
              "\n",
              "    .dataframe thead th {\n",
              "        text-align: right;\n",
              "    }\n",
              "</style>\n",
              "<table border=\"1\" class=\"dataframe\">\n",
              "  <thead>\n",
              "    <tr style=\"text-align: right;\">\n",
              "      <th></th>\n",
              "      <th>date</th>\n",
              "      <th>home_team</th>\n",
              "      <th>away_team</th>\n",
              "      <th>home_score</th>\n",
              "      <th>away_score</th>\n",
              "      <th>tournament</th>\n",
              "      <th>city</th>\n",
              "      <th>country</th>\n",
              "      <th>neutral</th>\n",
              "      <th>Year</th>\n",
              "      <th>Month</th>\n",
              "      <th>total_score</th>\n",
              "      <th>result</th>\n",
              "      <th>who_win</th>\n",
              "    </tr>\n",
              "  </thead>\n",
              "  <tbody>\n",
              "    <tr>\n",
              "      <th>0</th>\n",
              "      <td>1872-11-30</td>\n",
              "      <td>Scotland</td>\n",
              "      <td>England</td>\n",
              "      <td>0</td>\n",
              "      <td>0</td>\n",
              "      <td>Friendly</td>\n",
              "      <td>Glasgow</td>\n",
              "      <td>Scotland</td>\n",
              "      <td>False</td>\n",
              "      <td>1872</td>\n",
              "      <td>11</td>\n",
              "      <td>0</td>\n",
              "      <td>0</td>\n",
              "      <td>no_win</td>\n",
              "    </tr>\n",
              "    <tr>\n",
              "      <th>1</th>\n",
              "      <td>1873-03-08</td>\n",
              "      <td>England</td>\n",
              "      <td>Scotland</td>\n",
              "      <td>4</td>\n",
              "      <td>2</td>\n",
              "      <td>Friendly</td>\n",
              "      <td>London</td>\n",
              "      <td>England</td>\n",
              "      <td>False</td>\n",
              "      <td>1873</td>\n",
              "      <td>3</td>\n",
              "      <td>6</td>\n",
              "      <td>1</td>\n",
              "      <td>England</td>\n",
              "    </tr>\n",
              "    <tr>\n",
              "      <th>2</th>\n",
              "      <td>1874-03-07</td>\n",
              "      <td>Scotland</td>\n",
              "      <td>England</td>\n",
              "      <td>2</td>\n",
              "      <td>1</td>\n",
              "      <td>Friendly</td>\n",
              "      <td>Glasgow</td>\n",
              "      <td>Scotland</td>\n",
              "      <td>False</td>\n",
              "      <td>1874</td>\n",
              "      <td>3</td>\n",
              "      <td>3</td>\n",
              "      <td>1</td>\n",
              "      <td>Scotland</td>\n",
              "    </tr>\n",
              "    <tr>\n",
              "      <th>3</th>\n",
              "      <td>1875-03-06</td>\n",
              "      <td>England</td>\n",
              "      <td>Scotland</td>\n",
              "      <td>2</td>\n",
              "      <td>2</td>\n",
              "      <td>Friendly</td>\n",
              "      <td>London</td>\n",
              "      <td>England</td>\n",
              "      <td>False</td>\n",
              "      <td>1875</td>\n",
              "      <td>3</td>\n",
              "      <td>4</td>\n",
              "      <td>0</td>\n",
              "      <td>no_win</td>\n",
              "    </tr>\n",
              "    <tr>\n",
              "      <th>4</th>\n",
              "      <td>1876-03-04</td>\n",
              "      <td>Scotland</td>\n",
              "      <td>England</td>\n",
              "      <td>3</td>\n",
              "      <td>0</td>\n",
              "      <td>Friendly</td>\n",
              "      <td>Glasgow</td>\n",
              "      <td>Scotland</td>\n",
              "      <td>False</td>\n",
              "      <td>1876</td>\n",
              "      <td>3</td>\n",
              "      <td>3</td>\n",
              "      <td>1</td>\n",
              "      <td>Scotland</td>\n",
              "    </tr>\n",
              "  </tbody>\n",
              "</table>\n",
              "</div>"
            ],
            "text/plain": [
              "         date home_team away_team  ...  total_score  result   who_win\n",
              "0  1872-11-30  Scotland   England  ...            0       0    no_win\n",
              "1  1873-03-08   England  Scotland  ...            6       1   England\n",
              "2  1874-03-07  Scotland   England  ...            3       1  Scotland\n",
              "3  1875-03-06   England  Scotland  ...            4       0    no_win\n",
              "4  1876-03-04  Scotland   England  ...            3       1  Scotland\n",
              "\n",
              "[5 rows x 14 columns]"
            ]
          },
          "metadata": {
            "tags": []
          },
          "execution_count": 8
        }
      ]
    },
    {
      "cell_type": "code",
      "metadata": {
        "colab": {
          "base_uri": "https://localhost:8080/",
          "height": 235
        },
        "id": "Xe7cKEdgSqgr",
        "outputId": "a578388d-287d-46fd-ef18-740dee4bd501"
      },
      "source": [
        "DataFile.describe().T.round(decimals=1)"
      ],
      "execution_count": 10,
      "outputs": [
        {
          "output_type": "execute_result",
          "data": {
            "text/html": [
              "<div>\n",
              "<style scoped>\n",
              "    .dataframe tbody tr th:only-of-type {\n",
              "        vertical-align: middle;\n",
              "    }\n",
              "\n",
              "    .dataframe tbody tr th {\n",
              "        vertical-align: top;\n",
              "    }\n",
              "\n",
              "    .dataframe thead th {\n",
              "        text-align: right;\n",
              "    }\n",
              "</style>\n",
              "<table border=\"1\" class=\"dataframe\">\n",
              "  <thead>\n",
              "    <tr style=\"text-align: right;\">\n",
              "      <th></th>\n",
              "      <th>count</th>\n",
              "      <th>mean</th>\n",
              "      <th>std</th>\n",
              "      <th>min</th>\n",
              "      <th>25%</th>\n",
              "      <th>50%</th>\n",
              "      <th>75%</th>\n",
              "      <th>max</th>\n",
              "    </tr>\n",
              "  </thead>\n",
              "  <tbody>\n",
              "    <tr>\n",
              "      <th>home_score</th>\n",
              "      <td>42084.0</td>\n",
              "      <td>1.7</td>\n",
              "      <td>1.8</td>\n",
              "      <td>0.0</td>\n",
              "      <td>1.0</td>\n",
              "      <td>1.0</td>\n",
              "      <td>2.0</td>\n",
              "      <td>31.0</td>\n",
              "    </tr>\n",
              "    <tr>\n",
              "      <th>away_score</th>\n",
              "      <td>42084.0</td>\n",
              "      <td>1.2</td>\n",
              "      <td>1.4</td>\n",
              "      <td>0.0</td>\n",
              "      <td>0.0</td>\n",
              "      <td>1.0</td>\n",
              "      <td>2.0</td>\n",
              "      <td>21.0</td>\n",
              "    </tr>\n",
              "    <tr>\n",
              "      <th>Year</th>\n",
              "      <td>42084.0</td>\n",
              "      <td>1990.8</td>\n",
              "      <td>24.4</td>\n",
              "      <td>1872.0</td>\n",
              "      <td>1978.0</td>\n",
              "      <td>1998.0</td>\n",
              "      <td>2009.0</td>\n",
              "      <td>2021.0</td>\n",
              "    </tr>\n",
              "    <tr>\n",
              "      <th>Month</th>\n",
              "      <td>42084.0</td>\n",
              "      <td>6.8</td>\n",
              "      <td>3.2</td>\n",
              "      <td>1.0</td>\n",
              "      <td>4.0</td>\n",
              "      <td>7.0</td>\n",
              "      <td>10.0</td>\n",
              "      <td>12.0</td>\n",
              "    </tr>\n",
              "    <tr>\n",
              "      <th>total_score</th>\n",
              "      <td>42084.0</td>\n",
              "      <td>2.9</td>\n",
              "      <td>2.1</td>\n",
              "      <td>0.0</td>\n",
              "      <td>1.0</td>\n",
              "      <td>3.0</td>\n",
              "      <td>4.0</td>\n",
              "      <td>31.0</td>\n",
              "    </tr>\n",
              "    <tr>\n",
              "      <th>result</th>\n",
              "      <td>42084.0</td>\n",
              "      <td>1.1</td>\n",
              "      <td>0.7</td>\n",
              "      <td>0.0</td>\n",
              "      <td>1.0</td>\n",
              "      <td>1.0</td>\n",
              "      <td>2.0</td>\n",
              "      <td>2.0</td>\n",
              "    </tr>\n",
              "  </tbody>\n",
              "</table>\n",
              "</div>"
            ],
            "text/plain": [
              "               count    mean   std     min     25%     50%     75%     max\n",
              "home_score   42084.0     1.7   1.8     0.0     1.0     1.0     2.0    31.0\n",
              "away_score   42084.0     1.2   1.4     0.0     0.0     1.0     2.0    21.0\n",
              "Year         42084.0  1990.8  24.4  1872.0  1978.0  1998.0  2009.0  2021.0\n",
              "Month        42084.0     6.8   3.2     1.0     4.0     7.0    10.0    12.0\n",
              "total_score  42084.0     2.9   2.1     0.0     1.0     3.0     4.0    31.0\n",
              "result       42084.0     1.1   0.7     0.0     1.0     1.0     2.0     2.0"
            ]
          },
          "metadata": {
            "tags": []
          },
          "execution_count": 10
        }
      ]
    },
    {
      "cell_type": "code",
      "metadata": {
        "colab": {
          "base_uri": "https://localhost:8080/"
        },
        "id": "e6SAS3SpZE7t",
        "outputId": "b56c34b5-88c3-4aaf-b495-081d3331141c"
      },
      "source": [
        "DataFile.tournament.value_counts().head(10)"
      ],
      "execution_count": 11,
      "outputs": [
        {
          "output_type": "execute_result",
          "data": {
            "text/plain": [
              "Friendly                                17189\n",
              "FIFA World Cup qualification             7365\n",
              "UEFA Euro qualification                  2582\n",
              "African Cup of Nations qualification     1719\n",
              "FIFA World Cup                            900\n",
              "Copa América                              813\n",
              "AFC Asian Cup qualification               724\n",
              "African Cup of Nations                    690\n",
              "CECAFA Cup                                620\n",
              "CFU Caribbean Cup qualification           606\n",
              "Name: tournament, dtype: int64"
            ]
          },
          "metadata": {
            "tags": []
          },
          "execution_count": 11
        }
      ]
    },
    {
      "cell_type": "code",
      "metadata": {
        "colab": {
          "base_uri": "https://localhost:8080/",
          "height": 390
        },
        "id": "konM7OS8Sqei",
        "outputId": "ce3d553d-009b-429d-f761-c78cfeed7ad0"
      },
      "source": [
        "bestteam=DataFile.groupby('who_win').sum()\n",
        "bestteam=bestteam[['home_score','away_score','total_score']].sort_values(by=['total_score'],ascending=False)\n",
        "bestteam=bestteam.drop(['no_win'])\n",
        "bestteam.head(10)"
      ],
      "execution_count": 12,
      "outputs": [
        {
          "output_type": "execute_result",
          "data": {
            "text/html": [
              "<div>\n",
              "<style scoped>\n",
              "    .dataframe tbody tr th:only-of-type {\n",
              "        vertical-align: middle;\n",
              "    }\n",
              "\n",
              "    .dataframe tbody tr th {\n",
              "        vertical-align: top;\n",
              "    }\n",
              "\n",
              "    .dataframe thead th {\n",
              "        text-align: right;\n",
              "    }\n",
              "</style>\n",
              "<table border=\"1\" class=\"dataframe\">\n",
              "  <thead>\n",
              "    <tr style=\"text-align: right;\">\n",
              "      <th></th>\n",
              "      <th>home_score</th>\n",
              "      <th>away_score</th>\n",
              "      <th>total_score</th>\n",
              "    </tr>\n",
              "    <tr>\n",
              "      <th>who_win</th>\n",
              "      <th></th>\n",
              "      <th></th>\n",
              "      <th></th>\n",
              "    </tr>\n",
              "  </thead>\n",
              "  <tbody>\n",
              "    <tr>\n",
              "      <th>Brazil</th>\n",
              "      <td>1366</td>\n",
              "      <td>836</td>\n",
              "      <td>2202</td>\n",
              "    </tr>\n",
              "    <tr>\n",
              "      <th>England</th>\n",
              "      <td>1163</td>\n",
              "      <td>1036</td>\n",
              "      <td>2199</td>\n",
              "    </tr>\n",
              "    <tr>\n",
              "      <th>Germany</th>\n",
              "      <td>1233</td>\n",
              "      <td>886</td>\n",
              "      <td>2119</td>\n",
              "    </tr>\n",
              "    <tr>\n",
              "      <th>Sweden</th>\n",
              "      <td>1084</td>\n",
              "      <td>806</td>\n",
              "      <td>1890</td>\n",
              "    </tr>\n",
              "    <tr>\n",
              "      <th>Argentina</th>\n",
              "      <td>1158</td>\n",
              "      <td>622</td>\n",
              "      <td>1780</td>\n",
              "    </tr>\n",
              "    <tr>\n",
              "      <th>Hungary</th>\n",
              "      <td>1030</td>\n",
              "      <td>739</td>\n",
              "      <td>1769</td>\n",
              "    </tr>\n",
              "    <tr>\n",
              "      <th>Netherlands</th>\n",
              "      <td>914</td>\n",
              "      <td>598</td>\n",
              "      <td>1512</td>\n",
              "    </tr>\n",
              "    <tr>\n",
              "      <th>Mexico</th>\n",
              "      <td>946</td>\n",
              "      <td>485</td>\n",
              "      <td>1431</td>\n",
              "    </tr>\n",
              "    <tr>\n",
              "      <th>France</th>\n",
              "      <td>902</td>\n",
              "      <td>524</td>\n",
              "      <td>1426</td>\n",
              "    </tr>\n",
              "    <tr>\n",
              "      <th>South Korea</th>\n",
              "      <td>882</td>\n",
              "      <td>512</td>\n",
              "      <td>1394</td>\n",
              "    </tr>\n",
              "  </tbody>\n",
              "</table>\n",
              "</div>"
            ],
            "text/plain": [
              "             home_score  away_score  total_score\n",
              "who_win                                         \n",
              "Brazil             1366         836         2202\n",
              "England            1163        1036         2199\n",
              "Germany            1233         886         2119\n",
              "Sweden             1084         806         1890\n",
              "Argentina          1158         622         1780\n",
              "Hungary            1030         739         1769\n",
              "Netherlands         914         598         1512\n",
              "Mexico              946         485         1431\n",
              "France              902         524         1426\n",
              "South Korea         882         512         1394"
            ]
          },
          "metadata": {
            "tags": []
          },
          "execution_count": 12
        }
      ]
    },
    {
      "cell_type": "code",
      "metadata": {
        "colab": {
          "base_uri": "https://localhost:8080/",
          "height": 390
        },
        "id": "YdGdqKi5SqcS",
        "outputId": "f47c0200-9aca-4360-e8c6-b6e2bf0d711a"
      },
      "source": [
        "bestteam2=DataFile.groupby('who_win').count()\n",
        "bestteam2=bestteam2[['result']].sort_values(by=['result'],ascending=False)\n",
        "bestteam2=bestteam2.drop(['no_win'])\n",
        "bestteam2.head(10)"
      ],
      "execution_count": 14,
      "outputs": [
        {
          "output_type": "execute_result",
          "data": {
            "text/html": [
              "<div>\n",
              "<style scoped>\n",
              "    .dataframe tbody tr th:only-of-type {\n",
              "        vertical-align: middle;\n",
              "    }\n",
              "\n",
              "    .dataframe tbody tr th {\n",
              "        vertical-align: top;\n",
              "    }\n",
              "\n",
              "    .dataframe thead th {\n",
              "        text-align: right;\n",
              "    }\n",
              "</style>\n",
              "<table border=\"1\" class=\"dataframe\">\n",
              "  <thead>\n",
              "    <tr style=\"text-align: right;\">\n",
              "      <th></th>\n",
              "      <th>result</th>\n",
              "    </tr>\n",
              "    <tr>\n",
              "      <th>who_win</th>\n",
              "      <th></th>\n",
              "    </tr>\n",
              "  </thead>\n",
              "  <tbody>\n",
              "    <tr>\n",
              "      <th>Brazil</th>\n",
              "      <td>629</td>\n",
              "    </tr>\n",
              "    <tr>\n",
              "      <th>England</th>\n",
              "      <td>580</td>\n",
              "    </tr>\n",
              "    <tr>\n",
              "      <th>Germany</th>\n",
              "      <td>560</td>\n",
              "    </tr>\n",
              "    <tr>\n",
              "      <th>Argentina</th>\n",
              "      <td>529</td>\n",
              "    </tr>\n",
              "    <tr>\n",
              "      <th>Sweden</th>\n",
              "      <td>506</td>\n",
              "    </tr>\n",
              "    <tr>\n",
              "      <th>South Korea</th>\n",
              "      <td>455</td>\n",
              "    </tr>\n",
              "    <tr>\n",
              "      <th>Mexico</th>\n",
              "      <td>444</td>\n",
              "    </tr>\n",
              "    <tr>\n",
              "      <th>Hungary</th>\n",
              "      <td>442</td>\n",
              "    </tr>\n",
              "    <tr>\n",
              "      <th>Italy</th>\n",
              "      <td>431</td>\n",
              "    </tr>\n",
              "    <tr>\n",
              "      <th>France</th>\n",
              "      <td>425</td>\n",
              "    </tr>\n",
              "  </tbody>\n",
              "</table>\n",
              "</div>"
            ],
            "text/plain": [
              "             result\n",
              "who_win            \n",
              "Brazil          629\n",
              "England         580\n",
              "Germany         560\n",
              "Argentina       529\n",
              "Sweden          506\n",
              "South Korea     455\n",
              "Mexico          444\n",
              "Hungary         442\n",
              "Italy           431\n",
              "France          425"
            ]
          },
          "metadata": {
            "tags": []
          },
          "execution_count": 14
        }
      ]
    },
    {
      "cell_type": "code",
      "metadata": {
        "colab": {
          "base_uri": "https://localhost:8080/",
          "height": 439
        },
        "id": "zhlH4L3GfhMa",
        "outputId": "002c46ff-e251-4fc1-c383-2175d8597001"
      },
      "source": [
        "plt.figure(figsize=(20,8))\n",
        "sns.countplot(x='who_win',data=DataFile, order =DataFile['who_win'].value_counts()[1:11].index)\n",
        "plt.title('Top 20 Countries with most wins', fontsize=20)\n",
        "plt.ylabel('No of wins', fontsize=12)\n",
        "plt.xlabel('Country', fontsize=12)"
      ],
      "execution_count": 15,
      "outputs": [
        {
          "output_type": "execute_result",
          "data": {
            "text/plain": [
              "Text(0.5, 0, 'Country')"
            ]
          },
          "metadata": {
            "tags": []
          },
          "execution_count": 15
        },
        {
          "output_type": "display_data",
          "data": {
            "image/png": "[encoded data removed]",
            "text/plain": [
              "<Figure size 1440x576 with 1 Axes>"
            ]
          },
          "metadata": {
            "tags": [],
            "needs_background": "light"
          }
        }
      ]
    },
    {
      "cell_type": "code",
      "metadata": {
        "colab": {
          "base_uri": "https://localhost:8080/",
          "height": 235
        },
        "id": "sRVWfU4cSqZn",
        "outputId": "8f327ef0-56b8-42d7-96e7-69e1ec594476"
      },
      "source": [
        "bestteam3=pd.merge(bestteam,bestteam2, how='inner', on='who_win')\n",
        "bestteam3['teams']=bestteam3.index\n",
        "bestteam3.head()"
      ],
      "execution_count": 17,
      "outputs": [
        {
          "output_type": "execute_result",
          "data": {
            "text/html": [
              "<div>\n",
              "<style scoped>\n",
              "    .dataframe tbody tr th:only-of-type {\n",
              "        vertical-align: middle;\n",
              "    }\n",
              "\n",
              "    .dataframe tbody tr th {\n",
              "        vertical-align: top;\n",
              "    }\n",
              "\n",
              "    .dataframe thead th {\n",
              "        text-align: right;\n",
              "    }\n",
              "</style>\n",
              "<table border=\"1\" class=\"dataframe\">\n",
              "  <thead>\n",
              "    <tr style=\"text-align: right;\">\n",
              "      <th></th>\n",
              "      <th>home_score</th>\n",
              "      <th>away_score</th>\n",
              "      <th>total_score</th>\n",
              "      <th>result</th>\n",
              "      <th>teams</th>\n",
              "    </tr>\n",
              "    <tr>\n",
              "      <th>who_win</th>\n",
              "      <th></th>\n",
              "      <th></th>\n",
              "      <th></th>\n",
              "      <th></th>\n",
              "      <th></th>\n",
              "    </tr>\n",
              "  </thead>\n",
              "  <tbody>\n",
              "    <tr>\n",
              "      <th>Brazil</th>\n",
              "      <td>1366</td>\n",
              "      <td>836</td>\n",
              "      <td>2202</td>\n",
              "      <td>629</td>\n",
              "      <td>Brazil</td>\n",
              "    </tr>\n",
              "    <tr>\n",
              "      <th>England</th>\n",
              "      <td>1163</td>\n",
              "      <td>1036</td>\n",
              "      <td>2199</td>\n",
              "      <td>580</td>\n",
              "      <td>England</td>\n",
              "    </tr>\n",
              "    <tr>\n",
              "      <th>Germany</th>\n",
              "      <td>1233</td>\n",
              "      <td>886</td>\n",
              "      <td>2119</td>\n",
              "      <td>560</td>\n",
              "      <td>Germany</td>\n",
              "    </tr>\n",
              "    <tr>\n",
              "      <th>Sweden</th>\n",
              "      <td>1084</td>\n",
              "      <td>806</td>\n",
              "      <td>1890</td>\n",
              "      <td>506</td>\n",
              "      <td>Sweden</td>\n",
              "    </tr>\n",
              "    <tr>\n",
              "      <th>Argentina</th>\n",
              "      <td>1158</td>\n",
              "      <td>622</td>\n",
              "      <td>1780</td>\n",
              "      <td>529</td>\n",
              "      <td>Argentina</td>\n",
              "    </tr>\n",
              "  </tbody>\n",
              "</table>\n",
              "</div>"
            ],
            "text/plain": [
              "           home_score  away_score  total_score  result      teams\n",
              "who_win                                                          \n",
              "Brazil           1366         836         2202     629     Brazil\n",
              "England          1163        1036         2199     580    England\n",
              "Germany          1233         886         2119     560    Germany\n",
              "Sweden           1084         806         1890     506     Sweden\n",
              "Argentina        1158         622         1780     529  Argentina"
            ]
          },
          "metadata": {
            "tags": []
          },
          "execution_count": 17
        }
      ]
    },
    {
      "cell_type": "code",
      "metadata": {
        "colab": {
          "base_uri": "https://localhost:8080/",
          "height": 204
        },
        "id": "7PiMzIOoSqW1",
        "outputId": "407028d1-2b66-40ff-ebe5-e0d62eb70396"
      },
      "source": [
        "match=DataFile.groupby('home_team').count()+DataFile.groupby('away_team').count()\n",
        "match=match[['city']].sort_values(by=['city'],ascending=False)\n",
        "match=match.rename(columns = {'city':'play_count'})\n",
        "match['teams']=match.index\n",
        "match.head()"
      ],
      "execution_count": 18,
      "outputs": [
        {
          "output_type": "execute_result",
          "data": {
            "text/html": [
              "<div>\n",
              "<style scoped>\n",
              "    .dataframe tbody tr th:only-of-type {\n",
              "        vertical-align: middle;\n",
              "    }\n",
              "\n",
              "    .dataframe tbody tr th {\n",
              "        vertical-align: top;\n",
              "    }\n",
              "\n",
              "    .dataframe thead th {\n",
              "        text-align: right;\n",
              "    }\n",
              "</style>\n",
              "<table border=\"1\" class=\"dataframe\">\n",
              "  <thead>\n",
              "    <tr style=\"text-align: right;\">\n",
              "      <th></th>\n",
              "      <th>play_count</th>\n",
              "      <th>teams</th>\n",
              "    </tr>\n",
              "  </thead>\n",
              "  <tbody>\n",
              "    <tr>\n",
              "      <th>Sweden</th>\n",
              "      <td>1030.0</td>\n",
              "      <td>Sweden</td>\n",
              "    </tr>\n",
              "    <tr>\n",
              "      <th>England</th>\n",
              "      <td>1020.0</td>\n",
              "      <td>England</td>\n",
              "    </tr>\n",
              "    <tr>\n",
              "      <th>Brazil</th>\n",
              "      <td>985.0</td>\n",
              "      <td>Brazil</td>\n",
              "    </tr>\n",
              "    <tr>\n",
              "      <th>Argentina</th>\n",
              "      <td>984.0</td>\n",
              "      <td>Argentina</td>\n",
              "    </tr>\n",
              "    <tr>\n",
              "      <th>Germany</th>\n",
              "      <td>961.0</td>\n",
              "      <td>Germany</td>\n",
              "    </tr>\n",
              "  </tbody>\n",
              "</table>\n",
              "</div>"
            ],
            "text/plain": [
              "           play_count      teams\n",
              "Sweden         1030.0     Sweden\n",
              "England        1020.0    England\n",
              "Brazil          985.0     Brazil\n",
              "Argentina       984.0  Argentina\n",
              "Germany         961.0    Germany"
            ]
          },
          "metadata": {
            "tags": []
          },
          "execution_count": 18
        }
      ]
    },
    {
      "cell_type": "code",
      "metadata": {
        "colab": {
          "base_uri": "https://localhost:8080/",
          "height": 359
        },
        "id": "3EtmL4KdSqTG",
        "outputId": "9ee4f957-b1c9-4a20-b422-d93fe1ea9833"
      },
      "source": [
        "bestteam4=pd.merge(match,bestteam3,how='inner', on='teams')\n",
        "bestteam4['win_per_game']=bestteam4['result']/bestteam4['play_count']*100\n",
        "bestteam4['goal_per_game']=bestteam4['total_score']/bestteam4['play_count']\n",
        "bestteam4=bestteam4[['teams',  'play_count', 'total_score', 'result','win_per_game', 'goal_per_game']]\n",
        "bestteam4.head(10)"
      ],
      "execution_count": 32,
      "outputs": [
        {
          "output_type": "execute_result",
          "data": {
            "text/html": [
              "<div>\n",
              "<style scoped>\n",
              "    .dataframe tbody tr th:only-of-type {\n",
              "        vertical-align: middle;\n",
              "    }\n",
              "\n",
              "    .dataframe tbody tr th {\n",
              "        vertical-align: top;\n",
              "    }\n",
              "\n",
              "    .dataframe thead th {\n",
              "        text-align: right;\n",
              "    }\n",
              "</style>\n",
              "<table border=\"1\" class=\"dataframe\">\n",
              "  <thead>\n",
              "    <tr style=\"text-align: right;\">\n",
              "      <th></th>\n",
              "      <th>teams</th>\n",
              "      <th>play_count</th>\n",
              "      <th>total_score</th>\n",
              "      <th>result</th>\n",
              "      <th>win_per_game</th>\n",
              "      <th>goal_per_game</th>\n",
              "    </tr>\n",
              "  </thead>\n",
              "  <tbody>\n",
              "    <tr>\n",
              "      <th>0</th>\n",
              "      <td>Sweden</td>\n",
              "      <td>1030.0</td>\n",
              "      <td>1890</td>\n",
              "      <td>506</td>\n",
              "      <td>49.126214</td>\n",
              "      <td>1.834951</td>\n",
              "    </tr>\n",
              "    <tr>\n",
              "      <th>1</th>\n",
              "      <td>England</td>\n",
              "      <td>1020.0</td>\n",
              "      <td>2199</td>\n",
              "      <td>580</td>\n",
              "      <td>56.862745</td>\n",
              "      <td>2.155882</td>\n",
              "    </tr>\n",
              "    <tr>\n",
              "      <th>2</th>\n",
              "      <td>Brazil</td>\n",
              "      <td>985.0</td>\n",
              "      <td>2202</td>\n",
              "      <td>629</td>\n",
              "      <td>63.857868</td>\n",
              "      <td>2.235533</td>\n",
              "    </tr>\n",
              "    <tr>\n",
              "      <th>3</th>\n",
              "      <td>Argentina</td>\n",
              "      <td>984.0</td>\n",
              "      <td>1780</td>\n",
              "      <td>529</td>\n",
              "      <td>53.760163</td>\n",
              "      <td>1.808943</td>\n",
              "    </tr>\n",
              "    <tr>\n",
              "      <th>4</th>\n",
              "      <td>Germany</td>\n",
              "      <td>961.0</td>\n",
              "      <td>2119</td>\n",
              "      <td>560</td>\n",
              "      <td>58.272633</td>\n",
              "      <td>2.204995</td>\n",
              "    </tr>\n",
              "    <tr>\n",
              "      <th>5</th>\n",
              "      <td>Hungary</td>\n",
              "      <td>943.0</td>\n",
              "      <td>1769</td>\n",
              "      <td>442</td>\n",
              "      <td>46.871686</td>\n",
              "      <td>1.875928</td>\n",
              "    </tr>\n",
              "    <tr>\n",
              "      <th>6</th>\n",
              "      <td>Uruguay</td>\n",
              "      <td>889.0</td>\n",
              "      <td>1241</td>\n",
              "      <td>385</td>\n",
              "      <td>43.307087</td>\n",
              "      <td>1.395951</td>\n",
              "    </tr>\n",
              "    <tr>\n",
              "      <th>7</th>\n",
              "      <td>Mexico</td>\n",
              "      <td>876.0</td>\n",
              "      <td>1431</td>\n",
              "      <td>444</td>\n",
              "      <td>50.684932</td>\n",
              "      <td>1.633562</td>\n",
              "    </tr>\n",
              "    <tr>\n",
              "      <th>8</th>\n",
              "      <td>South Korea</td>\n",
              "      <td>865.0</td>\n",
              "      <td>1394</td>\n",
              "      <td>455</td>\n",
              "      <td>52.601156</td>\n",
              "      <td>1.611561</td>\n",
              "    </tr>\n",
              "    <tr>\n",
              "      <th>9</th>\n",
              "      <td>France</td>\n",
              "      <td>851.0</td>\n",
              "      <td>1426</td>\n",
              "      <td>425</td>\n",
              "      <td>49.941246</td>\n",
              "      <td>1.675676</td>\n",
              "    </tr>\n",
              "  </tbody>\n",
              "</table>\n",
              "</div>"
            ],
            "text/plain": [
              "         teams  play_count  total_score  result  win_per_game  goal_per_game\n",
              "0       Sweden      1030.0         1890     506     49.126214       1.834951\n",
              "1      England      1020.0         2199     580     56.862745       2.155882\n",
              "2       Brazil       985.0         2202     629     63.857868       2.235533\n",
              "3    Argentina       984.0         1780     529     53.760163       1.808943\n",
              "4      Germany       961.0         2119     560     58.272633       2.204995\n",
              "5      Hungary       943.0         1769     442     46.871686       1.875928\n",
              "6      Uruguay       889.0         1241     385     43.307087       1.395951\n",
              "7       Mexico       876.0         1431     444     50.684932       1.633562\n",
              "8  South Korea       865.0         1394     455     52.601156       1.611561\n",
              "9       France       851.0         1426     425     49.941246       1.675676"
            ]
          },
          "metadata": {
            "tags": []
          },
          "execution_count": 32
        }
      ]
    },
    {
      "cell_type": "code",
      "metadata": {
        "colab": {
          "base_uri": "https://localhost:8080/",
          "height": 359
        },
        "id": "JddhLdCYOLNT",
        "outputId": "33015c57-dfc4-412a-b80d-9c9373db4d44"
      },
      "source": [
        "bestteam4=bestteam4.sort_values(by=['win_per_game'],ascending=False)\n",
        "bestteam4.head(10)"
      ],
      "execution_count": 33,
      "outputs": [
        {
          "output_type": "execute_result",
          "data": {
            "text/html": [
              "<div>\n",
              "<style scoped>\n",
              "    .dataframe tbody tr th:only-of-type {\n",
              "        vertical-align: middle;\n",
              "    }\n",
              "\n",
              "    .dataframe tbody tr th {\n",
              "        vertical-align: top;\n",
              "    }\n",
              "\n",
              "    .dataframe thead th {\n",
              "        text-align: right;\n",
              "    }\n",
              "</style>\n",
              "<table border=\"1\" class=\"dataframe\">\n",
              "  <thead>\n",
              "    <tr style=\"text-align: right;\">\n",
              "      <th></th>\n",
              "      <th>teams</th>\n",
              "      <th>play_count</th>\n",
              "      <th>total_score</th>\n",
              "      <th>result</th>\n",
              "      <th>win_per_game</th>\n",
              "      <th>goal_per_game</th>\n",
              "    </tr>\n",
              "  </thead>\n",
              "  <tbody>\n",
              "    <tr>\n",
              "      <th>282</th>\n",
              "      <td>Yorkshire</td>\n",
              "      <td>7.0</td>\n",
              "      <td>33</td>\n",
              "      <td>5</td>\n",
              "      <td>71.428571</td>\n",
              "      <td>4.714286</td>\n",
              "    </tr>\n",
              "    <tr>\n",
              "      <th>228</th>\n",
              "      <td>Padania</td>\n",
              "      <td>43.0</td>\n",
              "      <td>115</td>\n",
              "      <td>29</td>\n",
              "      <td>67.441860</td>\n",
              "      <td>2.674419</td>\n",
              "    </tr>\n",
              "    <tr>\n",
              "      <th>200</th>\n",
              "      <td>Jersey</td>\n",
              "      <td>82.0</td>\n",
              "      <td>186</td>\n",
              "      <td>55</td>\n",
              "      <td>67.073171</td>\n",
              "      <td>2.268293</td>\n",
              "    </tr>\n",
              "    <tr>\n",
              "      <th>290</th>\n",
              "      <td>Parishes of Jersey</td>\n",
              "      <td>3.0</td>\n",
              "      <td>14</td>\n",
              "      <td>2</td>\n",
              "      <td>66.666667</td>\n",
              "      <td>4.666667</td>\n",
              "    </tr>\n",
              "    <tr>\n",
              "      <th>273</th>\n",
              "      <td>County of Nice</td>\n",
              "      <td>9.0</td>\n",
              "      <td>21</td>\n",
              "      <td>6</td>\n",
              "      <td>66.666667</td>\n",
              "      <td>2.333333</td>\n",
              "    </tr>\n",
              "    <tr>\n",
              "      <th>212</th>\n",
              "      <td>Basque Country</td>\n",
              "      <td>57.0</td>\n",
              "      <td>170</td>\n",
              "      <td>37</td>\n",
              "      <td>64.912281</td>\n",
              "      <td>2.982456</td>\n",
              "    </tr>\n",
              "    <tr>\n",
              "      <th>2</th>\n",
              "      <td>Brazil</td>\n",
              "      <td>985.0</td>\n",
              "      <td>2202</td>\n",
              "      <td>629</td>\n",
              "      <td>63.857868</td>\n",
              "      <td>2.235533</td>\n",
              "    </tr>\n",
              "    <tr>\n",
              "      <th>262</th>\n",
              "      <td>Andalusia</td>\n",
              "      <td>13.0</td>\n",
              "      <td>26</td>\n",
              "      <td>8</td>\n",
              "      <td>61.538462</td>\n",
              "      <td>2.000000</td>\n",
              "    </tr>\n",
              "    <tr>\n",
              "      <th>253</th>\n",
              "      <td>Rhodes</td>\n",
              "      <td>18.0</td>\n",
              "      <td>32</td>\n",
              "      <td>11</td>\n",
              "      <td>61.111111</td>\n",
              "      <td>1.777778</td>\n",
              "    </tr>\n",
              "    <tr>\n",
              "      <th>289</th>\n",
              "      <td>Crimea</td>\n",
              "      <td>5.0</td>\n",
              "      <td>9</td>\n",
              "      <td>3</td>\n",
              "      <td>60.000000</td>\n",
              "      <td>1.800000</td>\n",
              "    </tr>\n",
              "  </tbody>\n",
              "</table>\n",
              "</div>"
            ],
            "text/plain": [
              "                  teams  play_count  ...  win_per_game  goal_per_game\n",
              "282           Yorkshire         7.0  ...     71.428571       4.714286\n",
              "228             Padania        43.0  ...     67.441860       2.674419\n",
              "200              Jersey        82.0  ...     67.073171       2.268293\n",
              "290  Parishes of Jersey         3.0  ...     66.666667       4.666667\n",
              "273      County of Nice         9.0  ...     66.666667       2.333333\n",
              "212      Basque Country        57.0  ...     64.912281       2.982456\n",
              "2                Brazil       985.0  ...     63.857868       2.235533\n",
              "262           Andalusia        13.0  ...     61.538462       2.000000\n",
              "253              Rhodes        18.0  ...     61.111111       1.777778\n",
              "289              Crimea         5.0  ...     60.000000       1.800000\n",
              "\n",
              "[10 rows x 6 columns]"
            ]
          },
          "metadata": {
            "tags": []
          },
          "execution_count": 33
        }
      ]
    },
    {
      "cell_type": "code",
      "metadata": {
        "colab": {
          "base_uri": "https://localhost:8080/",
          "height": 296
        },
        "id": "OpVLvBQZOLLM",
        "outputId": "0c77ba32-fe14-445c-b46f-e9534bcd1036"
      },
      "source": [
        "bestteam4.plot(kind='scatter',x='play_count',y='win_per_game',color='r',alpha=0.5)\n",
        "plt.xlabel('play_count')\n",
        "plt.ylabel('win_per_game')\n",
        "plt.title('play_count and win_per_game Scatter Plot')\n",
        "plt.show()"
      ],
      "execution_count": 34,
      "outputs": [
        {
          "output_type": "display_data",
          "data": {
            "image/png": "[encoded data removed]",
            "text/plain": [
              "<Figure size 432x288 with 1 Axes>"
            ]
          },
          "metadata": {
            "tags": [],
            "needs_background": "light"
          }
        }
      ]
    },
    {
      "cell_type": "code",
      "metadata": {
        "colab": {
          "base_uri": "https://localhost:8080/",
          "height": 359
        },
        "id": "LzSbeA6UOLHi",
        "outputId": "4bbebdf7-76fe-4926-a285-88806b4fdef3"
      },
      "source": [
        "bestteam5=bestteam4[(bestteam4['win_per_game']>0,4) and (bestteam4['play_count']>300)]\n",
        "bestteam5.head(10)"
      ],
      "execution_count": 41,
      "outputs": [
        {
          "output_type": "execute_result",
          "data": {
            "text/html": [
              "<div>\n",
              "<style scoped>\n",
              "    .dataframe tbody tr th:only-of-type {\n",
              "        vertical-align: middle;\n",
              "    }\n",
              "\n",
              "    .dataframe tbody tr th {\n",
              "        vertical-align: top;\n",
              "    }\n",
              "\n",
              "    .dataframe thead th {\n",
              "        text-align: right;\n",
              "    }\n",
              "</style>\n",
              "<table border=\"1\" class=\"dataframe\">\n",
              "  <thead>\n",
              "    <tr style=\"text-align: right;\">\n",
              "      <th></th>\n",
              "      <th>teams</th>\n",
              "      <th>play_count</th>\n",
              "      <th>total_score</th>\n",
              "      <th>result</th>\n",
              "      <th>win_per_game</th>\n",
              "      <th>goal_per_game</th>\n",
              "    </tr>\n",
              "  </thead>\n",
              "  <tbody>\n",
              "    <tr>\n",
              "      <th>2</th>\n",
              "      <td>Brazil</td>\n",
              "      <td>985.0</td>\n",
              "      <td>2202</td>\n",
              "      <td>629</td>\n",
              "      <td>63.857868</td>\n",
              "      <td>2.235533</td>\n",
              "    </tr>\n",
              "    <tr>\n",
              "      <th>23</th>\n",
              "      <td>Spain</td>\n",
              "      <td>705.0</td>\n",
              "      <td>1371</td>\n",
              "      <td>411</td>\n",
              "      <td>58.297872</td>\n",
              "      <td>1.944681</td>\n",
              "    </tr>\n",
              "    <tr>\n",
              "      <th>4</th>\n",
              "      <td>Germany</td>\n",
              "      <td>961.0</td>\n",
              "      <td>2119</td>\n",
              "      <td>560</td>\n",
              "      <td>58.272633</td>\n",
              "      <td>2.204995</td>\n",
              "    </tr>\n",
              "    <tr>\n",
              "      <th>1</th>\n",
              "      <td>England</td>\n",
              "      <td>1020.0</td>\n",
              "      <td>2199</td>\n",
              "      <td>580</td>\n",
              "      <td>56.862745</td>\n",
              "      <td>2.155882</td>\n",
              "    </tr>\n",
              "    <tr>\n",
              "      <th>67</th>\n",
              "      <td>Iran</td>\n",
              "      <td>502.0</td>\n",
              "      <td>880</td>\n",
              "      <td>275</td>\n",
              "      <td>54.780876</td>\n",
              "      <td>1.752988</td>\n",
              "    </tr>\n",
              "    <tr>\n",
              "      <th>111</th>\n",
              "      <td>Czech Republic</td>\n",
              "      <td>308.0</td>\n",
              "      <td>548</td>\n",
              "      <td>166</td>\n",
              "      <td>53.896104</td>\n",
              "      <td>1.779221</td>\n",
              "    </tr>\n",
              "    <tr>\n",
              "      <th>3</th>\n",
              "      <td>Argentina</td>\n",
              "      <td>984.0</td>\n",
              "      <td>1780</td>\n",
              "      <td>529</td>\n",
              "      <td>53.760163</td>\n",
              "      <td>1.808943</td>\n",
              "    </tr>\n",
              "    <tr>\n",
              "      <th>12</th>\n",
              "      <td>Italy</td>\n",
              "      <td>812.0</td>\n",
              "      <td>1321</td>\n",
              "      <td>431</td>\n",
              "      <td>53.078818</td>\n",
              "      <td>1.626847</td>\n",
              "    </tr>\n",
              "    <tr>\n",
              "      <th>110</th>\n",
              "      <td>Croatia</td>\n",
              "      <td>329.0</td>\n",
              "      <td>540</td>\n",
              "      <td>174</td>\n",
              "      <td>52.887538</td>\n",
              "      <td>1.641337</td>\n",
              "    </tr>\n",
              "    <tr>\n",
              "      <th>8</th>\n",
              "      <td>South Korea</td>\n",
              "      <td>865.0</td>\n",
              "      <td>1394</td>\n",
              "      <td>455</td>\n",
              "      <td>52.601156</td>\n",
              "      <td>1.611561</td>\n",
              "    </tr>\n",
              "  </tbody>\n",
              "</table>\n",
              "</div>"
            ],
            "text/plain": [
              "              teams  play_count  ...  win_per_game  goal_per_game\n",
              "2            Brazil       985.0  ...     63.857868       2.235533\n",
              "23            Spain       705.0  ...     58.297872       1.944681\n",
              "4           Germany       961.0  ...     58.272633       2.204995\n",
              "1           England      1020.0  ...     56.862745       2.155882\n",
              "67             Iran       502.0  ...     54.780876       1.752988\n",
              "111  Czech Republic       308.0  ...     53.896104       1.779221\n",
              "3         Argentina       984.0  ...     53.760163       1.808943\n",
              "12            Italy       812.0  ...     53.078818       1.626847\n",
              "110         Croatia       329.0  ...     52.887538       1.641337\n",
              "8       South Korea       865.0  ...     52.601156       1.611561\n",
              "\n",
              "[10 rows x 6 columns]"
            ]
          },
          "metadata": {
            "tags": []
          },
          "execution_count": 41
        }
      ]
    },
    {
      "cell_type": "code",
      "metadata": {
        "colab": {
          "base_uri": "https://localhost:8080/",
          "height": 313
        },
        "id": "2u1bZfCJOLFP",
        "outputId": "501d6b6f-dfdd-44a7-becb-7215fd4421cd"
      },
      "source": [
        "bestteam5.plot(kind='scatter',x='play_count',y='win_per_game',color='r',alpha=0.5,label='teams')\n",
        "plt.xlabel('play_count')\n",
        "plt.ylabel('win_per_game')\n",
        "plt.title('play_count and win_per_game Scatter Plot')\n",
        "plt.show"
      ],
      "execution_count": 42,
      "outputs": [
        {
          "output_type": "execute_result",
          "data": {
            "text/plain": [
              "<function matplotlib.pyplot.show>"
            ]
          },
          "metadata": {
            "tags": []
          },
          "execution_count": 42
        },
        {
          "output_type": "display_data",
          "data": {
            "image/png": "[encoded data removed]",
            "text/plain": [
              "<Figure size 432x288 with 1 Axes>"
            ]
          },
          "metadata": {
            "tags": [],
            "needs_background": "light"
          }
        }
      ]
    },
    {
      "cell_type": "code",
      "metadata": {
        "colab": {
          "base_uri": "https://localhost:8080/",
          "height": 417
        },
        "id": "S1nbFWwDOLC1",
        "outputId": "d2caf104-1d72-4634-b1f4-31a46c7ec384"
      },
      "source": [
        "fig, ax = plt.subplots(1, figsize=(10, 6))\n",
        "fig.suptitle('play_count and win_per_game Scatter Plot')\n",
        "x=bestteam5['play_count']\n",
        "y=bestteam5['win_per_game']\n",
        "labels=bestteam5['teams']\n",
        "\n",
        "ax.scatter(x,y,\n",
        "           color=\"blue\",  \n",
        "           s=100,         \n",
        "           alpha=0.5,     \n",
        "           linewidths=1)  \n",
        "\n",
        "for x_pos, y_pos, label in zip(x, y, labels):\n",
        "    ax.annotate(label,             \n",
        "                xy=(x_pos, y_pos), \n",
        "                xytext=(7, 0),     \n",
        "                textcoords='offset points', \n",
        "                ha='left',         \n",
        "                va='center')       \n",
        "\n",
        "plt.show()"
      ],
      "execution_count": 45,
      "outputs": [
        {
          "output_type": "display_data",
          "data": {
            "image/png": "[encoded data removed]",
            "text/plain": [
              "<Figure size 720x432 with 1 Axes>"
            ]
          },
          "metadata": {
            "tags": [],
            "needs_background": "light"
          }
        }
      ]
    },
    {
      "cell_type": "code",
      "metadata": {
        "colab": {
          "base_uri": "https://localhost:8080/",
          "height": 204
        },
        "id": "HbEOg_FwOLAi",
        "outputId": "18bb61e4-f5f9-48ad-e615-ff4f635d5b91"
      },
      "source": [
        "teams=DataFile[['Year','who_win']]\n",
        "teams.head()"
      ],
      "execution_count": 57,
      "outputs": [
        {
          "output_type": "execute_result",
          "data": {
            "text/html": [
              "<div>\n",
              "<style scoped>\n",
              "    .dataframe tbody tr th:only-of-type {\n",
              "        vertical-align: middle;\n",
              "    }\n",
              "\n",
              "    .dataframe tbody tr th {\n",
              "        vertical-align: top;\n",
              "    }\n",
              "\n",
              "    .dataframe thead th {\n",
              "        text-align: right;\n",
              "    }\n",
              "</style>\n",
              "<table border=\"1\" class=\"dataframe\">\n",
              "  <thead>\n",
              "    <tr style=\"text-align: right;\">\n",
              "      <th></th>\n",
              "      <th>Year</th>\n",
              "      <th>who_win</th>\n",
              "    </tr>\n",
              "  </thead>\n",
              "  <tbody>\n",
              "    <tr>\n",
              "      <th>0</th>\n",
              "      <td>1872</td>\n",
              "      <td>no_win</td>\n",
              "    </tr>\n",
              "    <tr>\n",
              "      <th>1</th>\n",
              "      <td>1873</td>\n",
              "      <td>England</td>\n",
              "    </tr>\n",
              "    <tr>\n",
              "      <th>2</th>\n",
              "      <td>1874</td>\n",
              "      <td>Scotland</td>\n",
              "    </tr>\n",
              "    <tr>\n",
              "      <th>3</th>\n",
              "      <td>1875</td>\n",
              "      <td>no_win</td>\n",
              "    </tr>\n",
              "    <tr>\n",
              "      <th>4</th>\n",
              "      <td>1876</td>\n",
              "      <td>Scotland</td>\n",
              "    </tr>\n",
              "  </tbody>\n",
              "</table>\n",
              "</div>"
            ],
            "text/plain": [
              "   Year   who_win\n",
              "0  1872    no_win\n",
              "1  1873   England\n",
              "2  1874  Scotland\n",
              "3  1875    no_win\n",
              "4  1876  Scotland"
            ]
          },
          "metadata": {
            "tags": []
          },
          "execution_count": 57
        }
      ]
    },
    {
      "cell_type": "code",
      "metadata": {
        "colab": {
          "base_uri": "https://localhost:8080/",
          "height": 204
        },
        "id": "5Ml4MCDcQA0R",
        "outputId": "8f206e46-7222-40b4-d53a-95eff5282e5a"
      },
      "source": [
        "def re_find(who_win):\n",
        "    if \"no_win\" not in who_win.lower():\n",
        "        return True\n",
        "    return False\n",
        "teams2=teams[teams['who_win'].apply(re_find)]\n",
        "teams2.head()"
      ],
      "execution_count": 58,
      "outputs": [
        {
          "output_type": "execute_result",
          "data": {
            "text/html": [
              "<div>\n",
              "<style scoped>\n",
              "    .dataframe tbody tr th:only-of-type {\n",
              "        vertical-align: middle;\n",
              "    }\n",
              "\n",
              "    .dataframe tbody tr th {\n",
              "        vertical-align: top;\n",
              "    }\n",
              "\n",
              "    .dataframe thead th {\n",
              "        text-align: right;\n",
              "    }\n",
              "</style>\n",
              "<table border=\"1\" class=\"dataframe\">\n",
              "  <thead>\n",
              "    <tr style=\"text-align: right;\">\n",
              "      <th></th>\n",
              "      <th>Year</th>\n",
              "      <th>who_win</th>\n",
              "    </tr>\n",
              "  </thead>\n",
              "  <tbody>\n",
              "    <tr>\n",
              "      <th>1</th>\n",
              "      <td>1873</td>\n",
              "      <td>England</td>\n",
              "    </tr>\n",
              "    <tr>\n",
              "      <th>2</th>\n",
              "      <td>1874</td>\n",
              "      <td>Scotland</td>\n",
              "    </tr>\n",
              "    <tr>\n",
              "      <th>4</th>\n",
              "      <td>1876</td>\n",
              "      <td>Scotland</td>\n",
              "    </tr>\n",
              "    <tr>\n",
              "      <th>5</th>\n",
              "      <td>1876</td>\n",
              "      <td>Scotland</td>\n",
              "    </tr>\n",
              "    <tr>\n",
              "      <th>6</th>\n",
              "      <td>1877</td>\n",
              "      <td>Scotland</td>\n",
              "    </tr>\n",
              "  </tbody>\n",
              "</table>\n",
              "</div>"
            ],
            "text/plain": [
              "   Year   who_win\n",
              "1  1873   England\n",
              "2  1874  Scotland\n",
              "4  1876  Scotland\n",
              "5  1876  Scotland\n",
              "6  1877  Scotland"
            ]
          },
          "metadata": {
            "tags": []
          },
          "execution_count": 58
        }
      ]
    },
    {
      "cell_type": "code",
      "metadata": {
        "colab": {
          "base_uri": "https://localhost:8080/",
          "height": 204
        },
        "id": "khyb0oHNOK-W",
        "outputId": "c9bf53c9-0c68-45a1-c457-afd20b493688"
      },
      "source": [
        "list1=[]\n",
        "list2=[]\n",
        "list3=[]\n",
        "b=teams2['Year'].count()\n",
        "for i in range(0,b):\n",
        "    list1.append(teams2['Year'].iloc[i])\n",
        "    list2.append(teams2['who_win'].iloc[i])\n",
        "    a=str(teams2['Year'].iloc[i])+teams2['who_win'].iloc[i]\n",
        "    list3.append(a)\n",
        "list_label = [\"Year\",\"who_win\",\"Year_who_win\"] \n",
        "list_col = [list1,list2,list3]       \n",
        "zipped = zip(list_label,list_col) \n",
        "data_dict = dict(zipped)  \n",
        "teams3 = pd.DataFrame(data_dict)\n",
        "teams3.head() "
      ],
      "execution_count": 59,
      "outputs": [
        {
          "output_type": "execute_result",
          "data": {
            "text/html": [
              "<div>\n",
              "<style scoped>\n",
              "    .dataframe tbody tr th:only-of-type {\n",
              "        vertical-align: middle;\n",
              "    }\n",
              "\n",
              "    .dataframe tbody tr th {\n",
              "        vertical-align: top;\n",
              "    }\n",
              "\n",
              "    .dataframe thead th {\n",
              "        text-align: right;\n",
              "    }\n",
              "</style>\n",
              "<table border=\"1\" class=\"dataframe\">\n",
              "  <thead>\n",
              "    <tr style=\"text-align: right;\">\n",
              "      <th></th>\n",
              "      <th>Year</th>\n",
              "      <th>who_win</th>\n",
              "      <th>Year_who_win</th>\n",
              "    </tr>\n",
              "  </thead>\n",
              "  <tbody>\n",
              "    <tr>\n",
              "      <th>0</th>\n",
              "      <td>1873</td>\n",
              "      <td>England</td>\n",
              "      <td>1873England</td>\n",
              "    </tr>\n",
              "    <tr>\n",
              "      <th>1</th>\n",
              "      <td>1874</td>\n",
              "      <td>Scotland</td>\n",
              "      <td>1874Scotland</td>\n",
              "    </tr>\n",
              "    <tr>\n",
              "      <th>2</th>\n",
              "      <td>1876</td>\n",
              "      <td>Scotland</td>\n",
              "      <td>1876Scotland</td>\n",
              "    </tr>\n",
              "    <tr>\n",
              "      <th>3</th>\n",
              "      <td>1876</td>\n",
              "      <td>Scotland</td>\n",
              "      <td>1876Scotland</td>\n",
              "    </tr>\n",
              "    <tr>\n",
              "      <th>4</th>\n",
              "      <td>1877</td>\n",
              "      <td>Scotland</td>\n",
              "      <td>1877Scotland</td>\n",
              "    </tr>\n",
              "  </tbody>\n",
              "</table>\n",
              "</div>"
            ],
            "text/plain": [
              "   Year   who_win  Year_who_win\n",
              "0  1873   England   1873England\n",
              "1  1874  Scotland  1874Scotland\n",
              "2  1876  Scotland  1876Scotland\n",
              "3  1876  Scotland  1876Scotland\n",
              "4  1877  Scotland  1877Scotland"
            ]
          },
          "metadata": {
            "tags": []
          },
          "execution_count": 59
        }
      ]
    },
    {
      "cell_type": "code",
      "metadata": {
        "colab": {
          "base_uri": "https://localhost:8080/",
          "height": 390
        },
        "id": "_oQI69QdOK7S",
        "outputId": "399a4b7f-e363-4962-f531-c1203d1fc694"
      },
      "source": [
        "teams4=teams3.groupby('Year_who_win').count()\n",
        "teams4=teams4[['who_win']].sort_values(by=['who_win'], ascending=False)\n",
        "teams4.head(10)"
      ],
      "execution_count": 64,
      "outputs": [
        {
          "output_type": "execute_result",
          "data": {
            "text/html": [
              "<div>\n",
              "<style scoped>\n",
              "    .dataframe tbody tr th:only-of-type {\n",
              "        vertical-align: middle;\n",
              "    }\n",
              "\n",
              "    .dataframe tbody tr th {\n",
              "        vertical-align: top;\n",
              "    }\n",
              "\n",
              "    .dataframe thead th {\n",
              "        text-align: right;\n",
              "    }\n",
              "</style>\n",
              "<table border=\"1\" class=\"dataframe\">\n",
              "  <thead>\n",
              "    <tr style=\"text-align: right;\">\n",
              "      <th></th>\n",
              "      <th>who_win</th>\n",
              "    </tr>\n",
              "    <tr>\n",
              "      <th>Year_who_win</th>\n",
              "      <th></th>\n",
              "    </tr>\n",
              "  </thead>\n",
              "  <tbody>\n",
              "    <tr>\n",
              "      <th>1997Brazil</th>\n",
              "      <td>20</td>\n",
              "    </tr>\n",
              "    <tr>\n",
              "      <th>1997China PR</th>\n",
              "      <td>17</td>\n",
              "    </tr>\n",
              "    <tr>\n",
              "      <th>2008Trinidad and Tobago</th>\n",
              "      <td>17</td>\n",
              "    </tr>\n",
              "    <tr>\n",
              "      <th>2001Saudi Arabia</th>\n",
              "      <td>17</td>\n",
              "    </tr>\n",
              "    <tr>\n",
              "      <th>1993Mexico</th>\n",
              "      <td>17</td>\n",
              "    </tr>\n",
              "    <tr>\n",
              "      <th>2015South Korea</th>\n",
              "      <td>16</td>\n",
              "    </tr>\n",
              "    <tr>\n",
              "      <th>1975South Korea</th>\n",
              "      <td>16</td>\n",
              "    </tr>\n",
              "    <tr>\n",
              "      <th>2004Japan</th>\n",
              "      <td>16</td>\n",
              "    </tr>\n",
              "    <tr>\n",
              "      <th>1999Brazil</th>\n",
              "      <td>16</td>\n",
              "    </tr>\n",
              "    <tr>\n",
              "      <th>2010Netherlands</th>\n",
              "      <td>15</td>\n",
              "    </tr>\n",
              "  </tbody>\n",
              "</table>\n",
              "</div>"
            ],
            "text/plain": [
              "                         who_win\n",
              "Year_who_win                    \n",
              "1997Brazil                    20\n",
              "1997China PR                  17\n",
              "2008Trinidad and Tobago       17\n",
              "2001Saudi Arabia              17\n",
              "1993Mexico                    17\n",
              "2015South Korea               16\n",
              "1975South Korea               16\n",
              "2004Japan                     16\n",
              "1999Brazil                    16\n",
              "2010Netherlands               15"
            ]
          },
          "metadata": {
            "tags": []
          },
          "execution_count": 64
        }
      ]
    },
    {
      "cell_type": "code",
      "metadata": {
        "colab": {
          "base_uri": "https://localhost:8080/",
          "height": 309
        },
        "id": "LAtiqCEsOK43",
        "outputId": "71d58f5e-94f6-4497-ae35-cfa6b0b9e81d"
      },
      "source": [
        "con=[(DataFile['home_team']==DataFile['who_win']),(DataFile['away_team']==DataFile['who_win'])]\n",
        "val=['home_win','away_win']\n",
        "val2=[1,1]\n",
        "DataFile['home_away_win']=np.select(con,val)\n",
        "DataFile['home_away_win2']=np.select(con,val2)\n",
        "DataFile.head()"
      ],
      "execution_count": 66,
      "outputs": [
        {
          "output_type": "execute_result",
          "data": {
            "text/html": [
              "<div>\n",
              "<style scoped>\n",
              "    .dataframe tbody tr th:only-of-type {\n",
              "        vertical-align: middle;\n",
              "    }\n",
              "\n",
              "    .dataframe tbody tr th {\n",
              "        vertical-align: top;\n",
              "    }\n",
              "\n",
              "    .dataframe thead th {\n",
              "        text-align: right;\n",
              "    }\n",
              "</style>\n",
              "<table border=\"1\" class=\"dataframe\">\n",
              "  <thead>\n",
              "    <tr style=\"text-align: right;\">\n",
              "      <th></th>\n",
              "      <th>date</th>\n",
              "      <th>home_team</th>\n",
              "      <th>away_team</th>\n",
              "      <th>home_score</th>\n",
              "      <th>away_score</th>\n",
              "      <th>tournament</th>\n",
              "      <th>city</th>\n",
              "      <th>country</th>\n",
              "      <th>neutral</th>\n",
              "      <th>Year</th>\n",
              "      <th>Month</th>\n",
              "      <th>total_score</th>\n",
              "      <th>result</th>\n",
              "      <th>who_win</th>\n",
              "      <th>home_away_win</th>\n",
              "      <th>home_away_win2</th>\n",
              "    </tr>\n",
              "  </thead>\n",
              "  <tbody>\n",
              "    <tr>\n",
              "      <th>0</th>\n",
              "      <td>1872-11-30</td>\n",
              "      <td>Scotland</td>\n",
              "      <td>England</td>\n",
              "      <td>0</td>\n",
              "      <td>0</td>\n",
              "      <td>Friendly</td>\n",
              "      <td>Glasgow</td>\n",
              "      <td>Scotland</td>\n",
              "      <td>False</td>\n",
              "      <td>1872</td>\n",
              "      <td>11</td>\n",
              "      <td>0</td>\n",
              "      <td>0</td>\n",
              "      <td>no_win</td>\n",
              "      <td>0</td>\n",
              "      <td>0</td>\n",
              "    </tr>\n",
              "    <tr>\n",
              "      <th>1</th>\n",
              "      <td>1873-03-08</td>\n",
              "      <td>England</td>\n",
              "      <td>Scotland</td>\n",
              "      <td>4</td>\n",
              "      <td>2</td>\n",
              "      <td>Friendly</td>\n",
              "      <td>London</td>\n",
              "      <td>England</td>\n",
              "      <td>False</td>\n",
              "      <td>1873</td>\n",
              "      <td>3</td>\n",
              "      <td>6</td>\n",
              "      <td>1</td>\n",
              "      <td>England</td>\n",
              "      <td>home_win</td>\n",
              "      <td>1</td>\n",
              "    </tr>\n",
              "    <tr>\n",
              "      <th>2</th>\n",
              "      <td>1874-03-07</td>\n",
              "      <td>Scotland</td>\n",
              "      <td>England</td>\n",
              "      <td>2</td>\n",
              "      <td>1</td>\n",
              "      <td>Friendly</td>\n",
              "      <td>Glasgow</td>\n",
              "      <td>Scotland</td>\n",
              "      <td>False</td>\n",
              "      <td>1874</td>\n",
              "      <td>3</td>\n",
              "      <td>3</td>\n",
              "      <td>1</td>\n",
              "      <td>Scotland</td>\n",
              "      <td>home_win</td>\n",
              "      <td>1</td>\n",
              "    </tr>\n",
              "    <tr>\n",
              "      <th>3</th>\n",
              "      <td>1875-03-06</td>\n",
              "      <td>England</td>\n",
              "      <td>Scotland</td>\n",
              "      <td>2</td>\n",
              "      <td>2</td>\n",
              "      <td>Friendly</td>\n",
              "      <td>London</td>\n",
              "      <td>England</td>\n",
              "      <td>False</td>\n",
              "      <td>1875</td>\n",
              "      <td>3</td>\n",
              "      <td>4</td>\n",
              "      <td>0</td>\n",
              "      <td>no_win</td>\n",
              "      <td>0</td>\n",
              "      <td>0</td>\n",
              "    </tr>\n",
              "    <tr>\n",
              "      <th>4</th>\n",
              "      <td>1876-03-04</td>\n",
              "      <td>Scotland</td>\n",
              "      <td>England</td>\n",
              "      <td>3</td>\n",
              "      <td>0</td>\n",
              "      <td>Friendly</td>\n",
              "      <td>Glasgow</td>\n",
              "      <td>Scotland</td>\n",
              "      <td>False</td>\n",
              "      <td>1876</td>\n",
              "      <td>3</td>\n",
              "      <td>3</td>\n",
              "      <td>1</td>\n",
              "      <td>Scotland</td>\n",
              "      <td>home_win</td>\n",
              "      <td>1</td>\n",
              "    </tr>\n",
              "  </tbody>\n",
              "</table>\n",
              "</div>"
            ],
            "text/plain": [
              "         date home_team away_team  ...   who_win  home_away_win home_away_win2\n",
              "0  1872-11-30  Scotland   England  ...    no_win              0              0\n",
              "1  1873-03-08   England  Scotland  ...   England       home_win              1\n",
              "2  1874-03-07  Scotland   England  ...  Scotland       home_win              1\n",
              "3  1875-03-06   England  Scotland  ...    no_win              0              0\n",
              "4  1876-03-04  Scotland   England  ...  Scotland       home_win              1\n",
              "\n",
              "[5 rows x 16 columns]"
            ]
          },
          "metadata": {
            "tags": []
          },
          "execution_count": 66
        }
      ]
    },
    {
      "cell_type": "code",
      "metadata": {
        "colab": {
          "base_uri": "https://localhost:8080/",
          "height": 173
        },
        "id": "urSnUcSdOK2e",
        "outputId": "53a32d6f-7cdc-49ad-d140-b18862421048"
      },
      "source": [
        "d1=DataFile.groupby('home_away_win').count()\n",
        "d1[['who_win']]"
      ],
      "execution_count": 67,
      "outputs": [
        {
          "output_type": "execute_result",
          "data": {
            "text/html": [
              "<div>\n",
              "<style scoped>\n",
              "    .dataframe tbody tr th:only-of-type {\n",
              "        vertical-align: middle;\n",
              "    }\n",
              "\n",
              "    .dataframe tbody tr th {\n",
              "        vertical-align: top;\n",
              "    }\n",
              "\n",
              "    .dataframe thead th {\n",
              "        text-align: right;\n",
              "    }\n",
              "</style>\n",
              "<table border=\"1\" class=\"dataframe\">\n",
              "  <thead>\n",
              "    <tr style=\"text-align: right;\">\n",
              "      <th></th>\n",
              "      <th>who_win</th>\n",
              "    </tr>\n",
              "    <tr>\n",
              "      <th>home_away_win</th>\n",
              "      <th></th>\n",
              "    </tr>\n",
              "  </thead>\n",
              "  <tbody>\n",
              "    <tr>\n",
              "      <th>0</th>\n",
              "      <td>9700</td>\n",
              "    </tr>\n",
              "    <tr>\n",
              "      <th>away_win</th>\n",
              "      <td>11926</td>\n",
              "    </tr>\n",
              "    <tr>\n",
              "      <th>home_win</th>\n",
              "      <td>20458</td>\n",
              "    </tr>\n",
              "  </tbody>\n",
              "</table>\n",
              "</div>"
            ],
            "text/plain": [
              "               who_win\n",
              "home_away_win         \n",
              "0                 9700\n",
              "away_win         11926\n",
              "home_win         20458"
            ]
          },
          "metadata": {
            "tags": []
          },
          "execution_count": 67
        }
      ]
    },
    {
      "cell_type": "code",
      "metadata": {
        "colab": {
          "base_uri": "https://localhost:8080/",
          "height": 264
        },
        "id": "2TAmRAdbOK0D",
        "outputId": "1a4f1046-583a-4ab1-a7fe-e68da6d956fd"
      },
      "source": [
        "my_colors = ['lightblue','lightsteelblue','silver']\n",
        "my_explode = (0, 0.1, 0)\n",
        "plt.pie(d1['who_win'], labels=d1.index, \n",
        "        autopct='%1.1f%%', startangle=15, shadow = True, colors=my_colors, explode=my_explode)\n",
        "plt.title('Which teams are advantageous')\n",
        "plt.axis('equal')\n",
        "plt.show()"
      ],
      "execution_count": 68,
      "outputs": [
        {
          "output_type": "display_data",
          "data": {
            "image/png": "[encoded data removed]",
            "text/plain": [
              "<Figure size 432x288 with 1 Axes>"
            ]
          },
          "metadata": {
            "tags": []
          }
        }
      ]
    },
    {
      "cell_type": "code",
      "metadata": {
        "colab": {
          "base_uri": "https://localhost:8080/",
          "height": 300
        },
        "id": "YgPXPQzuRJsc",
        "outputId": "f58f329c-0125-4d45-de35-cf6b9d2c6046"
      },
      "source": [
        "data_c=DataFile[['Year','country']]\n",
        "data_c = data_c.drop_duplicates()\n",
        "data_c1=data_c.groupby('Year').count()\n",
        "\n",
        "plt.plot(data_c1.index, data_c1['country'], color='red', marker='o')\n",
        "plt.title('Year and number of country ', fontsize=14)\n",
        "plt.xlabel('Year', fontsize=14)\n",
        "plt.ylabel('country', fontsize=14)\n",
        "plt.grid(True)\n",
        "plt.show()"
      ],
      "execution_count": 70,
      "outputs": [
        {
          "output_type": "display_data",
          "data": {
            "image/png": "[encoded data removed]",
            "text/plain": [
              "<Figure size 432x288 with 1 Axes>"
            ]
          },
          "metadata": {
            "tags": [],
            "needs_background": "light"
          }
        }
      ]
    },
    {
      "cell_type": "code",
      "metadata": {
        "colab": {
          "base_uri": "https://localhost:8080/",
          "height": 235
        },
        "id": "gqZCsgV5RJpR",
        "outputId": "9b188a63-6f3d-4b58-cca2-f7c2b5e5939c"
      },
      "source": [
        "data_c = DataFile.drop(DataFile[DataFile.country == DataFile.home_team].index)\n",
        "list1=[]\n",
        "list2=[]\n",
        "b=len(data_c.index)\n",
        "for i in range(0,b):\n",
        "    list1.append(data_c['country'].iloc[i])\n",
        "    list2.append(1)\n",
        "\n",
        "list_label = [\"Country\",\"Num\"] \n",
        "list_col = [list1,list2]       \n",
        "zipped = zip(list_label,list_col) \n",
        "data_dict = dict(zipped) \n",
        "\n",
        "data_c3 = pd.DataFrame(data_dict) \n",
        "data_c4=data_c3.groupby('Country').count()\n",
        "data_c5=data_c4[['Num']]\n",
        "data_c6=data_c5.sort_values(by=['Num'], ascending=False)\n",
        "data_c6.head()"
      ],
      "execution_count": 72,
      "outputs": [
        {
          "output_type": "execute_result",
          "data": {
            "text/html": [
              "<div>\n",
              "<style scoped>\n",
              "    .dataframe tbody tr th:only-of-type {\n",
              "        vertical-align: middle;\n",
              "    }\n",
              "\n",
              "    .dataframe tbody tr th {\n",
              "        vertical-align: top;\n",
              "    }\n",
              "\n",
              "    .dataframe thead th {\n",
              "        text-align: right;\n",
              "    }\n",
              "</style>\n",
              "<table border=\"1\" class=\"dataframe\">\n",
              "  <thead>\n",
              "    <tr style=\"text-align: right;\">\n",
              "      <th></th>\n",
              "      <th>Num</th>\n",
              "    </tr>\n",
              "    <tr>\n",
              "      <th>Country</th>\n",
              "      <th></th>\n",
              "    </tr>\n",
              "  </thead>\n",
              "  <tbody>\n",
              "    <tr>\n",
              "      <th>United States</th>\n",
              "      <td>772</td>\n",
              "    </tr>\n",
              "    <tr>\n",
              "      <th>Malaysia</th>\n",
              "      <td>428</td>\n",
              "    </tr>\n",
              "    <tr>\n",
              "      <th>France</th>\n",
              "      <td>375</td>\n",
              "    </tr>\n",
              "    <tr>\n",
              "      <th>South Africa</th>\n",
              "      <td>284</td>\n",
              "    </tr>\n",
              "    <tr>\n",
              "      <th>United Arab Emirates</th>\n",
              "      <td>276</td>\n",
              "    </tr>\n",
              "  </tbody>\n",
              "</table>\n",
              "</div>"
            ],
            "text/plain": [
              "                      Num\n",
              "Country                  \n",
              "United States         772\n",
              "Malaysia              428\n",
              "France                375\n",
              "South Africa          284\n",
              "United Arab Emirates  276"
            ]
          },
          "metadata": {
            "tags": []
          },
          "execution_count": 72
        }
      ]
    }
  ]
}