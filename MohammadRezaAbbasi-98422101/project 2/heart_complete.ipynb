{
  "nbformat": 4,
  "nbformat_minor": 0,
  "metadata": {
    "colab": {
      "name": "heart_complete.ipynb",
      "provenance": [],
      "collapsed_sections": [],
      "toc_visible": true,
      "include_colab_link": true
    },
    "kernelspec": {
      "display_name": "Python 3",
      "name": "python3"
    },
    "language_info": {
      "name": "python"
    }
  },
  "cells": [
    {
      "cell_type": "markdown",
      "metadata": {
        "id": "view-in-github",
        "colab_type": "text"
      },
      "source": [
        "<a href=\"https://colab.research.google.com/github/m73abbasi/CS-SBU-DataMining-Msc-projects/blob/main/MohammadRezaAbbasi-98422101/project%202/heart_complete.ipynb\" target=\"_parent\"><img src=\"https://colab.research.google.com/assets/colab-badge.svg\" alt=\"Open In Colab\"/></a>"
      ]
    },
    {
      "cell_type": "markdown",
      "metadata": {
        "id": "odrZZ_jdoCWA"
      },
      "source": [
        "#heart"
      ]
    },
    {
      "cell_type": "code",
      "metadata": {
        "colab": {
          "base_uri": "https://localhost:8080/"
        },
        "id": "3TO8hvYRoAHL",
        "outputId": "f41e2882-d392-4ae8-a9f8-c2849d3b4076"
      },
      "source": [
        "from google.colab import drive\n",
        "drive.mount('/content/drive')"
      ],
      "execution_count": 1,
      "outputs": [
        {
          "output_type": "stream",
          "text": [
            "Drive already mounted at /content/drive; to attempt to forcibly remount, call drive.mount(\"/content/drive\", force_remount=True).\n"
          ],
          "name": "stdout"
        }
      ]
    },
    {
      "cell_type": "code",
      "metadata": {
        "id": "vgzAV91-pBAV"
      },
      "source": [
        "import pandas as pd\n",
        "import numpy as np\n",
        "import matplotlib.pyplot as plt\n",
        "import seaborn as sns\n",
        "from sklearn.model_selection import train_test_split as tts\n",
        "from sklearn.naive_bayes import GaussianNB, BernoulliNB\n",
        "from sklearn import svm\n",
        "from sklearn.model_selection import KFold\n",
        "from sklearn.neighbors import KNeighborsClassifier\n",
        "from sklearn.metrics import classification_report, confusion_matrix\n",
        "from sklearn.metrics import f1_score\n",
        "from sklearn.metrics import precision_score\n",
        "from sklearn.metrics import recall_score\n",
        "from sklearn.base import BaseEstimator, ClassifierMixin\n",
        "from sklearn.utils.validation import check_X_y, check_array, check_is_fitted"
      ],
      "execution_count": 2,
      "outputs": []
    },
    {
      "cell_type": "code",
      "metadata": {
        "id": "YY10qdTsooqc",
        "colab": {
          "base_uri": "https://localhost:8080/",
          "height": 204
        },
        "outputId": "92a9bc5a-5ca7-47ec-f820-7a29c896a51e"
      },
      "source": [
        "# read data\n",
        "ds = pd.read_csv('/content/drive/MyDrive/heart.csv')\n",
        "pd.set_option('display.max_columns',None)\n",
        "ds.head()"
      ],
      "execution_count": 3,
      "outputs": [
        {
          "output_type": "execute_result",
          "data": {
            "text/html": [
              "<div>\n",
              "<style scoped>\n",
              "    .dataframe tbody tr th:only-of-type {\n",
              "        vertical-align: middle;\n",
              "    }\n",
              "\n",
              "    .dataframe tbody tr th {\n",
              "        vertical-align: top;\n",
              "    }\n",
              "\n",
              "    .dataframe thead th {\n",
              "        text-align: right;\n",
              "    }\n",
              "</style>\n",
              "<table border=\"1\" class=\"dataframe\">\n",
              "  <thead>\n",
              "    <tr style=\"text-align: right;\">\n",
              "      <th></th>\n",
              "      <th>age</th>\n",
              "      <th>sex</th>\n",
              "      <th>cp</th>\n",
              "      <th>trestbps</th>\n",
              "      <th>chol</th>\n",
              "      <th>fbs</th>\n",
              "      <th>restecg</th>\n",
              "      <th>thalach</th>\n",
              "      <th>exang</th>\n",
              "      <th>oldpeak</th>\n",
              "      <th>slope</th>\n",
              "      <th>ca</th>\n",
              "      <th>thal</th>\n",
              "      <th>target</th>\n",
              "    </tr>\n",
              "  </thead>\n",
              "  <tbody>\n",
              "    <tr>\n",
              "      <th>0</th>\n",
              "      <td>63</td>\n",
              "      <td>1</td>\n",
              "      <td>3</td>\n",
              "      <td>145</td>\n",
              "      <td>233</td>\n",
              "      <td>1</td>\n",
              "      <td>0</td>\n",
              "      <td>150</td>\n",
              "      <td>0</td>\n",
              "      <td>2.3</td>\n",
              "      <td>0</td>\n",
              "      <td>0</td>\n",
              "      <td>1</td>\n",
              "      <td>1</td>\n",
              "    </tr>\n",
              "    <tr>\n",
              "      <th>1</th>\n",
              "      <td>37</td>\n",
              "      <td>1</td>\n",
              "      <td>2</td>\n",
              "      <td>130</td>\n",
              "      <td>250</td>\n",
              "      <td>0</td>\n",
              "      <td>1</td>\n",
              "      <td>187</td>\n",
              "      <td>0</td>\n",
              "      <td>3.5</td>\n",
              "      <td>0</td>\n",
              "      <td>0</td>\n",
              "      <td>2</td>\n",
              "      <td>1</td>\n",
              "    </tr>\n",
              "    <tr>\n",
              "      <th>2</th>\n",
              "      <td>41</td>\n",
              "      <td>0</td>\n",
              "      <td>1</td>\n",
              "      <td>130</td>\n",
              "      <td>204</td>\n",
              "      <td>0</td>\n",
              "      <td>0</td>\n",
              "      <td>172</td>\n",
              "      <td>0</td>\n",
              "      <td>1.4</td>\n",
              "      <td>2</td>\n",
              "      <td>0</td>\n",
              "      <td>2</td>\n",
              "      <td>1</td>\n",
              "    </tr>\n",
              "    <tr>\n",
              "      <th>3</th>\n",
              "      <td>56</td>\n",
              "      <td>1</td>\n",
              "      <td>1</td>\n",
              "      <td>120</td>\n",
              "      <td>236</td>\n",
              "      <td>0</td>\n",
              "      <td>1</td>\n",
              "      <td>178</td>\n",
              "      <td>0</td>\n",
              "      <td>0.8</td>\n",
              "      <td>2</td>\n",
              "      <td>0</td>\n",
              "      <td>2</td>\n",
              "      <td>1</td>\n",
              "    </tr>\n",
              "    <tr>\n",
              "      <th>4</th>\n",
              "      <td>57</td>\n",
              "      <td>0</td>\n",
              "      <td>0</td>\n",
              "      <td>120</td>\n",
              "      <td>354</td>\n",
              "      <td>0</td>\n",
              "      <td>1</td>\n",
              "      <td>163</td>\n",
              "      <td>1</td>\n",
              "      <td>0.6</td>\n",
              "      <td>2</td>\n",
              "      <td>0</td>\n",
              "      <td>2</td>\n",
              "      <td>1</td>\n",
              "    </tr>\n",
              "  </tbody>\n",
              "</table>\n",
              "</div>"
            ],
            "text/plain": [
              "   age  sex  cp  trestbps  chol  fbs  restecg  thalach  exang  oldpeak  slope  \\\n",
              "0   63    1   3       145   233    1        0      150      0      2.3      0   \n",
              "1   37    1   2       130   250    0        1      187      0      3.5      0   \n",
              "2   41    0   1       130   204    0        0      172      0      1.4      2   \n",
              "3   56    1   1       120   236    0        1      178      0      0.8      2   \n",
              "4   57    0   0       120   354    0        1      163      1      0.6      2   \n",
              "\n",
              "   ca  thal  target  \n",
              "0   0     1       1  \n",
              "1   0     2       1  \n",
              "2   0     2       1  \n",
              "3   0     2       1  \n",
              "4   0     2       1  "
            ]
          },
          "metadata": {
            "tags": []
          },
          "execution_count": 3
        }
      ]
    },
    {
      "cell_type": "code",
      "metadata": {
        "id": "MkqESNZArAw5",
        "colab": {
          "base_uri": "https://localhost:8080/"
        },
        "outputId": "d8801159-d4c6-4195-b405-911eab764e9d"
      },
      "source": [
        "# check number of recourd\n",
        "ds.shape"
      ],
      "execution_count": 4,
      "outputs": [
        {
          "output_type": "execute_result",
          "data": {
            "text/plain": [
              "(303, 14)"
            ]
          },
          "metadata": {
            "tags": []
          },
          "execution_count": 4
        }
      ]
    },
    {
      "cell_type": "code",
      "metadata": {
        "id": "-oQgYoBlrGiy",
        "colab": {
          "base_uri": "https://localhost:8080/"
        },
        "outputId": "7abaf951-d39a-456a-94a4-7c4a25244a98"
      },
      "source": [
        "# check information of data set\n",
        "ds.info()"
      ],
      "execution_count": 5,
      "outputs": [
        {
          "output_type": "stream",
          "text": [
            "<class 'pandas.core.frame.DataFrame'>\n",
            "RangeIndex: 303 entries, 0 to 302\n",
            "Data columns (total 14 columns):\n",
            " #   Column    Non-Null Count  Dtype  \n",
            "---  ------    --------------  -----  \n",
            " 0   age       303 non-null    int64  \n",
            " 1   sex       303 non-null    int64  \n",
            " 2   cp        303 non-null    int64  \n",
            " 3   trestbps  303 non-null    int64  \n",
            " 4   chol      303 non-null    int64  \n",
            " 5   fbs       303 non-null    int64  \n",
            " 6   restecg   303 non-null    int64  \n",
            " 7   thalach   303 non-null    int64  \n",
            " 8   exang     303 non-null    int64  \n",
            " 9   oldpeak   303 non-null    float64\n",
            " 10  slope     303 non-null    int64  \n",
            " 11  ca        303 non-null    int64  \n",
            " 12  thal      303 non-null    int64  \n",
            " 13  target    303 non-null    int64  \n",
            "dtypes: float64(1), int64(13)\n",
            "memory usage: 33.3 KB\n"
          ],
          "name": "stdout"
        }
      ]
    },
    {
      "cell_type": "code",
      "metadata": {
        "id": "N1ZQrAtQrRX1",
        "colab": {
          "base_uri": "https://localhost:8080/",
          "height": 317
        },
        "outputId": "4ca46f7f-a08e-4e72-9397-e3774dc69759"
      },
      "source": [
        "# basic stat report from numeric data\n",
        "ds[['age','sex','cp','trestbps','chol','fbs','restecg','thalach','exang','oldpeak','slope','ca','thal','target']].describe()"
      ],
      "execution_count": 6,
      "outputs": [
        {
          "output_type": "execute_result",
          "data": {
            "text/html": [
              "<div>\n",
              "<style scoped>\n",
              "    .dataframe tbody tr th:only-of-type {\n",
              "        vertical-align: middle;\n",
              "    }\n",
              "\n",
              "    .dataframe tbody tr th {\n",
              "        vertical-align: top;\n",
              "    }\n",
              "\n",
              "    .dataframe thead th {\n",
              "        text-align: right;\n",
              "    }\n",
              "</style>\n",
              "<table border=\"1\" class=\"dataframe\">\n",
              "  <thead>\n",
              "    <tr style=\"text-align: right;\">\n",
              "      <th></th>\n",
              "      <th>age</th>\n",
              "      <th>sex</th>\n",
              "      <th>cp</th>\n",
              "      <th>trestbps</th>\n",
              "      <th>chol</th>\n",
              "      <th>fbs</th>\n",
              "      <th>restecg</th>\n",
              "      <th>thalach</th>\n",
              "      <th>exang</th>\n",
              "      <th>oldpeak</th>\n",
              "      <th>slope</th>\n",
              "      <th>ca</th>\n",
              "      <th>thal</th>\n",
              "      <th>target</th>\n",
              "    </tr>\n",
              "  </thead>\n",
              "  <tbody>\n",
              "    <tr>\n",
              "      <th>count</th>\n",
              "      <td>303.000000</td>\n",
              "      <td>303.000000</td>\n",
              "      <td>303.000000</td>\n",
              "      <td>303.000000</td>\n",
              "      <td>303.000000</td>\n",
              "      <td>303.000000</td>\n",
              "      <td>303.000000</td>\n",
              "      <td>303.000000</td>\n",
              "      <td>303.000000</td>\n",
              "      <td>303.000000</td>\n",
              "      <td>303.000000</td>\n",
              "      <td>303.000000</td>\n",
              "      <td>303.000000</td>\n",
              "      <td>303.000000</td>\n",
              "    </tr>\n",
              "    <tr>\n",
              "      <th>mean</th>\n",
              "      <td>54.366337</td>\n",
              "      <td>0.683168</td>\n",
              "      <td>0.966997</td>\n",
              "      <td>131.623762</td>\n",
              "      <td>246.264026</td>\n",
              "      <td>0.148515</td>\n",
              "      <td>0.528053</td>\n",
              "      <td>149.646865</td>\n",
              "      <td>0.326733</td>\n",
              "      <td>1.039604</td>\n",
              "      <td>1.399340</td>\n",
              "      <td>0.729373</td>\n",
              "      <td>2.313531</td>\n",
              "      <td>0.544554</td>\n",
              "    </tr>\n",
              "    <tr>\n",
              "      <th>std</th>\n",
              "      <td>9.082101</td>\n",
              "      <td>0.466011</td>\n",
              "      <td>1.032052</td>\n",
              "      <td>17.538143</td>\n",
              "      <td>51.830751</td>\n",
              "      <td>0.356198</td>\n",
              "      <td>0.525860</td>\n",
              "      <td>22.905161</td>\n",
              "      <td>0.469794</td>\n",
              "      <td>1.161075</td>\n",
              "      <td>0.616226</td>\n",
              "      <td>1.022606</td>\n",
              "      <td>0.612277</td>\n",
              "      <td>0.498835</td>\n",
              "    </tr>\n",
              "    <tr>\n",
              "      <th>min</th>\n",
              "      <td>29.000000</td>\n",
              "      <td>0.000000</td>\n",
              "      <td>0.000000</td>\n",
              "      <td>94.000000</td>\n",
              "      <td>126.000000</td>\n",
              "      <td>0.000000</td>\n",
              "      <td>0.000000</td>\n",
              "      <td>71.000000</td>\n",
              "      <td>0.000000</td>\n",
              "      <td>0.000000</td>\n",
              "      <td>0.000000</td>\n",
              "      <td>0.000000</td>\n",
              "      <td>0.000000</td>\n",
              "      <td>0.000000</td>\n",
              "    </tr>\n",
              "    <tr>\n",
              "      <th>25%</th>\n",
              "      <td>47.500000</td>\n",
              "      <td>0.000000</td>\n",
              "      <td>0.000000</td>\n",
              "      <td>120.000000</td>\n",
              "      <td>211.000000</td>\n",
              "      <td>0.000000</td>\n",
              "      <td>0.000000</td>\n",
              "      <td>133.500000</td>\n",
              "      <td>0.000000</td>\n",
              "      <td>0.000000</td>\n",
              "      <td>1.000000</td>\n",
              "      <td>0.000000</td>\n",
              "      <td>2.000000</td>\n",
              "      <td>0.000000</td>\n",
              "    </tr>\n",
              "    <tr>\n",
              "      <th>50%</th>\n",
              "      <td>55.000000</td>\n",
              "      <td>1.000000</td>\n",
              "      <td>1.000000</td>\n",
              "      <td>130.000000</td>\n",
              "      <td>240.000000</td>\n",
              "      <td>0.000000</td>\n",
              "      <td>1.000000</td>\n",
              "      <td>153.000000</td>\n",
              "      <td>0.000000</td>\n",
              "      <td>0.800000</td>\n",
              "      <td>1.000000</td>\n",
              "      <td>0.000000</td>\n",
              "      <td>2.000000</td>\n",
              "      <td>1.000000</td>\n",
              "    </tr>\n",
              "    <tr>\n",
              "      <th>75%</th>\n",
              "      <td>61.000000</td>\n",
              "      <td>1.000000</td>\n",
              "      <td>2.000000</td>\n",
              "      <td>140.000000</td>\n",
              "      <td>274.500000</td>\n",
              "      <td>0.000000</td>\n",
              "      <td>1.000000</td>\n",
              "      <td>166.000000</td>\n",
              "      <td>1.000000</td>\n",
              "      <td>1.600000</td>\n",
              "      <td>2.000000</td>\n",
              "      <td>1.000000</td>\n",
              "      <td>3.000000</td>\n",
              "      <td>1.000000</td>\n",
              "    </tr>\n",
              "    <tr>\n",
              "      <th>max</th>\n",
              "      <td>77.000000</td>\n",
              "      <td>1.000000</td>\n",
              "      <td>3.000000</td>\n",
              "      <td>200.000000</td>\n",
              "      <td>564.000000</td>\n",
              "      <td>1.000000</td>\n",
              "      <td>2.000000</td>\n",
              "      <td>202.000000</td>\n",
              "      <td>1.000000</td>\n",
              "      <td>6.200000</td>\n",
              "      <td>2.000000</td>\n",
              "      <td>4.000000</td>\n",
              "      <td>3.000000</td>\n",
              "      <td>1.000000</td>\n",
              "    </tr>\n",
              "  </tbody>\n",
              "</table>\n",
              "</div>"
            ],
            "text/plain": [
              "              age         sex          cp    trestbps        chol         fbs  \\\n",
              "count  303.000000  303.000000  303.000000  303.000000  303.000000  303.000000   \n",
              "mean    54.366337    0.683168    0.966997  131.623762  246.264026    0.148515   \n",
              "std      9.082101    0.466011    1.032052   17.538143   51.830751    0.356198   \n",
              "min     29.000000    0.000000    0.000000   94.000000  126.000000    0.000000   \n",
              "25%     47.500000    0.000000    0.000000  120.000000  211.000000    0.000000   \n",
              "50%     55.000000    1.000000    1.000000  130.000000  240.000000    0.000000   \n",
              "75%     61.000000    1.000000    2.000000  140.000000  274.500000    0.000000   \n",
              "max     77.000000    1.000000    3.000000  200.000000  564.000000    1.000000   \n",
              "\n",
              "          restecg     thalach       exang     oldpeak       slope          ca  \\\n",
              "count  303.000000  303.000000  303.000000  303.000000  303.000000  303.000000   \n",
              "mean     0.528053  149.646865    0.326733    1.039604    1.399340    0.729373   \n",
              "std      0.525860   22.905161    0.469794    1.161075    0.616226    1.022606   \n",
              "min      0.000000   71.000000    0.000000    0.000000    0.000000    0.000000   \n",
              "25%      0.000000  133.500000    0.000000    0.000000    1.000000    0.000000   \n",
              "50%      1.000000  153.000000    0.000000    0.800000    1.000000    0.000000   \n",
              "75%      1.000000  166.000000    1.000000    1.600000    2.000000    1.000000   \n",
              "max      2.000000  202.000000    1.000000    6.200000    2.000000    4.000000   \n",
              "\n",
              "             thal      target  \n",
              "count  303.000000  303.000000  \n",
              "mean     2.313531    0.544554  \n",
              "std      0.612277    0.498835  \n",
              "min      0.000000    0.000000  \n",
              "25%      2.000000    0.000000  \n",
              "50%      2.000000    1.000000  \n",
              "75%      3.000000    1.000000  \n",
              "max      3.000000    1.000000  "
            ]
          },
          "metadata": {
            "tags": []
          },
          "execution_count": 6
        }
      ]
    },
    {
      "cell_type": "code",
      "metadata": {
        "id": "loRLBLplsU0G"
      },
      "source": [
        "# normalizing numeric data\n",
        "for cols in ds.columns:\n",
        "  if ds[cols].dtype == 'int64' or ds[cols].dtype == 'float64':\n",
        "    if cols != \"target\":\n",
        "      ds[cols] = ((ds[cols]-ds[cols].mean())/(ds[cols].std()))"
      ],
      "execution_count": 7,
      "outputs": []
    },
    {
      "cell_type": "code",
      "metadata": {
        "id": "OafMHJ7UsYsF",
        "colab": {
          "base_uri": "https://localhost:8080/"
        },
        "outputId": "409e0f27-55f2-4491-db1c-cb2c0a9af920"
      },
      "source": [
        "# delete outlier\n",
        "for cols in ds.columns:\n",
        "  if ds[cols].dtype == 'int64' or ds[cols].dtype == 'float64':\n",
        "    upper_range = ds[cols].mean() + 3 * ds[cols].std()\n",
        "    lower_range = ds[cols].mean() - 3 * ds[cols].std()\n",
        "    idx = ds[(ds[cols] > upper_range) | (ds[cols] < lower_range)].index\n",
        "    ds = ds.drop(idx)\n",
        "ds.info()"
      ],
      "execution_count": 8,
      "outputs": [
        {
          "output_type": "stream",
          "text": [
            "<class 'pandas.core.frame.DataFrame'>\n",
            "Int64Index: 287 entries, 0 to 302\n",
            "Data columns (total 14 columns):\n",
            " #   Column    Non-Null Count  Dtype  \n",
            "---  ------    --------------  -----  \n",
            " 0   age       287 non-null    float64\n",
            " 1   sex       287 non-null    float64\n",
            " 2   cp        287 non-null    float64\n",
            " 3   trestbps  287 non-null    float64\n",
            " 4   chol      287 non-null    float64\n",
            " 5   fbs       287 non-null    float64\n",
            " 6   restecg   287 non-null    float64\n",
            " 7   thalach   287 non-null    float64\n",
            " 8   exang     287 non-null    float64\n",
            " 9   oldpeak   287 non-null    float64\n",
            " 10  slope     287 non-null    float64\n",
            " 11  ca        287 non-null    float64\n",
            " 12  thal      287 non-null    float64\n",
            " 13  target    287 non-null    int64  \n",
            "dtypes: float64(13), int64(1)\n",
            "memory usage: 43.6 KB\n"
          ],
          "name": "stdout"
        }
      ]
    },
    {
      "cell_type": "code",
      "metadata": {
        "id": "SNfU69TKylaV",
        "colab": {
          "base_uri": "https://localhost:8080/"
        },
        "outputId": "4fc70fde-0ece-47ae-add0-70bf42ed0d60"
      },
      "source": [
        "# split future and target\n",
        "y = ds['target']\n",
        "x = ds.drop(columns = ['target'])\n",
        "print('x.shape =' , x.shape)\n",
        "print('y.shape =' , y.shape)"
      ],
      "execution_count": 9,
      "outputs": [
        {
          "output_type": "stream",
          "text": [
            "x.shape = (287, 13)\n",
            "y.shape = (287,)\n"
          ],
          "name": "stdout"
        }
      ]
    },
    {
      "cell_type": "code",
      "metadata": {
        "id": "GhM3uJw6nWbG"
      },
      "source": [
        "# define dataset x1\n",
        "x1 = ds[['trestbps','chol','thalach']]"
      ],
      "execution_count": 10,
      "outputs": []
    },
    {
      "cell_type": "code",
      "metadata": {
        "id": "ijHU_m2oubOj",
        "colab": {
          "base_uri": "https://localhost:8080/"
        },
        "outputId": "a3470c4e-2692-4ab6-c7f9-69a60050da4c"
      },
      "source": [
        "# We divided the data by 80 to 20, which means 80% of training and 20% of testing\n",
        "X_train, X_test, y_train, y_test = tts( x , y , test_size = 0.2, random_state = 40)\n",
        "print('X_train.shape =' , X_train.shape)\n",
        "print('X_test.shape =' , X_test.shape)\n",
        "print('y_train.shape =' , y_train.shape)\n",
        "print('y_test.shape =' , y_test.shape)"
      ],
      "execution_count": 11,
      "outputs": [
        {
          "output_type": "stream",
          "text": [
            "X_train.shape = (229, 13)\n",
            "X_test.shape = (58, 13)\n",
            "y_train.shape = (229,)\n",
            "y_test.shape = (58,)\n"
          ],
          "name": "stdout"
        }
      ]
    },
    {
      "cell_type": "code",
      "metadata": {
        "id": "TXVudFZiSfHG",
        "colab": {
          "base_uri": "https://localhost:8080/",
          "height": 653
        },
        "outputId": "9853a270-f20c-4f96-af23-ee9c8f789d44"
      },
      "source": [
        "# perform Gaussian naive bayes with pakage\n",
        "X_train, X_test, y_train, y_test = tts( x1 , y , test_size = 0.2, random_state = 0)\n",
        "print('X_train.shape =' , X_train.shape)\n",
        "print('X_test.shape =' , X_test.shape)\n",
        "print('y_train.shape =' , y_train.shape)\n",
        "print('y_test.shape =' , y_test.shape)\n",
        "plt.figure(figsize=(10,7))\n",
        "for i in x1.columns:\n",
        "  sns.distplot(x1[i],kde_kws={\"label\": i}, bins=20)\n",
        "gnb = GaussianNB()\n",
        "gnb.fit(X_train , y_train)"
      ],
      "execution_count": 12,
      "outputs": [
        {
          "output_type": "stream",
          "text": [
            "X_train.shape = (229, 3)\n",
            "X_test.shape = (58, 3)\n",
            "y_train.shape = (229,)\n",
            "y_test.shape = (58,)\n"
          ],
          "name": "stdout"
        },
        {
          "output_type": "stream",
          "text": [
            "/usr/local/lib/python3.7/dist-packages/seaborn/distributions.py:2557: FutureWarning: `distplot` is a deprecated function and will be removed in a future version. Please adapt your code to use either `displot` (a figure-level function with similar flexibility) or `histplot` (an axes-level function for histograms).\n",
            "  warnings.warn(msg, FutureWarning)\n",
            "/usr/local/lib/python3.7/dist-packages/seaborn/distributions.py:2557: FutureWarning: `distplot` is a deprecated function and will be removed in a future version. Please adapt your code to use either `displot` (a figure-level function with similar flexibility) or `histplot` (an axes-level function for histograms).\n",
            "  warnings.warn(msg, FutureWarning)\n",
            "/usr/local/lib/python3.7/dist-packages/seaborn/distributions.py:2557: FutureWarning: `distplot` is a deprecated function and will be removed in a future version. Please adapt your code to use either `displot` (a figure-level function with similar flexibility) or `histplot` (an axes-level function for histograms).\n",
            "  warnings.warn(msg, FutureWarning)\n"
          ],
          "name": "stderr"
        },
        {
          "output_type": "execute_result",
          "data": {
            "text/plain": [
              "GaussianNB(priors=None, var_smoothing=1e-09)"
            ]
          },
          "metadata": {
            "tags": []
          },
          "execution_count": 12
        },
        {
          "output_type": "display_data",
          "data": {
            "image/png": "[encoded data removed]",
            "text/plain": [
              "<Figure size 720x504 with 1 Axes>"
            ]
          },
          "metadata": {
            "tags": [],
            "needs_background": "light"
          }
        }
      ]
    },
    {
      "cell_type": "code",
      "metadata": {
        "id": "YZcXmP7sNcoe",
        "colab": {
          "base_uri": "https://localhost:8080/"
        },
        "outputId": "01d4c236-92ba-418b-db1b-97c805e3bcfc"
      },
      "source": [
        "print(\"Recall : \",gnb.score(X_test,y_test))"
      ],
      "execution_count": 13,
      "outputs": [
        {
          "output_type": "stream",
          "text": [
            "Recall :  0.7241379310344828\n"
          ],
          "name": "stdout"
        }
      ]
    },
    {
      "cell_type": "code",
      "metadata": {
        "id": "Hi8hzVVcQM4X",
        "colab": {
          "base_uri": "https://localhost:8080/"
        },
        "outputId": "cbf18d9c-3fa7-4a41-e672-f6eb63489692"
      },
      "source": [
        "# perform Gaussian naive bayes without pakage\n",
        "X_train, X_test, y_train, y_test = tts( x1 , y , test_size = 0.2, random_state = 0)\n",
        "class GaussianNB1(BaseEstimator, ClassifierMixin):\n",
        "    def fit(self, X, y):\n",
        "        X, y = check_X_y(X, y)\n",
        "        self.prior = np.bincount(y) / len(y)\n",
        "        self.max1 = np.max(y) + 1\n",
        "    \n",
        "        self.mean1 = np.array([X[np.where(y==i)].mean(axis=0) for i in range(self.max1)])\n",
        "        self.std1 = np.array([X[np.where(y==i)].std(axis=0) for i in range(self.max1)])\n",
        "        return self\n",
        "    def predict_prob(self, X):\n",
        "        check_is_fitted(self)\n",
        "        X = check_array(X)\n",
        "\n",
        "        res = []\n",
        "        for i in range(len(X)):\n",
        "            prob = []\n",
        "            for j in range(self.max1):\n",
        "                prob.append((1/np.sqrt(2*np.pi*self.std1[j]**2)*np.exp(-0.5*((X[i]-self.mean1[j])/self.std1[j])**2)).prod()*self.priors_[j])\n",
        "            prob = np.array(prob)\n",
        "            res.append(prob / prob.sum())\n",
        "        return np.array(res)\n",
        "\n",
        "    def predict(self, X):\n",
        "        check_is_fitted(self)\n",
        "        X = check_array(X)\n",
        "        res = self.predict_prob(X)\n",
        "        return res.argmax(axis=1)\n",
        "\n",
        "gnb = GaussianNB1()\n",
        "gnb.fit(X_train, y_train)"
      ],
      "execution_count": 14,
      "outputs": [
        {
          "output_type": "execute_result",
          "data": {
            "text/plain": [
              "GaussianNB1()"
            ]
          },
          "metadata": {
            "tags": []
          },
          "execution_count": 14
        }
      ]
    },
    {
      "cell_type": "code",
      "metadata": {
        "id": "Sq-Mo7hGxfC4",
        "colab": {
          "base_uri": "https://localhost:8080/"
        },
        "outputId": "34856797-90cc-4fcd-ff59-27f7a4c6ce51"
      },
      "source": [
        "# Calculate the error value of the model Gaussian\n",
        "gnb = GaussianNB()\n",
        "gnb.fit(X_train,y_train)\n",
        "pred = gnb.predict(X_test)\n",
        "print(\"F1-score : \",f1_score(y_test, pred, average='macro'))\n",
        "print(\"Precision : \",precision_score(y_test, pred, average='macro'))\n",
        "print(\"Recall : \",recall_score(y_test, pred, average='macro'))"
      ],
      "execution_count": 15,
      "outputs": [
        {
          "output_type": "stream",
          "text": [
            "F1-score :  0.7187878787878788\n",
            "Precision :  0.7425997425997426\n",
            "Recall :  0.7241379310344827\n"
          ],
          "name": "stdout"
        }
      ]
    },
    {
      "cell_type": "code",
      "metadata": {
        "id": "CYvWQE4Hxu5p",
        "colab": {
          "base_uri": "https://localhost:8080/"
        },
        "outputId": "d83a0346-84e5-47a4-acae-2daaba87799a"
      },
      "source": [
        "# perform Bernoulli naive bayes with pakage\n",
        "X_train, X_test, y_train, y_test = tts( x1 , y , test_size = 0.2, random_state = 0)\n",
        "print('X_train.shape =' , X_train.shape)\n",
        "print('X_test.shape =' , X_test.shape)\n",
        "print('y_train.shape =' , y_train.shape)\n",
        "print('y_test.shape =' , y_test.shape)\n",
        "bnb = BernoulliNB()\n",
        "bnb.fit(X_train , y_train)"
      ],
      "execution_count": 16,
      "outputs": [
        {
          "output_type": "stream",
          "text": [
            "X_train.shape = (229, 3)\n",
            "X_test.shape = (58, 3)\n",
            "y_train.shape = (229,)\n",
            "y_test.shape = (58,)\n"
          ],
          "name": "stdout"
        },
        {
          "output_type": "execute_result",
          "data": {
            "text/plain": [
              "BernoulliNB(alpha=1.0, binarize=0.0, class_prior=None, fit_prior=True)"
            ]
          },
          "metadata": {
            "tags": []
          },
          "execution_count": 16
        }
      ]
    },
    {
      "cell_type": "code",
      "metadata": {
        "id": "CvdOIA1l8Gux",
        "colab": {
          "base_uri": "https://localhost:8080/"
        },
        "outputId": "32bac08b-e5bd-4770-8c3d-84d7ae51720a"
      },
      "source": [
        "# Calculate the error value of the model Bernoulli\n",
        "pred = bnb.predict(X_test)\n",
        "print(\"F1-score : \",f1_score(y_test, pred, average='macro'))\n",
        "print(\"Precision : \",precision_score(y_test, pred, average='macro'))\n",
        "print(\"Recall : \",recall_score(y_test, pred, average='macro'))"
      ],
      "execution_count": 17,
      "outputs": [
        {
          "output_type": "stream",
          "text": [
            "F1-score :  0.8102884329467737\n",
            "Precision :  0.8107142857142857\n",
            "Recall :  0.8103448275862069\n"
          ],
          "name": "stdout"
        }
      ]
    },
    {
      "cell_type": "code",
      "metadata": {
        "id": "QcJCvW-CexA2",
        "colab": {
          "base_uri": "https://localhost:8080/"
        },
        "outputId": "5cb24fa4-a8ac-469f-8c61-0875c61c11d5"
      },
      "source": [
        "# Create a SVM classifier\n",
        "svclassifier = svm.SVC()\n",
        "X_train, X_test, y_train, y_test = tts( x1 , y , test_size = 0.2, random_state = 0)\n",
        "svclassifier.fit(X_train, y_train)\n",
        "pred = svclassifier.predict(X_test)\n",
        "print(confusion_matrix(y_test,pred))\n",
        "print(classification_report(y_test,pred))"
      ],
      "execution_count": 18,
      "outputs": [
        {
          "output_type": "stream",
          "text": [
            "[[18 11]\n",
            " [ 4 25]]\n",
            "              precision    recall  f1-score   support\n",
            "\n",
            "           0       0.82      0.62      0.71        29\n",
            "           1       0.69      0.86      0.77        29\n",
            "\n",
            "    accuracy                           0.74        58\n",
            "   macro avg       0.76      0.74      0.74        58\n",
            "weighted avg       0.76      0.74      0.74        58\n",
            "\n"
          ],
          "name": "stdout"
        }
      ]
    },
    {
      "cell_type": "code",
      "metadata": {
        "id": "LKvc1Zu5e7X6",
        "colab": {
          "base_uri": "https://localhost:8080/"
        },
        "outputId": "ba8cea6a-86c0-42d1-ff79-94e9519f2792"
      },
      "source": [
        "# Create a Radial basis function SVM classifier\n",
        "svclassifier = svm.SVC(kernel='rbf')\n",
        "X_train, X_test, y_train, y_test = tts( x1 , y , test_size = 0.2, random_state = 0)\n",
        "svclassifier.fit(X_train, y_train)\n",
        "pred = svclassifier.predict(X_test)\n",
        "print(confusion_matrix(y_test,pred))\n",
        "print(classification_report(y_test,pred))"
      ],
      "execution_count": 19,
      "outputs": [
        {
          "output_type": "stream",
          "text": [
            "[[18 11]\n",
            " [ 4 25]]\n",
            "              precision    recall  f1-score   support\n",
            "\n",
            "           0       0.82      0.62      0.71        29\n",
            "           1       0.69      0.86      0.77        29\n",
            "\n",
            "    accuracy                           0.74        58\n",
            "   macro avg       0.76      0.74      0.74        58\n",
            "weighted avg       0.76      0.74      0.74        58\n",
            "\n"
          ],
          "name": "stdout"
        }
      ]
    },
    {
      "cell_type": "code",
      "metadata": {
        "id": "PkLKYuNJeKbY",
        "colab": {
          "base_uri": "https://localhost:8080/"
        },
        "outputId": "fd4de7bd-74a0-47c0-81c0-d1d917e36c13"
      },
      "source": [
        "# Create a polynomial SVM classifier\n",
        "svclassifier = svm.SVC(kernel='poly')\n",
        "X_train, X_test, y_train, y_test = tts( x1 , y , test_size = 0.2, random_state = 0)\n",
        "svclassifier.fit(X_train, y_train)\n",
        "pred = svclassifier.predict(X_test)\n",
        "print(confusion_matrix(y_test,pred))\n",
        "print(classification_report(y_test,pred))"
      ],
      "execution_count": 20,
      "outputs": [
        {
          "output_type": "stream",
          "text": [
            "[[11 18]\n",
            " [ 4 25]]\n",
            "              precision    recall  f1-score   support\n",
            "\n",
            "           0       0.73      0.38      0.50        29\n",
            "           1       0.58      0.86      0.69        29\n",
            "\n",
            "    accuracy                           0.62        58\n",
            "   macro avg       0.66      0.62      0.60        58\n",
            "weighted avg       0.66      0.62      0.60        58\n",
            "\n"
          ],
          "name": "stdout"
        }
      ]
    },
    {
      "cell_type": "code",
      "metadata": {
        "id": "QyDyUiRJlW7G",
        "colab": {
          "base_uri": "https://localhost:8080/"
        },
        "outputId": "d3f300c5-d936-4d87-f4f2-d90ba3222313"
      },
      "source": [
        "# Create a linear SVM classifier\n",
        "svclassifier = svm.SVC(kernel='linear')\n",
        "X_train, X_test, y_train, y_test = tts( x1 , y , test_size = 0.2, random_state = 0)\n",
        "svclassifier.fit(X_train, y_train)\n",
        "pred = svclassifier.predict(X_test)\n",
        "print(confusion_matrix(y_test,pred))\n",
        "print(classification_report(y_test,pred))"
      ],
      "execution_count": 21,
      "outputs": [
        {
          "output_type": "stream",
          "text": [
            "[[18 11]\n",
            " [ 3 26]]\n",
            "              precision    recall  f1-score   support\n",
            "\n",
            "           0       0.86      0.62      0.72        29\n",
            "           1       0.70      0.90      0.79        29\n",
            "\n",
            "    accuracy                           0.76        58\n",
            "   macro avg       0.78      0.76      0.75        58\n",
            "weighted avg       0.78      0.76      0.75        58\n",
            "\n"
          ],
          "name": "stdout"
        }
      ]
    },
    {
      "cell_type": "code",
      "metadata": {
        "id": "FZcTzidzpaxN",
        "colab": {
          "base_uri": "https://localhost:8080/"
        },
        "outputId": "3e41bac4-3563-4d96-9333-e227e40e6b56"
      },
      "source": [
        "# Create a SVM classifier on all dataset\n",
        "svclassifier = svm.SVC()\n",
        "X_train, X_test, y_train, y_test = tts( x , y , test_size = 0.2, random_state = 0)\n",
        "svclassifier.fit(X_train, y_train)\n",
        "pred = svclassifier.predict(X_test)\n",
        "print(confusion_matrix(y_test,pred))\n",
        "print(classification_report(y_test,pred))"
      ],
      "execution_count": 22,
      "outputs": [
        {
          "output_type": "stream",
          "text": [
            "[[25  4]\n",
            " [ 4 25]]\n",
            "              precision    recall  f1-score   support\n",
            "\n",
            "           0       0.86      0.86      0.86        29\n",
            "           1       0.86      0.86      0.86        29\n",
            "\n",
            "    accuracy                           0.86        58\n",
            "   macro avg       0.86      0.86      0.86        58\n",
            "weighted avg       0.86      0.86      0.86        58\n",
            "\n"
          ],
          "name": "stdout"
        }
      ]
    },
    {
      "cell_type": "code",
      "metadata": {
        "id": "HqVwtxtO_y5W",
        "colab": {
          "base_uri": "https://localhost:8080/"
        },
        "outputId": "db189891-c0eb-4dfa-8071-e8a5d2616828"
      },
      "source": [
        "# 5-fold Cross Validation with SVM classifier on all dataset\n",
        "kf = KFold(n_splits=5)\n",
        "for train_index, test_index in kf.split(x):\n",
        "  print(\"train_index : \",train_index ,'\\n',\"test_index : \",test_index,'\\n')\n",
        "  x_train, x_test, y_train, y_test = x.iloc[train_index], x.iloc[test_index], y.iloc[train_index], y.iloc[test_index]\n",
        "  svclassifier = svm.SVC().fit(x_train, y_train)\n",
        "  score = svclassifier.score(x_test, y_test)\n",
        "  print(score,'\\n')"
      ],
      "execution_count": 23,
      "outputs": [
        {
          "output_type": "stream",
          "text": [
            "train_index :  [ 58  59  60  61  62  63  64  65  66  67  68  69  70  71  72  73  74  75\n",
            "  76  77  78  79  80  81  82  83  84  85  86  87  88  89  90  91  92  93\n",
            "  94  95  96  97  98  99 100 101 102 103 104 105 106 107 108 109 110 111\n",
            " 112 113 114 115 116 117 118 119 120 121 122 123 124 125 126 127 128 129\n",
            " 130 131 132 133 134 135 136 137 138 139 140 141 142 143 144 145 146 147\n",
            " 148 149 150 151 152 153 154 155 156 157 158 159 160 161 162 163 164 165\n",
            " 166 167 168 169 170 171 172 173 174 175 176 177 178 179 180 181 182 183\n",
            " 184 185 186 187 188 189 190 191 192 193 194 195 196 197 198 199 200 201\n",
            " 202 203 204 205 206 207 208 209 210 211 212 213 214 215 216 217 218 219\n",
            " 220 221 222 223 224 225 226 227 228 229 230 231 232 233 234 235 236 237\n",
            " 238 239 240 241 242 243 244 245 246 247 248 249 250 251 252 253 254 255\n",
            " 256 257 258 259 260 261 262 263 264 265 266 267 268 269 270 271 272 273\n",
            " 274 275 276 277 278 279 280 281 282 283 284 285 286] \n",
            " test_index :  [ 0  1  2  3  4  5  6  7  8  9 10 11 12 13 14 15 16 17 18 19 20 21 22 23\n",
            " 24 25 26 27 28 29 30 31 32 33 34 35 36 37 38 39 40 41 42 43 44 45 46 47\n",
            " 48 49 50 51 52 53 54 55 56 57] \n",
            "\n",
            "0.7931034482758621 \n",
            "\n",
            "train_index :  [  0   1   2   3   4   5   6   7   8   9  10  11  12  13  14  15  16  17\n",
            "  18  19  20  21  22  23  24  25  26  27  28  29  30  31  32  33  34  35\n",
            "  36  37  38  39  40  41  42  43  44  45  46  47  48  49  50  51  52  53\n",
            "  54  55  56  57 116 117 118 119 120 121 122 123 124 125 126 127 128 129\n",
            " 130 131 132 133 134 135 136 137 138 139 140 141 142 143 144 145 146 147\n",
            " 148 149 150 151 152 153 154 155 156 157 158 159 160 161 162 163 164 165\n",
            " 166 167 168 169 170 171 172 173 174 175 176 177 178 179 180 181 182 183\n",
            " 184 185 186 187 188 189 190 191 192 193 194 195 196 197 198 199 200 201\n",
            " 202 203 204 205 206 207 208 209 210 211 212 213 214 215 216 217 218 219\n",
            " 220 221 222 223 224 225 226 227 228 229 230 231 232 233 234 235 236 237\n",
            " 238 239 240 241 242 243 244 245 246 247 248 249 250 251 252 253 254 255\n",
            " 256 257 258 259 260 261 262 263 264 265 266 267 268 269 270 271 272 273\n",
            " 274 275 276 277 278 279 280 281 282 283 284 285 286] \n",
            " test_index :  [ 58  59  60  61  62  63  64  65  66  67  68  69  70  71  72  73  74  75\n",
            "  76  77  78  79  80  81  82  83  84  85  86  87  88  89  90  91  92  93\n",
            "  94  95  96  97  98  99 100 101 102 103 104 105 106 107 108 109 110 111\n",
            " 112 113 114 115] \n",
            "\n",
            "0.6379310344827587 \n",
            "\n",
            "train_index :  [  0   1   2   3   4   5   6   7   8   9  10  11  12  13  14  15  16  17\n",
            "  18  19  20  21  22  23  24  25  26  27  28  29  30  31  32  33  34  35\n",
            "  36  37  38  39  40  41  42  43  44  45  46  47  48  49  50  51  52  53\n",
            "  54  55  56  57  58  59  60  61  62  63  64  65  66  67  68  69  70  71\n",
            "  72  73  74  75  76  77  78  79  80  81  82  83  84  85  86  87  88  89\n",
            "  90  91  92  93  94  95  96  97  98  99 100 101 102 103 104 105 106 107\n",
            " 108 109 110 111 112 113 114 115 173 174 175 176 177 178 179 180 181 182\n",
            " 183 184 185 186 187 188 189 190 191 192 193 194 195 196 197 198 199 200\n",
            " 201 202 203 204 205 206 207 208 209 210 211 212 213 214 215 216 217 218\n",
            " 219 220 221 222 223 224 225 226 227 228 229 230 231 232 233 234 235 236\n",
            " 237 238 239 240 241 242 243 244 245 246 247 248 249 250 251 252 253 254\n",
            " 255 256 257 258 259 260 261 262 263 264 265 266 267 268 269 270 271 272\n",
            " 273 274 275 276 277 278 279 280 281 282 283 284 285 286] \n",
            " test_index :  [116 117 118 119 120 121 122 123 124 125 126 127 128 129 130 131 132 133\n",
            " 134 135 136 137 138 139 140 141 142 143 144 145 146 147 148 149 150 151\n",
            " 152 153 154 155 156 157 158 159 160 161 162 163 164 165 166 167 168 169\n",
            " 170 171 172] \n",
            "\n",
            "0.8070175438596491 \n",
            "\n",
            "train_index :  [  0   1   2   3   4   5   6   7   8   9  10  11  12  13  14  15  16  17\n",
            "  18  19  20  21  22  23  24  25  26  27  28  29  30  31  32  33  34  35\n",
            "  36  37  38  39  40  41  42  43  44  45  46  47  48  49  50  51  52  53\n",
            "  54  55  56  57  58  59  60  61  62  63  64  65  66  67  68  69  70  71\n",
            "  72  73  74  75  76  77  78  79  80  81  82  83  84  85  86  87  88  89\n",
            "  90  91  92  93  94  95  96  97  98  99 100 101 102 103 104 105 106 107\n",
            " 108 109 110 111 112 113 114 115 116 117 118 119 120 121 122 123 124 125\n",
            " 126 127 128 129 130 131 132 133 134 135 136 137 138 139 140 141 142 143\n",
            " 144 145 146 147 148 149 150 151 152 153 154 155 156 157 158 159 160 161\n",
            " 162 163 164 165 166 167 168 169 170 171 172 230 231 232 233 234 235 236\n",
            " 237 238 239 240 241 242 243 244 245 246 247 248 249 250 251 252 253 254\n",
            " 255 256 257 258 259 260 261 262 263 264 265 266 267 268 269 270 271 272\n",
            " 273 274 275 276 277 278 279 280 281 282 283 284 285 286] \n",
            " test_index :  [173 174 175 176 177 178 179 180 181 182 183 184 185 186 187 188 189 190\n",
            " 191 192 193 194 195 196 197 198 199 200 201 202 203 204 205 206 207 208\n",
            " 209 210 211 212 213 214 215 216 217 218 219 220 221 222 223 224 225 226\n",
            " 227 228 229] \n",
            "\n",
            "0.7017543859649122 \n",
            "\n",
            "train_index :  [  0   1   2   3   4   5   6   7   8   9  10  11  12  13  14  15  16  17\n",
            "  18  19  20  21  22  23  24  25  26  27  28  29  30  31  32  33  34  35\n",
            "  36  37  38  39  40  41  42  43  44  45  46  47  48  49  50  51  52  53\n",
            "  54  55  56  57  58  59  60  61  62  63  64  65  66  67  68  69  70  71\n",
            "  72  73  74  75  76  77  78  79  80  81  82  83  84  85  86  87  88  89\n",
            "  90  91  92  93  94  95  96  97  98  99 100 101 102 103 104 105 106 107\n",
            " 108 109 110 111 112 113 114 115 116 117 118 119 120 121 122 123 124 125\n",
            " 126 127 128 129 130 131 132 133 134 135 136 137 138 139 140 141 142 143\n",
            " 144 145 146 147 148 149 150 151 152 153 154 155 156 157 158 159 160 161\n",
            " 162 163 164 165 166 167 168 169 170 171 172 173 174 175 176 177 178 179\n",
            " 180 181 182 183 184 185 186 187 188 189 190 191 192 193 194 195 196 197\n",
            " 198 199 200 201 202 203 204 205 206 207 208 209 210 211 212 213 214 215\n",
            " 216 217 218 219 220 221 222 223 224 225 226 227 228 229] \n",
            " test_index :  [230 231 232 233 234 235 236 237 238 239 240 241 242 243 244 245 246 247\n",
            " 248 249 250 251 252 253 254 255 256 257 258 259 260 261 262 263 264 265\n",
            " 266 267 268 269 270 271 272 273 274 275 276 277 278 279 280 281 282 283\n",
            " 284 285 286] \n",
            "\n",
            "0.5087719298245614 \n",
            "\n"
          ],
          "name": "stdout"
        }
      ]
    },
    {
      "cell_type": "code",
      "metadata": {
        "id": "ZE2y1XbQQNBD",
        "colab": {
          "base_uri": "https://localhost:8080/"
        },
        "outputId": "f760635e-dee9-4bbe-b7f7-55140ce7c26b"
      },
      "source": [
        "# By using all the features in the training dataset with 2 of neighbors\n",
        "knn = KNeighborsClassifier(n_neighbors = 2)\n",
        "X_train, X_test, y_train, y_test = tts( x , y , test_size = 0.2, random_state = 0)\n",
        "knn.fit(X_train,y_train)\n",
        "pred = knn.predict(X_test)\n",
        "knn.score(X_test,y_test)"
      ],
      "execution_count": 24,
      "outputs": [
        {
          "output_type": "execute_result",
          "data": {
            "text/plain": [
              "0.8103448275862069"
            ]
          },
          "metadata": {
            "tags": []
          },
          "execution_count": 24
        }
      ]
    },
    {
      "cell_type": "code",
      "metadata": {
        "id": "cQKiDm1iRHZR",
        "colab": {
          "base_uri": "https://localhost:8080/"
        },
        "outputId": "6d66d7c1-ac83-4dbf-8168-61aca9aaa24e"
      },
      "source": [
        "print(confusion_matrix(y_test,pred))\n",
        "print(classification_report(y_test,pred))"
      ],
      "execution_count": 25,
      "outputs": [
        {
          "output_type": "stream",
          "text": [
            "[[26  3]\n",
            " [ 8 21]]\n",
            "              precision    recall  f1-score   support\n",
            "\n",
            "           0       0.76      0.90      0.83        29\n",
            "           1       0.88      0.72      0.79        29\n",
            "\n",
            "    accuracy                           0.81        58\n",
            "   macro avg       0.82      0.81      0.81        58\n",
            "weighted avg       0.82      0.81      0.81        58\n",
            "\n"
          ],
          "name": "stdout"
        }
      ]
    },
    {
      "cell_type": "code",
      "metadata": {
        "id": "zVVGKQteWWw2",
        "colab": {
          "base_uri": "https://localhost:8080/"
        },
        "outputId": "a2c14792-5c1e-4b37-b194-41b2e4afc040"
      },
      "source": [
        "# By using all the features in the training dataset with 4 of neighbors\n",
        "knn = KNeighborsClassifier(n_neighbors = 4)\n",
        "X_train, X_test, y_train, y_test = tts( x , y , test_size = 0.2, random_state = 0)\n",
        "knn.fit(X_train,y_train)\n",
        "pred = knn.predict(X_test)\n",
        "knn.score(X_test,y_test)"
      ],
      "execution_count": 26,
      "outputs": [
        {
          "output_type": "execute_result",
          "data": {
            "text/plain": [
              "0.8620689655172413"
            ]
          },
          "metadata": {
            "tags": []
          },
          "execution_count": 26
        }
      ]
    },
    {
      "cell_type": "code",
      "metadata": {
        "id": "NZ7AGkqbWfyM",
        "colab": {
          "base_uri": "https://localhost:8080/"
        },
        "outputId": "b2a12259-99a1-450f-b7da-5ac94cf0ccd1"
      },
      "source": [
        "print(confusion_matrix(y_test,pred))\n",
        "print(classification_report(y_test,pred))"
      ],
      "execution_count": 27,
      "outputs": [
        {
          "output_type": "stream",
          "text": [
            "[[26  3]\n",
            " [ 5 24]]\n",
            "              precision    recall  f1-score   support\n",
            "\n",
            "           0       0.84      0.90      0.87        29\n",
            "           1       0.89      0.83      0.86        29\n",
            "\n",
            "    accuracy                           0.86        58\n",
            "   macro avg       0.86      0.86      0.86        58\n",
            "weighted avg       0.86      0.86      0.86        58\n",
            "\n"
          ],
          "name": "stdout"
        }
      ]
    },
    {
      "cell_type": "code",
      "metadata": {
        "id": "zQNYHl1EW8H4",
        "colab": {
          "base_uri": "https://localhost:8080/"
        },
        "outputId": "46129b80-1150-4d8b-8ab5-14d9df78190c"
      },
      "source": [
        "# By using features (trestbps , chol , thalach) in the training dataset with 2 of neighbors\n",
        "knn = KNeighborsClassifier(n_neighbors = 2)\n",
        "X_train, X_test, y_train, y_test = tts( x1 , y , test_size = 0.2, random_state = 0)\n",
        "knn.fit(X_train,y_train)\n",
        "pred = knn.predict(X_test)\n",
        "knn.score(X_test,y_test)"
      ],
      "execution_count": 28,
      "outputs": [
        {
          "output_type": "execute_result",
          "data": {
            "text/plain": [
              "0.5517241379310345"
            ]
          },
          "metadata": {
            "tags": []
          },
          "execution_count": 28
        }
      ]
    },
    {
      "cell_type": "code",
      "metadata": {
        "id": "WijxkPjSXpJo",
        "colab": {
          "base_uri": "https://localhost:8080/"
        },
        "outputId": "eed5c63e-b1ad-45ec-c1bd-889891094cef"
      },
      "source": [
        "print(confusion_matrix(y_test,pred))\n",
        "print(classification_report(y_test,pred))"
      ],
      "execution_count": 29,
      "outputs": [
        {
          "output_type": "stream",
          "text": [
            "[[21  8]\n",
            " [18 11]]\n",
            "              precision    recall  f1-score   support\n",
            "\n",
            "           0       0.54      0.72      0.62        29\n",
            "           1       0.58      0.38      0.46        29\n",
            "\n",
            "    accuracy                           0.55        58\n",
            "   macro avg       0.56      0.55      0.54        58\n",
            "weighted avg       0.56      0.55      0.54        58\n",
            "\n"
          ],
          "name": "stdout"
        }
      ]
    }
  ]
}