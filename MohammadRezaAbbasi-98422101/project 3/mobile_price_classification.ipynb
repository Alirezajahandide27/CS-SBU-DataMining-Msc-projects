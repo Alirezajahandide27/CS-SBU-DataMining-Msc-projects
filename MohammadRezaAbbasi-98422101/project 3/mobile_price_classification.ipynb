{
  "nbformat": 4,
  "nbformat_minor": 0,
  "metadata": {
    "colab": {
      "name": "mobile-price-classification.ipynb",
      "provenance": [],
      "collapsed_sections": [],
      "authorship_tag": "ABX9TyOX/NNsJtGvWO5h1nTKqiup",
      "include_colab_link": true
    },
    "kernelspec": {
      "name": "python3",
      "display_name": "Python 3"
    },
    "language_info": {
      "name": "python"
    }
  },
  "cells": [
    {
      "cell_type": "markdown",
      "metadata": {
        "id": "view-in-github",
        "colab_type": "text"
      },
      "source": [
        "<a href=\"https://colab.research.google.com/github/m73abbasi/CS-SBU-DataMining-Msc-projects/blob/main/MohammadRezaAbbasi-98422101/project%203/mobile_price_classification.ipynb\" target=\"_parent\"><img src=\"https://colab.research.google.com/assets/colab-badge.svg\" alt=\"Open In Colab\"/></a>"
      ]
    },
    {
      "cell_type": "markdown",
      "metadata": {
        "id": "lxqEjxLkdjFV"
      },
      "source": [
        "# mobile-price-classification"
      ]
    },
    {
      "cell_type": "code",
      "metadata": {
        "colab": {
          "base_uri": "https://localhost:8080/"
        },
        "id": "lh4RAHJqdpbX",
        "outputId": "da7a9b44-87bc-4678-b038-5beacf87023c"
      },
      "source": [
        "from google.colab import drive\n",
        "drive.mount('/content/drive')"
      ],
      "execution_count": 1,
      "outputs": [
        {
          "output_type": "stream",
          "text": [
            "Drive already mounted at /content/drive; to attempt to forcibly remount, call drive.mount(\"/content/drive\", force_remount=True).\n"
          ],
          "name": "stdout"
        }
      ]
    },
    {
      "cell_type": "code",
      "metadata": {
        "id": "Xx8OOoOWdsev"
      },
      "source": [
        "import pandas as pd\n",
        "from sklearn.model_selection import train_test_split as tts\n",
        "from sklearn import svm\n",
        "from sklearn.metrics import classification_report, confusion_matrix"
      ],
      "execution_count": 2,
      "outputs": []
    },
    {
      "cell_type": "code",
      "metadata": {
        "id": "r6cAjjGXd1kE"
      },
      "source": [
        "# read data\n",
        "train = pd.read_csv('/content/drive/MyDrive/train.csv')\n",
        "test = pd.read_csv('/content/drive/MyDrive/test.csv')\n",
        "pd.set_option('display.max_columns',None)"
      ],
      "execution_count": 3,
      "outputs": []
    },
    {
      "cell_type": "code",
      "metadata": {
        "colab": {
          "base_uri": "https://localhost:8080/",
          "height": 224
        },
        "id": "2eMu8SO7fxCG",
        "outputId": "74949c3d-b9fc-4684-d685-833cc781de58"
      },
      "source": [
        "train.head()"
      ],
      "execution_count": 4,
      "outputs": [
        {
          "output_type": "execute_result",
          "data": {
            "text/html": [
              "<div>\n",
              "<style scoped>\n",
              "    .dataframe tbody tr th:only-of-type {\n",
              "        vertical-align: middle;\n",
              "    }\n",
              "\n",
              "    .dataframe tbody tr th {\n",
              "        vertical-align: top;\n",
              "    }\n",
              "\n",
              "    .dataframe thead th {\n",
              "        text-align: right;\n",
              "    }\n",
              "</style>\n",
              "<table border=\"1\" class=\"dataframe\">\n",
              "  <thead>\n",
              "    <tr style=\"text-align: right;\">\n",
              "      <th></th>\n",
              "      <th>battery_power</th>\n",
              "      <th>blue</th>\n",
              "      <th>clock_speed</th>\n",
              "      <th>dual_sim</th>\n",
              "      <th>fc</th>\n",
              "      <th>four_g</th>\n",
              "      <th>int_memory</th>\n",
              "      <th>m_dep</th>\n",
              "      <th>mobile_wt</th>\n",
              "      <th>n_cores</th>\n",
              "      <th>pc</th>\n",
              "      <th>px_height</th>\n",
              "      <th>px_width</th>\n",
              "      <th>ram</th>\n",
              "      <th>sc_h</th>\n",
              "      <th>sc_w</th>\n",
              "      <th>talk_time</th>\n",
              "      <th>three_g</th>\n",
              "      <th>touch_screen</th>\n",
              "      <th>wifi</th>\n",
              "      <th>price_range</th>\n",
              "    </tr>\n",
              "  </thead>\n",
              "  <tbody>\n",
              "    <tr>\n",
              "      <th>0</th>\n",
              "      <td>842</td>\n",
              "      <td>0</td>\n",
              "      <td>2.2</td>\n",
              "      <td>0</td>\n",
              "      <td>1</td>\n",
              "      <td>0</td>\n",
              "      <td>7</td>\n",
              "      <td>0.6</td>\n",
              "      <td>188</td>\n",
              "      <td>2</td>\n",
              "      <td>2</td>\n",
              "      <td>20</td>\n",
              "      <td>756</td>\n",
              "      <td>2549</td>\n",
              "      <td>9</td>\n",
              "      <td>7</td>\n",
              "      <td>19</td>\n",
              "      <td>0</td>\n",
              "      <td>0</td>\n",
              "      <td>1</td>\n",
              "      <td>1</td>\n",
              "    </tr>\n",
              "    <tr>\n",
              "      <th>1</th>\n",
              "      <td>1021</td>\n",
              "      <td>1</td>\n",
              "      <td>0.5</td>\n",
              "      <td>1</td>\n",
              "      <td>0</td>\n",
              "      <td>1</td>\n",
              "      <td>53</td>\n",
              "      <td>0.7</td>\n",
              "      <td>136</td>\n",
              "      <td>3</td>\n",
              "      <td>6</td>\n",
              "      <td>905</td>\n",
              "      <td>1988</td>\n",
              "      <td>2631</td>\n",
              "      <td>17</td>\n",
              "      <td>3</td>\n",
              "      <td>7</td>\n",
              "      <td>1</td>\n",
              "      <td>1</td>\n",
              "      <td>0</td>\n",
              "      <td>2</td>\n",
              "    </tr>\n",
              "    <tr>\n",
              "      <th>2</th>\n",
              "      <td>563</td>\n",
              "      <td>1</td>\n",
              "      <td>0.5</td>\n",
              "      <td>1</td>\n",
              "      <td>2</td>\n",
              "      <td>1</td>\n",
              "      <td>41</td>\n",
              "      <td>0.9</td>\n",
              "      <td>145</td>\n",
              "      <td>5</td>\n",
              "      <td>6</td>\n",
              "      <td>1263</td>\n",
              "      <td>1716</td>\n",
              "      <td>2603</td>\n",
              "      <td>11</td>\n",
              "      <td>2</td>\n",
              "      <td>9</td>\n",
              "      <td>1</td>\n",
              "      <td>1</td>\n",
              "      <td>0</td>\n",
              "      <td>2</td>\n",
              "    </tr>\n",
              "    <tr>\n",
              "      <th>3</th>\n",
              "      <td>615</td>\n",
              "      <td>1</td>\n",
              "      <td>2.5</td>\n",
              "      <td>0</td>\n",
              "      <td>0</td>\n",
              "      <td>0</td>\n",
              "      <td>10</td>\n",
              "      <td>0.8</td>\n",
              "      <td>131</td>\n",
              "      <td>6</td>\n",
              "      <td>9</td>\n",
              "      <td>1216</td>\n",
              "      <td>1786</td>\n",
              "      <td>2769</td>\n",
              "      <td>16</td>\n",
              "      <td>8</td>\n",
              "      <td>11</td>\n",
              "      <td>1</td>\n",
              "      <td>0</td>\n",
              "      <td>0</td>\n",
              "      <td>2</td>\n",
              "    </tr>\n",
              "    <tr>\n",
              "      <th>4</th>\n",
              "      <td>1821</td>\n",
              "      <td>1</td>\n",
              "      <td>1.2</td>\n",
              "      <td>0</td>\n",
              "      <td>13</td>\n",
              "      <td>1</td>\n",
              "      <td>44</td>\n",
              "      <td>0.6</td>\n",
              "      <td>141</td>\n",
              "      <td>2</td>\n",
              "      <td>14</td>\n",
              "      <td>1208</td>\n",
              "      <td>1212</td>\n",
              "      <td>1411</td>\n",
              "      <td>8</td>\n",
              "      <td>2</td>\n",
              "      <td>15</td>\n",
              "      <td>1</td>\n",
              "      <td>1</td>\n",
              "      <td>0</td>\n",
              "      <td>1</td>\n",
              "    </tr>\n",
              "  </tbody>\n",
              "</table>\n",
              "</div>"
            ],
            "text/plain": [
              "   battery_power  blue  clock_speed  dual_sim  fc  four_g  int_memory  m_dep  \\\n",
              "0            842     0          2.2         0   1       0           7    0.6   \n",
              "1           1021     1          0.5         1   0       1          53    0.7   \n",
              "2            563     1          0.5         1   2       1          41    0.9   \n",
              "3            615     1          2.5         0   0       0          10    0.8   \n",
              "4           1821     1          1.2         0  13       1          44    0.6   \n",
              "\n",
              "   mobile_wt  n_cores  pc  px_height  px_width   ram  sc_h  sc_w  talk_time  \\\n",
              "0        188        2   2         20       756  2549     9     7         19   \n",
              "1        136        3   6        905      1988  2631    17     3          7   \n",
              "2        145        5   6       1263      1716  2603    11     2          9   \n",
              "3        131        6   9       1216      1786  2769    16     8         11   \n",
              "4        141        2  14       1208      1212  1411     8     2         15   \n",
              "\n",
              "   three_g  touch_screen  wifi  price_range  \n",
              "0        0             0     1            1  \n",
              "1        1             1     0            2  \n",
              "2        1             1     0            2  \n",
              "3        1             0     0            2  \n",
              "4        1             1     0            1  "
            ]
          },
          "metadata": {
            "tags": []
          },
          "execution_count": 4
        }
      ]
    },
    {
      "cell_type": "code",
      "metadata": {
        "colab": {
          "base_uri": "https://localhost:8080/",
          "height": 224
        },
        "id": "R5RmWur4fyyN",
        "outputId": "ca2741e3-04f7-4016-a71d-1176e88961b4"
      },
      "source": [
        "test.head()"
      ],
      "execution_count": 5,
      "outputs": [
        {
          "output_type": "execute_result",
          "data": {
            "text/html": [
              "<div>\n",
              "<style scoped>\n",
              "    .dataframe tbody tr th:only-of-type {\n",
              "        vertical-align: middle;\n",
              "    }\n",
              "\n",
              "    .dataframe tbody tr th {\n",
              "        vertical-align: top;\n",
              "    }\n",
              "\n",
              "    .dataframe thead th {\n",
              "        text-align: right;\n",
              "    }\n",
              "</style>\n",
              "<table border=\"1\" class=\"dataframe\">\n",
              "  <thead>\n",
              "    <tr style=\"text-align: right;\">\n",
              "      <th></th>\n",
              "      <th>id</th>\n",
              "      <th>battery_power</th>\n",
              "      <th>blue</th>\n",
              "      <th>clock_speed</th>\n",
              "      <th>dual_sim</th>\n",
              "      <th>fc</th>\n",
              "      <th>four_g</th>\n",
              "      <th>int_memory</th>\n",
              "      <th>m_dep</th>\n",
              "      <th>mobile_wt</th>\n",
              "      <th>n_cores</th>\n",
              "      <th>pc</th>\n",
              "      <th>px_height</th>\n",
              "      <th>px_width</th>\n",
              "      <th>ram</th>\n",
              "      <th>sc_h</th>\n",
              "      <th>sc_w</th>\n",
              "      <th>talk_time</th>\n",
              "      <th>three_g</th>\n",
              "      <th>touch_screen</th>\n",
              "      <th>wifi</th>\n",
              "    </tr>\n",
              "  </thead>\n",
              "  <tbody>\n",
              "    <tr>\n",
              "      <th>0</th>\n",
              "      <td>1</td>\n",
              "      <td>1043</td>\n",
              "      <td>1</td>\n",
              "      <td>1.8</td>\n",
              "      <td>1</td>\n",
              "      <td>14</td>\n",
              "      <td>0</td>\n",
              "      <td>5</td>\n",
              "      <td>0.1</td>\n",
              "      <td>193</td>\n",
              "      <td>3</td>\n",
              "      <td>16</td>\n",
              "      <td>226</td>\n",
              "      <td>1412</td>\n",
              "      <td>3476</td>\n",
              "      <td>12</td>\n",
              "      <td>7</td>\n",
              "      <td>2</td>\n",
              "      <td>0</td>\n",
              "      <td>1</td>\n",
              "      <td>0</td>\n",
              "    </tr>\n",
              "    <tr>\n",
              "      <th>1</th>\n",
              "      <td>2</td>\n",
              "      <td>841</td>\n",
              "      <td>1</td>\n",
              "      <td>0.5</td>\n",
              "      <td>1</td>\n",
              "      <td>4</td>\n",
              "      <td>1</td>\n",
              "      <td>61</td>\n",
              "      <td>0.8</td>\n",
              "      <td>191</td>\n",
              "      <td>5</td>\n",
              "      <td>12</td>\n",
              "      <td>746</td>\n",
              "      <td>857</td>\n",
              "      <td>3895</td>\n",
              "      <td>6</td>\n",
              "      <td>0</td>\n",
              "      <td>7</td>\n",
              "      <td>1</td>\n",
              "      <td>0</td>\n",
              "      <td>0</td>\n",
              "    </tr>\n",
              "    <tr>\n",
              "      <th>2</th>\n",
              "      <td>3</td>\n",
              "      <td>1807</td>\n",
              "      <td>1</td>\n",
              "      <td>2.8</td>\n",
              "      <td>0</td>\n",
              "      <td>1</td>\n",
              "      <td>0</td>\n",
              "      <td>27</td>\n",
              "      <td>0.9</td>\n",
              "      <td>186</td>\n",
              "      <td>3</td>\n",
              "      <td>4</td>\n",
              "      <td>1270</td>\n",
              "      <td>1366</td>\n",
              "      <td>2396</td>\n",
              "      <td>17</td>\n",
              "      <td>10</td>\n",
              "      <td>10</td>\n",
              "      <td>0</td>\n",
              "      <td>1</td>\n",
              "      <td>1</td>\n",
              "    </tr>\n",
              "    <tr>\n",
              "      <th>3</th>\n",
              "      <td>4</td>\n",
              "      <td>1546</td>\n",
              "      <td>0</td>\n",
              "      <td>0.5</td>\n",
              "      <td>1</td>\n",
              "      <td>18</td>\n",
              "      <td>1</td>\n",
              "      <td>25</td>\n",
              "      <td>0.5</td>\n",
              "      <td>96</td>\n",
              "      <td>8</td>\n",
              "      <td>20</td>\n",
              "      <td>295</td>\n",
              "      <td>1752</td>\n",
              "      <td>3893</td>\n",
              "      <td>10</td>\n",
              "      <td>0</td>\n",
              "      <td>7</td>\n",
              "      <td>1</td>\n",
              "      <td>1</td>\n",
              "      <td>0</td>\n",
              "    </tr>\n",
              "    <tr>\n",
              "      <th>4</th>\n",
              "      <td>5</td>\n",
              "      <td>1434</td>\n",
              "      <td>0</td>\n",
              "      <td>1.4</td>\n",
              "      <td>0</td>\n",
              "      <td>11</td>\n",
              "      <td>1</td>\n",
              "      <td>49</td>\n",
              "      <td>0.5</td>\n",
              "      <td>108</td>\n",
              "      <td>6</td>\n",
              "      <td>18</td>\n",
              "      <td>749</td>\n",
              "      <td>810</td>\n",
              "      <td>1773</td>\n",
              "      <td>15</td>\n",
              "      <td>8</td>\n",
              "      <td>7</td>\n",
              "      <td>1</td>\n",
              "      <td>0</td>\n",
              "      <td>1</td>\n",
              "    </tr>\n",
              "  </tbody>\n",
              "</table>\n",
              "</div>"
            ],
            "text/plain": [
              "   id  battery_power  blue  clock_speed  dual_sim  fc  four_g  int_memory  \\\n",
              "0   1           1043     1          1.8         1  14       0           5   \n",
              "1   2            841     1          0.5         1   4       1          61   \n",
              "2   3           1807     1          2.8         0   1       0          27   \n",
              "3   4           1546     0          0.5         1  18       1          25   \n",
              "4   5           1434     0          1.4         0  11       1          49   \n",
              "\n",
              "   m_dep  mobile_wt  n_cores  pc  px_height  px_width   ram  sc_h  sc_w  \\\n",
              "0    0.1        193        3  16        226      1412  3476    12     7   \n",
              "1    0.8        191        5  12        746       857  3895     6     0   \n",
              "2    0.9        186        3   4       1270      1366  2396    17    10   \n",
              "3    0.5         96        8  20        295      1752  3893    10     0   \n",
              "4    0.5        108        6  18        749       810  1773    15     8   \n",
              "\n",
              "   talk_time  three_g  touch_screen  wifi  \n",
              "0          2        0             1     0  \n",
              "1          7        1             0     0  \n",
              "2         10        0             1     1  \n",
              "3          7        1             1     0  \n",
              "4          7        1             0     1  "
            ]
          },
          "metadata": {
            "tags": []
          },
          "execution_count": 5
        }
      ]
    },
    {
      "cell_type": "code",
      "metadata": {
        "colab": {
          "base_uri": "https://localhost:8080/"
        },
        "id": "-iO27AhPgVJY",
        "outputId": "60917fa0-26eb-4ee4-ac4c-c8862768587d"
      },
      "source": [
        "# check number of train\n",
        "train.shape"
      ],
      "execution_count": 6,
      "outputs": [
        {
          "output_type": "execute_result",
          "data": {
            "text/plain": [
              "(2000, 21)"
            ]
          },
          "metadata": {
            "tags": []
          },
          "execution_count": 6
        }
      ]
    },
    {
      "cell_type": "code",
      "metadata": {
        "id": "uyJE0I7qghP3",
        "colab": {
          "base_uri": "https://localhost:8080/"
        },
        "outputId": "f9e4378b-8fc8-4670-ff64-53e7392f39d1"
      },
      "source": [
        "# check number of test\n",
        "test.shape"
      ],
      "execution_count": 7,
      "outputs": [
        {
          "output_type": "execute_result",
          "data": {
            "text/plain": [
              "(1000, 21)"
            ]
          },
          "metadata": {
            "tags": []
          },
          "execution_count": 7
        }
      ]
    },
    {
      "cell_type": "code",
      "metadata": {
        "colab": {
          "base_uri": "https://localhost:8080/"
        },
        "id": "a_ER6bnIAs4D",
        "outputId": "a7af5e60-a0e7-4be3-91e6-43d7963f05ba"
      },
      "source": [
        "train.info()"
      ],
      "execution_count": 8,
      "outputs": [
        {
          "output_type": "stream",
          "text": [
            "<class 'pandas.core.frame.DataFrame'>\n",
            "RangeIndex: 2000 entries, 0 to 1999\n",
            "Data columns (total 21 columns):\n",
            " #   Column         Non-Null Count  Dtype  \n",
            "---  ------         --------------  -----  \n",
            " 0   battery_power  2000 non-null   int64  \n",
            " 1   blue           2000 non-null   int64  \n",
            " 2   clock_speed    2000 non-null   float64\n",
            " 3   dual_sim       2000 non-null   int64  \n",
            " 4   fc             2000 non-null   int64  \n",
            " 5   four_g         2000 non-null   int64  \n",
            " 6   int_memory     2000 non-null   int64  \n",
            " 7   m_dep          2000 non-null   float64\n",
            " 8   mobile_wt      2000 non-null   int64  \n",
            " 9   n_cores        2000 non-null   int64  \n",
            " 10  pc             2000 non-null   int64  \n",
            " 11  px_height      2000 non-null   int64  \n",
            " 12  px_width       2000 non-null   int64  \n",
            " 13  ram            2000 non-null   int64  \n",
            " 14  sc_h           2000 non-null   int64  \n",
            " 15  sc_w           2000 non-null   int64  \n",
            " 16  talk_time      2000 non-null   int64  \n",
            " 17  three_g        2000 non-null   int64  \n",
            " 18  touch_screen   2000 non-null   int64  \n",
            " 19  wifi           2000 non-null   int64  \n",
            " 20  price_range    2000 non-null   int64  \n",
            "dtypes: float64(2), int64(19)\n",
            "memory usage: 328.2 KB\n"
          ],
          "name": "stdout"
        }
      ]
    },
    {
      "cell_type": "code",
      "metadata": {
        "id": "svoXkkfBY6eb"
      },
      "source": [
        "# normalizing numeric data\n",
        "for cols in train.columns:\n",
        "  if train[cols].dtype == 'int64' or train[cols].dtype == 'float64':\n",
        "    if cols != \"price_range\":\n",
        "      train[cols] = ((train[cols]-train[cols].mean())/(train[cols].std()))"
      ],
      "execution_count": 9,
      "outputs": []
    },
    {
      "cell_type": "code",
      "metadata": {
        "colab": {
          "base_uri": "https://localhost:8080/"
        },
        "id": "-f9uPbgmChui",
        "outputId": "8c683714-bf41-4f52-af67-37cf5fbd1724"
      },
      "source": [
        "# delete outlier for train data\n",
        "for cols in train.columns:\n",
        "  if train[cols].dtype == 'int64' or train[cols].dtype == 'float64':\n",
        "    upper_range = train[cols].mean() + 3 * train[cols].std()\n",
        "    lower_range = train[cols].mean() - 3 * train[cols].std()\n",
        "    idx = train[(train[cols] > upper_range) | (train[cols] < lower_range)].index\n",
        "    train = train.drop(idx)\n",
        "train.info()"
      ],
      "execution_count": 10,
      "outputs": [
        {
          "output_type": "stream",
          "text": [
            "<class 'pandas.core.frame.DataFrame'>\n",
            "Int64Index: 1988 entries, 0 to 1999\n",
            "Data columns (total 21 columns):\n",
            " #   Column         Non-Null Count  Dtype  \n",
            "---  ------         --------------  -----  \n",
            " 0   battery_power  1988 non-null   float64\n",
            " 1   blue           1988 non-null   float64\n",
            " 2   clock_speed    1988 non-null   float64\n",
            " 3   dual_sim       1988 non-null   float64\n",
            " 4   fc             1988 non-null   float64\n",
            " 5   four_g         1988 non-null   float64\n",
            " 6   int_memory     1988 non-null   float64\n",
            " 7   m_dep          1988 non-null   float64\n",
            " 8   mobile_wt      1988 non-null   float64\n",
            " 9   n_cores        1988 non-null   float64\n",
            " 10  pc             1988 non-null   float64\n",
            " 11  px_height      1988 non-null   float64\n",
            " 12  px_width       1988 non-null   float64\n",
            " 13  ram            1988 non-null   float64\n",
            " 14  sc_h           1988 non-null   float64\n",
            " 15  sc_w           1988 non-null   float64\n",
            " 16  talk_time      1988 non-null   float64\n",
            " 17  three_g        1988 non-null   float64\n",
            " 18  touch_screen   1988 non-null   float64\n",
            " 19  wifi           1988 non-null   float64\n",
            " 20  price_range    1988 non-null   int64  \n",
            "dtypes: float64(20), int64(1)\n",
            "memory usage: 421.7 KB\n"
          ],
          "name": "stdout"
        }
      ]
    },
    {
      "cell_type": "code",
      "metadata": {
        "colab": {
          "base_uri": "https://localhost:8080/"
        },
        "id": "21ZPY98_C7Cq",
        "outputId": "0f4383ba-984a-4177-ad5f-592f22a16bf7"
      },
      "source": [
        "# delete outlier for test data\n",
        "for cols in test.columns:\n",
        "  if test[cols].dtype == 'int64' or test[cols].dtype == 'float64':\n",
        "    upper_range = test[cols].mean() + 3 * test[cols].std()\n",
        "    lower_range = test[cols].mean() - 3 * test[cols].std()\n",
        "    idx = test[(test[cols] > upper_range) | (test[cols] < lower_range)].index\n",
        "    test = test.drop(idx)\n",
        "test.info()"
      ],
      "execution_count": 11,
      "outputs": [
        {
          "output_type": "stream",
          "text": [
            "<class 'pandas.core.frame.DataFrame'>\n",
            "Int64Index: 988 entries, 0 to 999\n",
            "Data columns (total 21 columns):\n",
            " #   Column         Non-Null Count  Dtype  \n",
            "---  ------         --------------  -----  \n",
            " 0   id             988 non-null    int64  \n",
            " 1   battery_power  988 non-null    int64  \n",
            " 2   blue           988 non-null    int64  \n",
            " 3   clock_speed    988 non-null    float64\n",
            " 4   dual_sim       988 non-null    int64  \n",
            " 5   fc             988 non-null    int64  \n",
            " 6   four_g         988 non-null    int64  \n",
            " 7   int_memory     988 non-null    int64  \n",
            " 8   m_dep          988 non-null    float64\n",
            " 9   mobile_wt      988 non-null    int64  \n",
            " 10  n_cores        988 non-null    int64  \n",
            " 11  pc             988 non-null    int64  \n",
            " 12  px_height      988 non-null    int64  \n",
            " 13  px_width       988 non-null    int64  \n",
            " 14  ram            988 non-null    int64  \n",
            " 15  sc_h           988 non-null    int64  \n",
            " 16  sc_w           988 non-null    int64  \n",
            " 17  talk_time      988 non-null    int64  \n",
            " 18  three_g        988 non-null    int64  \n",
            " 19  touch_screen   988 non-null    int64  \n",
            " 20  wifi           988 non-null    int64  \n",
            "dtypes: float64(2), int64(19)\n",
            "memory usage: 209.8 KB\n"
          ],
          "name": "stdout"
        }
      ]
    },
    {
      "cell_type": "code",
      "metadata": {
        "id": "O6sg4_lMDwu5",
        "colab": {
          "base_uri": "https://localhost:8080/"
        },
        "outputId": "0f70916b-44bf-4f8b-e271-38ac4f498534"
      },
      "source": [
        "# delet columns without useful information for testdata\n",
        "x_test = test.drop(columns = ['id'])\n",
        "x_test.info()"
      ],
      "execution_count": 12,
      "outputs": [
        {
          "output_type": "stream",
          "text": [
            "<class 'pandas.core.frame.DataFrame'>\n",
            "Int64Index: 988 entries, 0 to 999\n",
            "Data columns (total 20 columns):\n",
            " #   Column         Non-Null Count  Dtype  \n",
            "---  ------         --------------  -----  \n",
            " 0   battery_power  988 non-null    int64  \n",
            " 1   blue           988 non-null    int64  \n",
            " 2   clock_speed    988 non-null    float64\n",
            " 3   dual_sim       988 non-null    int64  \n",
            " 4   fc             988 non-null    int64  \n",
            " 5   four_g         988 non-null    int64  \n",
            " 6   int_memory     988 non-null    int64  \n",
            " 7   m_dep          988 non-null    float64\n",
            " 8   mobile_wt      988 non-null    int64  \n",
            " 9   n_cores        988 non-null    int64  \n",
            " 10  pc             988 non-null    int64  \n",
            " 11  px_height      988 non-null    int64  \n",
            " 12  px_width       988 non-null    int64  \n",
            " 13  ram            988 non-null    int64  \n",
            " 14  sc_h           988 non-null    int64  \n",
            " 15  sc_w           988 non-null    int64  \n",
            " 16  talk_time      988 non-null    int64  \n",
            " 17  three_g        988 non-null    int64  \n",
            " 18  touch_screen   988 non-null    int64  \n",
            " 19  wifi           988 non-null    int64  \n",
            "dtypes: float64(2), int64(18)\n",
            "memory usage: 202.1 KB\n"
          ],
          "name": "stdout"
        }
      ]
    },
    {
      "cell_type": "code",
      "metadata": {
        "colab": {
          "base_uri": "https://localhost:8080/"
        },
        "id": "Kbm54s3PzZVn",
        "outputId": "dc1c90c9-118b-4fc7-b923-2c04cab9971b"
      },
      "source": [
        "# split future and target in train data\n",
        "y = train['price_range']\n",
        "x_train = train.drop(columns = ['price_range'])\n",
        "print('x_train.shape =' , x_train.shape)\n",
        "print('y.shape =' , y.shape)\n",
        "x_train.info()"
      ],
      "execution_count": 13,
      "outputs": [
        {
          "output_type": "stream",
          "text": [
            "x_train.shape = (1988, 20)\n",
            "y.shape = (1988,)\n",
            "<class 'pandas.core.frame.DataFrame'>\n",
            "Int64Index: 1988 entries, 0 to 1999\n",
            "Data columns (total 20 columns):\n",
            " #   Column         Non-Null Count  Dtype  \n",
            "---  ------         --------------  -----  \n",
            " 0   battery_power  1988 non-null   float64\n",
            " 1   blue           1988 non-null   float64\n",
            " 2   clock_speed    1988 non-null   float64\n",
            " 3   dual_sim       1988 non-null   float64\n",
            " 4   fc             1988 non-null   float64\n",
            " 5   four_g         1988 non-null   float64\n",
            " 6   int_memory     1988 non-null   float64\n",
            " 7   m_dep          1988 non-null   float64\n",
            " 8   mobile_wt      1988 non-null   float64\n",
            " 9   n_cores        1988 non-null   float64\n",
            " 10  pc             1988 non-null   float64\n",
            " 11  px_height      1988 non-null   float64\n",
            " 12  px_width       1988 non-null   float64\n",
            " 13  ram            1988 non-null   float64\n",
            " 14  sc_h           1988 non-null   float64\n",
            " 15  sc_w           1988 non-null   float64\n",
            " 16  talk_time      1988 non-null   float64\n",
            " 17  three_g        1988 non-null   float64\n",
            " 18  touch_screen   1988 non-null   float64\n",
            " 19  wifi           1988 non-null   float64\n",
            "dtypes: float64(20)\n",
            "memory usage: 406.2 KB\n"
          ],
          "name": "stdout"
        }
      ]
    },
    {
      "cell_type": "code",
      "metadata": {
        "colab": {
          "base_uri": "https://localhost:8080/"
        },
        "id": "8WzsqR-Z7kaT",
        "outputId": "1bdd1bbc-2ac3-4a57-e583-b5656f7422d4"
      },
      "source": [
        "# Create a Radial basis function SVM classifier\n",
        "svclassifier = svm.SVC(kernel='rbf')\n",
        "svclassifier.fit(x_train, y)\n",
        "y_train, y_test = tts( y , test_size = 0.4965, random_state = 0)\n",
        "pred = svclassifier.predict(x_test)\n",
        "print(confusion_matrix(y_test,pred))\n",
        "print(classification_report(y_test,pred))"
      ],
      "execution_count": 14,
      "outputs": [
        {
          "output_type": "stream",
          "text": [
            "[[  0 252   0   0]\n",
            " [  0 247   0   0]\n",
            " [  0 245   0   0]\n",
            " [  0 244   0   0]]\n",
            "              precision    recall  f1-score   support\n",
            "\n",
            "           0       0.00      0.00      0.00       252\n",
            "           1       0.25      1.00      0.40       247\n",
            "           2       0.00      0.00      0.00       245\n",
            "           3       0.00      0.00      0.00       244\n",
            "\n",
            "    accuracy                           0.25       988\n",
            "   macro avg       0.06      0.25      0.10       988\n",
            "weighted avg       0.06      0.25      0.10       988\n",
            "\n"
          ],
          "name": "stdout"
        },
        {
          "output_type": "stream",
          "text": [
            "/usr/local/lib/python3.7/dist-packages/sklearn/metrics/_classification.py:1272: UndefinedMetricWarning: Precision and F-score are ill-defined and being set to 0.0 in labels with no predicted samples. Use `zero_division` parameter to control this behavior.\n",
            "  _warn_prf(average, modifier, msg_start, len(result))\n"
          ],
          "name": "stderr"
        }
      ]
    },
    {
      "cell_type": "code",
      "metadata": {
        "colab": {
          "base_uri": "https://localhost:8080/"
        },
        "id": "CHjdiWJWBzOl",
        "outputId": "cecec909-a9e0-4b39-caec-4044f17170c0"
      },
      "source": [
        "# Create a polynomial SVM classifier\n",
        "svclassifier = svm.SVC(kernel='poly')\n",
        "svclassifier.fit(x_train, y)\n",
        "y_train, y_test = tts( y , test_size = 0.4965, random_state = 0)\n",
        "pred = svclassifier.predict(x_test)\n",
        "print(confusion_matrix(y_test,pred))\n",
        "print(classification_report(y_test,pred))"
      ],
      "execution_count": 15,
      "outputs": [
        {
          "output_type": "stream",
          "text": [
            "[[  0   0   0 252]\n",
            " [  0   0   0 247]\n",
            " [  0   0   0 245]\n",
            " [  0   0   0 244]]\n",
            "              precision    recall  f1-score   support\n",
            "\n",
            "           0       0.00      0.00      0.00       252\n",
            "           1       0.00      0.00      0.00       247\n",
            "           2       0.00      0.00      0.00       245\n",
            "           3       0.25      1.00      0.40       244\n",
            "\n",
            "    accuracy                           0.25       988\n",
            "   macro avg       0.06      0.25      0.10       988\n",
            "weighted avg       0.06      0.25      0.10       988\n",
            "\n"
          ],
          "name": "stdout"
        },
        {
          "output_type": "stream",
          "text": [
            "/usr/local/lib/python3.7/dist-packages/sklearn/metrics/_classification.py:1272: UndefinedMetricWarning: Precision and F-score are ill-defined and being set to 0.0 in labels with no predicted samples. Use `zero_division` parameter to control this behavior.\n",
            "  _warn_prf(average, modifier, msg_start, len(result))\n"
          ],
          "name": "stderr"
        }
      ]
    },
    {
      "cell_type": "code",
      "metadata": {
        "colab": {
          "base_uri": "https://localhost:8080/"
        },
        "id": "v2q0xRsWB-mD",
        "outputId": "c2f32d39-4bc9-4522-de02-03bd8bdce11a"
      },
      "source": [
        "# Create a linear SVM classifier\n",
        "svclassifier = svm.SVC(kernel='linear')\n",
        "svclassifier.fit(x_train, y)\n",
        "y_train, y_test = tts( y , test_size = 0.4965, random_state = 0)\n",
        "pred = svclassifier.predict(x_test)\n",
        "print(confusion_matrix(y_test,pred))\n",
        "print(classification_report(y_test,pred))"
      ],
      "execution_count": 16,
      "outputs": [
        {
          "output_type": "stream",
          "text": [
            "[[  0   0   0 252]\n",
            " [  0   0   0 247]\n",
            " [  0   0   0 245]\n",
            " [  0   0   0 244]]\n",
            "              precision    recall  f1-score   support\n",
            "\n",
            "           0       0.00      0.00      0.00       252\n",
            "           1       0.00      0.00      0.00       247\n",
            "           2       0.00      0.00      0.00       245\n",
            "           3       0.25      1.00      0.40       244\n",
            "\n",
            "    accuracy                           0.25       988\n",
            "   macro avg       0.06      0.25      0.10       988\n",
            "weighted avg       0.06      0.25      0.10       988\n",
            "\n"
          ],
          "name": "stdout"
        },
        {
          "output_type": "stream",
          "text": [
            "/usr/local/lib/python3.7/dist-packages/sklearn/metrics/_classification.py:1272: UndefinedMetricWarning: Precision and F-score are ill-defined and being set to 0.0 in labels with no predicted samples. Use `zero_division` parameter to control this behavior.\n",
            "  _warn_prf(average, modifier, msg_start, len(result))\n"
          ],
          "name": "stderr"
        }
      ]
    },
    {
      "cell_type": "code",
      "metadata": {
        "colab": {
          "base_uri": "https://localhost:8080/"
        },
        "id": "fFZzSuCkChWG",
        "outputId": "2a76c657-f24e-47a1-d79d-fc844d8ecfe4"
      },
      "source": [
        "# Create a sigmoid SVM classifier\n",
        "svclassifier = svm.SVC(kernel='sigmoid')\n",
        "svclassifier.fit(x_train, y)\n",
        "y_train, y_test = tts( y , test_size = 0.4965, random_state = 0)\n",
        "pred = svclassifier.predict(x_test)\n",
        "print(confusion_matrix(y_test,pred))\n",
        "print(classification_report(y_test,pred))"
      ],
      "execution_count": 17,
      "outputs": [
        {
          "output_type": "stream",
          "text": [
            "[[  0   0  34 218]\n",
            " [  0   0  21 226]\n",
            " [  0   0  22 223]\n",
            " [  0   0  27 217]]\n",
            "              precision    recall  f1-score   support\n",
            "\n",
            "           0       0.00      0.00      0.00       252\n",
            "           1       0.00      0.00      0.00       247\n",
            "           2       0.21      0.09      0.13       245\n",
            "           3       0.25      0.89      0.38       244\n",
            "\n",
            "    accuracy                           0.24       988\n",
            "   macro avg       0.11      0.24      0.13       988\n",
            "weighted avg       0.11      0.24      0.13       988\n",
            "\n"
          ],
          "name": "stdout"
        },
        {
          "output_type": "stream",
          "text": [
            "/usr/local/lib/python3.7/dist-packages/sklearn/metrics/_classification.py:1272: UndefinedMetricWarning: Precision and F-score are ill-defined and being set to 0.0 in labels with no predicted samples. Use `zero_division` parameter to control this behavior.\n",
            "  _warn_prf(average, modifier, msg_start, len(result))\n"
          ],
          "name": "stderr"
        }
      ]
    },
    {
      "cell_type": "code",
      "metadata": {
        "colab": {
          "base_uri": "https://localhost:8080/"
        },
        "id": "DcBnZDyaTX6A",
        "outputId": "4d62670f-14f3-4e3f-bdbc-8c99c8777648"
      },
      "source": [
        "# Create a linear SVM classifier with Hard Margin Classification\n",
        "svclassifier = svm.SVC(kernel='linear' , C = 1000)\n",
        "svclassifier.fit(x_train, y)\n",
        "y_train, y_test = tts( y , test_size = 0.4965, random_state = 0)\n",
        "pred = svclassifier.predict(x_test)\n",
        "print(confusion_matrix(y_test,pred))\n",
        "print(classification_report(y_test,pred))"
      ],
      "execution_count": 18,
      "outputs": [
        {
          "output_type": "stream",
          "text": [
            "[[  0   0   0 252]\n",
            " [  0   0   0 247]\n",
            " [  0   0   0 245]\n",
            " [  0   0   0 244]]\n",
            "              precision    recall  f1-score   support\n",
            "\n",
            "           0       0.00      0.00      0.00       252\n",
            "           1       0.00      0.00      0.00       247\n",
            "           2       0.00      0.00      0.00       245\n",
            "           3       0.25      1.00      0.40       244\n",
            "\n",
            "    accuracy                           0.25       988\n",
            "   macro avg       0.06      0.25      0.10       988\n",
            "weighted avg       0.06      0.25      0.10       988\n",
            "\n"
          ],
          "name": "stdout"
        },
        {
          "output_type": "stream",
          "text": [
            "/usr/local/lib/python3.7/dist-packages/sklearn/metrics/_classification.py:1272: UndefinedMetricWarning: Precision and F-score are ill-defined and being set to 0.0 in labels with no predicted samples. Use `zero_division` parameter to control this behavior.\n",
            "  _warn_prf(average, modifier, msg_start, len(result))\n"
          ],
          "name": "stderr"
        }
      ]
    },
    {
      "cell_type": "code",
      "metadata": {
        "id": "P_olU1JjUEn7",
        "colab": {
          "base_uri": "https://localhost:8080/"
        },
        "outputId": "ac0ed045-576a-4f60-f8cc-1435fc0863d2"
      },
      "source": [
        "# Create a linear SVM classifier with soft Margin Classification\n",
        "svclassifier = svm.SVC(kernel='linear' , C = 0.1)\n",
        "svclassifier.fit(x_train, y)\n",
        "y_train, y_test = tts( y , test_size = 0.4965, random_state = 0)\n",
        "pred = svclassifier.predict(x_test)\n",
        "print(confusion_matrix(y_test,pred))\n",
        "print(classification_report(y_test,pred))"
      ],
      "execution_count": 19,
      "outputs": [
        {
          "output_type": "stream",
          "text": [
            "[[  0   0   0 252]\n",
            " [  0   0   0 247]\n",
            " [  0   0   0 245]\n",
            " [  0   0   0 244]]\n",
            "              precision    recall  f1-score   support\n",
            "\n",
            "           0       0.00      0.00      0.00       252\n",
            "           1       0.00      0.00      0.00       247\n",
            "           2       0.00      0.00      0.00       245\n",
            "           3       0.25      1.00      0.40       244\n",
            "\n",
            "    accuracy                           0.25       988\n",
            "   macro avg       0.06      0.25      0.10       988\n",
            "weighted avg       0.06      0.25      0.10       988\n",
            "\n"
          ],
          "name": "stdout"
        },
        {
          "output_type": "stream",
          "text": [
            "/usr/local/lib/python3.7/dist-packages/sklearn/metrics/_classification.py:1272: UndefinedMetricWarning: Precision and F-score are ill-defined and being set to 0.0 in labels with no predicted samples. Use `zero_division` parameter to control this behavior.\n",
            "  _warn_prf(average, modifier, msg_start, len(result))\n"
          ],
          "name": "stderr"
        }
      ]
    }
  ]
}