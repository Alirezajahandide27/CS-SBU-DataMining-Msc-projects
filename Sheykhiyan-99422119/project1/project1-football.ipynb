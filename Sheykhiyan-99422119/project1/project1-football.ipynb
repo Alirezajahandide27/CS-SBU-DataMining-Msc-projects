{
  "nbformat": 4,
  "nbformat_minor": 0,
  "metadata": {
    "colab": {
      "name": "project2-1.ipynb",
      "provenance": [],
      "collapsed_sections": []
    },
    "kernelspec": {
      "display_name": "Python 3",
      "name": "python3"
    },
    "language_info": {
      "name": "python"
    }
  },
  "cells": [
    {
      "cell_type": "code",
      "metadata": {
        "colab": {
          "base_uri": "https://localhost:8080/"
        },
        "id": "LXINIq-3dh2U",
        "outputId": "00068a90-72be-41de-ef7c-929f59f83287"
      },
      "source": [
        "pip install seaborn"
      ],
      "execution_count": 176,
      "outputs": [
        {
          "output_type": "stream",
          "text": [
            "Requirement already satisfied: seaborn in /usr/local/lib/python3.7/dist-packages (0.11.1)\n",
            "Requirement already satisfied: pandas>=0.23 in /usr/local/lib/python3.7/dist-packages (from seaborn) (1.1.5)\n",
            "Requirement already satisfied: matplotlib>=2.2 in /usr/local/lib/python3.7/dist-packages (from seaborn) (3.2.2)\n",
            "Requirement already satisfied: scipy>=1.0 in /usr/local/lib/python3.7/dist-packages (from seaborn) (1.4.1)\n",
            "Requirement already satisfied: numpy>=1.15 in /usr/local/lib/python3.7/dist-packages (from seaborn) (1.19.5)\n",
            "Requirement already satisfied: python-dateutil>=2.7.3 in /usr/local/lib/python3.7/dist-packages (from pandas>=0.23->seaborn) (2.8.1)\n",
            "Requirement already satisfied: pytz>=2017.2 in /usr/local/lib/python3.7/dist-packages (from pandas>=0.23->seaborn) (2018.9)\n",
            "Requirement already satisfied: kiwisolver>=1.0.1 in /usr/local/lib/python3.7/dist-packages (from matplotlib>=2.2->seaborn) (1.3.1)\n",
            "Requirement already satisfied: cycler>=0.10 in /usr/local/lib/python3.7/dist-packages (from matplotlib>=2.2->seaborn) (0.10.0)\n",
            "Requirement already satisfied: pyparsing!=2.0.4,!=2.1.2,!=2.1.6,>=2.0.1 in /usr/local/lib/python3.7/dist-packages (from matplotlib>=2.2->seaborn) (2.4.7)\n",
            "Requirement already satisfied: six>=1.5 in /usr/local/lib/python3.7/dist-packages (from python-dateutil>=2.7.3->pandas>=0.23->seaborn) (1.15.0)\n"
          ],
          "name": "stdout"
        }
      ]
    },
    {
      "cell_type": "code",
      "metadata": {
        "id": "ujvH--t6dv48"
      },
      "source": [
        "import pandas as pd\n",
        "import numpy as np\n",
        "import matplotlib.pyplot as plt\n",
        "import seaborn as sns"
      ],
      "execution_count": 177,
      "outputs": []
    },
    {
      "cell_type": "code",
      "metadata": {
        "colab": {
          "resources": {
            "http://localhost:8080/nbextensions/google.colab/files.js": {
              "data": "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",
              "ok": true,
              "headers": [
                [
                  "content-type",
                  "application/javascript"
                ]
              ],
              "status": 200,
              "status_text": "OK"
            }
          },
          "base_uri": "https://localhost:8080/",
          "height": 77
        },
        "id": "pmw8Gau7ff3C",
        "outputId": "37fb3d5d-f32f-4bd0-ab55-f008da2098b0"
      },
      "source": [
        "from google.colab import files\n",
        "uploaded = files.upload()\n",
        "df = pd.read_csv('results.csv')"
      ],
      "execution_count": 178,
      "outputs": [
        {
          "output_type": "display_data",
          "data": {
            "text/html": [
              "\n",
              "     <input type=\"file\" id=\"files-aab5c930-9712-40c3-9ecc-afb4705d932e\" name=\"files[]\" multiple disabled\n",
              "        style=\"border:none\" />\n",
              "     <output id=\"result-aab5c930-9712-40c3-9ecc-afb4705d932e\">\n",
              "      Upload widget is only available when the cell has been executed in the\n",
              "      current browser session. Please rerun this cell to enable.\n",
              "      </output>\n",
              "      <script src=\"/nbextensions/google.colab/files.js\"></script> "
            ],
            "text/plain": [
              "<IPython.core.display.HTML object>"
            ]
          },
          "metadata": {
            "tags": []
          }
        },
        {
          "output_type": "stream",
          "text": [
            "Saving results.csv to results (1).csv\n"
          ],
          "name": "stdout"
        }
      ]
    },
    {
      "cell_type": "code",
      "metadata": {
        "id": "X3s8BYk1qdU_"
      },
      "source": [
        "df = pd.read_csv('results.csv')"
      ],
      "execution_count": 179,
      "outputs": []
    },
    {
      "cell_type": "code",
      "metadata": {
        "id": "er8q4LPDqbM2"
      },
      "source": [
        "result=np.concatenate(  (df.home_team,df.away_team),axis=0  )"
      ],
      "execution_count": 180,
      "outputs": []
    },
    {
      "cell_type": "code",
      "metadata": {
        "colab": {
          "base_uri": "https://localhost:8080/"
        },
        "id": "vZzRvZKtrBiZ",
        "outputId": "72011faf-b1df-43aa-b4c2-d24125f94d10"
      },
      "source": [
        "result.size\n"
      ],
      "execution_count": 181,
      "outputs": [
        {
          "output_type": "execute_result",
          "data": {
            "text/plain": [
              "83752"
            ]
          },
          "metadata": {
            "tags": []
          },
          "execution_count": 181
        }
      ]
    },
    {
      "cell_type": "code",
      "metadata": {
        "id": "sq2Mx7u9rpCZ"
      },
      "source": [
        "result=np.unique(result)"
      ],
      "execution_count": 182,
      "outputs": []
    },
    {
      "cell_type": "code",
      "metadata": {
        "colab": {
          "base_uri": "https://localhost:8080/"
        },
        "id": "kcvJMi5Ns70F",
        "outputId": "2791126e-6026-4b1d-a7d9-00eeb47eec15"
      },
      "source": [
        "result.size"
      ],
      "execution_count": 183,
      "outputs": [
        {
          "output_type": "execute_result",
          "data": {
            "text/plain": [
              "313"
            ]
          },
          "metadata": {
            "tags": []
          },
          "execution_count": 183
        }
      ]
    },
    {
      "cell_type": "code",
      "metadata": {
        "id": "3GynFM_Jbs7o"
      },
      "source": [
        "df = pd.read_csv('results.csv')"
      ],
      "execution_count": 184,
      "outputs": []
    },
    {
      "cell_type": "code",
      "metadata": {
        "colab": {
          "base_uri": "https://localhost:8080/"
        },
        "id": "qP-O_luvgASm",
        "outputId": "1efe2c30-9e57-45c9-9957-9cc9e8d2c78d"
      },
      "source": [
        "df.dtypes"
      ],
      "execution_count": 185,
      "outputs": [
        {
          "output_type": "execute_result",
          "data": {
            "text/plain": [
              "date          object\n",
              "home_team     object\n",
              "away_team     object\n",
              "home_score     int64\n",
              "away_score     int64\n",
              "tournament    object\n",
              "city          object\n",
              "country       object\n",
              "neutral         bool\n",
              "dtype: object"
            ]
          },
          "metadata": {
            "tags": []
          },
          "execution_count": 185
        }
      ]
    },
    {
      "cell_type": "code",
      "metadata": {
        "colab": {
          "base_uri": "https://localhost:8080/"
        },
        "id": "3mY34NKzgNGw",
        "outputId": "d4da1ae6-bff2-451d-a35d-f15352b0e75e"
      },
      "source": [
        "df.info()"
      ],
      "execution_count": 186,
      "outputs": [
        {
          "output_type": "stream",
          "text": [
            "<class 'pandas.core.frame.DataFrame'>\n",
            "RangeIndex: 41876 entries, 0 to 41875\n",
            "Data columns (total 9 columns):\n",
            " #   Column      Non-Null Count  Dtype \n",
            "---  ------      --------------  ----- \n",
            " 0   date        41876 non-null  object\n",
            " 1   home_team   41876 non-null  object\n",
            " 2   away_team   41876 non-null  object\n",
            " 3   home_score  41876 non-null  int64 \n",
            " 4   away_score  41876 non-null  int64 \n",
            " 5   tournament  41876 non-null  object\n",
            " 6   city        41876 non-null  object\n",
            " 7   country     41876 non-null  object\n",
            " 8   neutral     41876 non-null  bool  \n",
            "dtypes: bool(1), int64(2), object(6)\n",
            "memory usage: 2.6+ MB\n"
          ],
          "name": "stdout"
        }
      ]
    },
    {
      "cell_type": "code",
      "metadata": {
        "colab": {
          "base_uri": "https://localhost:8080/",
          "height": 300
        },
        "id": "dlBoZzcugQLk",
        "outputId": "c151b57a-1a3c-4c98-aaf3-579e49a91d5a"
      },
      "source": [
        "df.describe()"
      ],
      "execution_count": 187,
      "outputs": [
        {
          "output_type": "execute_result",
          "data": {
            "text/html": [
              "<div>\n",
              "<style scoped>\n",
              "    .dataframe tbody tr th:only-of-type {\n",
              "        vertical-align: middle;\n",
              "    }\n",
              "\n",
              "    .dataframe tbody tr th {\n",
              "        vertical-align: top;\n",
              "    }\n",
              "\n",
              "    .dataframe thead th {\n",
              "        text-align: right;\n",
              "    }\n",
              "</style>\n",
              "<table border=\"1\" class=\"dataframe\">\n",
              "  <thead>\n",
              "    <tr style=\"text-align: right;\">\n",
              "      <th></th>\n",
              "      <th>home_score</th>\n",
              "      <th>away_score</th>\n",
              "    </tr>\n",
              "  </thead>\n",
              "  <tbody>\n",
              "    <tr>\n",
              "      <th>count</th>\n",
              "      <td>41876.000000</td>\n",
              "      <td>41876.000000</td>\n",
              "    </tr>\n",
              "    <tr>\n",
              "      <th>mean</th>\n",
              "      <td>1.744293</td>\n",
              "      <td>1.186503</td>\n",
              "    </tr>\n",
              "    <tr>\n",
              "      <th>std</th>\n",
              "      <td>1.752248</td>\n",
              "      <td>1.403053</td>\n",
              "    </tr>\n",
              "    <tr>\n",
              "      <th>min</th>\n",
              "      <td>0.000000</td>\n",
              "      <td>0.000000</td>\n",
              "    </tr>\n",
              "    <tr>\n",
              "      <th>25%</th>\n",
              "      <td>1.000000</td>\n",
              "      <td>0.000000</td>\n",
              "    </tr>\n",
              "    <tr>\n",
              "      <th>50%</th>\n",
              "      <td>1.000000</td>\n",
              "      <td>1.000000</td>\n",
              "    </tr>\n",
              "    <tr>\n",
              "      <th>75%</th>\n",
              "      <td>2.000000</td>\n",
              "      <td>2.000000</td>\n",
              "    </tr>\n",
              "    <tr>\n",
              "      <th>max</th>\n",
              "      <td>31.000000</td>\n",
              "      <td>21.000000</td>\n",
              "    </tr>\n",
              "  </tbody>\n",
              "</table>\n",
              "</div>"
            ],
            "text/plain": [
              "         home_score    away_score\n",
              "count  41876.000000  41876.000000\n",
              "mean       1.744293      1.186503\n",
              "std        1.752248      1.403053\n",
              "min        0.000000      0.000000\n",
              "25%        1.000000      0.000000\n",
              "50%        1.000000      1.000000\n",
              "75%        2.000000      2.000000\n",
              "max       31.000000     21.000000"
            ]
          },
          "metadata": {
            "tags": []
          },
          "execution_count": 187
        }
      ]
    },
    {
      "cell_type": "code",
      "metadata": {
        "colab": {
          "base_uri": "https://localhost:8080/",
          "height": 1000
        },
        "id": "2y6b2Q2yWpx1",
        "outputId": "16b03804-c50d-4ea3-b90e-652dc4e15c99"
      },
      "source": [
        "df.head(50)"
      ],
      "execution_count": 188,
      "outputs": [
        {
          "output_type": "execute_result",
          "data": {
            "text/html": [
              "<div>\n",
              "<style scoped>\n",
              "    .dataframe tbody tr th:only-of-type {\n",
              "        vertical-align: middle;\n",
              "    }\n",
              "\n",
              "    .dataframe tbody tr th {\n",
              "        vertical-align: top;\n",
              "    }\n",
              "\n",
              "    .dataframe thead th {\n",
              "        text-align: right;\n",
              "    }\n",
              "</style>\n",
              "<table border=\"1\" class=\"dataframe\">\n",
              "  <thead>\n",
              "    <tr style=\"text-align: right;\">\n",
              "      <th></th>\n",
              "      <th>date</th>\n",
              "      <th>home_team</th>\n",
              "      <th>away_team</th>\n",
              "      <th>home_score</th>\n",
              "      <th>away_score</th>\n",
              "      <th>tournament</th>\n",
              "      <th>city</th>\n",
              "      <th>country</th>\n",
              "      <th>neutral</th>\n",
              "    </tr>\n",
              "  </thead>\n",
              "  <tbody>\n",
              "    <tr>\n",
              "      <th>0</th>\n",
              "      <td>1872-11-30</td>\n",
              "      <td>Scotland</td>\n",
              "      <td>England</td>\n",
              "      <td>0</td>\n",
              "      <td>0</td>\n",
              "      <td>Friendly</td>\n",
              "      <td>Glasgow</td>\n",
              "      <td>Scotland</td>\n",
              "      <td>False</td>\n",
              "    </tr>\n",
              "    <tr>\n",
              "      <th>1</th>\n",
              "      <td>1873-03-08</td>\n",
              "      <td>England</td>\n",
              "      <td>Scotland</td>\n",
              "      <td>4</td>\n",
              "      <td>2</td>\n",
              "      <td>Friendly</td>\n",
              "      <td>London</td>\n",
              "      <td>England</td>\n",
              "      <td>False</td>\n",
              "    </tr>\n",
              "    <tr>\n",
              "      <th>2</th>\n",
              "      <td>1874-03-07</td>\n",
              "      <td>Scotland</td>\n",
              "      <td>England</td>\n",
              "      <td>2</td>\n",
              "      <td>1</td>\n",
              "      <td>Friendly</td>\n",
              "      <td>Glasgow</td>\n",
              "      <td>Scotland</td>\n",
              "      <td>False</td>\n",
              "    </tr>\n",
              "    <tr>\n",
              "      <th>3</th>\n",
              "      <td>1875-03-06</td>\n",
              "      <td>England</td>\n",
              "      <td>Scotland</td>\n",
              "      <td>2</td>\n",
              "      <td>2</td>\n",
              "      <td>Friendly</td>\n",
              "      <td>London</td>\n",
              "      <td>England</td>\n",
              "      <td>False</td>\n",
              "    </tr>\n",
              "    <tr>\n",
              "      <th>4</th>\n",
              "      <td>1876-03-04</td>\n",
              "      <td>Scotland</td>\n",
              "      <td>England</td>\n",
              "      <td>3</td>\n",
              "      <td>0</td>\n",
              "      <td>Friendly</td>\n",
              "      <td>Glasgow</td>\n",
              "      <td>Scotland</td>\n",
              "      <td>False</td>\n",
              "    </tr>\n",
              "    <tr>\n",
              "      <th>5</th>\n",
              "      <td>1876-03-25</td>\n",
              "      <td>Scotland</td>\n",
              "      <td>Wales</td>\n",
              "      <td>4</td>\n",
              "      <td>0</td>\n",
              "      <td>Friendly</td>\n",
              "      <td>Glasgow</td>\n",
              "      <td>Scotland</td>\n",
              "      <td>False</td>\n",
              "    </tr>\n",
              "    <tr>\n",
              "      <th>6</th>\n",
              "      <td>1877-03-03</td>\n",
              "      <td>England</td>\n",
              "      <td>Scotland</td>\n",
              "      <td>1</td>\n",
              "      <td>3</td>\n",
              "      <td>Friendly</td>\n",
              "      <td>London</td>\n",
              "      <td>England</td>\n",
              "      <td>False</td>\n",
              "    </tr>\n",
              "    <tr>\n",
              "      <th>7</th>\n",
              "      <td>1877-03-05</td>\n",
              "      <td>Wales</td>\n",
              "      <td>Scotland</td>\n",
              "      <td>0</td>\n",
              "      <td>2</td>\n",
              "      <td>Friendly</td>\n",
              "      <td>Wrexham</td>\n",
              "      <td>Wales</td>\n",
              "      <td>False</td>\n",
              "    </tr>\n",
              "    <tr>\n",
              "      <th>8</th>\n",
              "      <td>1878-03-02</td>\n",
              "      <td>Scotland</td>\n",
              "      <td>England</td>\n",
              "      <td>7</td>\n",
              "      <td>2</td>\n",
              "      <td>Friendly</td>\n",
              "      <td>Glasgow</td>\n",
              "      <td>Scotland</td>\n",
              "      <td>False</td>\n",
              "    </tr>\n",
              "    <tr>\n",
              "      <th>9</th>\n",
              "      <td>1878-03-23</td>\n",
              "      <td>Scotland</td>\n",
              "      <td>Wales</td>\n",
              "      <td>9</td>\n",
              "      <td>0</td>\n",
              "      <td>Friendly</td>\n",
              "      <td>Glasgow</td>\n",
              "      <td>Scotland</td>\n",
              "      <td>False</td>\n",
              "    </tr>\n",
              "    <tr>\n",
              "      <th>10</th>\n",
              "      <td>1879-01-18</td>\n",
              "      <td>England</td>\n",
              "      <td>Wales</td>\n",
              "      <td>2</td>\n",
              "      <td>1</td>\n",
              "      <td>Friendly</td>\n",
              "      <td>London</td>\n",
              "      <td>England</td>\n",
              "      <td>False</td>\n",
              "    </tr>\n",
              "    <tr>\n",
              "      <th>11</th>\n",
              "      <td>1879-04-05</td>\n",
              "      <td>England</td>\n",
              "      <td>Scotland</td>\n",
              "      <td>5</td>\n",
              "      <td>4</td>\n",
              "      <td>Friendly</td>\n",
              "      <td>London</td>\n",
              "      <td>England</td>\n",
              "      <td>False</td>\n",
              "    </tr>\n",
              "    <tr>\n",
              "      <th>12</th>\n",
              "      <td>1879-04-07</td>\n",
              "      <td>Wales</td>\n",
              "      <td>Scotland</td>\n",
              "      <td>0</td>\n",
              "      <td>3</td>\n",
              "      <td>Friendly</td>\n",
              "      <td>Wrexham</td>\n",
              "      <td>Wales</td>\n",
              "      <td>False</td>\n",
              "    </tr>\n",
              "    <tr>\n",
              "      <th>13</th>\n",
              "      <td>1880-03-13</td>\n",
              "      <td>Scotland</td>\n",
              "      <td>England</td>\n",
              "      <td>5</td>\n",
              "      <td>4</td>\n",
              "      <td>Friendly</td>\n",
              "      <td>Glasgow</td>\n",
              "      <td>Scotland</td>\n",
              "      <td>False</td>\n",
              "    </tr>\n",
              "    <tr>\n",
              "      <th>14</th>\n",
              "      <td>1880-03-15</td>\n",
              "      <td>Wales</td>\n",
              "      <td>England</td>\n",
              "      <td>2</td>\n",
              "      <td>3</td>\n",
              "      <td>Friendly</td>\n",
              "      <td>Wrexham</td>\n",
              "      <td>Wales</td>\n",
              "      <td>False</td>\n",
              "    </tr>\n",
              "    <tr>\n",
              "      <th>15</th>\n",
              "      <td>1880-03-27</td>\n",
              "      <td>Scotland</td>\n",
              "      <td>Wales</td>\n",
              "      <td>5</td>\n",
              "      <td>1</td>\n",
              "      <td>Friendly</td>\n",
              "      <td>Glasgow</td>\n",
              "      <td>Scotland</td>\n",
              "      <td>False</td>\n",
              "    </tr>\n",
              "    <tr>\n",
              "      <th>16</th>\n",
              "      <td>1881-02-26</td>\n",
              "      <td>England</td>\n",
              "      <td>Wales</td>\n",
              "      <td>0</td>\n",
              "      <td>1</td>\n",
              "      <td>Friendly</td>\n",
              "      <td>Blackburn</td>\n",
              "      <td>England</td>\n",
              "      <td>False</td>\n",
              "    </tr>\n",
              "    <tr>\n",
              "      <th>17</th>\n",
              "      <td>1881-03-12</td>\n",
              "      <td>England</td>\n",
              "      <td>Scotland</td>\n",
              "      <td>1</td>\n",
              "      <td>6</td>\n",
              "      <td>Friendly</td>\n",
              "      <td>London</td>\n",
              "      <td>England</td>\n",
              "      <td>False</td>\n",
              "    </tr>\n",
              "    <tr>\n",
              "      <th>18</th>\n",
              "      <td>1881-03-14</td>\n",
              "      <td>Wales</td>\n",
              "      <td>Scotland</td>\n",
              "      <td>1</td>\n",
              "      <td>5</td>\n",
              "      <td>Friendly</td>\n",
              "      <td>Wrexham</td>\n",
              "      <td>Wales</td>\n",
              "      <td>False</td>\n",
              "    </tr>\n",
              "    <tr>\n",
              "      <th>19</th>\n",
              "      <td>1882-02-18</td>\n",
              "      <td>Northern Ireland</td>\n",
              "      <td>England</td>\n",
              "      <td>0</td>\n",
              "      <td>13</td>\n",
              "      <td>Friendly</td>\n",
              "      <td>Belfast</td>\n",
              "      <td>Republic of Ireland</td>\n",
              "      <td>False</td>\n",
              "    </tr>\n",
              "    <tr>\n",
              "      <th>20</th>\n",
              "      <td>1882-02-25</td>\n",
              "      <td>Wales</td>\n",
              "      <td>Northern Ireland</td>\n",
              "      <td>7</td>\n",
              "      <td>1</td>\n",
              "      <td>Friendly</td>\n",
              "      <td>Wrexham</td>\n",
              "      <td>Wales</td>\n",
              "      <td>False</td>\n",
              "    </tr>\n",
              "    <tr>\n",
              "      <th>21</th>\n",
              "      <td>1882-03-11</td>\n",
              "      <td>Scotland</td>\n",
              "      <td>England</td>\n",
              "      <td>5</td>\n",
              "      <td>1</td>\n",
              "      <td>Friendly</td>\n",
              "      <td>Glasgow</td>\n",
              "      <td>Scotland</td>\n",
              "      <td>False</td>\n",
              "    </tr>\n",
              "    <tr>\n",
              "      <th>22</th>\n",
              "      <td>1882-03-13</td>\n",
              "      <td>Wales</td>\n",
              "      <td>England</td>\n",
              "      <td>5</td>\n",
              "      <td>3</td>\n",
              "      <td>Friendly</td>\n",
              "      <td>Wrexham</td>\n",
              "      <td>Wales</td>\n",
              "      <td>False</td>\n",
              "    </tr>\n",
              "    <tr>\n",
              "      <th>23</th>\n",
              "      <td>1882-03-25</td>\n",
              "      <td>Scotland</td>\n",
              "      <td>Wales</td>\n",
              "      <td>5</td>\n",
              "      <td>0</td>\n",
              "      <td>Friendly</td>\n",
              "      <td>Glasgow</td>\n",
              "      <td>Scotland</td>\n",
              "      <td>False</td>\n",
              "    </tr>\n",
              "    <tr>\n",
              "      <th>24</th>\n",
              "      <td>1883-02-03</td>\n",
              "      <td>England</td>\n",
              "      <td>Wales</td>\n",
              "      <td>5</td>\n",
              "      <td>0</td>\n",
              "      <td>Friendly</td>\n",
              "      <td>London</td>\n",
              "      <td>England</td>\n",
              "      <td>False</td>\n",
              "    </tr>\n",
              "    <tr>\n",
              "      <th>25</th>\n",
              "      <td>1883-02-24</td>\n",
              "      <td>England</td>\n",
              "      <td>Northern Ireland</td>\n",
              "      <td>7</td>\n",
              "      <td>0</td>\n",
              "      <td>Friendly</td>\n",
              "      <td>Liverpool</td>\n",
              "      <td>England</td>\n",
              "      <td>False</td>\n",
              "    </tr>\n",
              "    <tr>\n",
              "      <th>26</th>\n",
              "      <td>1883-03-10</td>\n",
              "      <td>England</td>\n",
              "      <td>Scotland</td>\n",
              "      <td>2</td>\n",
              "      <td>3</td>\n",
              "      <td>Friendly</td>\n",
              "      <td>Sheffield</td>\n",
              "      <td>England</td>\n",
              "      <td>False</td>\n",
              "    </tr>\n",
              "    <tr>\n",
              "      <th>27</th>\n",
              "      <td>1883-03-12</td>\n",
              "      <td>Wales</td>\n",
              "      <td>Scotland</td>\n",
              "      <td>0</td>\n",
              "      <td>3</td>\n",
              "      <td>Friendly</td>\n",
              "      <td>Wrexham</td>\n",
              "      <td>Wales</td>\n",
              "      <td>False</td>\n",
              "    </tr>\n",
              "    <tr>\n",
              "      <th>28</th>\n",
              "      <td>1883-03-17</td>\n",
              "      <td>Northern Ireland</td>\n",
              "      <td>Wales</td>\n",
              "      <td>1</td>\n",
              "      <td>1</td>\n",
              "      <td>Friendly</td>\n",
              "      <td>Belfast</td>\n",
              "      <td>Republic of Ireland</td>\n",
              "      <td>False</td>\n",
              "    </tr>\n",
              "    <tr>\n",
              "      <th>29</th>\n",
              "      <td>1884-01-26</td>\n",
              "      <td>Northern Ireland</td>\n",
              "      <td>Scotland</td>\n",
              "      <td>0</td>\n",
              "      <td>5</td>\n",
              "      <td>British Championship</td>\n",
              "      <td>Belfast</td>\n",
              "      <td>Republic of Ireland</td>\n",
              "      <td>False</td>\n",
              "    </tr>\n",
              "    <tr>\n",
              "      <th>30</th>\n",
              "      <td>1884-02-09</td>\n",
              "      <td>Wales</td>\n",
              "      <td>Northern Ireland</td>\n",
              "      <td>6</td>\n",
              "      <td>0</td>\n",
              "      <td>British Championship</td>\n",
              "      <td>Wrexham</td>\n",
              "      <td>Wales</td>\n",
              "      <td>False</td>\n",
              "    </tr>\n",
              "    <tr>\n",
              "      <th>31</th>\n",
              "      <td>1884-02-23</td>\n",
              "      <td>Northern Ireland</td>\n",
              "      <td>England</td>\n",
              "      <td>1</td>\n",
              "      <td>8</td>\n",
              "      <td>British Championship</td>\n",
              "      <td>Belfast</td>\n",
              "      <td>Republic of Ireland</td>\n",
              "      <td>False</td>\n",
              "    </tr>\n",
              "    <tr>\n",
              "      <th>32</th>\n",
              "      <td>1884-03-15</td>\n",
              "      <td>Scotland</td>\n",
              "      <td>England</td>\n",
              "      <td>1</td>\n",
              "      <td>0</td>\n",
              "      <td>British Championship</td>\n",
              "      <td>Glasgow</td>\n",
              "      <td>Scotland</td>\n",
              "      <td>False</td>\n",
              "    </tr>\n",
              "    <tr>\n",
              "      <th>33</th>\n",
              "      <td>1884-03-17</td>\n",
              "      <td>Wales</td>\n",
              "      <td>England</td>\n",
              "      <td>0</td>\n",
              "      <td>4</td>\n",
              "      <td>British Championship</td>\n",
              "      <td>Wrexham</td>\n",
              "      <td>Wales</td>\n",
              "      <td>False</td>\n",
              "    </tr>\n",
              "    <tr>\n",
              "      <th>34</th>\n",
              "      <td>1884-03-29</td>\n",
              "      <td>Scotland</td>\n",
              "      <td>Wales</td>\n",
              "      <td>4</td>\n",
              "      <td>1</td>\n",
              "      <td>British Championship</td>\n",
              "      <td>Glasgow</td>\n",
              "      <td>Scotland</td>\n",
              "      <td>False</td>\n",
              "    </tr>\n",
              "    <tr>\n",
              "      <th>35</th>\n",
              "      <td>1885-02-28</td>\n",
              "      <td>England</td>\n",
              "      <td>Northern Ireland</td>\n",
              "      <td>4</td>\n",
              "      <td>0</td>\n",
              "      <td>British Championship</td>\n",
              "      <td>Manchester</td>\n",
              "      <td>England</td>\n",
              "      <td>False</td>\n",
              "    </tr>\n",
              "    <tr>\n",
              "      <th>36</th>\n",
              "      <td>1885-03-14</td>\n",
              "      <td>England</td>\n",
              "      <td>Wales</td>\n",
              "      <td>1</td>\n",
              "      <td>1</td>\n",
              "      <td>British Championship</td>\n",
              "      <td>Blackburn</td>\n",
              "      <td>England</td>\n",
              "      <td>False</td>\n",
              "    </tr>\n",
              "    <tr>\n",
              "      <th>37</th>\n",
              "      <td>1885-03-14</td>\n",
              "      <td>Scotland</td>\n",
              "      <td>Northern Ireland</td>\n",
              "      <td>8</td>\n",
              "      <td>2</td>\n",
              "      <td>British Championship</td>\n",
              "      <td>Glasgow</td>\n",
              "      <td>Scotland</td>\n",
              "      <td>False</td>\n",
              "    </tr>\n",
              "    <tr>\n",
              "      <th>38</th>\n",
              "      <td>1885-03-21</td>\n",
              "      <td>England</td>\n",
              "      <td>Scotland</td>\n",
              "      <td>1</td>\n",
              "      <td>1</td>\n",
              "      <td>British Championship</td>\n",
              "      <td>London</td>\n",
              "      <td>England</td>\n",
              "      <td>False</td>\n",
              "    </tr>\n",
              "    <tr>\n",
              "      <th>39</th>\n",
              "      <td>1885-03-23</td>\n",
              "      <td>Wales</td>\n",
              "      <td>Scotland</td>\n",
              "      <td>1</td>\n",
              "      <td>8</td>\n",
              "      <td>British Championship</td>\n",
              "      <td>Wrexham</td>\n",
              "      <td>Wales</td>\n",
              "      <td>False</td>\n",
              "    </tr>\n",
              "    <tr>\n",
              "      <th>40</th>\n",
              "      <td>1885-04-11</td>\n",
              "      <td>Northern Ireland</td>\n",
              "      <td>Wales</td>\n",
              "      <td>2</td>\n",
              "      <td>8</td>\n",
              "      <td>British Championship</td>\n",
              "      <td>Belfast</td>\n",
              "      <td>Republic of Ireland</td>\n",
              "      <td>False</td>\n",
              "    </tr>\n",
              "    <tr>\n",
              "      <th>41</th>\n",
              "      <td>1885-11-28</td>\n",
              "      <td>United States</td>\n",
              "      <td>Canada</td>\n",
              "      <td>0</td>\n",
              "      <td>1</td>\n",
              "      <td>Friendly</td>\n",
              "      <td>Newark</td>\n",
              "      <td>United States</td>\n",
              "      <td>False</td>\n",
              "    </tr>\n",
              "    <tr>\n",
              "      <th>42</th>\n",
              "      <td>1886-02-27</td>\n",
              "      <td>Wales</td>\n",
              "      <td>Northern Ireland</td>\n",
              "      <td>5</td>\n",
              "      <td>0</td>\n",
              "      <td>British Championship</td>\n",
              "      <td>Wrexham</td>\n",
              "      <td>Wales</td>\n",
              "      <td>False</td>\n",
              "    </tr>\n",
              "    <tr>\n",
              "      <th>43</th>\n",
              "      <td>1886-03-13</td>\n",
              "      <td>Northern Ireland</td>\n",
              "      <td>England</td>\n",
              "      <td>1</td>\n",
              "      <td>6</td>\n",
              "      <td>British Championship</td>\n",
              "      <td>Belfast</td>\n",
              "      <td>Republic of Ireland</td>\n",
              "      <td>False</td>\n",
              "    </tr>\n",
              "    <tr>\n",
              "      <th>44</th>\n",
              "      <td>1886-03-20</td>\n",
              "      <td>Northern Ireland</td>\n",
              "      <td>Scotland</td>\n",
              "      <td>2</td>\n",
              "      <td>7</td>\n",
              "      <td>British Championship</td>\n",
              "      <td>Belfast</td>\n",
              "      <td>Republic of Ireland</td>\n",
              "      <td>False</td>\n",
              "    </tr>\n",
              "    <tr>\n",
              "      <th>45</th>\n",
              "      <td>1886-03-27</td>\n",
              "      <td>Scotland</td>\n",
              "      <td>England</td>\n",
              "      <td>1</td>\n",
              "      <td>1</td>\n",
              "      <td>British Championship</td>\n",
              "      <td>Glasgow</td>\n",
              "      <td>Scotland</td>\n",
              "      <td>False</td>\n",
              "    </tr>\n",
              "    <tr>\n",
              "      <th>46</th>\n",
              "      <td>1886-03-29</td>\n",
              "      <td>Wales</td>\n",
              "      <td>England</td>\n",
              "      <td>1</td>\n",
              "      <td>3</td>\n",
              "      <td>British Championship</td>\n",
              "      <td>Wrexham</td>\n",
              "      <td>Wales</td>\n",
              "      <td>False</td>\n",
              "    </tr>\n",
              "    <tr>\n",
              "      <th>47</th>\n",
              "      <td>1886-04-10</td>\n",
              "      <td>Scotland</td>\n",
              "      <td>Wales</td>\n",
              "      <td>4</td>\n",
              "      <td>1</td>\n",
              "      <td>British Championship</td>\n",
              "      <td>Glasgow</td>\n",
              "      <td>Scotland</td>\n",
              "      <td>False</td>\n",
              "    </tr>\n",
              "    <tr>\n",
              "      <th>48</th>\n",
              "      <td>1886-11-25</td>\n",
              "      <td>United States</td>\n",
              "      <td>Canada</td>\n",
              "      <td>3</td>\n",
              "      <td>2</td>\n",
              "      <td>Friendly</td>\n",
              "      <td>Newark</td>\n",
              "      <td>United States</td>\n",
              "      <td>False</td>\n",
              "    </tr>\n",
              "    <tr>\n",
              "      <th>49</th>\n",
              "      <td>1887-02-05</td>\n",
              "      <td>England</td>\n",
              "      <td>Northern Ireland</td>\n",
              "      <td>7</td>\n",
              "      <td>0</td>\n",
              "      <td>British Championship</td>\n",
              "      <td>Sheffield</td>\n",
              "      <td>England</td>\n",
              "      <td>False</td>\n",
              "    </tr>\n",
              "  </tbody>\n",
              "</table>\n",
              "</div>"
            ],
            "text/plain": [
              "          date         home_team  ...              country  neutral\n",
              "0   1872-11-30          Scotland  ...             Scotland    False\n",
              "1   1873-03-08           England  ...              England    False\n",
              "2   1874-03-07          Scotland  ...             Scotland    False\n",
              "3   1875-03-06           England  ...              England    False\n",
              "4   1876-03-04          Scotland  ...             Scotland    False\n",
              "5   1876-03-25          Scotland  ...             Scotland    False\n",
              "6   1877-03-03           England  ...              England    False\n",
              "7   1877-03-05             Wales  ...                Wales    False\n",
              "8   1878-03-02          Scotland  ...             Scotland    False\n",
              "9   1878-03-23          Scotland  ...             Scotland    False\n",
              "10  1879-01-18           England  ...              England    False\n",
              "11  1879-04-05           England  ...              England    False\n",
              "12  1879-04-07             Wales  ...                Wales    False\n",
              "13  1880-03-13          Scotland  ...             Scotland    False\n",
              "14  1880-03-15             Wales  ...                Wales    False\n",
              "15  1880-03-27          Scotland  ...             Scotland    False\n",
              "16  1881-02-26           England  ...              England    False\n",
              "17  1881-03-12           England  ...              England    False\n",
              "18  1881-03-14             Wales  ...                Wales    False\n",
              "19  1882-02-18  Northern Ireland  ...  Republic of Ireland    False\n",
              "20  1882-02-25             Wales  ...                Wales    False\n",
              "21  1882-03-11          Scotland  ...             Scotland    False\n",
              "22  1882-03-13             Wales  ...                Wales    False\n",
              "23  1882-03-25          Scotland  ...             Scotland    False\n",
              "24  1883-02-03           England  ...              England    False\n",
              "25  1883-02-24           England  ...              England    False\n",
              "26  1883-03-10           England  ...              England    False\n",
              "27  1883-03-12             Wales  ...                Wales    False\n",
              "28  1883-03-17  Northern Ireland  ...  Republic of Ireland    False\n",
              "29  1884-01-26  Northern Ireland  ...  Republic of Ireland    False\n",
              "30  1884-02-09             Wales  ...                Wales    False\n",
              "31  1884-02-23  Northern Ireland  ...  Republic of Ireland    False\n",
              "32  1884-03-15          Scotland  ...             Scotland    False\n",
              "33  1884-03-17             Wales  ...                Wales    False\n",
              "34  1884-03-29          Scotland  ...             Scotland    False\n",
              "35  1885-02-28           England  ...              England    False\n",
              "36  1885-03-14           England  ...              England    False\n",
              "37  1885-03-14          Scotland  ...             Scotland    False\n",
              "38  1885-03-21           England  ...              England    False\n",
              "39  1885-03-23             Wales  ...                Wales    False\n",
              "40  1885-04-11  Northern Ireland  ...  Republic of Ireland    False\n",
              "41  1885-11-28     United States  ...        United States    False\n",
              "42  1886-02-27             Wales  ...                Wales    False\n",
              "43  1886-03-13  Northern Ireland  ...  Republic of Ireland    False\n",
              "44  1886-03-20  Northern Ireland  ...  Republic of Ireland    False\n",
              "45  1886-03-27          Scotland  ...             Scotland    False\n",
              "46  1886-03-29             Wales  ...                Wales    False\n",
              "47  1886-04-10          Scotland  ...             Scotland    False\n",
              "48  1886-11-25     United States  ...        United States    False\n",
              "49  1887-02-05           England  ...              England    False\n",
              "\n",
              "[50 rows x 9 columns]"
            ]
          },
          "metadata": {
            "tags": []
          },
          "execution_count": 188
        }
      ]
    },
    {
      "cell_type": "code",
      "metadata": {
        "id": "HaeILtD7WsAa"
      },
      "source": [
        ""
      ],
      "execution_count": 188,
      "outputs": []
    },
    {
      "cell_type": "code",
      "metadata": {
        "id": "SoSmzTM1YFoc"
      },
      "source": [
        ""
      ],
      "execution_count": 188,
      "outputs": []
    },
    {
      "cell_type": "code",
      "metadata": {
        "id": "_YwugxB4ZWkr"
      },
      "source": [
        "#df['Score'] = 0"
      ],
      "execution_count": 189,
      "outputs": []
    },
    {
      "cell_type": "code",
      "metadata": {
        "id": "De9fRqw9aqfk"
      },
      "source": [
        "df2 = df.drop_duplicates(subset=['home_team'])"
      ],
      "execution_count": 190,
      "outputs": []
    },
    {
      "cell_type": "code",
      "metadata": {
        "id": "R8mKkIfDBDSW"
      },
      "source": [
        "df2= df2[['home_team']]"
      ],
      "execution_count": 191,
      "outputs": []
    },
    {
      "cell_type": "code",
      "metadata": {
        "colab": {
          "base_uri": "https://localhost:8080/",
          "height": 206
        },
        "id": "H3P2EEf-BEgu",
        "outputId": "203e2f3b-e9e7-4241-bacd-3f946e6b9c2d"
      },
      "source": [
        "df2.head()"
      ],
      "execution_count": 192,
      "outputs": [
        {
          "output_type": "execute_result",
          "data": {
            "text/html": [
              "<div>\n",
              "<style scoped>\n",
              "    .dataframe tbody tr th:only-of-type {\n",
              "        vertical-align: middle;\n",
              "    }\n",
              "\n",
              "    .dataframe tbody tr th {\n",
              "        vertical-align: top;\n",
              "    }\n",
              "\n",
              "    .dataframe thead th {\n",
              "        text-align: right;\n",
              "    }\n",
              "</style>\n",
              "<table border=\"1\" class=\"dataframe\">\n",
              "  <thead>\n",
              "    <tr style=\"text-align: right;\">\n",
              "      <th></th>\n",
              "      <th>home_team</th>\n",
              "    </tr>\n",
              "  </thead>\n",
              "  <tbody>\n",
              "    <tr>\n",
              "      <th>0</th>\n",
              "      <td>Scotland</td>\n",
              "    </tr>\n",
              "    <tr>\n",
              "      <th>1</th>\n",
              "      <td>England</td>\n",
              "    </tr>\n",
              "    <tr>\n",
              "      <th>7</th>\n",
              "      <td>Wales</td>\n",
              "    </tr>\n",
              "    <tr>\n",
              "      <th>19</th>\n",
              "      <td>Northern Ireland</td>\n",
              "    </tr>\n",
              "    <tr>\n",
              "      <th>41</th>\n",
              "      <td>United States</td>\n",
              "    </tr>\n",
              "  </tbody>\n",
              "</table>\n",
              "</div>"
            ],
            "text/plain": [
              "           home_team\n",
              "0           Scotland\n",
              "1            England\n",
              "7              Wales\n",
              "19  Northern Ireland\n",
              "41     United States"
            ]
          },
          "metadata": {
            "tags": []
          },
          "execution_count": 192
        }
      ]
    },
    {
      "cell_type": "code",
      "metadata": {
        "id": "2stWQfpYD93L"
      },
      "source": [
        "df2=df2.reset_index()"
      ],
      "execution_count": 193,
      "outputs": []
    },
    {
      "cell_type": "code",
      "metadata": {
        "id": "Zwto3WC4d2OB"
      },
      "source": [
        ""
      ],
      "execution_count": 193,
      "outputs": []
    },
    {
      "cell_type": "code",
      "metadata": {
        "colab": {
          "base_uri": "https://localhost:8080/",
          "height": 206
        },
        "id": "789ADvs7EJqu",
        "outputId": "ae3d9684-3482-4465-f8ba-7787c4a49bb4"
      },
      "source": [
        "df2.head()"
      ],
      "execution_count": 194,
      "outputs": [
        {
          "output_type": "execute_result",
          "data": {
            "text/html": [
              "<div>\n",
              "<style scoped>\n",
              "    .dataframe tbody tr th:only-of-type {\n",
              "        vertical-align: middle;\n",
              "    }\n",
              "\n",
              "    .dataframe tbody tr th {\n",
              "        vertical-align: top;\n",
              "    }\n",
              "\n",
              "    .dataframe thead th {\n",
              "        text-align: right;\n",
              "    }\n",
              "</style>\n",
              "<table border=\"1\" class=\"dataframe\">\n",
              "  <thead>\n",
              "    <tr style=\"text-align: right;\">\n",
              "      <th></th>\n",
              "      <th>index</th>\n",
              "      <th>home_team</th>\n",
              "    </tr>\n",
              "  </thead>\n",
              "  <tbody>\n",
              "    <tr>\n",
              "      <th>0</th>\n",
              "      <td>0</td>\n",
              "      <td>Scotland</td>\n",
              "    </tr>\n",
              "    <tr>\n",
              "      <th>1</th>\n",
              "      <td>1</td>\n",
              "      <td>England</td>\n",
              "    </tr>\n",
              "    <tr>\n",
              "      <th>2</th>\n",
              "      <td>7</td>\n",
              "      <td>Wales</td>\n",
              "    </tr>\n",
              "    <tr>\n",
              "      <th>3</th>\n",
              "      <td>19</td>\n",
              "      <td>Northern Ireland</td>\n",
              "    </tr>\n",
              "    <tr>\n",
              "      <th>4</th>\n",
              "      <td>41</td>\n",
              "      <td>United States</td>\n",
              "    </tr>\n",
              "  </tbody>\n",
              "</table>\n",
              "</div>"
            ],
            "text/plain": [
              "   index         home_team\n",
              "0      0          Scotland\n",
              "1      1           England\n",
              "2      7             Wales\n",
              "3     19  Northern Ireland\n",
              "4     41     United States"
            ]
          },
          "metadata": {
            "tags": []
          },
          "execution_count": 194
        }
      ]
    },
    {
      "cell_type": "code",
      "metadata": {
        "id": "EENUQGYBBawR"
      },
      "source": [
        "\n",
        "df2=df2.drop('index',axis=1)"
      ],
      "execution_count": 195,
      "outputs": []
    },
    {
      "cell_type": "code",
      "metadata": {
        "colab": {
          "base_uri": "https://localhost:8080/",
          "height": 206
        },
        "id": "XpEcZ0-8DptX",
        "outputId": "e4a7f656-7cc7-4484-ba20-c0e3174f6d34"
      },
      "source": [
        "df2.head()\n"
      ],
      "execution_count": 196,
      "outputs": [
        {
          "output_type": "execute_result",
          "data": {
            "text/html": [
              "<div>\n",
              "<style scoped>\n",
              "    .dataframe tbody tr th:only-of-type {\n",
              "        vertical-align: middle;\n",
              "    }\n",
              "\n",
              "    .dataframe tbody tr th {\n",
              "        vertical-align: top;\n",
              "    }\n",
              "\n",
              "    .dataframe thead th {\n",
              "        text-align: right;\n",
              "    }\n",
              "</style>\n",
              "<table border=\"1\" class=\"dataframe\">\n",
              "  <thead>\n",
              "    <tr style=\"text-align: right;\">\n",
              "      <th></th>\n",
              "      <th>home_team</th>\n",
              "    </tr>\n",
              "  </thead>\n",
              "  <tbody>\n",
              "    <tr>\n",
              "      <th>0</th>\n",
              "      <td>Scotland</td>\n",
              "    </tr>\n",
              "    <tr>\n",
              "      <th>1</th>\n",
              "      <td>England</td>\n",
              "    </tr>\n",
              "    <tr>\n",
              "      <th>2</th>\n",
              "      <td>Wales</td>\n",
              "    </tr>\n",
              "    <tr>\n",
              "      <th>3</th>\n",
              "      <td>Northern Ireland</td>\n",
              "    </tr>\n",
              "    <tr>\n",
              "      <th>4</th>\n",
              "      <td>United States</td>\n",
              "    </tr>\n",
              "  </tbody>\n",
              "</table>\n",
              "</div>"
            ],
            "text/plain": [
              "          home_team\n",
              "0          Scotland\n",
              "1           England\n",
              "2             Wales\n",
              "3  Northern Ireland\n",
              "4     United States"
            ]
          },
          "metadata": {
            "tags": []
          },
          "execution_count": 196
        }
      ]
    },
    {
      "cell_type": "code",
      "metadata": {
        "id": "DDKwTdTLePiL"
      },
      "source": [
        "df2.loc[len(df2.index)] = ['Asturias'] \n",
        "df2.loc[len(df2.index)] = ['Western Australia'] \n",
        "df2.loc[len(df2.index)] = ['Two Sicilies'] \n",
        "\n",
        "df2.loc[len(df2.index)] = ['Congo DR'] \n",
        "df2.loc[len(df2.index)] = ['Surrey']"
      ],
      "execution_count": 197,
      "outputs": []
    },
    {
      "cell_type": "code",
      "metadata": {
        "id": "7fZH4XAIDsZi"
      },
      "source": [
        "df2=df2.rename(columns={\"home_team\":\"team\" })"
      ],
      "execution_count": 198,
      "outputs": []
    },
    {
      "cell_type": "code",
      "metadata": {
        "colab": {
          "base_uri": "https://localhost:8080/"
        },
        "id": "jxxLRmZbFgzg",
        "outputId": "740d8485-59ea-4389-b691-59bf8c507f96"
      },
      "source": [
        "df2.info()"
      ],
      "execution_count": 199,
      "outputs": [
        {
          "output_type": "stream",
          "text": [
            "<class 'pandas.core.frame.DataFrame'>\n",
            "Int64Index: 313 entries, 0 to 312\n",
            "Data columns (total 1 columns):\n",
            " #   Column  Non-Null Count  Dtype \n",
            "---  ------  --------------  ----- \n",
            " 0   team    313 non-null    object\n",
            "dtypes: object(1)\n",
            "memory usage: 4.9+ KB\n"
          ],
          "name": "stdout"
        }
      ]
    },
    {
      "cell_type": "code",
      "metadata": {
        "id": "gsvjJOWvQJgh"
      },
      "source": [
        "df2.index=df2.team"
      ],
      "execution_count": 200,
      "outputs": []
    },
    {
      "cell_type": "code",
      "metadata": {
        "colab": {
          "base_uri": "https://localhost:8080/",
          "height": 238
        },
        "id": "2inboA7ZQYk4",
        "outputId": "c8ed5087-9d86-4faa-981a-971d2bf5bfce"
      },
      "source": [
        "df2.head()"
      ],
      "execution_count": 201,
      "outputs": [
        {
          "output_type": "execute_result",
          "data": {
            "text/html": [
              "<div>\n",
              "<style scoped>\n",
              "    .dataframe tbody tr th:only-of-type {\n",
              "        vertical-align: middle;\n",
              "    }\n",
              "\n",
              "    .dataframe tbody tr th {\n",
              "        vertical-align: top;\n",
              "    }\n",
              "\n",
              "    .dataframe thead th {\n",
              "        text-align: right;\n",
              "    }\n",
              "</style>\n",
              "<table border=\"1\" class=\"dataframe\">\n",
              "  <thead>\n",
              "    <tr style=\"text-align: right;\">\n",
              "      <th></th>\n",
              "      <th>team</th>\n",
              "    </tr>\n",
              "    <tr>\n",
              "      <th>team</th>\n",
              "      <th></th>\n",
              "    </tr>\n",
              "  </thead>\n",
              "  <tbody>\n",
              "    <tr>\n",
              "      <th>Scotland</th>\n",
              "      <td>Scotland</td>\n",
              "    </tr>\n",
              "    <tr>\n",
              "      <th>England</th>\n",
              "      <td>England</td>\n",
              "    </tr>\n",
              "    <tr>\n",
              "      <th>Wales</th>\n",
              "      <td>Wales</td>\n",
              "    </tr>\n",
              "    <tr>\n",
              "      <th>Northern Ireland</th>\n",
              "      <td>Northern Ireland</td>\n",
              "    </tr>\n",
              "    <tr>\n",
              "      <th>United States</th>\n",
              "      <td>United States</td>\n",
              "    </tr>\n",
              "  </tbody>\n",
              "</table>\n",
              "</div>"
            ],
            "text/plain": [
              "                              team\n",
              "team                              \n",
              "Scotland                  Scotland\n",
              "England                    England\n",
              "Wales                        Wales\n",
              "Northern Ireland  Northern Ireland\n",
              "United States        United States"
            ]
          },
          "metadata": {
            "tags": []
          },
          "execution_count": 201
        }
      ]
    },
    {
      "cell_type": "code",
      "metadata": {
        "id": "rNRj9iZXdnDp"
      },
      "source": [
        ""
      ],
      "execution_count": 201,
      "outputs": []
    },
    {
      "cell_type": "code",
      "metadata": {
        "id": "7Bb4MFZpYcU1"
      },
      "source": [
        "df2['score'] = 0"
      ],
      "execution_count": 202,
      "outputs": []
    },
    {
      "cell_type": "code",
      "metadata": {
        "colab": {
          "base_uri": "https://localhost:8080/",
          "height": 238
        },
        "id": "JjnaH9VOgw5r",
        "outputId": "f2c1e380-643a-4f49-d464-d821451bb346"
      },
      "source": [
        "df2.head()"
      ],
      "execution_count": 203,
      "outputs": [
        {
          "output_type": "execute_result",
          "data": {
            "text/html": [
              "<div>\n",
              "<style scoped>\n",
              "    .dataframe tbody tr th:only-of-type {\n",
              "        vertical-align: middle;\n",
              "    }\n",
              "\n",
              "    .dataframe tbody tr th {\n",
              "        vertical-align: top;\n",
              "    }\n",
              "\n",
              "    .dataframe thead th {\n",
              "        text-align: right;\n",
              "    }\n",
              "</style>\n",
              "<table border=\"1\" class=\"dataframe\">\n",
              "  <thead>\n",
              "    <tr style=\"text-align: right;\">\n",
              "      <th></th>\n",
              "      <th>team</th>\n",
              "      <th>score</th>\n",
              "    </tr>\n",
              "    <tr>\n",
              "      <th>team</th>\n",
              "      <th></th>\n",
              "      <th></th>\n",
              "    </tr>\n",
              "  </thead>\n",
              "  <tbody>\n",
              "    <tr>\n",
              "      <th>Scotland</th>\n",
              "      <td>Scotland</td>\n",
              "      <td>0</td>\n",
              "    </tr>\n",
              "    <tr>\n",
              "      <th>England</th>\n",
              "      <td>England</td>\n",
              "      <td>0</td>\n",
              "    </tr>\n",
              "    <tr>\n",
              "      <th>Wales</th>\n",
              "      <td>Wales</td>\n",
              "      <td>0</td>\n",
              "    </tr>\n",
              "    <tr>\n",
              "      <th>Northern Ireland</th>\n",
              "      <td>Northern Ireland</td>\n",
              "      <td>0</td>\n",
              "    </tr>\n",
              "    <tr>\n",
              "      <th>United States</th>\n",
              "      <td>United States</td>\n",
              "      <td>0</td>\n",
              "    </tr>\n",
              "  </tbody>\n",
              "</table>\n",
              "</div>"
            ],
            "text/plain": [
              "                              team  score\n",
              "team                                     \n",
              "Scotland                  Scotland      0\n",
              "England                    England      0\n",
              "Wales                        Wales      0\n",
              "Northern Ireland  Northern Ireland      0\n",
              "United States        United States      0"
            ]
          },
          "metadata": {
            "tags": []
          },
          "execution_count": 203
        }
      ]
    },
    {
      "cell_type": "code",
      "metadata": {
        "id": "mjy7EOaOFsSV"
      },
      "source": [
        "for w in df.index:\n",
        "\n",
        "  if df.home_score[w] > df.away_score[w] :\n",
        "    x=df.home_team[w]\n",
        "    df2.loc[x,'score'] =  df2.score[x] + 3\n",
        "  elif df.home_score[w] < df.away_score[w] :\n",
        "    y=df.away_team[w]\n",
        "    df2.loc[y,'score'] =  df2.score[y] + 3\n",
        "  elif df.home_score[w] == df.away_score[w]:\n",
        "    s=df.away_team[w]\n",
        "    z=df.home_team[w]\n",
        "    df2.loc[s,'score'] =  df2.score[s] + 1\n",
        "    df2.loc[z,'score'] =  df2.score[z] + 1\n",
        "    #else if df.home_score[w] < df.away_score[w] :\n",
        "  #  z=df.home_team[w]\n",
        "    #w=\n",
        "   # df2.loc[y,'score'] =  df.home_score[w]\n",
        "     #rowIndex = df.index[w]\n",
        "     #df.loc[rowIndex, 'score'] = df.home_score[w]"
      ],
      "execution_count": 204,
      "outputs": []
    },
    {
      "cell_type": "code",
      "metadata": {
        "colab": {
          "base_uri": "https://localhost:8080/",
          "height": 238
        },
        "id": "2vmj-3cwbAGQ",
        "outputId": "9ec52b17-67dd-4642-977a-3d62dc7fc863"
      },
      "source": [
        "df2.head()"
      ],
      "execution_count": 205,
      "outputs": [
        {
          "output_type": "execute_result",
          "data": {
            "text/html": [
              "<div>\n",
              "<style scoped>\n",
              "    .dataframe tbody tr th:only-of-type {\n",
              "        vertical-align: middle;\n",
              "    }\n",
              "\n",
              "    .dataframe tbody tr th {\n",
              "        vertical-align: top;\n",
              "    }\n",
              "\n",
              "    .dataframe thead th {\n",
              "        text-align: right;\n",
              "    }\n",
              "</style>\n",
              "<table border=\"1\" class=\"dataframe\">\n",
              "  <thead>\n",
              "    <tr style=\"text-align: right;\">\n",
              "      <th></th>\n",
              "      <th>team</th>\n",
              "      <th>score</th>\n",
              "    </tr>\n",
              "    <tr>\n",
              "      <th>team</th>\n",
              "      <th></th>\n",
              "      <th></th>\n",
              "    </tr>\n",
              "  </thead>\n",
              "  <tbody>\n",
              "    <tr>\n",
              "      <th>Scotland</th>\n",
              "      <td>Scotland</td>\n",
              "      <td>1289</td>\n",
              "    </tr>\n",
              "    <tr>\n",
              "      <th>England</th>\n",
              "      <td>England</td>\n",
              "      <td>1974</td>\n",
              "    </tr>\n",
              "    <tr>\n",
              "      <th>Wales</th>\n",
              "      <td>Wales</td>\n",
              "      <td>782</td>\n",
              "    </tr>\n",
              "    <tr>\n",
              "      <th>Northern Ireland</th>\n",
              "      <td>Northern Ireland</td>\n",
              "      <td>644</td>\n",
              "    </tr>\n",
              "    <tr>\n",
              "      <th>United States</th>\n",
              "      <td>United States</td>\n",
              "      <td>1033</td>\n",
              "    </tr>\n",
              "  </tbody>\n",
              "</table>\n",
              "</div>"
            ],
            "text/plain": [
              "                              team  score\n",
              "team                                     \n",
              "Scotland                  Scotland   1289\n",
              "England                    England   1974\n",
              "Wales                        Wales    782\n",
              "Northern Ireland  Northern Ireland    644\n",
              "United States        United States   1033"
            ]
          },
          "metadata": {
            "tags": []
          },
          "execution_count": 205
        }
      ]
    },
    {
      "cell_type": "code",
      "metadata": {
        "id": "RQ-fyfiIvPDN"
      },
      "source": [
        "df5=df2.sort_values(by=['score'],ascending=False)"
      ],
      "execution_count": 206,
      "outputs": []
    },
    {
      "cell_type": "code",
      "metadata": {
        "colab": {
          "base_uri": "https://localhost:8080/",
          "height": 1000
        },
        "id": "8d7JeMIyyA_r",
        "outputId": "fd57c5bb-ce21-41f4-cd7a-21e2dfb5555d"
      },
      "source": [
        "df5.head(50)"
      ],
      "execution_count": 207,
      "outputs": [
        {
          "output_type": "execute_result",
          "data": {
            "text/html": [
              "<div>\n",
              "<style scoped>\n",
              "    .dataframe tbody tr th:only-of-type {\n",
              "        vertical-align: middle;\n",
              "    }\n",
              "\n",
              "    .dataframe tbody tr th {\n",
              "        vertical-align: top;\n",
              "    }\n",
              "\n",
              "    .dataframe thead th {\n",
              "        text-align: right;\n",
              "    }\n",
              "</style>\n",
              "<table border=\"1\" class=\"dataframe\">\n",
              "  <thead>\n",
              "    <tr style=\"text-align: right;\">\n",
              "      <th></th>\n",
              "      <th>team</th>\n",
              "      <th>score</th>\n",
              "    </tr>\n",
              "    <tr>\n",
              "      <th>team</th>\n",
              "      <th></th>\n",
              "      <th></th>\n",
              "    </tr>\n",
              "  </thead>\n",
              "  <tbody>\n",
              "    <tr>\n",
              "      <th>Brazil</th>\n",
              "      <td>Brazil</td>\n",
              "      <td>2086</td>\n",
              "    </tr>\n",
              "    <tr>\n",
              "      <th>England</th>\n",
              "      <td>England</td>\n",
              "      <td>1974</td>\n",
              "    </tr>\n",
              "    <tr>\n",
              "      <th>Germany</th>\n",
              "      <td>Germany</td>\n",
              "      <td>1872</td>\n",
              "    </tr>\n",
              "    <tr>\n",
              "      <th>Argentina</th>\n",
              "      <td>Argentina</td>\n",
              "      <td>1831</td>\n",
              "    </tr>\n",
              "    <tr>\n",
              "      <th>Sweden</th>\n",
              "      <td>Sweden</td>\n",
              "      <td>1734</td>\n",
              "    </tr>\n",
              "    <tr>\n",
              "      <th>South Korea</th>\n",
              "      <td>South Korea</td>\n",
              "      <td>1587</td>\n",
              "    </tr>\n",
              "    <tr>\n",
              "      <th>Mexico</th>\n",
              "      <td>Mexico</td>\n",
              "      <td>1527</td>\n",
              "    </tr>\n",
              "    <tr>\n",
              "      <th>Hungary</th>\n",
              "      <td>Hungary</td>\n",
              "      <td>1522</td>\n",
              "    </tr>\n",
              "    <tr>\n",
              "      <th>Italy</th>\n",
              "      <td>Italy</td>\n",
              "      <td>1511</td>\n",
              "    </tr>\n",
              "    <tr>\n",
              "      <th>France</th>\n",
              "      <td>France</td>\n",
              "      <td>1448</td>\n",
              "    </tr>\n",
              "    <tr>\n",
              "      <th>Spain</th>\n",
              "      <td>Spain</td>\n",
              "      <td>1389</td>\n",
              "    </tr>\n",
              "    <tr>\n",
              "      <th>Netherlands</th>\n",
              "      <td>Netherlands</td>\n",
              "      <td>1386</td>\n",
              "    </tr>\n",
              "    <tr>\n",
              "      <th>Uruguay</th>\n",
              "      <td>Uruguay</td>\n",
              "      <td>1368</td>\n",
              "    </tr>\n",
              "    <tr>\n",
              "      <th>Scotland</th>\n",
              "      <td>Scotland</td>\n",
              "      <td>1289</td>\n",
              "    </tr>\n",
              "    <tr>\n",
              "      <th>Poland</th>\n",
              "      <td>Poland</td>\n",
              "      <td>1272</td>\n",
              "    </tr>\n",
              "    <tr>\n",
              "      <th>Russia</th>\n",
              "      <td>Russia</td>\n",
              "      <td>1259</td>\n",
              "    </tr>\n",
              "    <tr>\n",
              "      <th>Denmark</th>\n",
              "      <td>Denmark</td>\n",
              "      <td>1255</td>\n",
              "    </tr>\n",
              "    <tr>\n",
              "      <th>Belgium</th>\n",
              "      <td>Belgium</td>\n",
              "      <td>1182</td>\n",
              "    </tr>\n",
              "    <tr>\n",
              "      <th>Zambia</th>\n",
              "      <td>Zambia</td>\n",
              "      <td>1180</td>\n",
              "    </tr>\n",
              "    <tr>\n",
              "      <th>Austria</th>\n",
              "      <td>Austria</td>\n",
              "      <td>1172</td>\n",
              "    </tr>\n",
              "    <tr>\n",
              "      <th>Romania</th>\n",
              "      <td>Romania</td>\n",
              "      <td>1105</td>\n",
              "    </tr>\n",
              "    <tr>\n",
              "      <th>Egypt</th>\n",
              "      <td>Egypt</td>\n",
              "      <td>1087</td>\n",
              "    </tr>\n",
              "    <tr>\n",
              "      <th>Norway</th>\n",
              "      <td>Norway</td>\n",
              "      <td>1073</td>\n",
              "    </tr>\n",
              "    <tr>\n",
              "      <th>Japan</th>\n",
              "      <td>Japan</td>\n",
              "      <td>1055</td>\n",
              "    </tr>\n",
              "    <tr>\n",
              "      <th>Portugal</th>\n",
              "      <td>Portugal</td>\n",
              "      <td>1049</td>\n",
              "    </tr>\n",
              "    <tr>\n",
              "      <th>Saudi Arabia</th>\n",
              "      <td>Saudi Arabia</td>\n",
              "      <td>1038</td>\n",
              "    </tr>\n",
              "    <tr>\n",
              "      <th>Chile</th>\n",
              "      <td>Chile</td>\n",
              "      <td>1034</td>\n",
              "    </tr>\n",
              "    <tr>\n",
              "      <th>United States</th>\n",
              "      <td>United States</td>\n",
              "      <td>1033</td>\n",
              "    </tr>\n",
              "    <tr>\n",
              "      <th>Ghana</th>\n",
              "      <td>Ghana</td>\n",
              "      <td>1020</td>\n",
              "    </tr>\n",
              "    <tr>\n",
              "      <th>Switzerland</th>\n",
              "      <td>Switzerland</td>\n",
              "      <td>1019</td>\n",
              "    </tr>\n",
              "    <tr>\n",
              "      <th>Trinidad and Tobago</th>\n",
              "      <td>Trinidad and Tobago</td>\n",
              "      <td>1008</td>\n",
              "    </tr>\n",
              "    <tr>\n",
              "      <th>China PR</th>\n",
              "      <td>China PR</td>\n",
              "      <td>996</td>\n",
              "    </tr>\n",
              "    <tr>\n",
              "      <th>Ivory Coast</th>\n",
              "      <td>Ivory Coast</td>\n",
              "      <td>987</td>\n",
              "    </tr>\n",
              "    <tr>\n",
              "      <th>Nigeria</th>\n",
              "      <td>Nigeria</td>\n",
              "      <td>968</td>\n",
              "    </tr>\n",
              "    <tr>\n",
              "      <th>Uganda</th>\n",
              "      <td>Uganda</td>\n",
              "      <td>966</td>\n",
              "    </tr>\n",
              "    <tr>\n",
              "      <th>Paraguay</th>\n",
              "      <td>Paraguay</td>\n",
              "      <td>959</td>\n",
              "    </tr>\n",
              "    <tr>\n",
              "      <th>Iran</th>\n",
              "      <td>Iran</td>\n",
              "      <td>950</td>\n",
              "    </tr>\n",
              "    <tr>\n",
              "      <th>Costa Rica</th>\n",
              "      <td>Costa Rica</td>\n",
              "      <td>925</td>\n",
              "    </tr>\n",
              "    <tr>\n",
              "      <th>Bulgaria</th>\n",
              "      <td>Bulgaria</td>\n",
              "      <td>922</td>\n",
              "    </tr>\n",
              "    <tr>\n",
              "      <th>Iraq</th>\n",
              "      <td>Iraq</td>\n",
              "      <td>915</td>\n",
              "    </tr>\n",
              "    <tr>\n",
              "      <th>Morocco</th>\n",
              "      <td>Morocco</td>\n",
              "      <td>903</td>\n",
              "    </tr>\n",
              "    <tr>\n",
              "      <th>Tunisia</th>\n",
              "      <td>Tunisia</td>\n",
              "      <td>901</td>\n",
              "    </tr>\n",
              "    <tr>\n",
              "      <th>Kenya</th>\n",
              "      <td>Kenya</td>\n",
              "      <td>892</td>\n",
              "    </tr>\n",
              "    <tr>\n",
              "      <th>Australia</th>\n",
              "      <td>Australia</td>\n",
              "      <td>883</td>\n",
              "    </tr>\n",
              "    <tr>\n",
              "      <th>Kuwait</th>\n",
              "      <td>Kuwait</td>\n",
              "      <td>865</td>\n",
              "    </tr>\n",
              "    <tr>\n",
              "      <th>Cameroon</th>\n",
              "      <td>Cameroon</td>\n",
              "      <td>864</td>\n",
              "    </tr>\n",
              "    <tr>\n",
              "      <th>Thailand</th>\n",
              "      <td>Thailand</td>\n",
              "      <td>859</td>\n",
              "    </tr>\n",
              "    <tr>\n",
              "      <th>Senegal</th>\n",
              "      <td>Senegal</td>\n",
              "      <td>841</td>\n",
              "    </tr>\n",
              "    <tr>\n",
              "      <th>Republic of Ireland</th>\n",
              "      <td>Republic of Ireland</td>\n",
              "      <td>824</td>\n",
              "    </tr>\n",
              "    <tr>\n",
              "      <th>Turkey</th>\n",
              "      <td>Turkey</td>\n",
              "      <td>805</td>\n",
              "    </tr>\n",
              "  </tbody>\n",
              "</table>\n",
              "</div>"
            ],
            "text/plain": [
              "                                    team  score\n",
              "team                                           \n",
              "Brazil                            Brazil   2086\n",
              "England                          England   1974\n",
              "Germany                          Germany   1872\n",
              "Argentina                      Argentina   1831\n",
              "Sweden                            Sweden   1734\n",
              "South Korea                  South Korea   1587\n",
              "Mexico                            Mexico   1527\n",
              "Hungary                          Hungary   1522\n",
              "Italy                              Italy   1511\n",
              "France                            France   1448\n",
              "Spain                              Spain   1389\n",
              "Netherlands                  Netherlands   1386\n",
              "Uruguay                          Uruguay   1368\n",
              "Scotland                        Scotland   1289\n",
              "Poland                            Poland   1272\n",
              "Russia                            Russia   1259\n",
              "Denmark                          Denmark   1255\n",
              "Belgium                          Belgium   1182\n",
              "Zambia                            Zambia   1180\n",
              "Austria                          Austria   1172\n",
              "Romania                          Romania   1105\n",
              "Egypt                              Egypt   1087\n",
              "Norway                            Norway   1073\n",
              "Japan                              Japan   1055\n",
              "Portugal                        Portugal   1049\n",
              "Saudi Arabia                Saudi Arabia   1038\n",
              "Chile                              Chile   1034\n",
              "United States              United States   1033\n",
              "Ghana                              Ghana   1020\n",
              "Switzerland                  Switzerland   1019\n",
              "Trinidad and Tobago  Trinidad and Tobago   1008\n",
              "China PR                        China PR    996\n",
              "Ivory Coast                  Ivory Coast    987\n",
              "Nigeria                          Nigeria    968\n",
              "Uganda                            Uganda    966\n",
              "Paraguay                        Paraguay    959\n",
              "Iran                                Iran    950\n",
              "Costa Rica                    Costa Rica    925\n",
              "Bulgaria                        Bulgaria    922\n",
              "Iraq                                Iraq    915\n",
              "Morocco                          Morocco    903\n",
              "Tunisia                          Tunisia    901\n",
              "Kenya                              Kenya    892\n",
              "Australia                      Australia    883\n",
              "Kuwait                            Kuwait    865\n",
              "Cameroon                        Cameroon    864\n",
              "Thailand                        Thailand    859\n",
              "Senegal                          Senegal    841\n",
              "Republic of Ireland  Republic of Ireland    824\n",
              "Turkey                            Turkey    805"
            ]
          },
          "metadata": {
            "tags": []
          },
          "execution_count": 207
        }
      ]
    },
    {
      "cell_type": "code",
      "metadata": {
        "id": "ioIxy-eIVaVo"
      },
      "source": [
        "df = pd.read_csv('results.csv')"
      ],
      "execution_count": 208,
      "outputs": []
    },
    {
      "cell_type": "code",
      "metadata": {
        "colab": {
          "base_uri": "https://localhost:8080/",
          "height": 206
        },
        "id": "vdtSwvTbVqTU",
        "outputId": "206fdfb3-3317-48ea-ff7b-3312330d8a7f"
      },
      "source": [
        "df.head()"
      ],
      "execution_count": 209,
      "outputs": [
        {
          "output_type": "execute_result",
          "data": {
            "text/html": [
              "<div>\n",
              "<style scoped>\n",
              "    .dataframe tbody tr th:only-of-type {\n",
              "        vertical-align: middle;\n",
              "    }\n",
              "\n",
              "    .dataframe tbody tr th {\n",
              "        vertical-align: top;\n",
              "    }\n",
              "\n",
              "    .dataframe thead th {\n",
              "        text-align: right;\n",
              "    }\n",
              "</style>\n",
              "<table border=\"1\" class=\"dataframe\">\n",
              "  <thead>\n",
              "    <tr style=\"text-align: right;\">\n",
              "      <th></th>\n",
              "      <th>date</th>\n",
              "      <th>home_team</th>\n",
              "      <th>away_team</th>\n",
              "      <th>home_score</th>\n",
              "      <th>away_score</th>\n",
              "      <th>tournament</th>\n",
              "      <th>city</th>\n",
              "      <th>country</th>\n",
              "      <th>neutral</th>\n",
              "    </tr>\n",
              "  </thead>\n",
              "  <tbody>\n",
              "    <tr>\n",
              "      <th>0</th>\n",
              "      <td>1872-11-30</td>\n",
              "      <td>Scotland</td>\n",
              "      <td>England</td>\n",
              "      <td>0</td>\n",
              "      <td>0</td>\n",
              "      <td>Friendly</td>\n",
              "      <td>Glasgow</td>\n",
              "      <td>Scotland</td>\n",
              "      <td>False</td>\n",
              "    </tr>\n",
              "    <tr>\n",
              "      <th>1</th>\n",
              "      <td>1873-03-08</td>\n",
              "      <td>England</td>\n",
              "      <td>Scotland</td>\n",
              "      <td>4</td>\n",
              "      <td>2</td>\n",
              "      <td>Friendly</td>\n",
              "      <td>London</td>\n",
              "      <td>England</td>\n",
              "      <td>False</td>\n",
              "    </tr>\n",
              "    <tr>\n",
              "      <th>2</th>\n",
              "      <td>1874-03-07</td>\n",
              "      <td>Scotland</td>\n",
              "      <td>England</td>\n",
              "      <td>2</td>\n",
              "      <td>1</td>\n",
              "      <td>Friendly</td>\n",
              "      <td>Glasgow</td>\n",
              "      <td>Scotland</td>\n",
              "      <td>False</td>\n",
              "    </tr>\n",
              "    <tr>\n",
              "      <th>3</th>\n",
              "      <td>1875-03-06</td>\n",
              "      <td>England</td>\n",
              "      <td>Scotland</td>\n",
              "      <td>2</td>\n",
              "      <td>2</td>\n",
              "      <td>Friendly</td>\n",
              "      <td>London</td>\n",
              "      <td>England</td>\n",
              "      <td>False</td>\n",
              "    </tr>\n",
              "    <tr>\n",
              "      <th>4</th>\n",
              "      <td>1876-03-04</td>\n",
              "      <td>Scotland</td>\n",
              "      <td>England</td>\n",
              "      <td>3</td>\n",
              "      <td>0</td>\n",
              "      <td>Friendly</td>\n",
              "      <td>Glasgow</td>\n",
              "      <td>Scotland</td>\n",
              "      <td>False</td>\n",
              "    </tr>\n",
              "  </tbody>\n",
              "</table>\n",
              "</div>"
            ],
            "text/plain": [
              "         date home_team away_team  ...     city   country neutral\n",
              "0  1872-11-30  Scotland   England  ...  Glasgow  Scotland   False\n",
              "1  1873-03-08   England  Scotland  ...   London   England   False\n",
              "2  1874-03-07  Scotland   England  ...  Glasgow  Scotland   False\n",
              "3  1875-03-06   England  Scotland  ...   London   England   False\n",
              "4  1876-03-04  Scotland   England  ...  Glasgow  Scotland   False\n",
              "\n",
              "[5 rows x 9 columns]"
            ]
          },
          "metadata": {
            "tags": []
          },
          "execution_count": 209
        }
      ]
    },
    {
      "cell_type": "code",
      "metadata": {
        "colab": {
          "base_uri": "https://localhost:8080/"
        },
        "id": "O--fDYFUVxVo",
        "outputId": "77e0ab0b-6c9c-49c0-867b-0dca2ee187bf"
      },
      "source": [
        "df['tournament'].value_counts()"
      ],
      "execution_count": 210,
      "outputs": [
        {
          "output_type": "execute_result",
          "data": {
            "text/plain": [
              "Friendly                                17136\n",
              "FIFA World Cup qualification             7257\n",
              "UEFA Euro qualification                  2582\n",
              "African Cup of Nations qualification     1672\n",
              "FIFA World Cup                            900\n",
              "                                        ...  \n",
              "World Unity Cup                             4\n",
              "Dragon Cup                                  4\n",
              "AFF Championship qualification              2\n",
              "Copa América qualification                  2\n",
              "Atlantic Heritage Cup                       2\n",
              "Name: tournament, Length: 112, dtype: int64"
            ]
          },
          "metadata": {
            "tags": []
          },
          "execution_count": 210
        }
      ]
    },
    {
      "cell_type": "code",
      "metadata": {
        "id": "qI0HE_BeyDF7"
      },
      "source": [
        "df3=df\n",
        "df3=df[(df['tournament'] == \"FIFA World Cup\")]"
      ],
      "execution_count": 211,
      "outputs": []
    },
    {
      "cell_type": "code",
      "metadata": {
        "colab": {
          "base_uri": "https://localhost:8080/"
        },
        "id": "XDxVQToIYYsv",
        "outputId": "ca5354d9-55b9-4566-a889-14cb0f796a3b"
      },
      "source": [
        "df3.info()"
      ],
      "execution_count": 212,
      "outputs": [
        {
          "output_type": "stream",
          "text": [
            "<class 'pandas.core.frame.DataFrame'>\n",
            "Int64Index: 900 entries, 1314 to 39960\n",
            "Data columns (total 9 columns):\n",
            " #   Column      Non-Null Count  Dtype \n",
            "---  ------      --------------  ----- \n",
            " 0   date        900 non-null    object\n",
            " 1   home_team   900 non-null    object\n",
            " 2   away_team   900 non-null    object\n",
            " 3   home_score  900 non-null    int64 \n",
            " 4   away_score  900 non-null    int64 \n",
            " 5   tournament  900 non-null    object\n",
            " 6   city        900 non-null    object\n",
            " 7   country     900 non-null    object\n",
            " 8   neutral     900 non-null    bool  \n",
            "dtypes: bool(1), int64(2), object(6)\n",
            "memory usage: 64.2+ KB\n"
          ],
          "name": "stdout"
        }
      ]
    },
    {
      "cell_type": "code",
      "metadata": {
        "id": "F-wLZpWKZXeb"
      },
      "source": [
        "Golden_Age=df[(df['date'] < \"1916-01-01\")]\n",
        "continental_era=df[(df['date'] > '1916-01-02') & (df['date'] < '1930-02-01')]\n",
        "Interwar_Football_Europe=df[(df['date'] > '1930-01-02') & (df['date'] < '1937-02-01')]\n",
        "Post_WWII_soccer_era=df[(df['date'] > '1937-01-02')]\n"
      ],
      "execution_count": 213,
      "outputs": []
    },
    {
      "cell_type": "markdown",
      "metadata": {
        "id": "Gp6gLNfgihMC"
      },
      "source": [
        "\n",
        "\n",
        "```\n",
        "#Golden_Age\n",
        "```\n",
        "\n"
      ]
    },
    {
      "cell_type": "code",
      "metadata": {
        "id": "fzedLcQsjHmq"
      },
      "source": [
        "df2.score = 0"
      ],
      "execution_count": 214,
      "outputs": []
    },
    {
      "cell_type": "code",
      "metadata": {
        "colab": {
          "base_uri": "https://localhost:8080/",
          "height": 455
        },
        "id": "IX3B82OSigSh",
        "outputId": "88e1448c-5d00-4ae9-9e51-3349ba039c18"
      },
      "source": [
        "df2.score = 0\n",
        "for w in Golden_Age.index:\n",
        "\n",
        "  if Golden_Age.home_score[w] > Golden_Age.away_score[w] :\n",
        "    x=Golden_Age.home_team[w]\n",
        "    df2.loc[x,'score'] =  df2.score[x] + 3\n",
        "  elif Golden_Age.home_score[w] < Golden_Age.away_score[w] :\n",
        "    y=Golden_Age.away_team[w]\n",
        "    df2.loc[y,'score'] =  df2.score[y] + 3\n",
        "  elif Golden_Age.home_score[w] == Golden_Age.away_score[w]:\n",
        "    s=Golden_Age.away_team[w]\n",
        "    z=Golden_Age.home_team[w]\n",
        "    df2.loc[s,'score'] =  df2.score[s] + 1\n",
        "    df2.loc[z,'score'] =  df2.score[z] + 1\n",
        "df2.sort_values(by=['score'],ascending=False)"
      ],
      "execution_count": 215,
      "outputs": [
        {
          "output_type": "execute_result",
          "data": {
            "text/html": [
              "<div>\n",
              "<style scoped>\n",
              "    .dataframe tbody tr th:only-of-type {\n",
              "        vertical-align: middle;\n",
              "    }\n",
              "\n",
              "    .dataframe tbody tr th {\n",
              "        vertical-align: top;\n",
              "    }\n",
              "\n",
              "    .dataframe thead th {\n",
              "        text-align: right;\n",
              "    }\n",
              "</style>\n",
              "<table border=\"1\" class=\"dataframe\">\n",
              "  <thead>\n",
              "    <tr style=\"text-align: right;\">\n",
              "      <th></th>\n",
              "      <th>team</th>\n",
              "      <th>score</th>\n",
              "    </tr>\n",
              "    <tr>\n",
              "      <th>team</th>\n",
              "      <th></th>\n",
              "      <th></th>\n",
              "    </tr>\n",
              "  </thead>\n",
              "  <tbody>\n",
              "    <tr>\n",
              "      <th>England</th>\n",
              "      <td>England</td>\n",
              "      <td>249</td>\n",
              "    </tr>\n",
              "    <tr>\n",
              "      <th>Scotland</th>\n",
              "      <td>Scotland</td>\n",
              "      <td>239</td>\n",
              "    </tr>\n",
              "    <tr>\n",
              "      <th>Hungary</th>\n",
              "      <td>Hungary</td>\n",
              "      <td>95</td>\n",
              "    </tr>\n",
              "    <tr>\n",
              "      <th>Wales</th>\n",
              "      <td>Wales</td>\n",
              "      <td>85</td>\n",
              "    </tr>\n",
              "    <tr>\n",
              "      <th>Argentina</th>\n",
              "      <td>Argentina</td>\n",
              "      <td>70</td>\n",
              "    </tr>\n",
              "    <tr>\n",
              "      <th>...</th>\n",
              "      <td>...</td>\n",
              "      <td>...</td>\n",
              "    </tr>\n",
              "    <tr>\n",
              "      <th>Vanuatu</th>\n",
              "      <td>Vanuatu</td>\n",
              "      <td>0</td>\n",
              "    </tr>\n",
              "    <tr>\n",
              "      <th>German DR</th>\n",
              "      <td>German DR</td>\n",
              "      <td>0</td>\n",
              "    </tr>\n",
              "    <tr>\n",
              "      <th>Guinea-Bissau</th>\n",
              "      <td>Guinea-Bissau</td>\n",
              "      <td>0</td>\n",
              "    </tr>\n",
              "    <tr>\n",
              "      <th>Indonesia</th>\n",
              "      <td>Indonesia</td>\n",
              "      <td>0</td>\n",
              "    </tr>\n",
              "    <tr>\n",
              "      <th>Surrey</th>\n",
              "      <td>Surrey</td>\n",
              "      <td>0</td>\n",
              "    </tr>\n",
              "  </tbody>\n",
              "</table>\n",
              "<p>313 rows × 2 columns</p>\n",
              "</div>"
            ],
            "text/plain": [
              "                        team  score\n",
              "team                               \n",
              "England              England    249\n",
              "Scotland            Scotland    239\n",
              "Hungary              Hungary     95\n",
              "Wales                  Wales     85\n",
              "Argentina          Argentina     70\n",
              "...                      ...    ...\n",
              "Vanuatu              Vanuatu      0\n",
              "German DR          German DR      0\n",
              "Guinea-Bissau  Guinea-Bissau      0\n",
              "Indonesia          Indonesia      0\n",
              "Surrey                Surrey      0\n",
              "\n",
              "[313 rows x 2 columns]"
            ]
          },
          "metadata": {
            "tags": []
          },
          "execution_count": 215
        }
      ]
    },
    {
      "cell_type": "code",
      "metadata": {
        "colab": {
          "base_uri": "https://localhost:8080/",
          "height": 455
        },
        "id": "3JsHuqCllfmR",
        "outputId": "321db84d-4917-4e9b-c556-25dbf87c62fe"
      },
      "source": [
        "df2.score = 0\n",
        "for w in continental_era.index:\n",
        "\n",
        "  if continental_era.home_score[w] > continental_era.away_score[w] :\n",
        "    x=continental_era.home_team[w]\n",
        "    df2.loc[x,'score'] =  df2.score[x] + 3\n",
        "  elif continental_era.home_score[w] < continental_era.away_score[w] :\n",
        "    y=continental_era.away_team[w]\n",
        "    df2.loc[y,'score'] =  df2.score[y] + 3\n",
        "  elif continental_era.home_score[w] == continental_era.away_score[w]:\n",
        "    s=continental_era.away_team[w]\n",
        "    z=continental_era.home_team[w]\n",
        "    df2.loc[s,'score'] =  df2.score[s] + 1\n",
        "    df2.loc[z,'score'] =  df2.score[z] + 1\n",
        "df2.sort_values(by=['score'],ascending=False)"
      ],
      "execution_count": 216,
      "outputs": [
        {
          "output_type": "execute_result",
          "data": {
            "text/html": [
              "<div>\n",
              "<style scoped>\n",
              "    .dataframe tbody tr th:only-of-type {\n",
              "        vertical-align: middle;\n",
              "    }\n",
              "\n",
              "    .dataframe tbody tr th {\n",
              "        vertical-align: top;\n",
              "    }\n",
              "\n",
              "    .dataframe thead th {\n",
              "        text-align: right;\n",
              "    }\n",
              "</style>\n",
              "<table border=\"1\" class=\"dataframe\">\n",
              "  <thead>\n",
              "    <tr style=\"text-align: right;\">\n",
              "      <th></th>\n",
              "      <th>team</th>\n",
              "      <th>score</th>\n",
              "    </tr>\n",
              "    <tr>\n",
              "      <th>team</th>\n",
              "      <th></th>\n",
              "      <th></th>\n",
              "    </tr>\n",
              "  </thead>\n",
              "  <tbody>\n",
              "    <tr>\n",
              "      <th>Argentina</th>\n",
              "      <td>Argentina</td>\n",
              "      <td>184</td>\n",
              "    </tr>\n",
              "    <tr>\n",
              "      <th>Sweden</th>\n",
              "      <td>Sweden</td>\n",
              "      <td>162</td>\n",
              "    </tr>\n",
              "    <tr>\n",
              "      <th>Austria</th>\n",
              "      <td>Austria</td>\n",
              "      <td>149</td>\n",
              "    </tr>\n",
              "    <tr>\n",
              "      <th>Uruguay</th>\n",
              "      <td>Uruguay</td>\n",
              "      <td>147</td>\n",
              "    </tr>\n",
              "    <tr>\n",
              "      <th>Hungary</th>\n",
              "      <td>Hungary</td>\n",
              "      <td>130</td>\n",
              "    </tr>\n",
              "    <tr>\n",
              "      <th>...</th>\n",
              "      <td>...</td>\n",
              "      <td>...</td>\n",
              "    </tr>\n",
              "    <tr>\n",
              "      <th>Guinea</th>\n",
              "      <td>Guinea</td>\n",
              "      <td>0</td>\n",
              "    </tr>\n",
              "    <tr>\n",
              "      <th>Algeria</th>\n",
              "      <td>Algeria</td>\n",
              "      <td>0</td>\n",
              "    </tr>\n",
              "    <tr>\n",
              "      <th>Kuwait</th>\n",
              "      <td>Kuwait</td>\n",
              "      <td>0</td>\n",
              "    </tr>\n",
              "    <tr>\n",
              "      <th>Jordan</th>\n",
              "      <td>Jordan</td>\n",
              "      <td>0</td>\n",
              "    </tr>\n",
              "    <tr>\n",
              "      <th>Surrey</th>\n",
              "      <td>Surrey</td>\n",
              "      <td>0</td>\n",
              "    </tr>\n",
              "  </tbody>\n",
              "</table>\n",
              "<p>313 rows × 2 columns</p>\n",
              "</div>"
            ],
            "text/plain": [
              "                team  score\n",
              "team                       \n",
              "Argentina  Argentina    184\n",
              "Sweden        Sweden    162\n",
              "Austria      Austria    149\n",
              "Uruguay      Uruguay    147\n",
              "Hungary      Hungary    130\n",
              "...              ...    ...\n",
              "Guinea        Guinea      0\n",
              "Algeria      Algeria      0\n",
              "Kuwait        Kuwait      0\n",
              "Jordan        Jordan      0\n",
              "Surrey        Surrey      0\n",
              "\n",
              "[313 rows x 2 columns]"
            ]
          },
          "metadata": {
            "tags": []
          },
          "execution_count": 216
        }
      ]
    },
    {
      "cell_type": "code",
      "metadata": {
        "colab": {
          "base_uri": "https://localhost:8080/",
          "height": 455
        },
        "id": "WO6P_th7jkUc",
        "outputId": "89184216-bb4e-4d03-9a0f-75d5b6aa7070"
      },
      "source": [
        "df2.score = 0\n",
        "for w in Interwar_Football_Europe.index:\n",
        "\n",
        "  if Interwar_Football_Europe.home_score[w] > Interwar_Football_Europe.away_score[w] :\n",
        "    x=Interwar_Football_Europe.home_team[w]\n",
        "    df2.loc[x,'score'] =  df2.score[x] + 3\n",
        "  elif Interwar_Football_Europe.home_score[w] < Interwar_Football_Europe.away_score[w] :\n",
        "    y=Interwar_Football_Europe.away_team[w]\n",
        "    df2.loc[y,'score'] =  df2.score[y] + 3\n",
        "  elif Interwar_Football_Europe.home_score[w] == Interwar_Football_Europe.away_score[w]:\n",
        "    s=Interwar_Football_Europe.away_team[w]\n",
        "    z=Interwar_Football_Europe.home_team[w]\n",
        "    df2.loc[s,'score'] =  df2.score[s] + 1\n",
        "    df2.loc[z,'score'] =  df2.score[z] + 1\n",
        "df2.sort_values(by=['score'],ascending=False)"
      ],
      "execution_count": 217,
      "outputs": [
        {
          "output_type": "execute_result",
          "data": {
            "text/html": [
              "<div>\n",
              "<style scoped>\n",
              "    .dataframe tbody tr th:only-of-type {\n",
              "        vertical-align: middle;\n",
              "    }\n",
              "\n",
              "    .dataframe tbody tr th {\n",
              "        vertical-align: top;\n",
              "    }\n",
              "\n",
              "    .dataframe thead th {\n",
              "        text-align: right;\n",
              "    }\n",
              "</style>\n",
              "<table border=\"1\" class=\"dataframe\">\n",
              "  <thead>\n",
              "    <tr style=\"text-align: right;\">\n",
              "      <th></th>\n",
              "      <th>team</th>\n",
              "      <th>score</th>\n",
              "    </tr>\n",
              "    <tr>\n",
              "      <th>team</th>\n",
              "      <th></th>\n",
              "      <th></th>\n",
              "    </tr>\n",
              "  </thead>\n",
              "  <tbody>\n",
              "    <tr>\n",
              "      <th>Germany</th>\n",
              "      <td>Germany</td>\n",
              "      <td>110</td>\n",
              "    </tr>\n",
              "    <tr>\n",
              "      <th>Austria</th>\n",
              "      <td>Austria</td>\n",
              "      <td>101</td>\n",
              "    </tr>\n",
              "    <tr>\n",
              "      <th>Sweden</th>\n",
              "      <td>Sweden</td>\n",
              "      <td>100</td>\n",
              "    </tr>\n",
              "    <tr>\n",
              "      <th>Italy</th>\n",
              "      <td>Italy</td>\n",
              "      <td>97</td>\n",
              "    </tr>\n",
              "    <tr>\n",
              "      <th>Hungary</th>\n",
              "      <td>Hungary</td>\n",
              "      <td>89</td>\n",
              "    </tr>\n",
              "    <tr>\n",
              "      <th>...</th>\n",
              "      <td>...</td>\n",
              "      <td>...</td>\n",
              "    </tr>\n",
              "    <tr>\n",
              "      <th>Saint Lucia</th>\n",
              "      <td>Saint Lucia</td>\n",
              "      <td>0</td>\n",
              "    </tr>\n",
              "    <tr>\n",
              "      <th>Grenada</th>\n",
              "      <td>Grenada</td>\n",
              "      <td>0</td>\n",
              "    </tr>\n",
              "    <tr>\n",
              "      <th>Thailand</th>\n",
              "      <td>Thailand</td>\n",
              "      <td>0</td>\n",
              "    </tr>\n",
              "    <tr>\n",
              "      <th>Senegal</th>\n",
              "      <td>Senegal</td>\n",
              "      <td>0</td>\n",
              "    </tr>\n",
              "    <tr>\n",
              "      <th>Surrey</th>\n",
              "      <td>Surrey</td>\n",
              "      <td>0</td>\n",
              "    </tr>\n",
              "  </tbody>\n",
              "</table>\n",
              "<p>313 rows × 2 columns</p>\n",
              "</div>"
            ],
            "text/plain": [
              "                    team  score\n",
              "team                           \n",
              "Germany          Germany    110\n",
              "Austria          Austria    101\n",
              "Sweden            Sweden    100\n",
              "Italy              Italy     97\n",
              "Hungary          Hungary     89\n",
              "...                  ...    ...\n",
              "Saint Lucia  Saint Lucia      0\n",
              "Grenada          Grenada      0\n",
              "Thailand        Thailand      0\n",
              "Senegal          Senegal      0\n",
              "Surrey            Surrey      0\n",
              "\n",
              "[313 rows x 2 columns]"
            ]
          },
          "metadata": {
            "tags": []
          },
          "execution_count": 217
        }
      ]
    },
    {
      "cell_type": "code",
      "metadata": {
        "colab": {
          "base_uri": "https://localhost:8080/",
          "height": 206
        },
        "id": "wXt17qUcadcs",
        "outputId": "c0c19430-93fe-444b-a7ca-29ec7b09620f"
      },
      "source": [
        "df4.head()"
      ],
      "execution_count": 218,
      "outputs": [
        {
          "output_type": "execute_result",
          "data": {
            "text/html": [
              "<div>\n",
              "<style scoped>\n",
              "    .dataframe tbody tr th:only-of-type {\n",
              "        vertical-align: middle;\n",
              "    }\n",
              "\n",
              "    .dataframe tbody tr th {\n",
              "        vertical-align: top;\n",
              "    }\n",
              "\n",
              "    .dataframe thead th {\n",
              "        text-align: right;\n",
              "    }\n",
              "</style>\n",
              "<table border=\"1\" class=\"dataframe\">\n",
              "  <thead>\n",
              "    <tr style=\"text-align: right;\">\n",
              "      <th></th>\n",
              "      <th>date</th>\n",
              "      <th>home_team</th>\n",
              "      <th>away_team</th>\n",
              "      <th>home_score</th>\n",
              "      <th>away_score</th>\n",
              "      <th>tournament</th>\n",
              "      <th>city</th>\n",
              "      <th>country</th>\n",
              "      <th>neutral</th>\n",
              "    </tr>\n",
              "  </thead>\n",
              "  <tbody>\n",
              "    <tr>\n",
              "      <th>36099</th>\n",
              "      <td>2014-06-12</td>\n",
              "      <td>Brazil</td>\n",
              "      <td>Croatia</td>\n",
              "      <td>3</td>\n",
              "      <td>1</td>\n",
              "      <td>FIFA World Cup</td>\n",
              "      <td>São Paulo</td>\n",
              "      <td>Brazil</td>\n",
              "      <td>False</td>\n",
              "    </tr>\n",
              "    <tr>\n",
              "      <th>36100</th>\n",
              "      <td>2014-06-13</td>\n",
              "      <td>Chile</td>\n",
              "      <td>Australia</td>\n",
              "      <td>3</td>\n",
              "      <td>1</td>\n",
              "      <td>FIFA World Cup</td>\n",
              "      <td>Cuiabá</td>\n",
              "      <td>Brazil</td>\n",
              "      <td>True</td>\n",
              "    </tr>\n",
              "    <tr>\n",
              "      <th>36101</th>\n",
              "      <td>2014-06-13</td>\n",
              "      <td>Mexico</td>\n",
              "      <td>Cameroon</td>\n",
              "      <td>1</td>\n",
              "      <td>0</td>\n",
              "      <td>FIFA World Cup</td>\n",
              "      <td>Natal</td>\n",
              "      <td>Brazil</td>\n",
              "      <td>True</td>\n",
              "    </tr>\n",
              "    <tr>\n",
              "      <th>36102</th>\n",
              "      <td>2014-06-13</td>\n",
              "      <td>Spain</td>\n",
              "      <td>Netherlands</td>\n",
              "      <td>1</td>\n",
              "      <td>5</td>\n",
              "      <td>FIFA World Cup</td>\n",
              "      <td>Salvador</td>\n",
              "      <td>Brazil</td>\n",
              "      <td>True</td>\n",
              "    </tr>\n",
              "    <tr>\n",
              "      <th>36103</th>\n",
              "      <td>2014-06-14</td>\n",
              "      <td>Colombia</td>\n",
              "      <td>Greece</td>\n",
              "      <td>3</td>\n",
              "      <td>0</td>\n",
              "      <td>FIFA World Cup</td>\n",
              "      <td>Belo Horizonte</td>\n",
              "      <td>Brazil</td>\n",
              "      <td>True</td>\n",
              "    </tr>\n",
              "  </tbody>\n",
              "</table>\n",
              "</div>"
            ],
            "text/plain": [
              "             date home_team    away_team  ...            city  country neutral\n",
              "36099  2014-06-12    Brazil      Croatia  ...       São Paulo   Brazil   False\n",
              "36100  2014-06-13     Chile    Australia  ...          Cuiabá   Brazil    True\n",
              "36101  2014-06-13    Mexico     Cameroon  ...           Natal   Brazil    True\n",
              "36102  2014-06-13     Spain  Netherlands  ...        Salvador   Brazil    True\n",
              "36103  2014-06-14  Colombia       Greece  ...  Belo Horizonte   Brazil    True\n",
              "\n",
              "[5 rows x 9 columns]"
            ]
          },
          "metadata": {
            "tags": []
          },
          "execution_count": 218
        }
      ]
    },
    {
      "cell_type": "code",
      "metadata": {
        "colab": {
          "base_uri": "https://localhost:8080/",
          "height": 455
        },
        "id": "rtmsKZukas3n",
        "outputId": "cee9d3f3-e9b5-423a-8140-57e4c43ee115"
      },
      "source": [
        "\n",
        "df2.score = 0\n",
        "for w in Post_WWII_soccer_era.index:\n",
        "\n",
        "  if Post_WWII_soccer_era.home_score[w] > Post_WWII_soccer_era.away_score[w] :\n",
        "    x=Post_WWII_soccer_era.home_team[w]\n",
        "    df2.loc[x,'score'] =  df2.score[x] + 3\n",
        "  elif Post_WWII_soccer_era.home_score[w] < Post_WWII_soccer_era.away_score[w] :\n",
        "    y=Post_WWII_soccer_era.away_team[w]\n",
        "    df2.loc[y,'score'] =  df2.score[y] + 3\n",
        "  elif Post_WWII_soccer_era.home_score[w] == Post_WWII_soccer_era.away_score[w]:\n",
        "    s=Post_WWII_soccer_era.away_team[w]\n",
        "    z=Post_WWII_soccer_era.home_team[w]\n",
        "    df2.loc[s,'score'] =  df2.score[s] + 1\n",
        "    df2.loc[z,'score'] =  df2.score[z] + 1\n",
        "df2.sort_values(by=['score'],ascending=False)"
      ],
      "execution_count": 219,
      "outputs": [
        {
          "output_type": "execute_result",
          "data": {
            "text/html": [
              "<div>\n",
              "<style scoped>\n",
              "    .dataframe tbody tr th:only-of-type {\n",
              "        vertical-align: middle;\n",
              "    }\n",
              "\n",
              "    .dataframe tbody tr th {\n",
              "        vertical-align: top;\n",
              "    }\n",
              "\n",
              "    .dataframe thead th {\n",
              "        text-align: right;\n",
              "    }\n",
              "</style>\n",
              "<table border=\"1\" class=\"dataframe\">\n",
              "  <thead>\n",
              "    <tr style=\"text-align: right;\">\n",
              "      <th></th>\n",
              "      <th>team</th>\n",
              "      <th>score</th>\n",
              "    </tr>\n",
              "    <tr>\n",
              "      <th>team</th>\n",
              "      <th></th>\n",
              "      <th></th>\n",
              "    </tr>\n",
              "  </thead>\n",
              "  <tbody>\n",
              "    <tr>\n",
              "      <th>Brazil</th>\n",
              "      <td>Brazil</td>\n",
              "      <td>2008</td>\n",
              "    </tr>\n",
              "    <tr>\n",
              "      <th>Germany</th>\n",
              "      <td>Germany</td>\n",
              "      <td>1678</td>\n",
              "    </tr>\n",
              "    <tr>\n",
              "      <th>South Korea</th>\n",
              "      <td>South Korea</td>\n",
              "      <td>1587</td>\n",
              "    </tr>\n",
              "    <tr>\n",
              "      <th>England</th>\n",
              "      <td>England</td>\n",
              "      <td>1563</td>\n",
              "    </tr>\n",
              "    <tr>\n",
              "      <th>Argentina</th>\n",
              "      <td>Argentina</td>\n",
              "      <td>1524</td>\n",
              "    </tr>\n",
              "    <tr>\n",
              "      <th>...</th>\n",
              "      <td>...</td>\n",
              "      <td>...</td>\n",
              "    </tr>\n",
              "    <tr>\n",
              "      <th>Asturias</th>\n",
              "      <td>Asturias</td>\n",
              "      <td>0</td>\n",
              "    </tr>\n",
              "    <tr>\n",
              "      <th>Palau</th>\n",
              "      <td>Palau</td>\n",
              "      <td>0</td>\n",
              "    </tr>\n",
              "    <tr>\n",
              "      <th>Central Spain</th>\n",
              "      <td>Central Spain</td>\n",
              "      <td>0</td>\n",
              "    </tr>\n",
              "    <tr>\n",
              "      <th>Darfur</th>\n",
              "      <td>Darfur</td>\n",
              "      <td>0</td>\n",
              "    </tr>\n",
              "    <tr>\n",
              "      <th>Sark</th>\n",
              "      <td>Sark</td>\n",
              "      <td>0</td>\n",
              "    </tr>\n",
              "  </tbody>\n",
              "</table>\n",
              "<p>313 rows × 2 columns</p>\n",
              "</div>"
            ],
            "text/plain": [
              "                        team  score\n",
              "team                               \n",
              "Brazil                Brazil   2008\n",
              "Germany              Germany   1678\n",
              "South Korea      South Korea   1587\n",
              "England              England   1563\n",
              "Argentina          Argentina   1524\n",
              "...                      ...    ...\n",
              "Asturias            Asturias      0\n",
              "Palau                  Palau      0\n",
              "Central Spain  Central Spain      0\n",
              "Darfur                Darfur      0\n",
              "Sark                    Sark      0\n",
              "\n",
              "[313 rows x 2 columns]"
            ]
          },
          "metadata": {
            "tags": []
          },
          "execution_count": 219
        }
      ]
    },
    {
      "cell_type": "markdown",
      "metadata": {
        "id": "-3M2wECCpTv_"
      },
      "source": [
        "5"
      ]
    },
    {
      "cell_type": "code",
      "metadata": {
        "id": "15Y9l9KMpVPV"
      },
      "source": [
        "df = pd.read_csv('results.csv')\n",
        "df['date'] = pd.to_datetime(df['date'])\n",
        "df2['host'] = 0\n",
        "df2.score = 0\n"
      ],
      "execution_count": 220,
      "outputs": []
    },
    {
      "cell_type": "code",
      "metadata": {
        "id": "oeN1I7VtpoDy"
      },
      "source": [
        "for w in df.index:\n",
        "\n",
        "  if df.country[w] != df.home_team[w] and df.country[w] != df.away_team[w] :\n",
        "    z=df.home_team[w]\n",
        "    df2.loc[z,'host'] =  df2.host[z] + 1"
      ],
      "execution_count": 221,
      "outputs": []
    },
    {
      "cell_type": "code",
      "metadata": {
        "colab": {
          "base_uri": "https://localhost:8080/",
          "height": 455
        },
        "id": "4gHcZwC9prJa",
        "outputId": "b3e0164e-d259-4cf8-fcea-1bd65a6c6bad"
      },
      "source": [
        "df2.sort_values(by=['host'],ascending=False)"
      ],
      "execution_count": 222,
      "outputs": [
        {
          "output_type": "execute_result",
          "data": {
            "text/html": [
              "<div>\n",
              "<style scoped>\n",
              "    .dataframe tbody tr th:only-of-type {\n",
              "        vertical-align: middle;\n",
              "    }\n",
              "\n",
              "    .dataframe tbody tr th {\n",
              "        vertical-align: top;\n",
              "    }\n",
              "\n",
              "    .dataframe thead th {\n",
              "        text-align: right;\n",
              "    }\n",
              "</style>\n",
              "<table border=\"1\" class=\"dataframe\">\n",
              "  <thead>\n",
              "    <tr style=\"text-align: right;\">\n",
              "      <th></th>\n",
              "      <th>team</th>\n",
              "      <th>score</th>\n",
              "      <th>host</th>\n",
              "    </tr>\n",
              "    <tr>\n",
              "      <th>team</th>\n",
              "      <th></th>\n",
              "      <th></th>\n",
              "      <th></th>\n",
              "    </tr>\n",
              "  </thead>\n",
              "  <tbody>\n",
              "    <tr>\n",
              "      <th>Mexico</th>\n",
              "      <td>Mexico</td>\n",
              "      <td>0</td>\n",
              "      <td>248</td>\n",
              "    </tr>\n",
              "    <tr>\n",
              "      <th>Brazil</th>\n",
              "      <td>Brazil</td>\n",
              "      <td>0</td>\n",
              "      <td>233</td>\n",
              "    </tr>\n",
              "    <tr>\n",
              "      <th>Argentina</th>\n",
              "      <td>Argentina</td>\n",
              "      <td>0</td>\n",
              "      <td>215</td>\n",
              "    </tr>\n",
              "    <tr>\n",
              "      <th>Iraq</th>\n",
              "      <td>Iraq</td>\n",
              "      <td>0</td>\n",
              "      <td>186</td>\n",
              "    </tr>\n",
              "    <tr>\n",
              "      <th>South Korea</th>\n",
              "      <td>South Korea</td>\n",
              "      <td>0</td>\n",
              "      <td>167</td>\n",
              "    </tr>\n",
              "    <tr>\n",
              "      <th>...</th>\n",
              "      <td>...</td>\n",
              "      <td>...</td>\n",
              "      <td>...</td>\n",
              "    </tr>\n",
              "    <tr>\n",
              "      <th>Crimea</th>\n",
              "      <td>Crimea</td>\n",
              "      <td>0</td>\n",
              "      <td>0</td>\n",
              "    </tr>\n",
              "    <tr>\n",
              "      <th>Myanmar</th>\n",
              "      <td>Myanmar</td>\n",
              "      <td>0</td>\n",
              "      <td>0</td>\n",
              "    </tr>\n",
              "    <tr>\n",
              "      <th>Yemen DPR</th>\n",
              "      <td>Yemen DPR</td>\n",
              "      <td>0</td>\n",
              "      <td>0</td>\n",
              "    </tr>\n",
              "    <tr>\n",
              "      <th>Saarland</th>\n",
              "      <td>Saarland</td>\n",
              "      <td>0</td>\n",
              "      <td>0</td>\n",
              "    </tr>\n",
              "    <tr>\n",
              "      <th>Surrey</th>\n",
              "      <td>Surrey</td>\n",
              "      <td>0</td>\n",
              "      <td>0</td>\n",
              "    </tr>\n",
              "  </tbody>\n",
              "</table>\n",
              "<p>313 rows × 3 columns</p>\n",
              "</div>"
            ],
            "text/plain": [
              "                    team  score  host\n",
              "team                                 \n",
              "Mexico            Mexico      0   248\n",
              "Brazil            Brazil      0   233\n",
              "Argentina      Argentina      0   215\n",
              "Iraq                Iraq      0   186\n",
              "South Korea  South Korea      0   167\n",
              "...                  ...    ...   ...\n",
              "Crimea            Crimea      0     0\n",
              "Myanmar          Myanmar      0     0\n",
              "Yemen DPR      Yemen DPR      0     0\n",
              "Saarland        Saarland      0     0\n",
              "Surrey            Surrey      0     0\n",
              "\n",
              "[313 rows x 3 columns]"
            ]
          },
          "metadata": {
            "tags": []
          },
          "execution_count": 222
        }
      ]
    },
    {
      "cell_type": "markdown",
      "metadata": {
        "id": "WnmbU9BgxenX"
      },
      "source": [
        "#6"
      ]
    },
    {
      "cell_type": "code",
      "metadata": {
        "colab": {
          "base_uri": "https://localhost:8080/",
          "height": 206
        },
        "id": "PxGJRn3Wy1Uz",
        "outputId": "ca701a35-2832-45ba-c4f6-ab10c469ad14"
      },
      "source": [
        "df.head()"
      ],
      "execution_count": 223,
      "outputs": [
        {
          "output_type": "execute_result",
          "data": {
            "text/html": [
              "<div>\n",
              "<style scoped>\n",
              "    .dataframe tbody tr th:only-of-type {\n",
              "        vertical-align: middle;\n",
              "    }\n",
              "\n",
              "    .dataframe tbody tr th {\n",
              "        vertical-align: top;\n",
              "    }\n",
              "\n",
              "    .dataframe thead th {\n",
              "        text-align: right;\n",
              "    }\n",
              "</style>\n",
              "<table border=\"1\" class=\"dataframe\">\n",
              "  <thead>\n",
              "    <tr style=\"text-align: right;\">\n",
              "      <th></th>\n",
              "      <th>date</th>\n",
              "      <th>home_team</th>\n",
              "      <th>away_team</th>\n",
              "      <th>home_score</th>\n",
              "      <th>away_score</th>\n",
              "      <th>tournament</th>\n",
              "      <th>city</th>\n",
              "      <th>country</th>\n",
              "      <th>neutral</th>\n",
              "    </tr>\n",
              "  </thead>\n",
              "  <tbody>\n",
              "    <tr>\n",
              "      <th>0</th>\n",
              "      <td>1872-11-30</td>\n",
              "      <td>Scotland</td>\n",
              "      <td>England</td>\n",
              "      <td>0</td>\n",
              "      <td>0</td>\n",
              "      <td>Friendly</td>\n",
              "      <td>Glasgow</td>\n",
              "      <td>Scotland</td>\n",
              "      <td>False</td>\n",
              "    </tr>\n",
              "    <tr>\n",
              "      <th>1</th>\n",
              "      <td>1873-03-08</td>\n",
              "      <td>England</td>\n",
              "      <td>Scotland</td>\n",
              "      <td>4</td>\n",
              "      <td>2</td>\n",
              "      <td>Friendly</td>\n",
              "      <td>London</td>\n",
              "      <td>England</td>\n",
              "      <td>False</td>\n",
              "    </tr>\n",
              "    <tr>\n",
              "      <th>2</th>\n",
              "      <td>1874-03-07</td>\n",
              "      <td>Scotland</td>\n",
              "      <td>England</td>\n",
              "      <td>2</td>\n",
              "      <td>1</td>\n",
              "      <td>Friendly</td>\n",
              "      <td>Glasgow</td>\n",
              "      <td>Scotland</td>\n",
              "      <td>False</td>\n",
              "    </tr>\n",
              "    <tr>\n",
              "      <th>3</th>\n",
              "      <td>1875-03-06</td>\n",
              "      <td>England</td>\n",
              "      <td>Scotland</td>\n",
              "      <td>2</td>\n",
              "      <td>2</td>\n",
              "      <td>Friendly</td>\n",
              "      <td>London</td>\n",
              "      <td>England</td>\n",
              "      <td>False</td>\n",
              "    </tr>\n",
              "    <tr>\n",
              "      <th>4</th>\n",
              "      <td>1876-03-04</td>\n",
              "      <td>Scotland</td>\n",
              "      <td>England</td>\n",
              "      <td>3</td>\n",
              "      <td>0</td>\n",
              "      <td>Friendly</td>\n",
              "      <td>Glasgow</td>\n",
              "      <td>Scotland</td>\n",
              "      <td>False</td>\n",
              "    </tr>\n",
              "  </tbody>\n",
              "</table>\n",
              "</div>"
            ],
            "text/plain": [
              "        date home_team away_team  ...     city   country neutral\n",
              "0 1872-11-30  Scotland   England  ...  Glasgow  Scotland   False\n",
              "1 1873-03-08   England  Scotland  ...   London   England   False\n",
              "2 1874-03-07  Scotland   England  ...  Glasgow  Scotland   False\n",
              "3 1875-03-06   England  Scotland  ...   London   England   False\n",
              "4 1876-03-04  Scotland   England  ...  Glasgow  Scotland   False\n",
              "\n",
              "[5 rows x 9 columns]"
            ]
          },
          "metadata": {
            "tags": []
          },
          "execution_count": 223
        }
      ]
    },
    {
      "cell_type": "code",
      "metadata": {
        "id": "Z8WHUQn2xdfI"
      },
      "source": [
        "df_fri=df[(df['tournament'] == \"Friendly\")]"
      ],
      "execution_count": 224,
      "outputs": []
    },
    {
      "cell_type": "code",
      "metadata": {
        "id": "vKQgfwK5y9QY"
      },
      "source": [
        "df2['score'] = 0"
      ],
      "execution_count": 225,
      "outputs": []
    },
    {
      "cell_type": "code",
      "metadata": {
        "colab": {
          "base_uri": "https://localhost:8080/"
        },
        "id": "8Ef5Jq2u5DTF",
        "outputId": "c79c3fed-b481-4201-a2a9-8d00094123e3"
      },
      "source": [
        "df2.info()"
      ],
      "execution_count": 226,
      "outputs": [
        {
          "output_type": "stream",
          "text": [
            "<class 'pandas.core.frame.DataFrame'>\n",
            "Index: 313 entries, Scotland to Surrey\n",
            "Data columns (total 3 columns):\n",
            " #   Column  Non-Null Count  Dtype \n",
            "---  ------  --------------  ----- \n",
            " 0   team    313 non-null    object\n",
            " 1   score   313 non-null    int64 \n",
            " 2   host    313 non-null    int64 \n",
            "dtypes: int64(2), object(1)\n",
            "memory usage: 19.8+ KB\n"
          ],
          "name": "stdout"
        }
      ]
    },
    {
      "cell_type": "code",
      "metadata": {
        "colab": {
          "base_uri": "https://localhost:8080/",
          "height": 238
        },
        "id": "fixG_IfI04JP",
        "outputId": "0597593b-e8b5-4001-f72e-3529e3961e73"
      },
      "source": [
        "df2.head()"
      ],
      "execution_count": 227,
      "outputs": [
        {
          "output_type": "execute_result",
          "data": {
            "text/html": [
              "<div>\n",
              "<style scoped>\n",
              "    .dataframe tbody tr th:only-of-type {\n",
              "        vertical-align: middle;\n",
              "    }\n",
              "\n",
              "    .dataframe tbody tr th {\n",
              "        vertical-align: top;\n",
              "    }\n",
              "\n",
              "    .dataframe thead th {\n",
              "        text-align: right;\n",
              "    }\n",
              "</style>\n",
              "<table border=\"1\" class=\"dataframe\">\n",
              "  <thead>\n",
              "    <tr style=\"text-align: right;\">\n",
              "      <th></th>\n",
              "      <th>team</th>\n",
              "      <th>score</th>\n",
              "      <th>host</th>\n",
              "    </tr>\n",
              "    <tr>\n",
              "      <th>team</th>\n",
              "      <th></th>\n",
              "      <th></th>\n",
              "      <th></th>\n",
              "    </tr>\n",
              "  </thead>\n",
              "  <tbody>\n",
              "    <tr>\n",
              "      <th>Scotland</th>\n",
              "      <td>Scotland</td>\n",
              "      <td>0</td>\n",
              "      <td>15</td>\n",
              "    </tr>\n",
              "    <tr>\n",
              "      <th>England</th>\n",
              "      <td>England</td>\n",
              "      <td>0</td>\n",
              "      <td>52</td>\n",
              "    </tr>\n",
              "    <tr>\n",
              "      <th>Wales</th>\n",
              "      <td>Wales</td>\n",
              "      <td>0</td>\n",
              "      <td>13</td>\n",
              "    </tr>\n",
              "    <tr>\n",
              "      <th>Northern Ireland</th>\n",
              "      <td>Northern Ireland</td>\n",
              "      <td>0</td>\n",
              "      <td>65</td>\n",
              "    </tr>\n",
              "    <tr>\n",
              "      <th>United States</th>\n",
              "      <td>United States</td>\n",
              "      <td>0</td>\n",
              "      <td>27</td>\n",
              "    </tr>\n",
              "  </tbody>\n",
              "</table>\n",
              "</div>"
            ],
            "text/plain": [
              "                              team  score  host\n",
              "team                                           \n",
              "Scotland                  Scotland      0    15\n",
              "England                    England      0    52\n",
              "Wales                        Wales      0    13\n",
              "Northern Ireland  Northern Ireland      0    65\n",
              "United States        United States      0    27"
            ]
          },
          "metadata": {
            "tags": []
          },
          "execution_count": 227
        }
      ]
    },
    {
      "cell_type": "code",
      "metadata": {
        "colab": {
          "base_uri": "https://localhost:8080/",
          "height": 455
        },
        "id": "E6IIknfB08ww",
        "outputId": "dea36e43-2ef0-44f0-f884-eaeb589adb29"
      },
      "source": [
        "for w in df_fri.index:\n",
        "\n",
        "    s=df_fri.away_team[w]\n",
        "    z=df_fri.home_team[w]\n",
        "    df2.loc[s,'score'] =  df2.score[s] + 1\n",
        "    df2.loc[z,'score'] =  df2.score[z] + 1\n",
        "df2.sort_values(by=['score'],ascending=False)"
      ],
      "execution_count": 228,
      "outputs": [
        {
          "output_type": "execute_result",
          "data": {
            "text/html": [
              "<div>\n",
              "<style scoped>\n",
              "    .dataframe tbody tr th:only-of-type {\n",
              "        vertical-align: middle;\n",
              "    }\n",
              "\n",
              "    .dataframe tbody tr th {\n",
              "        vertical-align: top;\n",
              "    }\n",
              "\n",
              "    .dataframe thead th {\n",
              "        text-align: right;\n",
              "    }\n",
              "</style>\n",
              "<table border=\"1\" class=\"dataframe\">\n",
              "  <thead>\n",
              "    <tr style=\"text-align: right;\">\n",
              "      <th></th>\n",
              "      <th>team</th>\n",
              "      <th>score</th>\n",
              "      <th>host</th>\n",
              "    </tr>\n",
              "    <tr>\n",
              "      <th>team</th>\n",
              "      <th></th>\n",
              "      <th></th>\n",
              "      <th></th>\n",
              "    </tr>\n",
              "  </thead>\n",
              "  <tbody>\n",
              "    <tr>\n",
              "      <th>Germany</th>\n",
              "      <td>Germany</td>\n",
              "      <td>572</td>\n",
              "      <td>91</td>\n",
              "    </tr>\n",
              "    <tr>\n",
              "      <th>Hungary</th>\n",
              "      <td>Hungary</td>\n",
              "      <td>563</td>\n",
              "      <td>33</td>\n",
              "    </tr>\n",
              "    <tr>\n",
              "      <th>Sweden</th>\n",
              "      <td>Sweden</td>\n",
              "      <td>543</td>\n",
              "      <td>38</td>\n",
              "    </tr>\n",
              "    <tr>\n",
              "      <th>Poland</th>\n",
              "      <td>Poland</td>\n",
              "      <td>528</td>\n",
              "      <td>31</td>\n",
              "    </tr>\n",
              "    <tr>\n",
              "      <th>France</th>\n",
              "      <td>France</td>\n",
              "      <td>488</td>\n",
              "      <td>52</td>\n",
              "    </tr>\n",
              "    <tr>\n",
              "      <th>...</th>\n",
              "      <td>...</td>\n",
              "      <td>...</td>\n",
              "      <td>...</td>\n",
              "    </tr>\n",
              "    <tr>\n",
              "      <th>Alderney</th>\n",
              "      <td>Alderney</td>\n",
              "      <td>0</td>\n",
              "      <td>7</td>\n",
              "    </tr>\n",
              "    <tr>\n",
              "      <th>Sark</th>\n",
              "      <td>Sark</td>\n",
              "      <td>0</td>\n",
              "      <td>1</td>\n",
              "    </tr>\n",
              "    <tr>\n",
              "      <th>Åland Islands</th>\n",
              "      <td>Åland Islands</td>\n",
              "      <td>0</td>\n",
              "      <td>27</td>\n",
              "    </tr>\n",
              "    <tr>\n",
              "      <th>South Ossetia</th>\n",
              "      <td>South Ossetia</td>\n",
              "      <td>0</td>\n",
              "      <td>7</td>\n",
              "    </tr>\n",
              "    <tr>\n",
              "      <th>Bonaire</th>\n",
              "      <td>Bonaire</td>\n",
              "      <td>0</td>\n",
              "      <td>8</td>\n",
              "    </tr>\n",
              "  </tbody>\n",
              "</table>\n",
              "<p>313 rows × 3 columns</p>\n",
              "</div>"
            ],
            "text/plain": [
              "                        team  score  host\n",
              "team                                     \n",
              "Germany              Germany    572    91\n",
              "Hungary              Hungary    563    33\n",
              "Sweden                Sweden    543    38\n",
              "Poland                Poland    528    31\n",
              "France                France    488    52\n",
              "...                      ...    ...   ...\n",
              "Alderney            Alderney      0     7\n",
              "Sark                    Sark      0     1\n",
              "Åland Islands  Åland Islands      0    27\n",
              "South Ossetia  South Ossetia      0     7\n",
              "Bonaire              Bonaire      0     8\n",
              "\n",
              "[313 rows x 3 columns]"
            ]
          },
          "metadata": {
            "tags": []
          },
          "execution_count": 228
        }
      ]
    },
    {
      "cell_type": "code",
      "metadata": {
        "id": "AU1hV6ey6g_i"
      },
      "source": [
        "df_germany_fri=df_fri[(df_fri['home_team'] == 'Germany') | (df_fri['away_team'] == 'Germany')]"
      ],
      "execution_count": 229,
      "outputs": []
    },
    {
      "cell_type": "code",
      "metadata": {
        "id": "VanBz9cd-y8N"
      },
      "source": [
        "dfnofri=df_fri=df[(df['tournament'] != \"Friendly\")]"
      ],
      "execution_count": 230,
      "outputs": []
    },
    {
      "cell_type": "code",
      "metadata": {
        "id": "33WPzsqK7et4"
      },
      "source": [
        "df_germany_no_fri=dfnofri[(df_fri['home_team'] == 'Germany') | (dfnofri['away_team'] == 'Germany')]\n"
      ],
      "execution_count": 231,
      "outputs": []
    },
    {
      "cell_type": "code",
      "metadata": {
        "id": "M6czYUXP_dT_"
      },
      "source": [
        "df_germany=df[(df['home_team'] == 'Germany') | (df['away_team'] == 'Germany')]"
      ],
      "execution_count": 232,
      "outputs": []
    },
    {
      "cell_type": "code",
      "metadata": {
        "colab": {
          "base_uri": "https://localhost:8080/"
        },
        "id": "qcg4bWKNEyGM",
        "outputId": "2f49eac7-91d2-46a4-e009-10e2059d8673"
      },
      "source": [
        "df_germany['winorlose']=0\n"
      ],
      "execution_count": 233,
      "outputs": [
        {
          "output_type": "stream",
          "text": [
            "/usr/local/lib/python3.7/dist-packages/ipykernel_launcher.py:1: SettingWithCopyWarning: \n",
            "A value is trying to be set on a copy of a slice from a DataFrame.\n",
            "Try using .loc[row_indexer,col_indexer] = value instead\n",
            "\n",
            "See the caveats in the documentation: https://pandas.pydata.org/pandas-docs/stable/user_guide/indexing.html#returning-a-view-versus-a-copy\n",
            "  \"\"\"Entry point for launching an IPython kernel.\n"
          ],
          "name": "stderr"
        }
      ]
    },
    {
      "cell_type": "code",
      "metadata": {
        "colab": {
          "base_uri": "https://localhost:8080/"
        },
        "id": "DygAqU3FE9gQ",
        "outputId": "015bc11c-4583-4628-872b-a438b9c3eacd"
      },
      "source": [
        "df_germany.info()"
      ],
      "execution_count": 235,
      "outputs": [
        {
          "output_type": "stream",
          "text": [
            "<class 'pandas.core.frame.DataFrame'>\n",
            "Int64Index: 958 entries, 213 to 41839\n",
            "Data columns (total 10 columns):\n",
            " #   Column      Non-Null Count  Dtype         \n",
            "---  ------      --------------  -----         \n",
            " 0   date        958 non-null    datetime64[ns]\n",
            " 1   home_team   958 non-null    object        \n",
            " 2   away_team   958 non-null    object        \n",
            " 3   home_score  958 non-null    int64         \n",
            " 4   away_score  958 non-null    int64         \n",
            " 5   tournament  958 non-null    object        \n",
            " 6   city        958 non-null    object        \n",
            " 7   country     958 non-null    object        \n",
            " 8   neutral     958 non-null    bool          \n",
            " 9   winorlose   958 non-null    int64         \n",
            "dtypes: bool(1), datetime64[ns](1), int64(3), object(5)\n",
            "memory usage: 75.8+ KB\n"
          ],
          "name": "stdout"
        }
      ]
    }
  ]
}